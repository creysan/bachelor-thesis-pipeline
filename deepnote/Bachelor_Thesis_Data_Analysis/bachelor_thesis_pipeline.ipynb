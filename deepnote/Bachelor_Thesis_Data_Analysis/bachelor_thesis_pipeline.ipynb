{
  "cells": [
    {
      "cell_type": "markdown",
      "source": "# Bachelor Thesis Preliminary Pipeline",
      "metadata": {
        "cell_id": "466552d31d914aecb40b57daca0cf12d",
        "deepnote_cell_type": "markdown"
      },
      "block_group": "c2987306959b4655b5027496ca153968"
    },
    {
      "cell_type": "markdown",
      "source": "## Introduction",
      "metadata": {
        "cell_id": "4392462c10404417a12ccfa7226c212a",
        "deepnote_cell_type": "markdown"
      },
      "block_group": "65b2fbbdd1df4c0796d5d7046afb8739"
    },
    {
      "cell_type": "markdown",
      "source": "This Jupyter Notebook (Python3) serves as the primary data analysis and visualization pipeline for a bachelor’s thesis study investigating the potential effects of visual brainwave stimulation on sleep quality. The study is conducted by Annabella Vöelkert, a student in the \"Prevention, Therapy, and Rehabilitation Sciences\" program at Dresden International University. The research specifically targets how exposure to delta-frequency stroboscopic light, administered before bedtime, could influence students' sleep quality.\n\n### Overview of the Study\n\nSleep is foundational to health, impacting everything from cognitive function and emotional resilience to overall physical wellness. However, modern lifestyles often disrupt sleep patterns, leading to increased sleep-related issues. This study explores whether a novel intervention—stroboscopic light exposure at delta frequencies—can enhance sleep quality, potentially helping to manage stress and improve restfulness.\n\nKey components of the study include:\n\n- **Anamnesis and Screening**: Each participant completes an initial questionnaire to assess eligibility and gather baseline information.\n- **Baseline Sleep Tracking**: Participants maintain morning and evening sleep logs for the first five days to document their typical sleep habits.\n- **Intervention Phase**: For five consecutive nights, participants wear specialized glasses before bedtime that emits stroboscopic light in delta frequencies, aiming to synchronize brainwave activity with a frequency associated with deep sleep states.\n- **Cognitive Assessment**: To measure potential changes, participants complete memory and concentration tests at the start and end of the study, allowing for objective evaluation of cognitive effects alongside subjective sleep improvements.\n\n### Purpose of this Notebook\n\nThis notebook provides a structured approach to analyzing data collected during the study. The primary objectives include:\n\n1. **Data Cleaning and Preprocessing**: Organizing raw data from sleep logs, questionnaires, and cognitive assessments for accurate analysis.\n2. **Statistical Analysis**: Evaluating relationships between delta-frequency stimulation and sleep quality metrics, as well as analyzing any notable cognitive changes.\n3. **Data Visualization**: Generating visual representations of sleep patterns, intervention impact, and cognitive test results to support findings and reveal trends.\n4. **Conclusions and Insights**: Compiling results to assess the feasibility and potential benefits of delta-frequency light exposure as a tool for sleep enhancement.\n\nBy following this pipeline, we aim to understand if stroboscopic light with delta frequencies can be a meaningful addition to sleep improvement strategies.",
      "metadata": {
        "jp-MarkdownHeadingCollapsed": true,
        "cell_id": "b8bc69ae50794a45a54db4a51ac6b2ef",
        "deepnote_cell_type": "markdown"
      },
      "block_group": "cade28c1011e43ca939147d22b951eb3"
    },
    {
      "cell_type": "markdown",
      "source": "## Library Imports",
      "metadata": {
        "cell_id": "4ea08ec8b20446ffb47f71757e823784",
        "deepnote_cell_type": "markdown"
      },
      "block_group": "124069b8f16b4af08671b6dc9548ed3e"
    },
    {
      "cell_type": "code",
      "source": "import pandas as pd\nimport numpy as np",
      "metadata": {
        "tags": [],
        "editable": true,
        "slideshow": {
          "slide_type": ""
        },
        "source_hash": "c76c7c51",
        "execution_start": 1731451474918,
        "execution_millis": 1,
        "execution_context_id": "51b4ef2b-c299-4bc8-8282-12e112dd08f6",
        "cell_id": "b39275916f894aa6a9e3e148376d5b4d",
        "deepnote_cell_type": "code"
      },
      "outputs": [],
      "outputs_reference": null,
      "execution_count": 1,
      "block_group": "b39cccbc21fc4d0993d293ec95e14283",
      "content_dependencies": null
    },
    {
      "cell_type": "markdown",
      "source": "## File Imports",
      "metadata": {
        "cell_id": "55fa57d25c5a499d91a4b3340ee854af",
        "deepnote_cell_type": "markdown"
      },
      "block_group": "7fb184fb768e4fa6a424f0cbfec0684b"
    },
    {
      "cell_type": "markdown",
      "source": "### Medical History Form",
      "metadata": {
        "cell_id": "27cfed67697843f4a2a8ba99dab43333",
        "deepnote_cell_type": "markdown"
      },
      "block_group": "0d9832bf458f43a3a82465f8b59108ce"
    },
    {
      "cell_type": "code",
      "source": "anamnesebogen_ba = pd.read_csv('Anamnesebogen_BA.csv')\nanamnesebogen_ba.head()",
      "metadata": {
        "source_hash": "5c61d330",
        "execution_start": 1731451474965,
        "execution_millis": 3762,
        "execution_context_id": "51b4ef2b-c299-4bc8-8282-12e112dd08f6",
        "cell_id": "e0f60ddc557d46c883ff771b3ca61faf",
        "deepnote_cell_type": "code"
      },
      "outputs": [
        {
          "output_type": "execute_result",
          "execution_count": 2,
          "data": {
            "application/vnd.deepnote.dataframe.v3+json": {
              "column_count": 52,
              "row_count": 1,
              "columns": [
                {
                  "name": "Zeitstempel",
                  "dtype": "object",
                  "stats": {
                    "unique_count": 1,
                    "nan_count": 0,
                    "categories": [
                      {
                        "name": "2024/02/07 12:13:04 AM MEZ",
                        "count": 1
                      }
                    ]
                  }
                },
                {
                  "name": "Nachname",
                  "dtype": "object",
                  "stats": {
                    "unique_count": 1,
                    "nan_count": 0,
                    "categories": [
                      {
                        "name": "Poloczek",
                        "count": 1
                      }
                    ]
                  }
                },
                {
                  "name": "Vorname",
                  "dtype": "object",
                  "stats": {
                    "unique_count": 1,
                    "nan_count": 0,
                    "categories": [
                      {
                        "name": "Maurice",
                        "count": 1
                      }
                    ]
                  }
                },
                {
                  "name": "Geburtsdatum",
                  "dtype": "object",
                  "stats": {
                    "unique_count": 1,
                    "nan_count": 0,
                    "categories": [
                      {
                        "name": "1997-07-17",
                        "count": 1
                      }
                    ]
                  }
                },
                {
                  "name": "Adresse",
                  "dtype": "object",
                  "stats": {
                    "unique_count": 1,
                    "nan_count": 0,
                    "categories": [
                      {
                        "name": "Hofener Straße 90",
                        "count": 1
                      }
                    ]
                  }
                },
                {
                  "name": "Mailadresse",
                  "dtype": "object",
                  "stats": {
                    "unique_count": 1,
                    "nan_count": 0,
                    "categories": [
                      {
                        "name": "poloczekmaurice@gmail.com",
                        "count": 1
                      }
                    ]
                  }
                },
                {
                  "name": "Telefonnummer",
                  "dtype": "float64",
                  "stats": {
                    "unique_count": 0,
                    "nan_count": 1,
                    "min": null,
                    "max": null,
                    "histogram": [
                      {
                        "bin_start": 0,
                        "bin_end": 0.1,
                        "count": 0
                      },
                      {
                        "bin_start": 0.1,
                        "bin_end": 0.2,
                        "count": 0
                      },
                      {
                        "bin_start": 0.2,
                        "bin_end": 0.30000000000000004,
                        "count": 0
                      },
                      {
                        "bin_start": 0.30000000000000004,
                        "bin_end": 0.4,
                        "count": 0
                      },
                      {
                        "bin_start": 0.4,
                        "bin_end": 0.5,
                        "count": 0
                      },
                      {
                        "bin_start": 0.5,
                        "bin_end": 0.6000000000000001,
                        "count": 0
                      },
                      {
                        "bin_start": 0.6000000000000001,
                        "bin_end": 0.7000000000000001,
                        "count": 0
                      },
                      {
                        "bin_start": 0.7000000000000001,
                        "bin_end": 0.8,
                        "count": 0
                      },
                      {
                        "bin_start": 0.8,
                        "bin_end": 0.9,
                        "count": 0
                      },
                      {
                        "bin_start": 0.9,
                        "bin_end": 1,
                        "count": 0
                      }
                    ]
                  }
                },
                {
                  "name": "Geschlecht",
                  "dtype": "object",
                  "stats": {
                    "unique_count": 1,
                    "nan_count": 0,
                    "categories": [
                      {
                        "name": "männlich",
                        "count": 1
                      }
                    ]
                  }
                },
                {
                  "name": "Staatsangehörigkeit ",
                  "dtype": "object",
                  "stats": {
                    "unique_count": 1,
                    "nan_count": 0,
                    "categories": [
                      {
                        "name": "deutsch",
                        "count": 1
                      }
                    ]
                  }
                },
                {
                  "name": "Sind Sie derzeit an einer deutschen Universität immatrikuliert?",
                  "dtype": "object",
                  "stats": {
                    "unique_count": 1,
                    "nan_count": 0,
                    "categories": [
                      {
                        "name": "Ja",
                        "count": 1
                      }
                    ]
                  }
                },
                {
                  "name": "Welcher Studiengang wird von Ihnen derzeit belegt? (Bitte den vollständigen Studiengang angeben, z.B., \"Bachelor in Biologie\" oder \"Master in Psychologie\")",
                  "dtype": "object",
                  "stats": {
                    "unique_count": 1,
                    "nan_count": 0,
                    "categories": [
                      {
                        "name": "B.Sc. Wirtschaftsinformatik",
                        "count": 1
                      }
                    ]
                  }
                },
                {
                  "name": "In welchem Semester befinden Sie sich derzeit? (Bitte die genaue Semesterzahl angeben, z.B., \"3. Semester\" oder \"6. Semester\")",
                  "dtype": "float64",
                  "stats": {
                    "unique_count": 1,
                    "nan_count": 0,
                    "min": "6.0",
                    "max": "6.0",
                    "histogram": [
                      {
                        "bin_start": 5.5,
                        "bin_end": 5.6,
                        "count": 0
                      },
                      {
                        "bin_start": 5.6,
                        "bin_end": 5.7,
                        "count": 0
                      },
                      {
                        "bin_start": 5.7,
                        "bin_end": 5.8,
                        "count": 0
                      },
                      {
                        "bin_start": 5.8,
                        "bin_end": 5.9,
                        "count": 0
                      },
                      {
                        "bin_start": 5.9,
                        "bin_end": 6,
                        "count": 0
                      },
                      {
                        "bin_start": 6,
                        "bin_end": 6.1,
                        "count": 1
                      },
                      {
                        "bin_start": 6.1,
                        "bin_end": 6.2,
                        "count": 0
                      },
                      {
                        "bin_start": 6.2,
                        "bin_end": 6.3,
                        "count": 0
                      },
                      {
                        "bin_start": 6.3,
                        "bin_end": 6.4,
                        "count": 0
                      },
                      {
                        "bin_start": 6.4,
                        "bin_end": 6.5,
                        "count": 0
                      }
                    ]
                  }
                },
                {
                  "name": "Wie ist ihr aktueller Status auf das Studium bezogen?",
                  "dtype": "float64",
                  "stats": {
                    "unique_count": 0,
                    "nan_count": 1,
                    "min": null,
                    "max": null,
                    "histogram": [
                      {
                        "bin_start": 0,
                        "bin_end": 0.1,
                        "count": 0
                      },
                      {
                        "bin_start": 0.1,
                        "bin_end": 0.2,
                        "count": 0
                      },
                      {
                        "bin_start": 0.2,
                        "bin_end": 0.30000000000000004,
                        "count": 0
                      },
                      {
                        "bin_start": 0.30000000000000004,
                        "bin_end": 0.4,
                        "count": 0
                      },
                      {
                        "bin_start": 0.4,
                        "bin_end": 0.5,
                        "count": 0
                      },
                      {
                        "bin_start": 0.5,
                        "bin_end": 0.6000000000000001,
                        "count": 0
                      },
                      {
                        "bin_start": 0.6000000000000001,
                        "bin_end": 0.7000000000000001,
                        "count": 0
                      },
                      {
                        "bin_start": 0.7000000000000001,
                        "bin_end": 0.8,
                        "count": 0
                      },
                      {
                        "bin_start": 0.8,
                        "bin_end": 0.9,
                        "count": 0
                      },
                      {
                        "bin_start": 0.9,
                        "bin_end": 1,
                        "count": 0
                      }
                    ]
                  }
                },
                {
                  "name": "Leiden Sie an Epilepsie?",
                  "dtype": "object",
                  "stats": {
                    "unique_count": 1,
                    "nan_count": 0,
                    "categories": [
                      {
                        "name": "Nein",
                        "count": 1
                      }
                    ]
                  }
                },
                {
                  "name": "Leidet einer Ihrer Familienangehörigen unter Epilepsie?",
                  "dtype": "float64",
                  "stats": {
                    "unique_count": 0,
                    "nan_count": 1,
                    "min": null,
                    "max": null,
                    "histogram": [
                      {
                        "bin_start": 0,
                        "bin_end": 0.1,
                        "count": 0
                      },
                      {
                        "bin_start": 0.1,
                        "bin_end": 0.2,
                        "count": 0
                      },
                      {
                        "bin_start": 0.2,
                        "bin_end": 0.30000000000000004,
                        "count": 0
                      },
                      {
                        "bin_start": 0.30000000000000004,
                        "bin_end": 0.4,
                        "count": 0
                      },
                      {
                        "bin_start": 0.4,
                        "bin_end": 0.5,
                        "count": 0
                      },
                      {
                        "bin_start": 0.5,
                        "bin_end": 0.6000000000000001,
                        "count": 0
                      },
                      {
                        "bin_start": 0.6000000000000001,
                        "bin_end": 0.7000000000000001,
                        "count": 0
                      },
                      {
                        "bin_start": 0.7000000000000001,
                        "bin_end": 0.8,
                        "count": 0
                      },
                      {
                        "bin_start": 0.8,
                        "bin_end": 0.9,
                        "count": 0
                      },
                      {
                        "bin_start": 0.9,
                        "bin_end": 1,
                        "count": 0
                      }
                    ]
                  }
                },
                {
                  "name": "Wurde bei Ihnen von einem Arzt eine Schlafstörung diagnostiziert?",
                  "dtype": "object",
                  "stats": {
                    "unique_count": 1,
                    "nan_count": 0,
                    "categories": [
                      {
                        "name": "Nein",
                        "count": 1
                      }
                    ]
                  }
                },
                {
                  "name": "Leiden Sie unter einer chronischen Erkrankung? Wenn ja, geben Sie bitte an, um welche Erkrankung(en) es sich handelt.",
                  "dtype": "float64",
                  "stats": {
                    "unique_count": 0,
                    "nan_count": 1,
                    "min": null,
                    "max": null,
                    "histogram": [
                      {
                        "bin_start": 0,
                        "bin_end": 0.1,
                        "count": 0
                      },
                      {
                        "bin_start": 0.1,
                        "bin_end": 0.2,
                        "count": 0
                      },
                      {
                        "bin_start": 0.2,
                        "bin_end": 0.30000000000000004,
                        "count": 0
                      },
                      {
                        "bin_start": 0.30000000000000004,
                        "bin_end": 0.4,
                        "count": 0
                      },
                      {
                        "bin_start": 0.4,
                        "bin_end": 0.5,
                        "count": 0
                      },
                      {
                        "bin_start": 0.5,
                        "bin_end": 0.6000000000000001,
                        "count": 0
                      },
                      {
                        "bin_start": 0.6000000000000001,
                        "bin_end": 0.7000000000000001,
                        "count": 0
                      },
                      {
                        "bin_start": 0.7000000000000001,
                        "bin_end": 0.8,
                        "count": 0
                      },
                      {
                        "bin_start": 0.8,
                        "bin_end": 0.9,
                        "count": 0
                      },
                      {
                        "bin_start": 0.9,
                        "bin_end": 1,
                        "count": 0
                      }
                    ]
                  }
                },
                {
                  "name": "Nehmen Sie aktuell Medikamente ein? (Bitte auflisten)",
                  "dtype": "float64",
                  "stats": {
                    "unique_count": 0,
                    "nan_count": 1,
                    "min": null,
                    "max": null,
                    "histogram": [
                      {
                        "bin_start": 0,
                        "bin_end": 0.1,
                        "count": 0
                      },
                      {
                        "bin_start": 0.1,
                        "bin_end": 0.2,
                        "count": 0
                      },
                      {
                        "bin_start": 0.2,
                        "bin_end": 0.30000000000000004,
                        "count": 0
                      },
                      {
                        "bin_start": 0.30000000000000004,
                        "bin_end": 0.4,
                        "count": 0
                      },
                      {
                        "bin_start": 0.4,
                        "bin_end": 0.5,
                        "count": 0
                      },
                      {
                        "bin_start": 0.5,
                        "bin_end": 0.6000000000000001,
                        "count": 0
                      },
                      {
                        "bin_start": 0.6000000000000001,
                        "bin_end": 0.7000000000000001,
                        "count": 0
                      },
                      {
                        "bin_start": 0.7000000000000001,
                        "bin_end": 0.8,
                        "count": 0
                      },
                      {
                        "bin_start": 0.8,
                        "bin_end": 0.9,
                        "count": 0
                      },
                      {
                        "bin_start": 0.9,
                        "bin_end": 1,
                        "count": 0
                      }
                    ]
                  }
                },
                {
                  "name": "Nehmen Sie Drogen oder Substanzen ein, die den Schlaf beeinflussen können?",
                  "dtype": "object",
                  "stats": {
                    "unique_count": 1,
                    "nan_count": 0,
                    "categories": [
                      {
                        "name": "Nein",
                        "count": 1
                      }
                    ]
                  }
                },
                {
                  "name": "Wie bewerten Sie ihren aktuellen Gesundheitszustand?",
                  "dtype": "int64",
                  "stats": {
                    "unique_count": 1,
                    "nan_count": 0,
                    "min": "4",
                    "max": "4",
                    "histogram": [
                      {
                        "bin_start": 3.5,
                        "bin_end": 3.6,
                        "count": 0
                      },
                      {
                        "bin_start": 3.6,
                        "bin_end": 3.7,
                        "count": 0
                      },
                      {
                        "bin_start": 3.7,
                        "bin_end": 3.8,
                        "count": 0
                      },
                      {
                        "bin_start": 3.8,
                        "bin_end": 3.9,
                        "count": 0
                      },
                      {
                        "bin_start": 3.9,
                        "bin_end": 4,
                        "count": 0
                      },
                      {
                        "bin_start": 4,
                        "bin_end": 4.1,
                        "count": 1
                      },
                      {
                        "bin_start": 4.1,
                        "bin_end": 4.2,
                        "count": 0
                      },
                      {
                        "bin_start": 4.2,
                        "bin_end": 4.3,
                        "count": 0
                      },
                      {
                        "bin_start": 4.3,
                        "bin_end": 4.4,
                        "count": 0
                      },
                      {
                        "bin_start": 4.4,
                        "bin_end": 4.5,
                        "count": 0
                      }
                    ]
                  }
                },
                {
                  "name": "Wie bewerten Sie Ihren aktuellen psychischen Gesundheitszustand?",
                  "dtype": "float64",
                  "stats": {
                    "unique_count": 0,
                    "nan_count": 1,
                    "min": null,
                    "max": null,
                    "histogram": [
                      {
                        "bin_start": 0,
                        "bin_end": 0.1,
                        "count": 0
                      },
                      {
                        "bin_start": 0.1,
                        "bin_end": 0.2,
                        "count": 0
                      },
                      {
                        "bin_start": 0.2,
                        "bin_end": 0.30000000000000004,
                        "count": 0
                      },
                      {
                        "bin_start": 0.30000000000000004,
                        "bin_end": 0.4,
                        "count": 0
                      },
                      {
                        "bin_start": 0.4,
                        "bin_end": 0.5,
                        "count": 0
                      },
                      {
                        "bin_start": 0.5,
                        "bin_end": 0.6000000000000001,
                        "count": 0
                      },
                      {
                        "bin_start": 0.6000000000000001,
                        "bin_end": 0.7000000000000001,
                        "count": 0
                      },
                      {
                        "bin_start": 0.7000000000000001,
                        "bin_end": 0.8,
                        "count": 0
                      },
                      {
                        "bin_start": 0.8,
                        "bin_end": 0.9,
                        "count": 0
                      },
                      {
                        "bin_start": 0.9,
                        "bin_end": 1,
                        "count": 0
                      }
                    ]
                  }
                },
                {
                  "name": "Haben Sie in der Vergangenheit unter psychischen Problemen gelitten oder wurden Sie diesbezüglich behandelt? (Falls ja, geben Sie bitte an, um welche Probleme es sich handelte.)",
                  "dtype": "float64",
                  "stats": {
                    "unique_count": 0,
                    "nan_count": 1,
                    "min": null,
                    "max": null,
                    "histogram": [
                      {
                        "bin_start": 0,
                        "bin_end": 0.1,
                        "count": 0
                      },
                      {
                        "bin_start": 0.1,
                        "bin_end": 0.2,
                        "count": 0
                      },
                      {
                        "bin_start": 0.2,
                        "bin_end": 0.30000000000000004,
                        "count": 0
                      },
                      {
                        "bin_start": 0.30000000000000004,
                        "bin_end": 0.4,
                        "count": 0
                      },
                      {
                        "bin_start": 0.4,
                        "bin_end": 0.5,
                        "count": 0
                      },
                      {
                        "bin_start": 0.5,
                        "bin_end": 0.6000000000000001,
                        "count": 0
                      },
                      {
                        "bin_start": 0.6000000000000001,
                        "bin_end": 0.7000000000000001,
                        "count": 0
                      },
                      {
                        "bin_start": 0.7000000000000001,
                        "bin_end": 0.8,
                        "count": 0
                      },
                      {
                        "bin_start": 0.8,
                        "bin_end": 0.9,
                        "count": 0
                      },
                      {
                        "bin_start": 0.9,
                        "bin_end": 1,
                        "count": 0
                      }
                    ]
                  }
                },
                {
                  "name": "Rauchen Sie?",
                  "dtype": "object",
                  "stats": {
                    "unique_count": 1,
                    "nan_count": 0,
                    "categories": [
                      {
                        "name": "Nein",
                        "count": 1
                      }
                    ]
                  }
                },
                {
                  "name": "Konsumieren Sie Alkohol?",
                  "dtype": "object",
                  "stats": {
                    "unique_count": 1,
                    "nan_count": 0,
                    "categories": [
                      {
                        "name": "gelegentlich (1-2 mal pro Woche)",
                        "count": 1
                      }
                    ]
                  }
                },
                {
                  "name": "Wie oft sind Sie sportlich aktiv?",
                  "dtype": "object",
                  "stats": {
                    "unique_count": 1,
                    "nan_count": 0,
                    "categories": [
                      {
                        "name": "Mehrmals pro Woche",
                        "count": 1
                      }
                    ]
                  }
                },
                {
                  "name": "Wie sehr achten Sie auf eine ausgewogene Ernährung?",
                  "dtype": "int64",
                  "stats": {
                    "unique_count": 1,
                    "nan_count": 0,
                    "min": "2",
                    "max": "2",
                    "histogram": [
                      {
                        "bin_start": 1.5,
                        "bin_end": 1.6,
                        "count": 0
                      },
                      {
                        "bin_start": 1.6,
                        "bin_end": 1.7,
                        "count": 0
                      },
                      {
                        "bin_start": 1.7,
                        "bin_end": 1.8,
                        "count": 0
                      },
                      {
                        "bin_start": 1.8,
                        "bin_end": 1.9,
                        "count": 0
                      },
                      {
                        "bin_start": 1.9,
                        "bin_end": 2,
                        "count": 0
                      },
                      {
                        "bin_start": 2,
                        "bin_end": 2.1,
                        "count": 1
                      },
                      {
                        "bin_start": 2.1,
                        "bin_end": 2.2,
                        "count": 0
                      },
                      {
                        "bin_start": 2.2,
                        "bin_end": 2.3,
                        "count": 0
                      },
                      {
                        "bin_start": 2.3,
                        "bin_end": 2.4,
                        "count": 0
                      },
                      {
                        "bin_start": 2.4,
                        "bin_end": 2.5,
                        "count": 0
                      }
                    ]
                  }
                },
                {
                  "name": "Wie viel Koffein konsumieren Sie täglich? (z. B. zwei Tassen Kaffee/Energydrinks pro Tag)",
                  "dtype": "float64",
                  "stats": {
                    "unique_count": 0,
                    "nan_count": 1,
                    "min": null,
                    "max": null,
                    "histogram": [
                      {
                        "bin_start": 0,
                        "bin_end": 0.1,
                        "count": 0
                      },
                      {
                        "bin_start": 0.1,
                        "bin_end": 0.2,
                        "count": 0
                      },
                      {
                        "bin_start": 0.2,
                        "bin_end": 0.30000000000000004,
                        "count": 0
                      },
                      {
                        "bin_start": 0.30000000000000004,
                        "bin_end": 0.4,
                        "count": 0
                      },
                      {
                        "bin_start": 0.4,
                        "bin_end": 0.5,
                        "count": 0
                      },
                      {
                        "bin_start": 0.5,
                        "bin_end": 0.6000000000000001,
                        "count": 0
                      },
                      {
                        "bin_start": 0.6000000000000001,
                        "bin_end": 0.7000000000000001,
                        "count": 0
                      },
                      {
                        "bin_start": 0.7000000000000001,
                        "bin_end": 0.8,
                        "count": 0
                      },
                      {
                        "bin_start": 0.8,
                        "bin_end": 0.9,
                        "count": 0
                      },
                      {
                        "bin_start": 0.9,
                        "bin_end": 1,
                        "count": 0
                      }
                    ]
                  }
                },
                {
                  "name": "Wann nehmen Sie in der Regel Ihr letztes koffeinhaltiges Getränk zu sich? (z. B. 15:30 Uhr)",
                  "dtype": "float64",
                  "stats": {
                    "unique_count": 0,
                    "nan_count": 1,
                    "min": null,
                    "max": null,
                    "histogram": [
                      {
                        "bin_start": 0,
                        "bin_end": 0.1,
                        "count": 0
                      },
                      {
                        "bin_start": 0.1,
                        "bin_end": 0.2,
                        "count": 0
                      },
                      {
                        "bin_start": 0.2,
                        "bin_end": 0.30000000000000004,
                        "count": 0
                      },
                      {
                        "bin_start": 0.30000000000000004,
                        "bin_end": 0.4,
                        "count": 0
                      },
                      {
                        "bin_start": 0.4,
                        "bin_end": 0.5,
                        "count": 0
                      },
                      {
                        "bin_start": 0.5,
                        "bin_end": 0.6000000000000001,
                        "count": 0
                      },
                      {
                        "bin_start": 0.6000000000000001,
                        "bin_end": 0.7000000000000001,
                        "count": 0
                      },
                      {
                        "bin_start": 0.7000000000000001,
                        "bin_end": 0.8,
                        "count": 0
                      },
                      {
                        "bin_start": 0.8,
                        "bin_end": 0.9,
                        "count": 0
                      },
                      {
                        "bin_start": 0.9,
                        "bin_end": 1,
                        "count": 0
                      }
                    ]
                  }
                },
                {
                  "name": "Wie bewerten Sie Ihren Stresslevel in den letzten 1-2 Wochen?",
                  "dtype": "int64",
                  "stats": {
                    "unique_count": 1,
                    "nan_count": 0,
                    "min": "5",
                    "max": "5",
                    "histogram": [
                      {
                        "bin_start": 4.5,
                        "bin_end": 4.6,
                        "count": 0
                      },
                      {
                        "bin_start": 4.6,
                        "bin_end": 4.7,
                        "count": 0
                      },
                      {
                        "bin_start": 4.7,
                        "bin_end": 4.8,
                        "count": 0
                      },
                      {
                        "bin_start": 4.8,
                        "bin_end": 4.9,
                        "count": 0
                      },
                      {
                        "bin_start": 4.9,
                        "bin_end": 5,
                        "count": 0
                      },
                      {
                        "bin_start": 5,
                        "bin_end": 5.1,
                        "count": 1
                      },
                      {
                        "bin_start": 5.1,
                        "bin_end": 5.2,
                        "count": 0
                      },
                      {
                        "bin_start": 5.2,
                        "bin_end": 5.3,
                        "count": 0
                      },
                      {
                        "bin_start": 5.3,
                        "bin_end": 5.4,
                        "count": 0
                      },
                      {
                        "bin_start": 5.4,
                        "bin_end": 5.5,
                        "count": 0
                      }
                    ]
                  }
                },
                {
                  "name": "Welche stressreduzierenden Maßnahmen ergreifen Sie?",
                  "dtype": "object",
                  "stats": {
                    "unique_count": 1,
                    "nan_count": 0,
                    "categories": [
                      {
                        "name": "Lesen;Sport",
                        "count": 1
                      }
                    ]
                  }
                },
                {
                  "name": "Wie viele Stunden haben Sie durchschnittlich in den letzten 1-2 Wochen am Tageslicht verbracht?",
                  "dtype": "object",
                  "stats": {
                    "unique_count": 1,
                    "nan_count": 0,
                    "categories": [
                      {
                        "name": "1-2 Stunden pro Tag",
                        "count": 1
                      }
                    ]
                  }
                },
                {
                  "name": "Nutzen Sie eine Tageslichtlampe?",
                  "dtype": "object",
                  "stats": {
                    "unique_count": 1,
                    "nan_count": 0,
                    "categories": [
                      {
                        "name": "Nein, gar nicht",
                        "count": 1
                      }
                    ]
                  }
                },
                {
                  "name": "Wie bewerten Sie die Qualität Ihres aktuellen Schlafs in den letzten 1-2 Wochen?",
                  "dtype": "int64",
                  "stats": {
                    "unique_count": 1,
                    "nan_count": 0,
                    "min": "4",
                    "max": "4",
                    "histogram": [
                      {
                        "bin_start": 3.5,
                        "bin_end": 3.6,
                        "count": 0
                      },
                      {
                        "bin_start": 3.6,
                        "bin_end": 3.7,
                        "count": 0
                      },
                      {
                        "bin_start": 3.7,
                        "bin_end": 3.8,
                        "count": 0
                      },
                      {
                        "bin_start": 3.8,
                        "bin_end": 3.9,
                        "count": 0
                      },
                      {
                        "bin_start": 3.9,
                        "bin_end": 4,
                        "count": 0
                      },
                      {
                        "bin_start": 4,
                        "bin_end": 4.1,
                        "count": 1
                      },
                      {
                        "bin_start": 4.1,
                        "bin_end": 4.2,
                        "count": 0
                      },
                      {
                        "bin_start": 4.2,
                        "bin_end": 4.3,
                        "count": 0
                      },
                      {
                        "bin_start": 4.3,
                        "bin_end": 4.4,
                        "count": 0
                      },
                      {
                        "bin_start": 4.4,
                        "bin_end": 4.5,
                        "count": 0
                      }
                    ]
                  }
                },
                {
                  "name": "Wie viele Stunden schlafen Sie durchschnittlich pro Nacht?",
                  "dtype": "object",
                  "stats": {
                    "unique_count": 1,
                    "nan_count": 0,
                    "categories": [
                      {
                        "name": "5-6 Stunden",
                        "count": 1
                      }
                    ]
                  }
                },
                {
                  "name": "Wann gehen Sie üblicherweise zu Bett? (z. B. 22:30 Uhr)",
                  "dtype": "object",
                  "stats": {
                    "unique_count": 1,
                    "nan_count": 0,
                    "categories": [
                      {
                        "name": "1 Uhr",
                        "count": 1
                      }
                    ]
                  }
                },
                {
                  "name": "Wann stehen Sie üblicherweise auf? (z. B. 6:30 Uhr)",
                  "dtype": "object",
                  "stats": {
                    "unique_count": 1,
                    "nan_count": 0,
                    "categories": [
                      {
                        "name": "6:30 Uhr",
                        "count": 1
                      }
                    ]
                  }
                },
                {
                  "name": "Leiden Sie aktuell unter Schlafproblemen?",
                  "dtype": "object",
                  "stats": {
                    "unique_count": 1,
                    "nan_count": 0,
                    "categories": [
                      {
                        "name": "Nein",
                        "count": 1
                      }
                    ]
                  }
                },
                {
                  "name": "Gibt es in Ihrer Familie Personen, die unter Schlafstörungen leiden oder gelitten haben?",
                  "dtype": "float64",
                  "stats": {
                    "unique_count": 0,
                    "nan_count": 1,
                    "min": null,
                    "max": null,
                    "histogram": [
                      {
                        "bin_start": 0,
                        "bin_end": 0.1,
                        "count": 0
                      },
                      {
                        "bin_start": 0.1,
                        "bin_end": 0.2,
                        "count": 0
                      },
                      {
                        "bin_start": 0.2,
                        "bin_end": 0.30000000000000004,
                        "count": 0
                      },
                      {
                        "bin_start": 0.30000000000000004,
                        "bin_end": 0.4,
                        "count": 0
                      },
                      {
                        "bin_start": 0.4,
                        "bin_end": 0.5,
                        "count": 0
                      },
                      {
                        "bin_start": 0.5,
                        "bin_end": 0.6000000000000001,
                        "count": 0
                      },
                      {
                        "bin_start": 0.6000000000000001,
                        "bin_end": 0.7000000000000001,
                        "count": 0
                      },
                      {
                        "bin_start": 0.7000000000000001,
                        "bin_end": 0.8,
                        "count": 0
                      },
                      {
                        "bin_start": 0.8,
                        "bin_end": 0.9,
                        "count": 0
                      },
                      {
                        "bin_start": 0.9,
                        "bin_end": 1,
                        "count": 0
                      }
                    ]
                  }
                },
                {
                  "name": "Wie lange benötigen Sie durchschnittlich zum Einschlafen (z. B. 20 min)",
                  "dtype": "object",
                  "stats": {
                    "unique_count": 1,
                    "nan_count": 0,
                    "categories": [
                      {
                        "name": "10 min",
                        "count": 1
                      }
                    ]
                  }
                },
                {
                  "name": "Wie oft erwachen Sie nachts durchschnittlich? (z. B. 2 mal)",
                  "dtype": "object",
                  "stats": {
                    "unique_count": 1,
                    "nan_count": 0,
                    "categories": [
                      {
                        "name": "1x",
                        "count": 1
                      }
                    ]
                  }
                },
                {
                  "name": "Fühlen Sie sich nach dem Aufwachen erholt?",
                  "dtype": "object",
                  "stats": {
                    "unique_count": 1,
                    "nan_count": 0,
                    "categories": [
                      {
                        "name": "Nein",
                        "count": 1
                      }
                    ]
                  }
                },
                {
                  "name": "Wie viele Minuten bevor Sie schlafen gehen, schalten Sie Ihre elektronischen Geräte wie Smartphones, Tablets oder Computer ab? (z. B. 20 Minuten)",
                  "dtype": "float64",
                  "stats": {
                    "unique_count": 0,
                    "nan_count": 1,
                    "min": null,
                    "max": null,
                    "histogram": [
                      {
                        "bin_start": 0,
                        "bin_end": 0.1,
                        "count": 0
                      },
                      {
                        "bin_start": 0.1,
                        "bin_end": 0.2,
                        "count": 0
                      },
                      {
                        "bin_start": 0.2,
                        "bin_end": 0.30000000000000004,
                        "count": 0
                      },
                      {
                        "bin_start": 0.30000000000000004,
                        "bin_end": 0.4,
                        "count": 0
                      },
                      {
                        "bin_start": 0.4,
                        "bin_end": 0.5,
                        "count": 0
                      },
                      {
                        "bin_start": 0.5,
                        "bin_end": 0.6000000000000001,
                        "count": 0
                      },
                      {
                        "bin_start": 0.6000000000000001,
                        "bin_end": 0.7000000000000001,
                        "count": 0
                      },
                      {
                        "bin_start": 0.7000000000000001,
                        "bin_end": 0.8,
                        "count": 0
                      },
                      {
                        "bin_start": 0.8,
                        "bin_end": 0.9,
                        "count": 0
                      },
                      {
                        "bin_start": 0.9,
                        "bin_end": 1,
                        "count": 0
                      }
                    ]
                  }
                },
                {
                  "name": "Nehmen Sie aktuell Medikamente ein, um Ihren Schlaf zu verbessern? (Wenn ja, geben Sie bitte an, welche z. B. Neurexan)",
                  "dtype": "object",
                  "stats": {
                    "unique_count": 1,
                    "nan_count": 0,
                    "categories": [
                      {
                        "name": "Nein",
                        "count": 1
                      }
                    ]
                  }
                },
                {
                  "name": "Haben Sie in der Vergangenheit Medikamente verwendet, um besser schlafen zu können? (Wenn ja, geben Sie bitte an, welche z. B. Neurexan)",
                  "dtype": "float64",
                  "stats": {
                    "unique_count": 0,
                    "nan_count": 1,
                    "min": null,
                    "max": null,
                    "histogram": [
                      {
                        "bin_start": 0,
                        "bin_end": 0.1,
                        "count": 0
                      },
                      {
                        "bin_start": 0.1,
                        "bin_end": 0.2,
                        "count": 0
                      },
                      {
                        "bin_start": 0.2,
                        "bin_end": 0.30000000000000004,
                        "count": 0
                      },
                      {
                        "bin_start": 0.30000000000000004,
                        "bin_end": 0.4,
                        "count": 0
                      },
                      {
                        "bin_start": 0.4,
                        "bin_end": 0.5,
                        "count": 0
                      },
                      {
                        "bin_start": 0.5,
                        "bin_end": 0.6000000000000001,
                        "count": 0
                      },
                      {
                        "bin_start": 0.6000000000000001,
                        "bin_end": 0.7000000000000001,
                        "count": 0
                      },
                      {
                        "bin_start": 0.7000000000000001,
                        "bin_end": 0.8,
                        "count": 0
                      },
                      {
                        "bin_start": 0.8,
                        "bin_end": 0.9,
                        "count": 0
                      },
                      {
                        "bin_start": 0.9,
                        "bin_end": 1,
                        "count": 0
                      }
                    ]
                  }
                },
                {
                  "name": "Neigen Sie dazu, tagsüber einzuschlafen?",
                  "dtype": "object",
                  "stats": {
                    "unique_count": 1,
                    "nan_count": 0,
                    "categories": [
                      {
                        "name": "Nein",
                        "count": 1
                      }
                    ]
                  }
                },
                {
                  "name": "Haben Sie Schwierigkeiten, sich tagsüber zu konzentrieren?",
                  "dtype": "object",
                  "stats": {
                    "unique_count": 1,
                    "nan_count": 0,
                    "categories": [
                      {
                        "name": "Ja",
                        "count": 1
                      }
                    ]
                  }
                },
                {
                  "name": "Sind Sie bereit, sich einer 10-tägigen Intervention zu unterziehen?",
                  "dtype": "object",
                  "stats": {
                    "unique_count": 1,
                    "nan_count": 0,
                    "categories": [
                      {
                        "name": "Ja",
                        "count": 1
                      }
                    ]
                  }
                },
                {
                  "name": "Sind Sie bereit, einen Gedächtnistest vor und nach der Intervention zu absolvieren? (hierfür wird ein Laptop oder Computer benötigt)",
                  "dtype": "object",
                  "stats": {
                    "unique_count": 1,
                    "nan_count": 0,
                    "categories": [
                      {
                        "name": "Ja",
                        "count": 1
                      }
                    ]
                  }
                },
                {
                  "name": "Sind Sie bereit, für den Zeitraum der Intervention auf Drogen, einschließlich Alkohol und Nikotin, zu verzichten?",
                  "dtype": "object",
                  "stats": {
                    "unique_count": 1,
                    "nan_count": 0,
                    "categories": [
                      {
                        "name": "Ja",
                        "count": 1
                      }
                    ]
                  }
                },
                {
                  "name": "Einverständniserklärung:\nIch erkläre mich freiwillig bereit, an der Studie teilzunehmen, und habe alle Fragen wahrheitsgemäß beantwortet. Mir ist bewusst, dass ich jederzeit meine Teilnahme ohne Angabe von Gründen abbrechen kann.",
                  "dtype": "object",
                  "stats": {
                    "unique_count": 1,
                    "nan_count": 0,
                    "categories": [
                      {
                        "name": "Ja",
                        "count": 1
                      }
                    ]
                  }
                },
                {
                  "name": "Datenschutz:\nIch habe die Datenschutzvereinbarungen der Studie gelesen und stimme diesen zu.",
                  "dtype": "float64",
                  "stats": {
                    "unique_count": 0,
                    "nan_count": 1,
                    "min": null,
                    "max": null,
                    "histogram": [
                      {
                        "bin_start": 0,
                        "bin_end": 0.1,
                        "count": 0
                      },
                      {
                        "bin_start": 0.1,
                        "bin_end": 0.2,
                        "count": 0
                      },
                      {
                        "bin_start": 0.2,
                        "bin_end": 0.30000000000000004,
                        "count": 0
                      },
                      {
                        "bin_start": 0.30000000000000004,
                        "bin_end": 0.4,
                        "count": 0
                      },
                      {
                        "bin_start": 0.4,
                        "bin_end": 0.5,
                        "count": 0
                      },
                      {
                        "bin_start": 0.5,
                        "bin_end": 0.6000000000000001,
                        "count": 0
                      },
                      {
                        "bin_start": 0.6000000000000001,
                        "bin_end": 0.7000000000000001,
                        "count": 0
                      },
                      {
                        "bin_start": 0.7000000000000001,
                        "bin_end": 0.8,
                        "count": 0
                      },
                      {
                        "bin_start": 0.8,
                        "bin_end": 0.9,
                        "count": 0
                      },
                      {
                        "bin_start": 0.9,
                        "bin_end": 1,
                        "count": 0
                      }
                    ]
                  }
                },
                {
                  "name": "Ausschlusskriterien:\nMir ist bewusst, dass Epileptiker, Personen mit diagnostizierten Schlafstörungen, sowie Personen, die Medikamente oder Substanzen einnehmen, die den Schlaf beeinflussen können, von der Studie ausgeschlossen werden.",
                  "dtype": "object",
                  "stats": {
                    "unique_count": 1,
                    "nan_count": 0,
                    "categories": [
                      {
                        "name": "Ja",
                        "count": 1
                      }
                    ]
                  }
                },
                {
                  "name": "_deepnote_index_column",
                  "dtype": "int64"
                }
              ],
              "rows": [
                {
                  "Zeitstempel": "2024/02/07 12:13:04 AM MEZ",
                  "Nachname": "Poloczek",
                  "Vorname": "Maurice",
                  "Geburtsdatum": "1997-07-17",
                  "Adresse": "Hofener Straße 90",
                  "Mailadresse": "poloczekmaurice@gmail.com",
                  "Telefonnummer": "nan",
                  "Geschlecht": "männlich",
                  "Staatsangehörigkeit ": "deutsch",
                  "Sind Sie derzeit an einer deutschen Universität immatrikuliert?": "Ja",
                  "Welcher Studiengang wird von Ihnen derzeit belegt? (Bitte den vollständigen Studiengang angeben, z.B., \"Bachelor in Biologie\" oder \"Master in Psychologie\")": "B.Sc. Wirtschaftsinformatik",
                  "In welchem Semester befinden Sie sich derzeit? (Bitte die genaue Semesterzahl angeben, z.B., \"3. Semester\" oder \"6. Semester\")": 6,
                  "Wie ist ihr aktueller Status auf das Studium bezogen?": "nan",
                  "Leiden Sie an Epilepsie?": "Nein",
                  "Leidet einer Ihrer Familienangehörigen unter Epilepsie?": "nan",
                  "Wurde bei Ihnen von einem Arzt eine Schlafstörung diagnostiziert?": "Nein",
                  "Leiden Sie unter einer chronischen Erkrankung? Wenn ja, geben Sie bitte an, um welche Erkrankung(en) es sich handelt.": "nan",
                  "Nehmen Sie aktuell Medikamente ein? (Bitte auflisten)": "nan",
                  "Nehmen Sie Drogen oder Substanzen ein, die den Schlaf beeinflussen können?": "Nein",
                  "Wie bewerten Sie ihren aktuellen Gesundheitszustand?": 4,
                  "Wie bewerten Sie Ihren aktuellen psychischen Gesundheitszustand?": "nan",
                  "Haben Sie in der Vergangenheit unter psychischen Problemen gelitten oder wurden Sie diesbezüglich behandelt? (Falls ja, geben Sie bitte an, um welche Probleme es sich handelte.)": "nan",
                  "Rauchen Sie?": "Nein",
                  "Konsumieren Sie Alkohol?": "gelegentlich (1-2 mal pro Woche)",
                  "Wie oft sind Sie sportlich aktiv?": "Mehrmals pro Woche",
                  "Wie sehr achten Sie auf eine ausgewogene Ernährung?": 2,
                  "Wie viel Koffein konsumieren Sie täglich? (z. B. zwei Tassen Kaffee/Energydrinks pro Tag)": "nan",
                  "Wann nehmen Sie in der Regel Ihr letztes koffeinhaltiges Getränk zu sich? (z. B. 15:30 Uhr)": "nan",
                  "Wie bewerten Sie Ihren Stresslevel in den letzten 1-2 Wochen?": 5,
                  "Welche stressreduzierenden Maßnahmen ergreifen Sie?": "Lesen;Sport",
                  "Wie viele Stunden haben Sie durchschnittlich in den letzten 1-2 Wochen am Tageslicht verbracht?": "1-2 Stunden pro Tag",
                  "Nutzen Sie eine Tageslichtlampe?": "Nein, gar nicht",
                  "Wie bewerten Sie die Qualität Ihres aktuellen Schlafs in den letzten 1-2 Wochen?": 4,
                  "Wie viele Stunden schlafen Sie durchschnittlich pro Nacht?": "5-6 Stunden",
                  "Wann gehen Sie üblicherweise zu Bett? (z. B. 22:30 Uhr)": "1 Uhr",
                  "Wann stehen Sie üblicherweise auf? (z. B. 6:30 Uhr)": "6:30 Uhr",
                  "Leiden Sie aktuell unter Schlafproblemen?": "Nein",
                  "Gibt es in Ihrer Familie Personen, die unter Schlafstörungen leiden oder gelitten haben?": "nan",
                  "Wie lange benötigen Sie durchschnittlich zum Einschlafen (z. B. 20 min)": "10 min",
                  "Wie oft erwachen Sie nachts durchschnittlich? (z. B. 2 mal)": "1x",
                  "Fühlen Sie sich nach dem Aufwachen erholt?": "Nein",
                  "Wie viele Minuten bevor Sie schlafen gehen, schalten Sie Ihre elektronischen Geräte wie Smartphones, Tablets oder Computer ab? (z. B. 20 Minuten)": "nan",
                  "Nehmen Sie aktuell Medikamente ein, um Ihren Schlaf zu verbessern? (Wenn ja, geben Sie bitte an, welche z. B. Neurexan)": "Nein",
                  "Haben Sie in der Vergangenheit Medikamente verwendet, um besser schlafen zu können? (Wenn ja, geben Sie bitte an, welche z. B. Neurexan)": "nan",
                  "Neigen Sie dazu, tagsüber einzuschlafen?": "Nein",
                  "Haben Sie Schwierigkeiten, sich tagsüber zu konzentrieren?": "Ja",
                  "Sind Sie bereit, sich einer 10-tägigen Intervention zu unterziehen?": "Ja",
                  "Sind Sie bereit, einen Gedächtnistest vor und nach der Intervention zu absolvieren? (hierfür wird ein Laptop oder Computer benötigt)": "Ja",
                  "Sind Sie bereit, für den Zeitraum der Intervention auf Drogen, einschließlich Alkohol und Nikotin, zu verzichten?": "Ja",
                  "Einverständniserklärung:\nIch erkläre mich freiwillig bereit, an der Studie teilzunehmen, und habe alle Fragen wahrheitsgemäß beantwortet. Mir ist bewusst, dass ich jederzeit meine Teilnahme ohne Angabe von Gründen abbrechen kann.": "Ja",
                  "Datenschutz:\nIch habe die Datenschutzvereinbarungen der Studie gelesen und stimme diesen zu.": "nan",
                  "Ausschlusskriterien:\nMir ist bewusst, dass Epileptiker, Personen mit diagnostizierten Schlafstörungen, sowie Personen, die Medikamente oder Substanzen einnehmen, die den Schlaf beeinflussen können, von der Studie ausgeschlossen werden.": "Ja",
                  "_deepnote_index_column": 0
                }
              ]
            },
            "text/plain": "                  Zeitstempel  Nachname  Vorname Geburtsdatum  \\\n0  2024/02/07 12:13:04 AM MEZ  Poloczek  Maurice   1997-07-17   \n\n             Adresse                Mailadresse  Telefonnummer Geschlecht  \\\n0  Hofener Straße 90  poloczekmaurice@gmail.com            NaN   männlich   \n\n  Staatsangehörigkeit   \\\n0              deutsch   \n\n  Sind Sie derzeit an einer deutschen Universität immatrikuliert?  ...  \\\n0                                                 Ja               ...   \n\n  Nehmen Sie aktuell Medikamente ein, um Ihren Schlaf zu verbessern? (Wenn ja, geben Sie bitte an, welche z. B. Neurexan)  \\\n0                                               Nein                                                                        \n\n   Haben Sie in der Vergangenheit Medikamente verwendet, um besser schlafen zu können? (Wenn ja, geben Sie bitte an, welche z. B. Neurexan)  \\\n0                                                NaN                                                                                          \n\n   Neigen Sie dazu, tagsüber einzuschlafen?  \\\n0                                      Nein   \n\n  Haben Sie Schwierigkeiten, sich tagsüber zu konzentrieren?  \\\n0                                                 Ja           \n\n   Sind Sie bereit, sich einer 10-tägigen Intervention zu unterziehen?  \\\n0                                                 Ja                     \n\n  Sind Sie bereit, einen Gedächtnistest vor und nach der Intervention zu absolvieren? (hierfür wird ein Laptop oder Computer benötigt)  \\\n0                                                 Ja                                                                                     \n\n   Sind Sie bereit, für den Zeitraum der Intervention auf Drogen, einschließlich Alkohol und Nikotin, zu verzichten?  \\\n0                                                 Ja                                                                   \n\n   Einverständniserklärung:\\nIch erkläre mich freiwillig bereit, an der Studie teilzunehmen, und habe alle Fragen wahrheitsgemäß beantwortet. Mir ist bewusst, dass ich jederzeit meine Teilnahme ohne Angabe von Gründen abbrechen kann.  \\\n0                                                 Ja                                                                                                                                                                                        \n\n  Datenschutz:\\nIch habe die Datenschutzvereinbarungen der Studie gelesen und stimme diesen zu.  \\\n0                                                NaN                                              \n\n   Ausschlusskriterien:\\nMir ist bewusst, dass Epileptiker, Personen mit diagnostizierten Schlafstörungen, sowie Personen, die Medikamente oder Substanzen einnehmen, die den Schlaf beeinflussen können, von der Studie ausgeschlossen werden.  \n0                                                 Ja                                                                                                                                                                                             \n\n[1 rows x 52 columns]",
            "text/html": "<div>\n<style scoped>\n    .dataframe tbody tr th:only-of-type {\n        vertical-align: middle;\n    }\n\n    .dataframe tbody tr th {\n        vertical-align: top;\n    }\n\n    .dataframe thead th {\n        text-align: right;\n    }\n</style>\n<table border=\"1\" class=\"dataframe\">\n  <thead>\n    <tr style=\"text-align: right;\">\n      <th></th>\n      <th>Zeitstempel</th>\n      <th>Nachname</th>\n      <th>Vorname</th>\n      <th>Geburtsdatum</th>\n      <th>Adresse</th>\n      <th>Mailadresse</th>\n      <th>Telefonnummer</th>\n      <th>Geschlecht</th>\n      <th>Staatsangehörigkeit</th>\n      <th>Sind Sie derzeit an einer deutschen Universität immatrikuliert?</th>\n      <th>...</th>\n      <th>Nehmen Sie aktuell Medikamente ein, um Ihren Schlaf zu verbessern? (Wenn ja, geben Sie bitte an, welche z. B. Neurexan)</th>\n      <th>Haben Sie in der Vergangenheit Medikamente verwendet, um besser schlafen zu können? (Wenn ja, geben Sie bitte an, welche z. B. Neurexan)</th>\n      <th>Neigen Sie dazu, tagsüber einzuschlafen?</th>\n      <th>Haben Sie Schwierigkeiten, sich tagsüber zu konzentrieren?</th>\n      <th>Sind Sie bereit, sich einer 10-tägigen Intervention zu unterziehen?</th>\n      <th>Sind Sie bereit, einen Gedächtnistest vor und nach der Intervention zu absolvieren? (hierfür wird ein Laptop oder Computer benötigt)</th>\n      <th>Sind Sie bereit, für den Zeitraum der Intervention auf Drogen, einschließlich Alkohol und Nikotin, zu verzichten?</th>\n      <th>Einverständniserklärung:\\nIch erkläre mich freiwillig bereit, an der Studie teilzunehmen, und habe alle Fragen wahrheitsgemäß beantwortet. Mir ist bewusst, dass ich jederzeit meine Teilnahme ohne Angabe von Gründen abbrechen kann.</th>\n      <th>Datenschutz:\\nIch habe die Datenschutzvereinbarungen der Studie gelesen und stimme diesen zu.</th>\n      <th>Ausschlusskriterien:\\nMir ist bewusst, dass Epileptiker, Personen mit diagnostizierten Schlafstörungen, sowie Personen, die Medikamente oder Substanzen einnehmen, die den Schlaf beeinflussen können, von der Studie ausgeschlossen werden.</th>\n    </tr>\n  </thead>\n  <tbody>\n    <tr>\n      <th>0</th>\n      <td>2024/02/07 12:13:04 AM MEZ</td>\n      <td>Poloczek</td>\n      <td>Maurice</td>\n      <td>1997-07-17</td>\n      <td>Hofener Straße 90</td>\n      <td>poloczekmaurice@gmail.com</td>\n      <td>NaN</td>\n      <td>männlich</td>\n      <td>deutsch</td>\n      <td>Ja</td>\n      <td>...</td>\n      <td>Nein</td>\n      <td>NaN</td>\n      <td>Nein</td>\n      <td>Ja</td>\n      <td>Ja</td>\n      <td>Ja</td>\n      <td>Ja</td>\n      <td>Ja</td>\n      <td>NaN</td>\n      <td>Ja</td>\n    </tr>\n  </tbody>\n</table>\n<p>1 rows × 52 columns</p>\n</div>"
          },
          "metadata": {}
        }
      ],
      "outputs_reference": null,
      "execution_count": 2,
      "block_group": "509a7eb673bd49c0973f18d9a2e3bdd6",
      "content_dependencies": null
    },
    {
      "cell_type": "markdown",
      "source": "### Morning Protocol",
      "metadata": {
        "cell_id": "26efc3be7e184bbb84ce70d6fdc3dfd0",
        "deepnote_cell_type": "markdown"
      },
      "block_group": "7b54ec12f5ba489994e6f84675eacac9"
    },
    {
      "cell_type": "code",
      "source": "morgen_protokoll = pd.read_csv('Morgen-Protokoll mit Intervention.csv')\nmorgen_protokoll.head()",
      "metadata": {
        "source_hash": "38a1211f",
        "execution_start": 1731451478774,
        "execution_millis": 104,
        "execution_context_id": "51b4ef2b-c299-4bc8-8282-12e112dd08f6",
        "cell_id": "cdb423da8d364124bc943dda98515da4",
        "deepnote_cell_type": "code"
      },
      "outputs": [
        {
          "output_type": "execute_result",
          "execution_count": 3,
          "data": {
            "application/vnd.deepnote.dataframe.v3+json": {
              "column_count": 20,
              "row_count": 1,
              "columns": [
                {
                  "name": "Zeitstempel",
                  "dtype": "object",
                  "stats": {
                    "unique_count": 1,
                    "nan_count": 0,
                    "categories": [
                      {
                        "name": "2024/05/28 9:17:57 AM MEZ",
                        "count": 1
                      }
                    ]
                  }
                },
                {
                  "name": "Wie unbeschwert fühlen Sie sich jetzt?",
                  "dtype": "int64",
                  "stats": {
                    "unique_count": 1,
                    "nan_count": 0,
                    "min": "5",
                    "max": "5",
                    "histogram": [
                      {
                        "bin_start": 4.5,
                        "bin_end": 4.6,
                        "count": 0
                      },
                      {
                        "bin_start": 4.6,
                        "bin_end": 4.7,
                        "count": 0
                      },
                      {
                        "bin_start": 4.7,
                        "bin_end": 4.8,
                        "count": 0
                      },
                      {
                        "bin_start": 4.8,
                        "bin_end": 4.9,
                        "count": 0
                      },
                      {
                        "bin_start": 4.9,
                        "bin_end": 5,
                        "count": 0
                      },
                      {
                        "bin_start": 5,
                        "bin_end": 5.1,
                        "count": 1
                      },
                      {
                        "bin_start": 5.1,
                        "bin_end": 5.2,
                        "count": 0
                      },
                      {
                        "bin_start": 5.2,
                        "bin_end": 5.3,
                        "count": 0
                      },
                      {
                        "bin_start": 5.3,
                        "bin_end": 5.4,
                        "count": 0
                      },
                      {
                        "bin_start": 5.4,
                        "bin_end": 5.5,
                        "count": 0
                      }
                    ]
                  }
                },
                {
                  "name": "Wie frisch fühlen Sie sich jetzt?",
                  "dtype": "int64",
                  "stats": {
                    "unique_count": 1,
                    "nan_count": 0,
                    "min": "4",
                    "max": "4",
                    "histogram": [
                      {
                        "bin_start": 3.5,
                        "bin_end": 3.6,
                        "count": 0
                      },
                      {
                        "bin_start": 3.6,
                        "bin_end": 3.7,
                        "count": 0
                      },
                      {
                        "bin_start": 3.7,
                        "bin_end": 3.8,
                        "count": 0
                      },
                      {
                        "bin_start": 3.8,
                        "bin_end": 3.9,
                        "count": 0
                      },
                      {
                        "bin_start": 3.9,
                        "bin_end": 4,
                        "count": 0
                      },
                      {
                        "bin_start": 4,
                        "bin_end": 4.1,
                        "count": 1
                      },
                      {
                        "bin_start": 4.1,
                        "bin_end": 4.2,
                        "count": 0
                      },
                      {
                        "bin_start": 4.2,
                        "bin_end": 4.3,
                        "count": 0
                      },
                      {
                        "bin_start": 4.3,
                        "bin_end": 4.4,
                        "count": 0
                      },
                      {
                        "bin_start": 4.4,
                        "bin_end": 4.5,
                        "count": 0
                      }
                    ]
                  }
                },
                {
                  "name": "Wie entspannt fühlen Sie sich jetzt?",
                  "dtype": "int64",
                  "stats": {
                    "unique_count": 1,
                    "nan_count": 0,
                    "min": "4",
                    "max": "4",
                    "histogram": [
                      {
                        "bin_start": 3.5,
                        "bin_end": 3.6,
                        "count": 0
                      },
                      {
                        "bin_start": 3.6,
                        "bin_end": 3.7,
                        "count": 0
                      },
                      {
                        "bin_start": 3.7,
                        "bin_end": 3.8,
                        "count": 0
                      },
                      {
                        "bin_start": 3.8,
                        "bin_end": 3.9,
                        "count": 0
                      },
                      {
                        "bin_start": 3.9,
                        "bin_end": 4,
                        "count": 0
                      },
                      {
                        "bin_start": 4,
                        "bin_end": 4.1,
                        "count": 1
                      },
                      {
                        "bin_start": 4.1,
                        "bin_end": 4.2,
                        "count": 0
                      },
                      {
                        "bin_start": 4.2,
                        "bin_end": 4.3,
                        "count": 0
                      },
                      {
                        "bin_start": 4.3,
                        "bin_end": 4.4,
                        "count": 0
                      },
                      {
                        "bin_start": 4.4,
                        "bin_end": 4.5,
                        "count": 0
                      }
                    ]
                  }
                },
                {
                  "name": "Wie erholsam war Ihr Schlaf?",
                  "dtype": "int64",
                  "stats": {
                    "unique_count": 1,
                    "nan_count": 0,
                    "min": "2",
                    "max": "2",
                    "histogram": [
                      {
                        "bin_start": 1.5,
                        "bin_end": 1.6,
                        "count": 0
                      },
                      {
                        "bin_start": 1.6,
                        "bin_end": 1.7,
                        "count": 0
                      },
                      {
                        "bin_start": 1.7,
                        "bin_end": 1.8,
                        "count": 0
                      },
                      {
                        "bin_start": 1.8,
                        "bin_end": 1.9,
                        "count": 0
                      },
                      {
                        "bin_start": 1.9,
                        "bin_end": 2,
                        "count": 0
                      },
                      {
                        "bin_start": 2,
                        "bin_end": 2.1,
                        "count": 1
                      },
                      {
                        "bin_start": 2.1,
                        "bin_end": 2.2,
                        "count": 0
                      },
                      {
                        "bin_start": 2.2,
                        "bin_end": 2.3,
                        "count": 0
                      },
                      {
                        "bin_start": 2.3,
                        "bin_end": 2.4,
                        "count": 0
                      },
                      {
                        "bin_start": 2.4,
                        "bin_end": 2.5,
                        "count": 0
                      }
                    ]
                  }
                },
                {
                  "name": "Um wie viel Uhr haben Sie gestern im Bett gelegen und das Licht gelöscht? (z. B. 22:30 Uhr)",
                  "dtype": "object",
                  "stats": {
                    "unique_count": 1,
                    "nan_count": 0,
                    "categories": [
                      {
                        "name": "23:00",
                        "count": 1
                      }
                    ]
                  }
                },
                {
                  "name": "Wie lange hat es anschließend gedauert, bis Sie einschliefen? (ca. 20 Minuten)",
                  "dtype": "object",
                  "stats": {
                    "unique_count": 1,
                    "nan_count": 0,
                    "categories": [
                      {
                        "name": "5min",
                        "count": 1
                      }
                    ]
                  }
                },
                {
                  "name": "Waren Sie nachts wach? Wenn ja, wie oft? Und wie lange insgesamt? (z. B. 2 Mal, insgesamt ca. 20 Minuten)",
                  "dtype": "object",
                  "stats": {
                    "unique_count": 1,
                    "nan_count": 0,
                    "categories": [
                      {
                        "name": "nein",
                        "count": 1
                      }
                    ]
                  }
                },
                {
                  "name": "Sofern Sie schlecht geschlafen haben, woran hat es gelegen? (Mehrfach Auswahl möglich)",
                  "dtype": "float64",
                  "stats": {
                    "unique_count": 0,
                    "nan_count": 1,
                    "min": null,
                    "max": null,
                    "histogram": [
                      {
                        "bin_start": 0,
                        "bin_end": 0.1,
                        "count": 0
                      },
                      {
                        "bin_start": 0.1,
                        "bin_end": 0.2,
                        "count": 0
                      },
                      {
                        "bin_start": 0.2,
                        "bin_end": 0.30000000000000004,
                        "count": 0
                      },
                      {
                        "bin_start": 0.30000000000000004,
                        "bin_end": 0.4,
                        "count": 0
                      },
                      {
                        "bin_start": 0.4,
                        "bin_end": 0.5,
                        "count": 0
                      },
                      {
                        "bin_start": 0.5,
                        "bin_end": 0.6000000000000001,
                        "count": 0
                      },
                      {
                        "bin_start": 0.6000000000000001,
                        "bin_end": 0.7000000000000001,
                        "count": 0
                      },
                      {
                        "bin_start": 0.7000000000000001,
                        "bin_end": 0.8,
                        "count": 0
                      },
                      {
                        "bin_start": 0.8,
                        "bin_end": 0.9,
                        "count": 0
                      },
                      {
                        "bin_start": 0.9,
                        "bin_end": 1,
                        "count": 0
                      }
                    ]
                  }
                },
                {
                  "name": "Haben Sie nachts geträumt? Wenn ja:",
                  "dtype": "object",
                  "stats": {
                    "unique_count": 1,
                    "nan_count": 0,
                    "categories": [
                      {
                        "name": "mittel",
                        "count": 1
                      }
                    ]
                  }
                },
                {
                  "name": "Haben Sie nachts geträumt? Wenn ja:.1",
                  "dtype": "object",
                  "stats": {
                    "unique_count": 1,
                    "nan_count": 0,
                    "categories": [
                      {
                        "name": "angenehm",
                        "count": 1
                      }
                    ]
                  }
                },
                {
                  "name": "Wann sind Sie endgültig aufgewacht? (z. B. 8:30 Uhr)",
                  "dtype": "object",
                  "stats": {
                    "unique_count": 1,
                    "nan_count": 0,
                    "categories": [
                      {
                        "name": "08:30",
                        "count": 1
                      }
                    ]
                  }
                },
                {
                  "name": "Wurden Sie zuletzt...",
                  "dtype": "object",
                  "stats": {
                    "unique_count": 1,
                    "nan_count": 0,
                    "categories": [
                      {
                        "name": "von alleine wach",
                        "count": 1
                      }
                    ]
                  }
                },
                {
                  "name": "Wie lange haben Sie insgesamt geschlafen? (ca. 6 Stunden 45 Minuten)",
                  "dtype": "object",
                  "stats": {
                    "unique_count": 1,
                    "nan_count": 0,
                    "categories": [
                      {
                        "name": "9:30h",
                        "count": 1
                      }
                    ]
                  }
                },
                {
                  "name": "Wann sind Sie heute morgen endgültig aufgestanden? (haben das Bett verlassen)\nz. B. 6:45 Uhr",
                  "dtype": "object",
                  "stats": {
                    "unique_count": 1,
                    "nan_count": 0,
                    "categories": [
                      {
                        "name": "08:35",
                        "count": 1
                      }
                    ]
                  }
                },
                {
                  "name": "Um wie viel Uhr haben Sie gestern Abend die visuelle Gehirnwellen-Stimulation angewendet? (z. B. 21:30 Uhr)",
                  "dtype": "float64",
                  "stats": {
                    "unique_count": 0,
                    "nan_count": 1,
                    "min": null,
                    "max": null,
                    "histogram": [
                      {
                        "bin_start": 0,
                        "bin_end": 0.1,
                        "count": 0
                      },
                      {
                        "bin_start": 0.1,
                        "bin_end": 0.2,
                        "count": 0
                      },
                      {
                        "bin_start": 0.2,
                        "bin_end": 0.30000000000000004,
                        "count": 0
                      },
                      {
                        "bin_start": 0.30000000000000004,
                        "bin_end": 0.4,
                        "count": 0
                      },
                      {
                        "bin_start": 0.4,
                        "bin_end": 0.5,
                        "count": 0
                      },
                      {
                        "bin_start": 0.5,
                        "bin_end": 0.6000000000000001,
                        "count": 0
                      },
                      {
                        "bin_start": 0.6000000000000001,
                        "bin_end": 0.7000000000000001,
                        "count": 0
                      },
                      {
                        "bin_start": 0.7000000000000001,
                        "bin_end": 0.8,
                        "count": 0
                      },
                      {
                        "bin_start": 0.8,
                        "bin_end": 0.9,
                        "count": 0
                      },
                      {
                        "bin_start": 0.9,
                        "bin_end": 1,
                        "count": 0
                      }
                    ]
                  }
                },
                {
                  "name": "Wie haben Sie sich gestern nach der Anwendung der visuellen Gehirnwellen-Stimulation gefühlt?",
                  "dtype": "int64",
                  "stats": {
                    "unique_count": 1,
                    "nan_count": 0,
                    "min": "1",
                    "max": "1",
                    "histogram": [
                      {
                        "bin_start": 0.5,
                        "bin_end": 0.6,
                        "count": 0
                      },
                      {
                        "bin_start": 0.6,
                        "bin_end": 0.7,
                        "count": 0
                      },
                      {
                        "bin_start": 0.7,
                        "bin_end": 0.8,
                        "count": 0
                      },
                      {
                        "bin_start": 0.8,
                        "bin_end": 0.9,
                        "count": 0
                      },
                      {
                        "bin_start": 0.9,
                        "bin_end": 1,
                        "count": 0
                      },
                      {
                        "bin_start": 1,
                        "bin_end": 1.1,
                        "count": 1
                      },
                      {
                        "bin_start": 1.1,
                        "bin_end": 1.2000000000000002,
                        "count": 0
                      },
                      {
                        "bin_start": 1.2000000000000002,
                        "bin_end": 1.3,
                        "count": 0
                      },
                      {
                        "bin_start": 1.3,
                        "bin_end": 1.4,
                        "count": 0
                      },
                      {
                        "bin_start": 1.4,
                        "bin_end": 1.5,
                        "count": 0
                      }
                    ]
                  }
                },
                {
                  "name": "Wie haben Sie die Anwendung gestern Abend wahrgenommen?",
                  "dtype": "int64",
                  "stats": {
                    "unique_count": 1,
                    "nan_count": 0,
                    "min": "1",
                    "max": "1",
                    "histogram": [
                      {
                        "bin_start": 0.5,
                        "bin_end": 0.6,
                        "count": 0
                      },
                      {
                        "bin_start": 0.6,
                        "bin_end": 0.7,
                        "count": 0
                      },
                      {
                        "bin_start": 0.7,
                        "bin_end": 0.8,
                        "count": 0
                      },
                      {
                        "bin_start": 0.8,
                        "bin_end": 0.9,
                        "count": 0
                      },
                      {
                        "bin_start": 0.9,
                        "bin_end": 1,
                        "count": 0
                      },
                      {
                        "bin_start": 1,
                        "bin_end": 1.1,
                        "count": 1
                      },
                      {
                        "bin_start": 1.1,
                        "bin_end": 1.2000000000000002,
                        "count": 0
                      },
                      {
                        "bin_start": 1.2000000000000002,
                        "bin_end": 1.3,
                        "count": 0
                      },
                      {
                        "bin_start": 1.3,
                        "bin_end": 1.4,
                        "count": 0
                      },
                      {
                        "bin_start": 1.4,
                        "bin_end": 1.5,
                        "count": 0
                      }
                    ]
                  }
                },
                {
                  "name": "Hatten Sie nach der Anwendung irgendwelche unerwünschten Effekte? (z. B. Kopfschmerzen, innere Unruhe)",
                  "dtype": "object",
                  "stats": {
                    "unique_count": 1,
                    "nan_count": 0,
                    "categories": [
                      {
                        "name": "-",
                        "count": 1
                      }
                    ]
                  }
                },
                {
                  "name": "Hat sich sonst noch irgendetwas Außergewöhnliches ereignet, teilen Sie es uns bitte in Ihren eigenen Worten mit:",
                  "dtype": "float64",
                  "stats": {
                    "unique_count": 0,
                    "nan_count": 1,
                    "min": null,
                    "max": null,
                    "histogram": [
                      {
                        "bin_start": 0,
                        "bin_end": 0.1,
                        "count": 0
                      },
                      {
                        "bin_start": 0.1,
                        "bin_end": 0.2,
                        "count": 0
                      },
                      {
                        "bin_start": 0.2,
                        "bin_end": 0.30000000000000004,
                        "count": 0
                      },
                      {
                        "bin_start": 0.30000000000000004,
                        "bin_end": 0.4,
                        "count": 0
                      },
                      {
                        "bin_start": 0.4,
                        "bin_end": 0.5,
                        "count": 0
                      },
                      {
                        "bin_start": 0.5,
                        "bin_end": 0.6000000000000001,
                        "count": 0
                      },
                      {
                        "bin_start": 0.6000000000000001,
                        "bin_end": 0.7000000000000001,
                        "count": 0
                      },
                      {
                        "bin_start": 0.7000000000000001,
                        "bin_end": 0.8,
                        "count": 0
                      },
                      {
                        "bin_start": 0.8,
                        "bin_end": 0.9,
                        "count": 0
                      },
                      {
                        "bin_start": 0.9,
                        "bin_end": 1,
                        "count": 0
                      }
                    ]
                  }
                },
                {
                  "name": "_deepnote_index_column",
                  "dtype": "int64"
                }
              ],
              "rows": [
                {
                  "Zeitstempel": "2024/05/28 9:17:57 AM MEZ",
                  "Wie unbeschwert fühlen Sie sich jetzt?": 5,
                  "Wie frisch fühlen Sie sich jetzt?": 4,
                  "Wie entspannt fühlen Sie sich jetzt?": 4,
                  "Wie erholsam war Ihr Schlaf?": 2,
                  "Um wie viel Uhr haben Sie gestern im Bett gelegen und das Licht gelöscht? (z. B. 22:30 Uhr)": "23:00",
                  "Wie lange hat es anschließend gedauert, bis Sie einschliefen? (ca. 20 Minuten)": "5min",
                  "Waren Sie nachts wach? Wenn ja, wie oft? Und wie lange insgesamt? (z. B. 2 Mal, insgesamt ca. 20 Minuten)": "nein",
                  "Sofern Sie schlecht geschlafen haben, woran hat es gelegen? (Mehrfach Auswahl möglich)": "nan",
                  "Haben Sie nachts geträumt? Wenn ja:": "mittel",
                  "Haben Sie nachts geträumt? Wenn ja:.1": "angenehm",
                  "Wann sind Sie endgültig aufgewacht? (z. B. 8:30 Uhr)": "08:30",
                  "Wurden Sie zuletzt...": "von alleine wach",
                  "Wie lange haben Sie insgesamt geschlafen? (ca. 6 Stunden 45 Minuten)": "9:30h",
                  "Wann sind Sie heute morgen endgültig aufgestanden? (haben das Bett verlassen)\nz. B. 6:45 Uhr": "08:35",
                  "Um wie viel Uhr haben Sie gestern Abend die visuelle Gehirnwellen-Stimulation angewendet? (z. B. 21:30 Uhr)": "nan",
                  "Wie haben Sie sich gestern nach der Anwendung der visuellen Gehirnwellen-Stimulation gefühlt?": 1,
                  "Wie haben Sie die Anwendung gestern Abend wahrgenommen?": 1,
                  "Hatten Sie nach der Anwendung irgendwelche unerwünschten Effekte? (z. B. Kopfschmerzen, innere Unruhe)": "-",
                  "Hat sich sonst noch irgendetwas Außergewöhnliches ereignet, teilen Sie es uns bitte in Ihren eigenen Worten mit:": "nan",
                  "_deepnote_index_column": 0
                }
              ]
            },
            "text/plain": "                 Zeitstempel  Wie unbeschwert fühlen Sie sich jetzt?  \\\n0  2024/05/28 9:17:57 AM MEZ                                       5   \n\n   Wie frisch fühlen Sie sich jetzt?  Wie entspannt fühlen Sie sich jetzt?  \\\n0                                  4                                     4   \n\n   Wie erholsam war Ihr Schlaf?  \\\n0                             2   \n\n  Um wie viel Uhr haben Sie gestern im Bett gelegen und das Licht gelöscht? (z. B. 22:30 Uhr)  \\\n0                                              23:00                                            \n\n  Wie lange hat es anschließend gedauert, bis Sie einschliefen? (ca. 20 Minuten)  \\\n0                                               5min                               \n\n  Waren Sie nachts wach? Wenn ja, wie oft? Und wie lange insgesamt? (z. B. 2 Mal, insgesamt ca. 20 Minuten)  \\\n0                                               nein                                                          \n\n   Sofern Sie schlecht geschlafen haben, woran hat es gelegen? (Mehrfach Auswahl möglich)  \\\n0                                                NaN                                        \n\n  Haben Sie nachts geträumt? Wenn ja: Haben Sie nachts geträumt? Wenn ja:.1  \\\n0                              mittel                              angenehm   \n\n  Wann sind Sie endgültig aufgewacht? (z. B. 8:30 Uhr) Wurden Sie zuletzt...  \\\n0                                              08:30        von alleine wach   \n\n  Wie lange haben Sie insgesamt geschlafen? (ca. 6 Stunden 45 Minuten)  \\\n0                                              9:30h                     \n\n  Wann sind Sie heute morgen endgültig aufgestanden? (haben das Bett verlassen)\\nz. B. 6:45 Uhr  \\\n0                                              08:35                                              \n\n   Um wie viel Uhr haben Sie gestern Abend die visuelle Gehirnwellen-Stimulation angewendet? (z. B. 21:30 Uhr)  \\\n0                                                NaN                                                             \n\n   Wie haben Sie sich gestern nach der Anwendung der visuellen Gehirnwellen-Stimulation gefühlt?  \\\n0                                                  1                                               \n\n   Wie haben Sie die Anwendung gestern Abend wahrgenommen?  \\\n0                                                  1         \n\n  Hatten Sie nach der Anwendung irgendwelche unerwünschten Effekte? (z. B. Kopfschmerzen, innere Unruhe)  \\\n0                                                  -                                                       \n\n   Hat sich sonst noch irgendetwas Außergewöhnliches ereignet, teilen Sie es uns bitte in Ihren eigenen Worten mit:  \n0                                                NaN                                                                 ",
            "text/html": "<div>\n<style scoped>\n    .dataframe tbody tr th:only-of-type {\n        vertical-align: middle;\n    }\n\n    .dataframe tbody tr th {\n        vertical-align: top;\n    }\n\n    .dataframe thead th {\n        text-align: right;\n    }\n</style>\n<table border=\"1\" class=\"dataframe\">\n  <thead>\n    <tr style=\"text-align: right;\">\n      <th></th>\n      <th>Zeitstempel</th>\n      <th>Wie unbeschwert fühlen Sie sich jetzt?</th>\n      <th>Wie frisch fühlen Sie sich jetzt?</th>\n      <th>Wie entspannt fühlen Sie sich jetzt?</th>\n      <th>Wie erholsam war Ihr Schlaf?</th>\n      <th>Um wie viel Uhr haben Sie gestern im Bett gelegen und das Licht gelöscht? (z. B. 22:30 Uhr)</th>\n      <th>Wie lange hat es anschließend gedauert, bis Sie einschliefen? (ca. 20 Minuten)</th>\n      <th>Waren Sie nachts wach? Wenn ja, wie oft? Und wie lange insgesamt? (z. B. 2 Mal, insgesamt ca. 20 Minuten)</th>\n      <th>Sofern Sie schlecht geschlafen haben, woran hat es gelegen? (Mehrfach Auswahl möglich)</th>\n      <th>Haben Sie nachts geträumt? Wenn ja:</th>\n      <th>Haben Sie nachts geträumt? Wenn ja:.1</th>\n      <th>Wann sind Sie endgültig aufgewacht? (z. B. 8:30 Uhr)</th>\n      <th>Wurden Sie zuletzt...</th>\n      <th>Wie lange haben Sie insgesamt geschlafen? (ca. 6 Stunden 45 Minuten)</th>\n      <th>Wann sind Sie heute morgen endgültig aufgestanden? (haben das Bett verlassen)\\nz. B. 6:45 Uhr</th>\n      <th>Um wie viel Uhr haben Sie gestern Abend die visuelle Gehirnwellen-Stimulation angewendet? (z. B. 21:30 Uhr)</th>\n      <th>Wie haben Sie sich gestern nach der Anwendung der visuellen Gehirnwellen-Stimulation gefühlt?</th>\n      <th>Wie haben Sie die Anwendung gestern Abend wahrgenommen?</th>\n      <th>Hatten Sie nach der Anwendung irgendwelche unerwünschten Effekte? (z. B. Kopfschmerzen, innere Unruhe)</th>\n      <th>Hat sich sonst noch irgendetwas Außergewöhnliches ereignet, teilen Sie es uns bitte in Ihren eigenen Worten mit:</th>\n    </tr>\n  </thead>\n  <tbody>\n    <tr>\n      <th>0</th>\n      <td>2024/05/28 9:17:57 AM MEZ</td>\n      <td>5</td>\n      <td>4</td>\n      <td>4</td>\n      <td>2</td>\n      <td>23:00</td>\n      <td>5min</td>\n      <td>nein</td>\n      <td>NaN</td>\n      <td>mittel</td>\n      <td>angenehm</td>\n      <td>08:30</td>\n      <td>von alleine wach</td>\n      <td>9:30h</td>\n      <td>08:35</td>\n      <td>NaN</td>\n      <td>1</td>\n      <td>1</td>\n      <td>-</td>\n      <td>NaN</td>\n    </tr>\n  </tbody>\n</table>\n</div>"
          },
          "metadata": {}
        }
      ],
      "outputs_reference": null,
      "execution_count": 3,
      "block_group": "26342296d7e9491fa25ce758606a1050",
      "content_dependencies": null
    },
    {
      "cell_type": "markdown",
      "source": "### Evening Protocol",
      "metadata": {
        "cell_id": "5b74a81e187547738a5031c0a973f9ea",
        "deepnote_cell_type": "markdown"
      },
      "block_group": "fd2ce3d6658c4ea895ddaad53e40433e"
    },
    {
      "cell_type": "code",
      "source": "abend_protokoll = pd.read_csv('Abend-Protokoll.csv')\nabend_protokoll.head()",
      "metadata": {
        "source_hash": "4ffc4d06",
        "execution_start": 1731451478926,
        "execution_millis": 96,
        "execution_context_id": "51b4ef2b-c299-4bc8-8282-12e112dd08f6",
        "cell_id": "719484ae7df14ad9aa29db88aeb54ce2",
        "deepnote_cell_type": "code"
      },
      "outputs": [
        {
          "output_type": "execute_result",
          "execution_count": 4,
          "data": {
            "application/vnd.deepnote.dataframe.v3+json": {
              "column_count": 16,
              "row_count": 1,
              "columns": [
                {
                  "name": "Zeitstempel",
                  "dtype": "object",
                  "stats": {
                    "unique_count": 1,
                    "nan_count": 0,
                    "categories": [
                      {
                        "name": "2024/05/28 7:47:13 PM MEZ",
                        "count": 1
                      }
                    ]
                  }
                },
                {
                  "name": " Wie unbeschwert fühlen Sie sich jetzt?",
                  "dtype": "int64",
                  "stats": {
                    "unique_count": 1,
                    "nan_count": 0,
                    "min": "5",
                    "max": "5",
                    "histogram": [
                      {
                        "bin_start": 4.5,
                        "bin_end": 4.6,
                        "count": 0
                      },
                      {
                        "bin_start": 4.6,
                        "bin_end": 4.7,
                        "count": 0
                      },
                      {
                        "bin_start": 4.7,
                        "bin_end": 4.8,
                        "count": 0
                      },
                      {
                        "bin_start": 4.8,
                        "bin_end": 4.9,
                        "count": 0
                      },
                      {
                        "bin_start": 4.9,
                        "bin_end": 5,
                        "count": 0
                      },
                      {
                        "bin_start": 5,
                        "bin_end": 5.1,
                        "count": 1
                      },
                      {
                        "bin_start": 5.1,
                        "bin_end": 5.2,
                        "count": 0
                      },
                      {
                        "bin_start": 5.2,
                        "bin_end": 5.3,
                        "count": 0
                      },
                      {
                        "bin_start": 5.3,
                        "bin_end": 5.4,
                        "count": 0
                      },
                      {
                        "bin_start": 5.4,
                        "bin_end": 5.5,
                        "count": 0
                      }
                    ]
                  }
                },
                {
                  "name": "Wie frisch fühlen Sie sich jetzt?",
                  "dtype": "int64",
                  "stats": {
                    "unique_count": 1,
                    "nan_count": 0,
                    "min": "4",
                    "max": "4",
                    "histogram": [
                      {
                        "bin_start": 3.5,
                        "bin_end": 3.6,
                        "count": 0
                      },
                      {
                        "bin_start": 3.6,
                        "bin_end": 3.7,
                        "count": 0
                      },
                      {
                        "bin_start": 3.7,
                        "bin_end": 3.8,
                        "count": 0
                      },
                      {
                        "bin_start": 3.8,
                        "bin_end": 3.9,
                        "count": 0
                      },
                      {
                        "bin_start": 3.9,
                        "bin_end": 4,
                        "count": 0
                      },
                      {
                        "bin_start": 4,
                        "bin_end": 4.1,
                        "count": 1
                      },
                      {
                        "bin_start": 4.1,
                        "bin_end": 4.2,
                        "count": 0
                      },
                      {
                        "bin_start": 4.2,
                        "bin_end": 4.3,
                        "count": 0
                      },
                      {
                        "bin_start": 4.3,
                        "bin_end": 4.4,
                        "count": 0
                      },
                      {
                        "bin_start": 4.4,
                        "bin_end": 4.5,
                        "count": 0
                      }
                    ]
                  }
                },
                {
                  "name": "Wie entspannt fühlen Sie sich jetzt?",
                  "dtype": "int64",
                  "stats": {
                    "unique_count": 1,
                    "nan_count": 0,
                    "min": "3",
                    "max": "3",
                    "histogram": [
                      {
                        "bin_start": 2.5,
                        "bin_end": 2.6,
                        "count": 0
                      },
                      {
                        "bin_start": 2.6,
                        "bin_end": 2.7,
                        "count": 0
                      },
                      {
                        "bin_start": 2.7,
                        "bin_end": 2.8,
                        "count": 0
                      },
                      {
                        "bin_start": 2.8,
                        "bin_end": 2.9,
                        "count": 0
                      },
                      {
                        "bin_start": 2.9,
                        "bin_end": 3,
                        "count": 0
                      },
                      {
                        "bin_start": 3,
                        "bin_end": 3.1,
                        "count": 1
                      },
                      {
                        "bin_start": 3.1,
                        "bin_end": 3.2,
                        "count": 0
                      },
                      {
                        "bin_start": 3.2,
                        "bin_end": 3.3,
                        "count": 0
                      },
                      {
                        "bin_start": 3.3,
                        "bin_end": 3.4,
                        "count": 0
                      },
                      {
                        "bin_start": 3.4,
                        "bin_end": 3.5,
                        "count": 0
                      }
                    ]
                  }
                },
                {
                  "name": "Wie war Ihre durchschnittliche Leistungsfähigkeit heute?",
                  "dtype": "int64",
                  "stats": {
                    "unique_count": 1,
                    "nan_count": 0,
                    "min": "4",
                    "max": "4",
                    "histogram": [
                      {
                        "bin_start": 3.5,
                        "bin_end": 3.6,
                        "count": 0
                      },
                      {
                        "bin_start": 3.6,
                        "bin_end": 3.7,
                        "count": 0
                      },
                      {
                        "bin_start": 3.7,
                        "bin_end": 3.8,
                        "count": 0
                      },
                      {
                        "bin_start": 3.8,
                        "bin_end": 3.9,
                        "count": 0
                      },
                      {
                        "bin_start": 3.9,
                        "bin_end": 4,
                        "count": 0
                      },
                      {
                        "bin_start": 4,
                        "bin_end": 4.1,
                        "count": 1
                      },
                      {
                        "bin_start": 4.1,
                        "bin_end": 4.2,
                        "count": 0
                      },
                      {
                        "bin_start": 4.2,
                        "bin_end": 4.3,
                        "count": 0
                      },
                      {
                        "bin_start": 4.3,
                        "bin_end": 4.4,
                        "count": 0
                      },
                      {
                        "bin_start": 4.4,
                        "bin_end": 4.5,
                        "count": 0
                      }
                    ]
                  }
                },
                {
                  "name": "Wie war Ihre durchschnittliche Konzentrationsfähigkeit heute?",
                  "dtype": "int64",
                  "stats": {
                    "unique_count": 1,
                    "nan_count": 0,
                    "min": "5",
                    "max": "5",
                    "histogram": [
                      {
                        "bin_start": 4.5,
                        "bin_end": 4.6,
                        "count": 0
                      },
                      {
                        "bin_start": 4.6,
                        "bin_end": 4.7,
                        "count": 0
                      },
                      {
                        "bin_start": 4.7,
                        "bin_end": 4.8,
                        "count": 0
                      },
                      {
                        "bin_start": 4.8,
                        "bin_end": 4.9,
                        "count": 0
                      },
                      {
                        "bin_start": 4.9,
                        "bin_end": 5,
                        "count": 0
                      },
                      {
                        "bin_start": 5,
                        "bin_end": 5.1,
                        "count": 1
                      },
                      {
                        "bin_start": 5.1,
                        "bin_end": 5.2,
                        "count": 0
                      },
                      {
                        "bin_start": 5.2,
                        "bin_end": 5.3,
                        "count": 0
                      },
                      {
                        "bin_start": 5.3,
                        "bin_end": 5.4,
                        "count": 0
                      },
                      {
                        "bin_start": 5.4,
                        "bin_end": 5.5,
                        "count": 0
                      }
                    ]
                  }
                },
                {
                  "name": "Wie war Ihre Stimmung heute?",
                  "dtype": "int64",
                  "stats": {
                    "unique_count": 1,
                    "nan_count": 0,
                    "min": "4",
                    "max": "4",
                    "histogram": [
                      {
                        "bin_start": 3.5,
                        "bin_end": 3.6,
                        "count": 0
                      },
                      {
                        "bin_start": 3.6,
                        "bin_end": 3.7,
                        "count": 0
                      },
                      {
                        "bin_start": 3.7,
                        "bin_end": 3.8,
                        "count": 0
                      },
                      {
                        "bin_start": 3.8,
                        "bin_end": 3.9,
                        "count": 0
                      },
                      {
                        "bin_start": 3.9,
                        "bin_end": 4,
                        "count": 0
                      },
                      {
                        "bin_start": 4,
                        "bin_end": 4.1,
                        "count": 1
                      },
                      {
                        "bin_start": 4.1,
                        "bin_end": 4.2,
                        "count": 0
                      },
                      {
                        "bin_start": 4.2,
                        "bin_end": 4.3,
                        "count": 0
                      },
                      {
                        "bin_start": 4.3,
                        "bin_end": 4.4,
                        "count": 0
                      },
                      {
                        "bin_start": 4.4,
                        "bin_end": 4.5,
                        "count": 0
                      }
                    ]
                  }
                },
                {
                  "name": "Haben Sie sich heute müde oder erschöpft gefühlt? (zwei Antworten möglich) Wenn ja:",
                  "dtype": "object",
                  "stats": {
                    "unique_count": 1,
                    "nan_count": 0,
                    "categories": [
                      {
                        "name": "ein wenig müde;ein wenig erschöpft",
                        "count": 1
                      }
                    ]
                  }
                },
                {
                  "name": "Haben Sie heute tagsüber geschlafen? Wenn ja:\nWie lange insgesamt? (z. B. ca. 1 Stunde 15 Minuten)\nWie oft? (z. B. 1 Mal)\nWann? (z. B. 14:30 - 15:45 Uhr)",
                  "dtype": "object",
                  "stats": {
                    "unique_count": 1,
                    "nan_count": 0,
                    "categories": [
                      {
                        "name": "-",
                        "count": 1
                      }
                    ]
                  }
                },
                {
                  "name": "Waren Sie heute sportlich aktiv? Wenn ja:\nWie lange? (z. B. 45 Minuten)\nWelche Sportart? (z. B. Joggen oder Yoga)\nWann? (z. B. 15:00 - 15:45 Uhr)",
                  "dtype": "object",
                  "stats": {
                    "unique_count": 1,
                    "nan_count": 0,
                    "categories": [
                      {
                        "name": "-",
                        "count": 1
                      }
                    ]
                  }
                },
                {
                  "name": "Wann haben Sie ca. die letzte Mahlzeit zu sich genommen? (z. B. 19:30 Uhr)",
                  "dtype": "object",
                  "stats": {
                    "unique_count": 1,
                    "nan_count": 0,
                    "categories": [
                      {
                        "name": "20:15",
                        "count": 1
                      }
                    ]
                  }
                },
                {
                  "name": "Wann haben Sie heute zuletzt Koffein zu sich genommen? (z. B. 16:00 Uhr)",
                  "dtype": "object",
                  "stats": {
                    "unique_count": 1,
                    "nan_count": 0,
                    "categories": [
                      {
                        "name": "12:45",
                        "count": 1
                      }
                    ]
                  }
                },
                {
                  "name": "Wie viele Stunden/Minuten haben Sie heute ca. am Tageslicht verbracht? (z. B. ca. 2 Stunden 30 Minuten)",
                  "dtype": "object",
                  "stats": {
                    "unique_count": 1,
                    "nan_count": 0,
                    "categories": [
                      {
                        "name": "2h",
                        "count": 1
                      }
                    ]
                  }
                },
                {
                  "name": "Wie viele Stunden/Minuten haben Sie heute ca. vor einem Bildschirm verbracht? (z. B. ca. 1 Stunden 30 Minuten)",
                  "dtype": "object",
                  "stats": {
                    "unique_count": 1,
                    "nan_count": 0,
                    "categories": [
                      {
                        "name": "6h",
                        "count": 1
                      }
                    ]
                  }
                },
                {
                  "name": "Hat es für Sie heute besonders starke Belastungen gegeben? Wenn ja:",
                  "dtype": "float64",
                  "stats": {
                    "unique_count": 0,
                    "nan_count": 1,
                    "min": null,
                    "max": null,
                    "histogram": [
                      {
                        "bin_start": 0,
                        "bin_end": 0.1,
                        "count": 0
                      },
                      {
                        "bin_start": 0.1,
                        "bin_end": 0.2,
                        "count": 0
                      },
                      {
                        "bin_start": 0.2,
                        "bin_end": 0.30000000000000004,
                        "count": 0
                      },
                      {
                        "bin_start": 0.30000000000000004,
                        "bin_end": 0.4,
                        "count": 0
                      },
                      {
                        "bin_start": 0.4,
                        "bin_end": 0.5,
                        "count": 0
                      },
                      {
                        "bin_start": 0.5,
                        "bin_end": 0.6000000000000001,
                        "count": 0
                      },
                      {
                        "bin_start": 0.6000000000000001,
                        "bin_end": 0.7000000000000001,
                        "count": 0
                      },
                      {
                        "bin_start": 0.7000000000000001,
                        "bin_end": 0.8,
                        "count": 0
                      },
                      {
                        "bin_start": 0.8,
                        "bin_end": 0.9,
                        "count": 0
                      },
                      {
                        "bin_start": 0.9,
                        "bin_end": 1,
                        "count": 0
                      }
                    ]
                  }
                },
                {
                  "name": "Hat sich heute irgendetwas Außergewöhnliches ereignet, teilen Sie es uns bitte in Ihren eigenen Worten mit:",
                  "dtype": "object",
                  "stats": {
                    "unique_count": 1,
                    "nan_count": 0,
                    "categories": [
                      {
                        "name": "Habe spontan einen Podcast mit einem Obdachlosen aufgenommen, das war mega krass",
                        "count": 1
                      }
                    ]
                  }
                },
                {
                  "name": "_deepnote_index_column",
                  "dtype": "int64"
                }
              ],
              "rows": [
                {
                  "Zeitstempel": "2024/05/28 7:47:13 PM MEZ",
                  " Wie unbeschwert fühlen Sie sich jetzt?": 5,
                  "Wie frisch fühlen Sie sich jetzt?": 4,
                  "Wie entspannt fühlen Sie sich jetzt?": 3,
                  "Wie war Ihre durchschnittliche Leistungsfähigkeit heute?": 4,
                  "Wie war Ihre durchschnittliche Konzentrationsfähigkeit heute?": 5,
                  "Wie war Ihre Stimmung heute?": 4,
                  "Haben Sie sich heute müde oder erschöpft gefühlt? (zwei Antworten möglich) Wenn ja:": "ein wenig müde;ein wenig erschöpft",
                  "Haben Sie heute tagsüber geschlafen? Wenn ja:\nWie lange insgesamt? (z. B. ca. 1 Stunde 15 Minuten)\nWie oft? (z. B. 1 Mal)\nWann? (z. B. 14:30 - 15:45 Uhr)": "-",
                  "Waren Sie heute sportlich aktiv? Wenn ja:\nWie lange? (z. B. 45 Minuten)\nWelche Sportart? (z. B. Joggen oder Yoga)\nWann? (z. B. 15:00 - 15:45 Uhr)": "-",
                  "Wann haben Sie ca. die letzte Mahlzeit zu sich genommen? (z. B. 19:30 Uhr)": "20:15",
                  "Wann haben Sie heute zuletzt Koffein zu sich genommen? (z. B. 16:00 Uhr)": "12:45",
                  "Wie viele Stunden/Minuten haben Sie heute ca. am Tageslicht verbracht? (z. B. ca. 2 Stunden 30 Minuten)": "2h",
                  "Wie viele Stunden/Minuten haben Sie heute ca. vor einem Bildschirm verbracht? (z. B. ca. 1 Stunden 30 Minuten)": "6h",
                  "Hat es für Sie heute besonders starke Belastungen gegeben? Wenn ja:": "nan",
                  "Hat sich heute irgendetwas Außergewöhnliches ereignet, teilen Sie es uns bitte in Ihren eigenen Worten mit:": "Habe spontan einen Podcast mit einem Obdachlosen aufgenommen, das war mega krass",
                  "_deepnote_index_column": 0
                }
              ]
            },
            "text/plain": "                 Zeitstempel   Wie unbeschwert fühlen Sie sich jetzt?  \\\n0  2024/05/28 7:47:13 PM MEZ                                        5   \n\n   Wie frisch fühlen Sie sich jetzt?  Wie entspannt fühlen Sie sich jetzt?  \\\n0                                  4                                     3   \n\n   Wie war Ihre durchschnittliche Leistungsfähigkeit heute?  \\\n0                                                  4          \n\n   Wie war Ihre durchschnittliche Konzentrationsfähigkeit heute?  \\\n0                                                  5               \n\n   Wie war Ihre Stimmung heute?  \\\n0                             4   \n\n  Haben Sie sich heute müde oder erschöpft gefühlt? (zwei Antworten möglich) Wenn ja:  \\\n0                 ein wenig müde;ein wenig erschöpft                                    \n\n  Haben Sie heute tagsüber geschlafen? Wenn ja:\\nWie lange insgesamt? (z. B. ca. 1 Stunde 15 Minuten)\\nWie oft? (z. B. 1 Mal)\\nWann? (z. B. 14:30 - 15:45 Uhr)  \\\n0                                                  -                                                                                                             \n\n  Waren Sie heute sportlich aktiv? Wenn ja:\\nWie lange? (z. B. 45 Minuten)\\nWelche Sportart? (z. B. Joggen oder Yoga)\\nWann? (z. B. 15:00 - 15:45 Uhr)  \\\n0                                                  -                                                                                                     \n\n  Wann haben Sie ca. die letzte Mahlzeit zu sich genommen? (z. B. 19:30 Uhr)  \\\n0                                              20:15                           \n\n  Wann haben Sie heute zuletzt Koffein zu sich genommen? (z. B. 16:00 Uhr)  \\\n0                                              12:45                         \n\n  Wie viele Stunden/Minuten haben Sie heute ca. am Tageslicht verbracht? (z. B. ca. 2 Stunden 30 Minuten)  \\\n0                                                 2h                                                        \n\n  Wie viele Stunden/Minuten haben Sie heute ca. vor einem Bildschirm verbracht? (z. B. ca. 1 Stunden 30 Minuten)  \\\n0                                                 6h                                                               \n\n   Hat es für Sie heute besonders starke Belastungen gegeben? Wenn ja:  \\\n0                                                NaN                     \n\n  Hat sich heute irgendetwas Außergewöhnliches ereignet, teilen Sie es uns bitte in Ihren eigenen Worten mit:  \n0  Habe spontan einen Podcast mit einem Obdachlos...                                                           ",
            "text/html": "<div>\n<style scoped>\n    .dataframe tbody tr th:only-of-type {\n        vertical-align: middle;\n    }\n\n    .dataframe tbody tr th {\n        vertical-align: top;\n    }\n\n    .dataframe thead th {\n        text-align: right;\n    }\n</style>\n<table border=\"1\" class=\"dataframe\">\n  <thead>\n    <tr style=\"text-align: right;\">\n      <th></th>\n      <th>Zeitstempel</th>\n      <th>Wie unbeschwert fühlen Sie sich jetzt?</th>\n      <th>Wie frisch fühlen Sie sich jetzt?</th>\n      <th>Wie entspannt fühlen Sie sich jetzt?</th>\n      <th>Wie war Ihre durchschnittliche Leistungsfähigkeit heute?</th>\n      <th>Wie war Ihre durchschnittliche Konzentrationsfähigkeit heute?</th>\n      <th>Wie war Ihre Stimmung heute?</th>\n      <th>Haben Sie sich heute müde oder erschöpft gefühlt? (zwei Antworten möglich) Wenn ja:</th>\n      <th>Haben Sie heute tagsüber geschlafen? Wenn ja:\\nWie lange insgesamt? (z. B. ca. 1 Stunde 15 Minuten)\\nWie oft? (z. B. 1 Mal)\\nWann? (z. B. 14:30 - 15:45 Uhr)</th>\n      <th>Waren Sie heute sportlich aktiv? Wenn ja:\\nWie lange? (z. B. 45 Minuten)\\nWelche Sportart? (z. B. Joggen oder Yoga)\\nWann? (z. B. 15:00 - 15:45 Uhr)</th>\n      <th>Wann haben Sie ca. die letzte Mahlzeit zu sich genommen? (z. B. 19:30 Uhr)</th>\n      <th>Wann haben Sie heute zuletzt Koffein zu sich genommen? (z. B. 16:00 Uhr)</th>\n      <th>Wie viele Stunden/Minuten haben Sie heute ca. am Tageslicht verbracht? (z. B. ca. 2 Stunden 30 Minuten)</th>\n      <th>Wie viele Stunden/Minuten haben Sie heute ca. vor einem Bildschirm verbracht? (z. B. ca. 1 Stunden 30 Minuten)</th>\n      <th>Hat es für Sie heute besonders starke Belastungen gegeben? Wenn ja:</th>\n      <th>Hat sich heute irgendetwas Außergewöhnliches ereignet, teilen Sie es uns bitte in Ihren eigenen Worten mit:</th>\n    </tr>\n  </thead>\n  <tbody>\n    <tr>\n      <th>0</th>\n      <td>2024/05/28 7:47:13 PM MEZ</td>\n      <td>5</td>\n      <td>4</td>\n      <td>3</td>\n      <td>4</td>\n      <td>5</td>\n      <td>4</td>\n      <td>ein wenig müde;ein wenig erschöpft</td>\n      <td>-</td>\n      <td>-</td>\n      <td>20:15</td>\n      <td>12:45</td>\n      <td>2h</td>\n      <td>6h</td>\n      <td>NaN</td>\n      <td>Habe spontan einen Podcast mit einem Obdachlos...</td>\n    </tr>\n  </tbody>\n</table>\n</div>"
          },
          "metadata": {}
        }
      ],
      "outputs_reference": null,
      "execution_count": 4,
      "block_group": "348ddcfd8d3d4ecf875992d9384d39d3",
      "content_dependencies": null
    },
    {
      "cell_type": "markdown",
      "source": "## Exploratory Data Analysis (EDA)",
      "metadata": {
        "cell_id": "122a78918c3a498bb49f18bfa573ac03",
        "deepnote_cell_type": "markdown"
      },
      "block_group": "464391fd748142778ead2e82fd1ded36"
    },
    {
      "cell_type": "code",
      "source": "data = pd.read_csv('data.csv')\ndata.head()",
      "metadata": {
        "source_hash": "21a2cce3",
        "execution_start": 1731452094141,
        "execution_millis": 140,
        "execution_context_id": "51b4ef2b-c299-4bc8-8282-12e112dd08f6",
        "cell_id": "4fd2fde8527644be8f14126d01c5032d",
        "deepnote_cell_type": "code"
      },
      "outputs": [
        {
          "output_type": "execute_result",
          "execution_count": 14,
          "data": {
            "application/vnd.deepnote.dataframe.v3+json": {
              "column_count": 10,
              "row_count": 4,
              "columns": [
                {
                  "name": "participant",
                  "dtype": "object",
                  "stats": {
                    "unique_count": 4,
                    "nan_count": 0,
                    "categories": [
                      {
                        "name": "s.bce1d5e5-ae0e-45f1-a96d-5bf45eaf751a.txt",
                        "count": 1
                      },
                      {
                        "name": "s.3271f666-2f34-4e1b-a748-562007caae07.txt",
                        "count": 1
                      },
                      {
                        "name": "2 others",
                        "count": 2
                      }
                    ]
                  }
                },
                {
                  "name": "Probandennummer_1",
                  "dtype": "float64",
                  "stats": {
                    "unique_count": 1,
                    "nan_count": 2,
                    "min": "69.0",
                    "max": "69.0",
                    "histogram": [
                      {
                        "bin_start": 68.5,
                        "bin_end": 68.6,
                        "count": 0
                      },
                      {
                        "bin_start": 68.6,
                        "bin_end": 68.7,
                        "count": 0
                      },
                      {
                        "bin_start": 68.7,
                        "bin_end": 68.8,
                        "count": 0
                      },
                      {
                        "bin_start": 68.8,
                        "bin_end": 68.9,
                        "count": 0
                      },
                      {
                        "bin_start": 68.9,
                        "bin_end": 69,
                        "count": 0
                      },
                      {
                        "bin_start": 69,
                        "bin_end": 69.1,
                        "count": 2
                      },
                      {
                        "bin_start": 69.1,
                        "bin_end": 69.2,
                        "count": 0
                      },
                      {
                        "bin_start": 69.2,
                        "bin_end": 69.3,
                        "count": 0
                      },
                      {
                        "bin_start": 69.3,
                        "bin_end": 69.4,
                        "count": 0
                      },
                      {
                        "bin_start": 69.4,
                        "bin_end": 69.5,
                        "count": 0
                      }
                    ]
                  }
                },
                {
                  "name": "stroop_task_1",
                  "dtype": "object",
                  "stats": {
                    "unique_count": 4,
                    "nan_count": 0,
                    "categories": [
                      {
                        "name": "stroop_german.2024-10-29-2228.data.bce1d5e5-ae0e-45f1-a96d-5bf45eaf751a.txt",
                        "count": 1
                      },
                      {
                        "name": "stroop_german.2024-08-22-0942.data.3271f666-2f34-4e1b-a748-562007caae07.txt",
                        "count": 1
                      },
                      {
                        "name": "2 others",
                        "count": 2
                      }
                    ]
                  }
                },
                {
                  "name": "n_back2_1",
                  "dtype": "object",
                  "stats": {
                    "unique_count": 3,
                    "nan_count": 1,
                    "categories": [
                      {
                        "name": "n_back2.2024-10-29-2236.data.bce1d5e5-ae0e-45f1-a96d-5bf45eaf751a.txt",
                        "count": 1
                      },
                      {
                        "name": "2 others",
                        "count": 2
                      },
                      {
                        "name": "Missing",
                        "count": 1
                      }
                    ]
                  }
                },
                {
                  "name": "corsi_task_1",
                  "dtype": "object",
                  "stats": {
                    "unique_count": 3,
                    "nan_count": 1,
                    "categories": [
                      {
                        "name": "corsi.2024-10-29-2238.data.bce1d5e5-ae0e-45f1-a96d-5bf45eaf751a.txt",
                        "count": 1
                      },
                      {
                        "name": "2 others",
                        "count": 2
                      },
                      {
                        "name": "Missing",
                        "count": 1
                      }
                    ]
                  }
                },
                {
                  "name": "digit_span_task_1",
                  "dtype": "object",
                  "stats": {
                    "unique_count": 3,
                    "nan_count": 1,
                    "categories": [
                      {
                        "name": "digit.2024-10-29-2243.data.bce1d5e5-ae0e-45f1-a96d-5bf45eaf751a.txt",
                        "count": 1
                      },
                      {
                        "name": "2 others",
                        "count": 2
                      },
                      {
                        "name": "Missing",
                        "count": 1
                      }
                    ]
                  }
                },
                {
                  "name": "CLIENT_start",
                  "dtype": "object",
                  "stats": {
                    "unique_count": 4,
                    "nan_count": 0,
                    "categories": [
                      {
                        "name": "2024-09-29-22-25",
                        "count": 1
                      },
                      {
                        "name": "2024-07-22-09-41",
                        "count": 1
                      },
                      {
                        "name": "2 others",
                        "count": 2
                      }
                    ]
                  }
                },
                {
                  "name": "TIME_start",
                  "dtype": "object",
                  "stats": {
                    "unique_count": 4,
                    "nan_count": 0,
                    "categories": [
                      {
                        "name": "2024-10-29-22-25",
                        "count": 1
                      },
                      {
                        "name": "2024-08-22-09-41",
                        "count": 1
                      },
                      {
                        "name": "2 others",
                        "count": 2
                      }
                    ]
                  }
                },
                {
                  "name": "TIME_end",
                  "dtype": "object",
                  "stats": {
                    "unique_count": 4,
                    "nan_count": 0,
                    "categories": [
                      {
                        "name": "2024-10-29-22-43",
                        "count": 1
                      },
                      {
                        "name": "2024-08-22-09-43",
                        "count": 1
                      },
                      {
                        "name": "2 others",
                        "count": 2
                      }
                    ]
                  }
                },
                {
                  "name": "TIME_total",
                  "dtype": "int64",
                  "stats": {
                    "unique_count": 3,
                    "nan_count": 0,
                    "min": "2",
                    "max": "18",
                    "histogram": [
                      {
                        "bin_start": 2,
                        "bin_end": 3.6,
                        "count": 1
                      },
                      {
                        "bin_start": 3.6,
                        "bin_end": 5.2,
                        "count": 0
                      },
                      {
                        "bin_start": 5.2,
                        "bin_end": 6.800000000000001,
                        "count": 0
                      },
                      {
                        "bin_start": 6.800000000000001,
                        "bin_end": 8.4,
                        "count": 0
                      },
                      {
                        "bin_start": 8.4,
                        "bin_end": 10,
                        "count": 0
                      },
                      {
                        "bin_start": 10,
                        "bin_end": 11.600000000000001,
                        "count": 0
                      },
                      {
                        "bin_start": 11.600000000000001,
                        "bin_end": 13.200000000000001,
                        "count": 0
                      },
                      {
                        "bin_start": 13.200000000000001,
                        "bin_end": 14.8,
                        "count": 0
                      },
                      {
                        "bin_start": 14.8,
                        "bin_end": 16.4,
                        "count": 2
                      },
                      {
                        "bin_start": 16.4,
                        "bin_end": 18,
                        "count": 1
                      }
                    ]
                  }
                },
                {
                  "name": "_deepnote_index_column",
                  "dtype": "int64"
                }
              ],
              "rows": [
                {
                  "participant": "s.bce1d5e5-ae0e-45f1-a96d-5bf45eaf751a.txt",
                  "Probandennummer_1": 69,
                  "stroop_task_1": "stroop_german.2024-10-29-2228.data.bce1d5e5-ae0e-45f1-a96d-5bf45eaf751a.txt",
                  "n_back2_1": "n_back2.2024-10-29-2236.data.bce1d5e5-ae0e-45f1-a96d-5bf45eaf751a.txt",
                  "corsi_task_1": "corsi.2024-10-29-2238.data.bce1d5e5-ae0e-45f1-a96d-5bf45eaf751a.txt",
                  "digit_span_task_1": "digit.2024-10-29-2243.data.bce1d5e5-ae0e-45f1-a96d-5bf45eaf751a.txt",
                  "CLIENT_start": "2024-09-29-22-25",
                  "TIME_start": "2024-10-29-22-25",
                  "TIME_end": "2024-10-29-22-43",
                  "TIME_total": 18,
                  "_deepnote_index_column": 0
                },
                {
                  "participant": "s.3271f666-2f34-4e1b-a748-562007caae07.txt",
                  "Probandennummer_1": "nan",
                  "stroop_task_1": "stroop_german.2024-08-22-0942.data.3271f666-2f34-4e1b-a748-562007caae07.txt",
                  "n_back2_1": "nan",
                  "corsi_task_1": "nan",
                  "digit_span_task_1": "nan",
                  "CLIENT_start": "2024-07-22-09-41",
                  "TIME_start": "2024-08-22-09-41",
                  "TIME_end": "2024-08-22-09-43",
                  "TIME_total": 2,
                  "_deepnote_index_column": 1
                },
                {
                  "participant": "s.2875974c-97f5-4e3d-80de-1779707e7a0e.txt",
                  "Probandennummer_1": "nan",
                  "stroop_task_1": "stroop_german.2024-11-03-1223.data.2875974c-97f5-4e3d-80de-1779707e7a0e.txt",
                  "n_back2_1": "n_back2.2024-11-03-1229.data.2875974c-97f5-4e3d-80de-1779707e7a0e.txt",
                  "corsi_task_1": "corsi.2024-11-03-1231.data.2875974c-97f5-4e3d-80de-1779707e7a0e.txt",
                  "digit_span_task_1": "digit.2024-11-03-1236.data.2875974c-97f5-4e3d-80de-1779707e7a0e.txt",
                  "CLIENT_start": "2024-10-03-12-21",
                  "TIME_start": "2024-11-03-12-21",
                  "TIME_end": "2024-11-03-12-36",
                  "TIME_total": 15,
                  "_deepnote_index_column": 2
                },
                {
                  "participant": "s.72986a90-e41d-47ce-a6e7-8d5f43130bdb.txt",
                  "Probandennummer_1": 69,
                  "stroop_task_1": "stroop_german.2024-10-30-1652.data.72986a90-e41d-47ce-a6e7-8d5f43130bdb.txt",
                  "n_back2_1": "n_back2.2024-10-30-1657.data.72986a90-e41d-47ce-a6e7-8d5f43130bdb.txt",
                  "corsi_task_1": "corsi.2024-10-30-1659.data.72986a90-e41d-47ce-a6e7-8d5f43130bdb.txt",
                  "digit_span_task_1": "digit.2024-10-30-1703.data.72986a90-e41d-47ce-a6e7-8d5f43130bdb.txt",
                  "CLIENT_start": "2024-09-30-16-48",
                  "TIME_start": "2024-10-30-16-48",
                  "TIME_end": "2024-10-30-17-03",
                  "TIME_total": 15,
                  "_deepnote_index_column": 3
                }
              ]
            },
            "text/plain": "                                  participant  Probandennummer_1  \\\n0  s.bce1d5e5-ae0e-45f1-a96d-5bf45eaf751a.txt               69.0   \n1  s.3271f666-2f34-4e1b-a748-562007caae07.txt                NaN   \n2  s.2875974c-97f5-4e3d-80de-1779707e7a0e.txt                NaN   \n3  s.72986a90-e41d-47ce-a6e7-8d5f43130bdb.txt               69.0   \n\n                                       stroop_task_1  \\\n0  stroop_german.2024-10-29-2228.data.bce1d5e5-ae...   \n1  stroop_german.2024-08-22-0942.data.3271f666-2f...   \n2  stroop_german.2024-11-03-1223.data.2875974c-97...   \n3  stroop_german.2024-10-30-1652.data.72986a90-e4...   \n\n                                           n_back2_1  \\\n0  n_back2.2024-10-29-2236.data.bce1d5e5-ae0e-45f...   \n1                                                NaN   \n2  n_back2.2024-11-03-1229.data.2875974c-97f5-4e3...   \n3  n_back2.2024-10-30-1657.data.72986a90-e41d-47c...   \n\n                                        corsi_task_1  \\\n0  corsi.2024-10-29-2238.data.bce1d5e5-ae0e-45f1-...   \n1                                                NaN   \n2  corsi.2024-11-03-1231.data.2875974c-97f5-4e3d-...   \n3  corsi.2024-10-30-1659.data.72986a90-e41d-47ce-...   \n\n                                   digit_span_task_1      CLIENT_start  \\\n0  digit.2024-10-29-2243.data.bce1d5e5-ae0e-45f1-...  2024-09-29-22-25   \n1                                                NaN  2024-07-22-09-41   \n2  digit.2024-11-03-1236.data.2875974c-97f5-4e3d-...  2024-10-03-12-21   \n3  digit.2024-10-30-1703.data.72986a90-e41d-47ce-...  2024-09-30-16-48   \n\n         TIME_start          TIME_end  TIME_total  \n0  2024-10-29-22-25  2024-10-29-22-43          18  \n1  2024-08-22-09-41  2024-08-22-09-43           2  \n2  2024-11-03-12-21  2024-11-03-12-36          15  \n3  2024-10-30-16-48  2024-10-30-17-03          15  ",
            "text/html": "<div>\n<style scoped>\n    .dataframe tbody tr th:only-of-type {\n        vertical-align: middle;\n    }\n\n    .dataframe tbody tr th {\n        vertical-align: top;\n    }\n\n    .dataframe thead th {\n        text-align: right;\n    }\n</style>\n<table border=\"1\" class=\"dataframe\">\n  <thead>\n    <tr style=\"text-align: right;\">\n      <th></th>\n      <th>participant</th>\n      <th>Probandennummer_1</th>\n      <th>stroop_task_1</th>\n      <th>n_back2_1</th>\n      <th>corsi_task_1</th>\n      <th>digit_span_task_1</th>\n      <th>CLIENT_start</th>\n      <th>TIME_start</th>\n      <th>TIME_end</th>\n      <th>TIME_total</th>\n    </tr>\n  </thead>\n  <tbody>\n    <tr>\n      <th>0</th>\n      <td>s.bce1d5e5-ae0e-45f1-a96d-5bf45eaf751a.txt</td>\n      <td>69.0</td>\n      <td>stroop_german.2024-10-29-2228.data.bce1d5e5-ae...</td>\n      <td>n_back2.2024-10-29-2236.data.bce1d5e5-ae0e-45f...</td>\n      <td>corsi.2024-10-29-2238.data.bce1d5e5-ae0e-45f1-...</td>\n      <td>digit.2024-10-29-2243.data.bce1d5e5-ae0e-45f1-...</td>\n      <td>2024-09-29-22-25</td>\n      <td>2024-10-29-22-25</td>\n      <td>2024-10-29-22-43</td>\n      <td>18</td>\n    </tr>\n    <tr>\n      <th>1</th>\n      <td>s.3271f666-2f34-4e1b-a748-562007caae07.txt</td>\n      <td>NaN</td>\n      <td>stroop_german.2024-08-22-0942.data.3271f666-2f...</td>\n      <td>NaN</td>\n      <td>NaN</td>\n      <td>NaN</td>\n      <td>2024-07-22-09-41</td>\n      <td>2024-08-22-09-41</td>\n      <td>2024-08-22-09-43</td>\n      <td>2</td>\n    </tr>\n    <tr>\n      <th>2</th>\n      <td>s.2875974c-97f5-4e3d-80de-1779707e7a0e.txt</td>\n      <td>NaN</td>\n      <td>stroop_german.2024-11-03-1223.data.2875974c-97...</td>\n      <td>n_back2.2024-11-03-1229.data.2875974c-97f5-4e3...</td>\n      <td>corsi.2024-11-03-1231.data.2875974c-97f5-4e3d-...</td>\n      <td>digit.2024-11-03-1236.data.2875974c-97f5-4e3d-...</td>\n      <td>2024-10-03-12-21</td>\n      <td>2024-11-03-12-21</td>\n      <td>2024-11-03-12-36</td>\n      <td>15</td>\n    </tr>\n    <tr>\n      <th>3</th>\n      <td>s.72986a90-e41d-47ce-a6e7-8d5f43130bdb.txt</td>\n      <td>69.0</td>\n      <td>stroop_german.2024-10-30-1652.data.72986a90-e4...</td>\n      <td>n_back2.2024-10-30-1657.data.72986a90-e41d-47c...</td>\n      <td>corsi.2024-10-30-1659.data.72986a90-e41d-47ce-...</td>\n      <td>digit.2024-10-30-1703.data.72986a90-e41d-47ce-...</td>\n      <td>2024-09-30-16-48</td>\n      <td>2024-10-30-16-48</td>\n      <td>2024-10-30-17-03</td>\n      <td>15</td>\n    </tr>\n  </tbody>\n</table>\n</div>"
          },
          "metadata": {}
        }
      ],
      "outputs_reference": null,
      "execution_count": 14,
      "block_group": "ef92ccd7adb742bdaaa6fd396573d098",
      "content_dependencies": null
    },
    {
      "cell_type": "code",
      "source": "data_times = pd.read_csv('data_times.csv')\ndata_times.head()",
      "metadata": {
        "source_hash": "ecd2c898",
        "execution_start": 1731452116065,
        "execution_millis": 163,
        "execution_context_id": "51b4ef2b-c299-4bc8-8282-12e112dd08f6",
        "cell_id": "a125563f69b74ea5852b530f1ded5e70",
        "deepnote_cell_type": "code"
      },
      "outputs": [
        {
          "output_type": "execute_result",
          "execution_count": 15,
          "data": {
            "application/vnd.deepnote.dataframe.v3+json": {
              "column_count": 11,
              "row_count": 4,
              "columns": [
                {
                  "name": "participant",
                  "dtype": "object",
                  "stats": {
                    "unique_count": 4,
                    "nan_count": 0,
                    "categories": [
                      {
                        "name": "s.bce1d5e5-ae0e-45f1-a96d-5bf45eaf751a.txt",
                        "count": 1
                      },
                      {
                        "name": "s.3271f666-2f34-4e1b-a748-562007caae07.txt",
                        "count": 1
                      },
                      {
                        "name": "2 others",
                        "count": 2
                      }
                    ]
                  }
                },
                {
                  "name": "Probandennummer",
                  "dtype": "int64",
                  "stats": {
                    "unique_count": 4,
                    "nan_count": 0,
                    "min": "3628",
                    "max": "20757",
                    "histogram": [
                      {
                        "bin_start": 3628,
                        "bin_end": 5340.9,
                        "count": 2
                      },
                      {
                        "bin_start": 5340.9,
                        "bin_end": 7053.8,
                        "count": 0
                      },
                      {
                        "bin_start": 7053.8,
                        "bin_end": 8766.7,
                        "count": 0
                      },
                      {
                        "bin_start": 8766.7,
                        "bin_end": 10479.6,
                        "count": 0
                      },
                      {
                        "bin_start": 10479.6,
                        "bin_end": 12192.5,
                        "count": 0
                      },
                      {
                        "bin_start": 12192.5,
                        "bin_end": 13905.400000000001,
                        "count": 1
                      },
                      {
                        "bin_start": 13905.400000000001,
                        "bin_end": 15618.300000000001,
                        "count": 0
                      },
                      {
                        "bin_start": 15618.300000000001,
                        "bin_end": 17331.2,
                        "count": 0
                      },
                      {
                        "bin_start": 17331.2,
                        "bin_end": 19044.1,
                        "count": 0
                      },
                      {
                        "bin_start": 19044.1,
                        "bin_end": 20757,
                        "count": 1
                      }
                    ]
                  }
                },
                {
                  "name": "stroop_task",
                  "dtype": "float64",
                  "stats": {
                    "unique_count": 0,
                    "nan_count": 4,
                    "min": null,
                    "max": null,
                    "histogram": [
                      {
                        "bin_start": 0,
                        "bin_end": 0.1,
                        "count": 0
                      },
                      {
                        "bin_start": 0.1,
                        "bin_end": 0.2,
                        "count": 0
                      },
                      {
                        "bin_start": 0.2,
                        "bin_end": 0.30000000000000004,
                        "count": 0
                      },
                      {
                        "bin_start": 0.30000000000000004,
                        "bin_end": 0.4,
                        "count": 0
                      },
                      {
                        "bin_start": 0.4,
                        "bin_end": 0.5,
                        "count": 0
                      },
                      {
                        "bin_start": 0.5,
                        "bin_end": 0.6000000000000001,
                        "count": 0
                      },
                      {
                        "bin_start": 0.6000000000000001,
                        "bin_end": 0.7000000000000001,
                        "count": 0
                      },
                      {
                        "bin_start": 0.7000000000000001,
                        "bin_end": 0.8,
                        "count": 0
                      },
                      {
                        "bin_start": 0.8,
                        "bin_end": 0.9,
                        "count": 0
                      },
                      {
                        "bin_start": 0.9,
                        "bin_end": 1,
                        "count": 0
                      }
                    ]
                  }
                },
                {
                  "name": "n_back2",
                  "dtype": "float64",
                  "stats": {
                    "unique_count": 0,
                    "nan_count": 4,
                    "min": null,
                    "max": null,
                    "histogram": [
                      {
                        "bin_start": 0,
                        "bin_end": 0.1,
                        "count": 0
                      },
                      {
                        "bin_start": 0.1,
                        "bin_end": 0.2,
                        "count": 0
                      },
                      {
                        "bin_start": 0.2,
                        "bin_end": 0.30000000000000004,
                        "count": 0
                      },
                      {
                        "bin_start": 0.30000000000000004,
                        "bin_end": 0.4,
                        "count": 0
                      },
                      {
                        "bin_start": 0.4,
                        "bin_end": 0.5,
                        "count": 0
                      },
                      {
                        "bin_start": 0.5,
                        "bin_end": 0.6000000000000001,
                        "count": 0
                      },
                      {
                        "bin_start": 0.6000000000000001,
                        "bin_end": 0.7000000000000001,
                        "count": 0
                      },
                      {
                        "bin_start": 0.7000000000000001,
                        "bin_end": 0.8,
                        "count": 0
                      },
                      {
                        "bin_start": 0.8,
                        "bin_end": 0.9,
                        "count": 0
                      },
                      {
                        "bin_start": 0.9,
                        "bin_end": 1,
                        "count": 0
                      }
                    ]
                  }
                },
                {
                  "name": "corsi_task",
                  "dtype": "float64",
                  "stats": {
                    "unique_count": 0,
                    "nan_count": 4,
                    "min": null,
                    "max": null,
                    "histogram": [
                      {
                        "bin_start": 0,
                        "bin_end": 0.1,
                        "count": 0
                      },
                      {
                        "bin_start": 0.1,
                        "bin_end": 0.2,
                        "count": 0
                      },
                      {
                        "bin_start": 0.2,
                        "bin_end": 0.30000000000000004,
                        "count": 0
                      },
                      {
                        "bin_start": 0.30000000000000004,
                        "bin_end": 0.4,
                        "count": 0
                      },
                      {
                        "bin_start": 0.4,
                        "bin_end": 0.5,
                        "count": 0
                      },
                      {
                        "bin_start": 0.5,
                        "bin_end": 0.6000000000000001,
                        "count": 0
                      },
                      {
                        "bin_start": 0.6000000000000001,
                        "bin_end": 0.7000000000000001,
                        "count": 0
                      },
                      {
                        "bin_start": 0.7000000000000001,
                        "bin_end": 0.8,
                        "count": 0
                      },
                      {
                        "bin_start": 0.8,
                        "bin_end": 0.9,
                        "count": 0
                      },
                      {
                        "bin_start": 0.9,
                        "bin_end": 1,
                        "count": 0
                      }
                    ]
                  }
                },
                {
                  "name": "digit_span_task",
                  "dtype": "float64",
                  "stats": {
                    "unique_count": 0,
                    "nan_count": 4,
                    "min": null,
                    "max": null,
                    "histogram": [
                      {
                        "bin_start": 0,
                        "bin_end": 0.1,
                        "count": 0
                      },
                      {
                        "bin_start": 0.1,
                        "bin_end": 0.2,
                        "count": 0
                      },
                      {
                        "bin_start": 0.2,
                        "bin_end": 0.30000000000000004,
                        "count": 0
                      },
                      {
                        "bin_start": 0.30000000000000004,
                        "bin_end": 0.4,
                        "count": 0
                      },
                      {
                        "bin_start": 0.4,
                        "bin_end": 0.5,
                        "count": 0
                      },
                      {
                        "bin_start": 0.5,
                        "bin_end": 0.6000000000000001,
                        "count": 0
                      },
                      {
                        "bin_start": 0.6000000000000001,
                        "bin_end": 0.7000000000000001,
                        "count": 0
                      },
                      {
                        "bin_start": 0.7000000000000001,
                        "bin_end": 0.8,
                        "count": 0
                      },
                      {
                        "bin_start": 0.8,
                        "bin_end": 0.9,
                        "count": 0
                      },
                      {
                        "bin_start": 0.9,
                        "bin_end": 1,
                        "count": 0
                      }
                    ]
                  }
                },
                {
                  "name": "INFOSCREEN",
                  "dtype": "int64",
                  "stats": {
                    "unique_count": 1,
                    "nan_count": 0,
                    "min": "0",
                    "max": "0",
                    "histogram": [
                      {
                        "bin_start": -0.5,
                        "bin_end": -0.4,
                        "count": 0
                      },
                      {
                        "bin_start": -0.4,
                        "bin_end": -0.3,
                        "count": 0
                      },
                      {
                        "bin_start": -0.3,
                        "bin_end": -0.19999999999999996,
                        "count": 0
                      },
                      {
                        "bin_start": -0.19999999999999996,
                        "bin_end": -0.09999999999999998,
                        "count": 0
                      },
                      {
                        "bin_start": -0.09999999999999998,
                        "bin_end": 0,
                        "count": 0
                      },
                      {
                        "bin_start": 0,
                        "bin_end": 0.10000000000000009,
                        "count": 4
                      },
                      {
                        "bin_start": 0.10000000000000009,
                        "bin_end": 0.20000000000000007,
                        "count": 0
                      },
                      {
                        "bin_start": 0.20000000000000007,
                        "bin_end": 0.30000000000000004,
                        "count": 0
                      },
                      {
                        "bin_start": 0.30000000000000004,
                        "bin_end": 0.4,
                        "count": 0
                      },
                      {
                        "bin_start": 0.4,
                        "bin_end": 0.5,
                        "count": 0
                      }
                    ]
                  }
                },
                {
                  "name": "CLIENT_start",
                  "dtype": "object",
                  "stats": {
                    "unique_count": 4,
                    "nan_count": 0,
                    "categories": [
                      {
                        "name": "2024-09-29-22-25",
                        "count": 1
                      },
                      {
                        "name": "2024-07-22-09-41",
                        "count": 1
                      },
                      {
                        "name": "2 others",
                        "count": 2
                      }
                    ]
                  }
                },
                {
                  "name": "TIME_start",
                  "dtype": "object",
                  "stats": {
                    "unique_count": 4,
                    "nan_count": 0,
                    "categories": [
                      {
                        "name": "2024-10-29-22-25",
                        "count": 1
                      },
                      {
                        "name": "2024-08-22-09-41",
                        "count": 1
                      },
                      {
                        "name": "2 others",
                        "count": 2
                      }
                    ]
                  }
                },
                {
                  "name": "TIME_end",
                  "dtype": "object",
                  "stats": {
                    "unique_count": 4,
                    "nan_count": 0,
                    "categories": [
                      {
                        "name": "2024-10-29-22-43",
                        "count": 1
                      },
                      {
                        "name": "2024-08-22-09-43",
                        "count": 1
                      },
                      {
                        "name": "2 others",
                        "count": 2
                      }
                    ]
                  }
                },
                {
                  "name": "TIME_total",
                  "dtype": "int64",
                  "stats": {
                    "unique_count": 3,
                    "nan_count": 0,
                    "min": "2",
                    "max": "18",
                    "histogram": [
                      {
                        "bin_start": 2,
                        "bin_end": 3.6,
                        "count": 1
                      },
                      {
                        "bin_start": 3.6,
                        "bin_end": 5.2,
                        "count": 0
                      },
                      {
                        "bin_start": 5.2,
                        "bin_end": 6.800000000000001,
                        "count": 0
                      },
                      {
                        "bin_start": 6.800000000000001,
                        "bin_end": 8.4,
                        "count": 0
                      },
                      {
                        "bin_start": 8.4,
                        "bin_end": 10,
                        "count": 0
                      },
                      {
                        "bin_start": 10,
                        "bin_end": 11.600000000000001,
                        "count": 0
                      },
                      {
                        "bin_start": 11.600000000000001,
                        "bin_end": 13.200000000000001,
                        "count": 0
                      },
                      {
                        "bin_start": 13.200000000000001,
                        "bin_end": 14.8,
                        "count": 0
                      },
                      {
                        "bin_start": 14.8,
                        "bin_end": 16.4,
                        "count": 2
                      },
                      {
                        "bin_start": 16.4,
                        "bin_end": 18,
                        "count": 1
                      }
                    ]
                  }
                },
                {
                  "name": "_deepnote_index_column",
                  "dtype": "int64"
                }
              ],
              "rows": [
                {
                  "participant": "s.bce1d5e5-ae0e-45f1-a96d-5bf45eaf751a.txt",
                  "Probandennummer": 20757,
                  "stroop_task": "nan",
                  "n_back2": "nan",
                  "corsi_task": "nan",
                  "digit_span_task": "nan",
                  "INFOSCREEN": 0,
                  "CLIENT_start": "2024-09-29-22-25",
                  "TIME_start": "2024-10-29-22-25",
                  "TIME_end": "2024-10-29-22-43",
                  "TIME_total": 18,
                  "_deepnote_index_column": 0
                },
                {
                  "participant": "s.3271f666-2f34-4e1b-a748-562007caae07.txt",
                  "Probandennummer": 4806,
                  "stroop_task": "nan",
                  "n_back2": "nan",
                  "corsi_task": "nan",
                  "digit_span_task": "nan",
                  "INFOSCREEN": 0,
                  "CLIENT_start": "2024-07-22-09-41",
                  "TIME_start": "2024-08-22-09-41",
                  "TIME_end": "2024-08-22-09-43",
                  "TIME_total": 2,
                  "_deepnote_index_column": 1
                },
                {
                  "participant": "s.2875974c-97f5-4e3d-80de-1779707e7a0e.txt",
                  "Probandennummer": 3628,
                  "stroop_task": "nan",
                  "n_back2": "nan",
                  "corsi_task": "nan",
                  "digit_span_task": "nan",
                  "INFOSCREEN": 0,
                  "CLIENT_start": "2024-10-03-12-21",
                  "TIME_start": "2024-11-03-12-21",
                  "TIME_end": "2024-11-03-12-36",
                  "TIME_total": 15,
                  "_deepnote_index_column": 2
                },
                {
                  "participant": "s.72986a90-e41d-47ce-a6e7-8d5f43130bdb.txt",
                  "Probandennummer": 13682,
                  "stroop_task": "nan",
                  "n_back2": "nan",
                  "corsi_task": "nan",
                  "digit_span_task": "nan",
                  "INFOSCREEN": 0,
                  "CLIENT_start": "2024-09-30-16-48",
                  "TIME_start": "2024-10-30-16-48",
                  "TIME_end": "2024-10-30-17-03",
                  "TIME_total": 15,
                  "_deepnote_index_column": 3
                }
              ]
            },
            "text/plain": "                                  participant  Probandennummer  stroop_task  \\\n0  s.bce1d5e5-ae0e-45f1-a96d-5bf45eaf751a.txt            20757          NaN   \n1  s.3271f666-2f34-4e1b-a748-562007caae07.txt             4806          NaN   \n2  s.2875974c-97f5-4e3d-80de-1779707e7a0e.txt             3628          NaN   \n3  s.72986a90-e41d-47ce-a6e7-8d5f43130bdb.txt            13682          NaN   \n\n   n_back2  corsi_task  digit_span_task  INFOSCREEN      CLIENT_start  \\\n0      NaN         NaN              NaN           0  2024-09-29-22-25   \n1      NaN         NaN              NaN           0  2024-07-22-09-41   \n2      NaN         NaN              NaN           0  2024-10-03-12-21   \n3      NaN         NaN              NaN           0  2024-09-30-16-48   \n\n         TIME_start          TIME_end  TIME_total  \n0  2024-10-29-22-25  2024-10-29-22-43          18  \n1  2024-08-22-09-41  2024-08-22-09-43           2  \n2  2024-11-03-12-21  2024-11-03-12-36          15  \n3  2024-10-30-16-48  2024-10-30-17-03          15  ",
            "text/html": "<div>\n<style scoped>\n    .dataframe tbody tr th:only-of-type {\n        vertical-align: middle;\n    }\n\n    .dataframe tbody tr th {\n        vertical-align: top;\n    }\n\n    .dataframe thead th {\n        text-align: right;\n    }\n</style>\n<table border=\"1\" class=\"dataframe\">\n  <thead>\n    <tr style=\"text-align: right;\">\n      <th></th>\n      <th>participant</th>\n      <th>Probandennummer</th>\n      <th>stroop_task</th>\n      <th>n_back2</th>\n      <th>corsi_task</th>\n      <th>digit_span_task</th>\n      <th>INFOSCREEN</th>\n      <th>CLIENT_start</th>\n      <th>TIME_start</th>\n      <th>TIME_end</th>\n      <th>TIME_total</th>\n    </tr>\n  </thead>\n  <tbody>\n    <tr>\n      <th>0</th>\n      <td>s.bce1d5e5-ae0e-45f1-a96d-5bf45eaf751a.txt</td>\n      <td>20757</td>\n      <td>NaN</td>\n      <td>NaN</td>\n      <td>NaN</td>\n      <td>NaN</td>\n      <td>0</td>\n      <td>2024-09-29-22-25</td>\n      <td>2024-10-29-22-25</td>\n      <td>2024-10-29-22-43</td>\n      <td>18</td>\n    </tr>\n    <tr>\n      <th>1</th>\n      <td>s.3271f666-2f34-4e1b-a748-562007caae07.txt</td>\n      <td>4806</td>\n      <td>NaN</td>\n      <td>NaN</td>\n      <td>NaN</td>\n      <td>NaN</td>\n      <td>0</td>\n      <td>2024-07-22-09-41</td>\n      <td>2024-08-22-09-41</td>\n      <td>2024-08-22-09-43</td>\n      <td>2</td>\n    </tr>\n    <tr>\n      <th>2</th>\n      <td>s.2875974c-97f5-4e3d-80de-1779707e7a0e.txt</td>\n      <td>3628</td>\n      <td>NaN</td>\n      <td>NaN</td>\n      <td>NaN</td>\n      <td>NaN</td>\n      <td>0</td>\n      <td>2024-10-03-12-21</td>\n      <td>2024-11-03-12-21</td>\n      <td>2024-11-03-12-36</td>\n      <td>15</td>\n    </tr>\n    <tr>\n      <th>3</th>\n      <td>s.72986a90-e41d-47ce-a6e7-8d5f43130bdb.txt</td>\n      <td>13682</td>\n      <td>NaN</td>\n      <td>NaN</td>\n      <td>NaN</td>\n      <td>NaN</td>\n      <td>0</td>\n      <td>2024-09-30-16-48</td>\n      <td>2024-10-30-16-48</td>\n      <td>2024-10-30-17-03</td>\n      <td>15</td>\n    </tr>\n  </tbody>\n</table>\n</div>"
          },
          "metadata": {}
        }
      ],
      "outputs_reference": null,
      "execution_count": 15,
      "block_group": "8b418c7f9c5f4bc5bb2956259ff5a48b",
      "content_dependencies": null
    },
    {
      "cell_type": "code",
      "source": "stroop_german_min = pd.read_csv('stroop_german.min.csv')\nstroop_german_min.head()",
      "metadata": {
        "source_hash": "f9a14826",
        "execution_start": 1731451915537,
        "execution_millis": 69,
        "execution_context_id": "51b4ef2b-c299-4bc8-8282-12e112dd08f6",
        "cell_id": "99e9b6eaa9f745859ea768723c468b1d",
        "deepnote_cell_type": "code"
      },
      "outputs": [
        {
          "output_type": "execute_result",
          "execution_count": 10,
          "data": {
            "application/vnd.deepnote.dataframe.v3+json": {
              "column_count": 2,
              "row_count": 4,
              "columns": [
                {
                  "name": "0",
                  "dtype": "int64",
                  "stats": {
                    "unique_count": 4,
                    "nan_count": 0,
                    "min": "15",
                    "max": "874",
                    "histogram": [
                      {
                        "bin_start": 15,
                        "bin_end": 100.9,
                        "count": 1
                      },
                      {
                        "bin_start": 100.9,
                        "bin_end": 186.8,
                        "count": 0
                      },
                      {
                        "bin_start": 186.8,
                        "bin_end": 272.70000000000005,
                        "count": 0
                      },
                      {
                        "bin_start": 272.70000000000005,
                        "bin_end": 358.6,
                        "count": 0
                      },
                      {
                        "bin_start": 358.6,
                        "bin_end": 444.5,
                        "count": 1
                      },
                      {
                        "bin_start": 444.5,
                        "bin_end": 530.4000000000001,
                        "count": 0
                      },
                      {
                        "bin_start": 530.4000000000001,
                        "bin_end": 616.3000000000001,
                        "count": 1
                      },
                      {
                        "bin_start": 616.3000000000001,
                        "bin_end": 702.2,
                        "count": 0
                      },
                      {
                        "bin_start": 702.2,
                        "bin_end": 788.1,
                        "count": 0
                      },
                      {
                        "bin_start": 788.1,
                        "bin_end": 874,
                        "count": 1
                      }
                    ]
                  }
                },
                {
                  "name": "1",
                  "dtype": "int64",
                  "stats": {
                    "unique_count": 4,
                    "nan_count": 0,
                    "min": "67",
                    "max": "951",
                    "histogram": [
                      {
                        "bin_start": 67,
                        "bin_end": 155.4,
                        "count": 1
                      },
                      {
                        "bin_start": 155.4,
                        "bin_end": 243.8,
                        "count": 0
                      },
                      {
                        "bin_start": 243.8,
                        "bin_end": 332.20000000000005,
                        "count": 0
                      },
                      {
                        "bin_start": 332.20000000000005,
                        "bin_end": 420.6,
                        "count": 0
                      },
                      {
                        "bin_start": 420.6,
                        "bin_end": 509,
                        "count": 2
                      },
                      {
                        "bin_start": 509,
                        "bin_end": 597.4000000000001,
                        "count": 0
                      },
                      {
                        "bin_start": 597.4000000000001,
                        "bin_end": 685.8000000000001,
                        "count": 0
                      },
                      {
                        "bin_start": 685.8000000000001,
                        "bin_end": 774.2,
                        "count": 0
                      },
                      {
                        "bin_start": 774.2,
                        "bin_end": 862.6,
                        "count": 0
                      },
                      {
                        "bin_start": 862.6,
                        "bin_end": 951,
                        "count": 1
                      }
                    ]
                  }
                },
                {
                  "name": "_deepnote_index_column",
                  "dtype": "int64"
                }
              ],
              "rows": [
                {
                  "0": 569,
                  "1": 430,
                  "_deepnote_index_column": 0
                },
                {
                  "0": 15,
                  "1": 67,
                  "_deepnote_index_column": 1
                },
                {
                  "0": 874,
                  "1": 951,
                  "_deepnote_index_column": 2
                },
                {
                  "0": 370,
                  "1": 491,
                  "_deepnote_index_column": 3
                }
              ]
            },
            "text/plain": "     0    1\n0  569  430\n1   15   67\n2  874  951\n3  370  491",
            "text/html": "<div>\n<style scoped>\n    .dataframe tbody tr th:only-of-type {\n        vertical-align: middle;\n    }\n\n    .dataframe tbody tr th {\n        vertical-align: top;\n    }\n\n    .dataframe thead th {\n        text-align: right;\n    }\n</style>\n<table border=\"1\" class=\"dataframe\">\n  <thead>\n    <tr style=\"text-align: right;\">\n      <th></th>\n      <th>0</th>\n      <th>1</th>\n    </tr>\n  </thead>\n  <tbody>\n    <tr>\n      <th>0</th>\n      <td>569</td>\n      <td>430</td>\n    </tr>\n    <tr>\n      <th>1</th>\n      <td>15</td>\n      <td>67</td>\n    </tr>\n    <tr>\n      <th>2</th>\n      <td>874</td>\n      <td>951</td>\n    </tr>\n    <tr>\n      <th>3</th>\n      <td>370</td>\n      <td>491</td>\n    </tr>\n  </tbody>\n</table>\n</div>"
          },
          "metadata": {}
        }
      ],
      "outputs_reference": null,
      "execution_count": 10,
      "block_group": "48351705fda54ca6b1df0847d5a51f53",
      "content_dependencies": null
    },
    {
      "cell_type": "code",
      "source": "stroop_german_max = pd.read_csv('stroop_german.max.csv')\nstroop_german_max.head()",
      "metadata": {
        "source_hash": "e94eaad1",
        "execution_start": 1731451842416,
        "execution_millis": 83,
        "execution_context_id": "51b4ef2b-c299-4bc8-8282-12e112dd08f6",
        "cell_id": "1776b4fe818649cb93eb741f06ed7d11",
        "deepnote_cell_type": "code"
      },
      "outputs": [
        {
          "output_type": "execute_result",
          "execution_count": 7,
          "data": {
            "application/vnd.deepnote.dataframe.v3+json": {
              "column_count": 2,
              "row_count": 4,
              "columns": [
                {
                  "name": "0",
                  "dtype": "int64",
                  "stats": {
                    "unique_count": 4,
                    "nan_count": 0,
                    "min": "304",
                    "max": "1985",
                    "histogram": [
                      {
                        "bin_start": 304,
                        "bin_end": 472.1,
                        "count": 1
                      },
                      {
                        "bin_start": 472.1,
                        "bin_end": 640.2,
                        "count": 0
                      },
                      {
                        "bin_start": 640.2,
                        "bin_end": 808.3,
                        "count": 0
                      },
                      {
                        "bin_start": 808.3,
                        "bin_end": 976.4,
                        "count": 0
                      },
                      {
                        "bin_start": 976.4,
                        "bin_end": 1144.5,
                        "count": 0
                      },
                      {
                        "bin_start": 1144.5,
                        "bin_end": 1312.6,
                        "count": 1
                      },
                      {
                        "bin_start": 1312.6,
                        "bin_end": 1480.7,
                        "count": 0
                      },
                      {
                        "bin_start": 1480.7,
                        "bin_end": 1648.8,
                        "count": 1
                      },
                      {
                        "bin_start": 1648.8,
                        "bin_end": 1816.8999999999999,
                        "count": 0
                      },
                      {
                        "bin_start": 1816.8999999999999,
                        "bin_end": 1985,
                        "count": 1
                      }
                    ]
                  }
                },
                {
                  "name": "1",
                  "dtype": "int64",
                  "stats": {
                    "unique_count": 4,
                    "nan_count": 0,
                    "min": "263",
                    "max": "1476",
                    "histogram": [
                      {
                        "bin_start": 263,
                        "bin_end": 384.3,
                        "count": 1
                      },
                      {
                        "bin_start": 384.3,
                        "bin_end": 505.6,
                        "count": 0
                      },
                      {
                        "bin_start": 505.6,
                        "bin_end": 626.9,
                        "count": 0
                      },
                      {
                        "bin_start": 626.9,
                        "bin_end": 748.2,
                        "count": 0
                      },
                      {
                        "bin_start": 748.2,
                        "bin_end": 869.5,
                        "count": 0
                      },
                      {
                        "bin_start": 869.5,
                        "bin_end": 990.8,
                        "count": 0
                      },
                      {
                        "bin_start": 990.8,
                        "bin_end": 1112.1,
                        "count": 0
                      },
                      {
                        "bin_start": 1112.1,
                        "bin_end": 1233.4,
                        "count": 0
                      },
                      {
                        "bin_start": 1233.4,
                        "bin_end": 1354.7,
                        "count": 0
                      },
                      {
                        "bin_start": 1354.7,
                        "bin_end": 1476,
                        "count": 3
                      }
                    ]
                  }
                },
                {
                  "name": "_deepnote_index_column",
                  "dtype": "int64"
                }
              ],
              "rows": [
                {
                  "0": 1560,
                  "1": 1386,
                  "_deepnote_index_column": 0
                },
                {
                  "0": 304,
                  "1": 263,
                  "_deepnote_index_column": 1
                },
                {
                  "0": 1985,
                  "1": 1476,
                  "_deepnote_index_column": 2
                },
                {
                  "0": 1231,
                  "1": 1366,
                  "_deepnote_index_column": 3
                }
              ]
            },
            "text/plain": "      0     1\n0  1560  1386\n1   304   263\n2  1985  1476\n3  1231  1366",
            "text/html": "<div>\n<style scoped>\n    .dataframe tbody tr th:only-of-type {\n        vertical-align: middle;\n    }\n\n    .dataframe tbody tr th {\n        vertical-align: top;\n    }\n\n    .dataframe thead th {\n        text-align: right;\n    }\n</style>\n<table border=\"1\" class=\"dataframe\">\n  <thead>\n    <tr style=\"text-align: right;\">\n      <th></th>\n      <th>0</th>\n      <th>1</th>\n    </tr>\n  </thead>\n  <tbody>\n    <tr>\n      <th>0</th>\n      <td>1560</td>\n      <td>1386</td>\n    </tr>\n    <tr>\n      <th>1</th>\n      <td>304</td>\n      <td>263</td>\n    </tr>\n    <tr>\n      <th>2</th>\n      <td>1985</td>\n      <td>1476</td>\n    </tr>\n    <tr>\n      <th>3</th>\n      <td>1231</td>\n      <td>1366</td>\n    </tr>\n  </tbody>\n</table>\n</div>"
          },
          "metadata": {}
        }
      ],
      "outputs_reference": null,
      "execution_count": 7,
      "block_group": "edb75f58e68e4680a5eac45e268a21a2",
      "content_dependencies": null
    },
    {
      "cell_type": "code",
      "source": "stroop_german_mean = pd.read_csv('stroop_german.mean.csv')\nstroop_german_mean.head()",
      "metadata": {
        "source_hash": "fb2f17d2",
        "execution_start": 1731451895437,
        "execution_millis": 65,
        "execution_context_id": "51b4ef2b-c299-4bc8-8282-12e112dd08f6",
        "cell_id": "9dec175a52a94a8c914a6766aa27d058",
        "deepnote_cell_type": "code"
      },
      "outputs": [
        {
          "output_type": "execute_result",
          "execution_count": 8,
          "data": {
            "application/vnd.deepnote.dataframe.v3+json": {
              "column_count": 2,
              "row_count": 4,
              "columns": [
                {
                  "name": "0",
                  "dtype": "float64",
                  "stats": {
                    "unique_count": 4,
                    "nan_count": 0,
                    "min": "139.285714285714",
                    "max": "1481.0",
                    "histogram": [
                      {
                        "bin_start": 139.285714285714,
                        "bin_end": 273.45714285714257,
                        "count": 1
                      },
                      {
                        "bin_start": 273.45714285714257,
                        "bin_end": 407.6285714285712,
                        "count": 0
                      },
                      {
                        "bin_start": 407.6285714285712,
                        "bin_end": 541.7999999999998,
                        "count": 0
                      },
                      {
                        "bin_start": 541.7999999999998,
                        "bin_end": 675.9714285714284,
                        "count": 0
                      },
                      {
                        "bin_start": 675.9714285714284,
                        "bin_end": 810.142857142857,
                        "count": 1
                      },
                      {
                        "bin_start": 810.142857142857,
                        "bin_end": 944.3142857142857,
                        "count": 0
                      },
                      {
                        "bin_start": 944.3142857142857,
                        "bin_end": 1078.4857142857143,
                        "count": 1
                      },
                      {
                        "bin_start": 1078.4857142857143,
                        "bin_end": 1212.6571428571428,
                        "count": 0
                      },
                      {
                        "bin_start": 1212.6571428571428,
                        "bin_end": 1346.8285714285714,
                        "count": 0
                      },
                      {
                        "bin_start": 1346.8285714285714,
                        "bin_end": 1481,
                        "count": 1
                      }
                    ]
                  }
                },
                {
                  "name": "1",
                  "dtype": "float64",
                  "stats": {
                    "unique_count": 4,
                    "nan_count": 0,
                    "min": "171.333333333333",
                    "max": "1163.375",
                    "histogram": [
                      {
                        "bin_start": 171.333333333333,
                        "bin_end": 270.5374999999997,
                        "count": 1
                      },
                      {
                        "bin_start": 270.5374999999997,
                        "bin_end": 369.7416666666664,
                        "count": 0
                      },
                      {
                        "bin_start": 369.7416666666664,
                        "bin_end": 468.9458333333331,
                        "count": 0
                      },
                      {
                        "bin_start": 468.9458333333331,
                        "bin_end": 568.1499999999997,
                        "count": 0
                      },
                      {
                        "bin_start": 568.1499999999997,
                        "bin_end": 667.3541666666665,
                        "count": 0
                      },
                      {
                        "bin_start": 667.3541666666665,
                        "bin_end": 766.5583333333332,
                        "count": 1
                      },
                      {
                        "bin_start": 766.5583333333332,
                        "bin_end": 865.7624999999999,
                        "count": 1
                      },
                      {
                        "bin_start": 865.7624999999999,
                        "bin_end": 964.9666666666666,
                        "count": 0
                      },
                      {
                        "bin_start": 964.9666666666666,
                        "bin_end": 1064.1708333333331,
                        "count": 0
                      },
                      {
                        "bin_start": 1064.1708333333331,
                        "bin_end": 1163.375,
                        "count": 1
                      }
                    ]
                  }
                },
                {
                  "name": "_deepnote_index_column",
                  "dtype": "int64"
                }
              ],
              "rows": [
                {
                  "0": 1027.03448275862,
                  "1": 845.454545454545,
                  "_deepnote_index_column": 0
                },
                {
                  "0": 139.285714285714,
                  "1": 171.333333333333,
                  "_deepnote_index_column": 1
                },
                {
                  "0": 1481,
                  "1": 1163.375,
                  "_deepnote_index_column": 2
                },
                {
                  "0": 777.62962962963,
                  "1": 703.333333333333,
                  "_deepnote_index_column": 3
                }
              ]
            },
            "text/plain": "             0            1\n0  1027.034483   845.454545\n1   139.285714   171.333333\n2  1481.000000  1163.375000\n3   777.629630   703.333333",
            "text/html": "<div>\n<style scoped>\n    .dataframe tbody tr th:only-of-type {\n        vertical-align: middle;\n    }\n\n    .dataframe tbody tr th {\n        vertical-align: top;\n    }\n\n    .dataframe thead th {\n        text-align: right;\n    }\n</style>\n<table border=\"1\" class=\"dataframe\">\n  <thead>\n    <tr style=\"text-align: right;\">\n      <th></th>\n      <th>0</th>\n      <th>1</th>\n    </tr>\n  </thead>\n  <tbody>\n    <tr>\n      <th>0</th>\n      <td>1027.034483</td>\n      <td>845.454545</td>\n    </tr>\n    <tr>\n      <th>1</th>\n      <td>139.285714</td>\n      <td>171.333333</td>\n    </tr>\n    <tr>\n      <th>2</th>\n      <td>1481.000000</td>\n      <td>1163.375000</td>\n    </tr>\n    <tr>\n      <th>3</th>\n      <td>777.629630</td>\n      <td>703.333333</td>\n    </tr>\n  </tbody>\n</table>\n</div>"
          },
          "metadata": {}
        }
      ],
      "outputs_reference": null,
      "execution_count": 8,
      "block_group": "82fc184db74a48019ab798f10784836a",
      "content_dependencies": null
    },
    {
      "cell_type": "code",
      "source": "stroop_german_median = pd.read_csv('stroop_german.median.csv')\nstroop_german_median.head()",
      "metadata": {
        "source_hash": "46cdf850",
        "execution_start": 1731451945242,
        "execution_millis": 99,
        "execution_context_id": "51b4ef2b-c299-4bc8-8282-12e112dd08f6",
        "cell_id": "9176d925f73347289d451a3dc8e1b91b",
        "deepnote_cell_type": "code"
      },
      "outputs": [
        {
          "output_type": "execute_result",
          "execution_count": 11,
          "data": {
            "application/vnd.deepnote.dataframe.v3+json": {
              "column_count": 2,
              "row_count": 4,
              "columns": [
                {
                  "name": "0",
                  "dtype": "int64",
                  "stats": {
                    "unique_count": 4,
                    "nan_count": 0,
                    "min": "114",
                    "max": "1475",
                    "histogram": [
                      {
                        "bin_start": 114,
                        "bin_end": 250.1,
                        "count": 1
                      },
                      {
                        "bin_start": 250.1,
                        "bin_end": 386.2,
                        "count": 0
                      },
                      {
                        "bin_start": 386.2,
                        "bin_end": 522.3,
                        "count": 0
                      },
                      {
                        "bin_start": 522.3,
                        "bin_end": 658.4,
                        "count": 0
                      },
                      {
                        "bin_start": 658.4,
                        "bin_end": 794.5,
                        "count": 1
                      },
                      {
                        "bin_start": 794.5,
                        "bin_end": 930.5999999999999,
                        "count": 0
                      },
                      {
                        "bin_start": 930.5999999999999,
                        "bin_end": 1066.6999999999998,
                        "count": 1
                      },
                      {
                        "bin_start": 1066.6999999999998,
                        "bin_end": 1202.8,
                        "count": 0
                      },
                      {
                        "bin_start": 1202.8,
                        "bin_end": 1338.8999999999999,
                        "count": 0
                      },
                      {
                        "bin_start": 1338.8999999999999,
                        "bin_end": 1475,
                        "count": 1
                      }
                    ]
                  }
                },
                {
                  "name": "1",
                  "dtype": "float64",
                  "stats": {
                    "unique_count": 4,
                    "nan_count": 0,
                    "min": "184.0",
                    "max": "1119.5",
                    "histogram": [
                      {
                        "bin_start": 184,
                        "bin_end": 277.55,
                        "count": 1
                      },
                      {
                        "bin_start": 277.55,
                        "bin_end": 371.1,
                        "count": 0
                      },
                      {
                        "bin_start": 371.1,
                        "bin_end": 464.65,
                        "count": 0
                      },
                      {
                        "bin_start": 464.65,
                        "bin_end": 558.2,
                        "count": 0
                      },
                      {
                        "bin_start": 558.2,
                        "bin_end": 651.75,
                        "count": 1
                      },
                      {
                        "bin_start": 651.75,
                        "bin_end": 745.3,
                        "count": 0
                      },
                      {
                        "bin_start": 745.3,
                        "bin_end": 838.85,
                        "count": 0
                      },
                      {
                        "bin_start": 838.85,
                        "bin_end": 932.4,
                        "count": 1
                      },
                      {
                        "bin_start": 932.4,
                        "bin_end": 1025.9499999999998,
                        "count": 0
                      },
                      {
                        "bin_start": 1025.9499999999998,
                        "bin_end": 1119.5,
                        "count": 1
                      }
                    ]
                  }
                },
                {
                  "name": "_deepnote_index_column",
                  "dtype": "int64"
                }
              ],
              "rows": [
                {
                  "0": 1041,
                  "1": 861,
                  "_deepnote_index_column": 0
                },
                {
                  "0": 114,
                  "1": 184,
                  "_deepnote_index_column": 1
                },
                {
                  "0": 1475,
                  "1": 1119.5,
                  "_deepnote_index_column": 2
                },
                {
                  "0": 769,
                  "1": 628,
                  "_deepnote_index_column": 3
                }
              ]
            },
            "text/plain": "      0       1\n0  1041   861.0\n1   114   184.0\n2  1475  1119.5\n3   769   628.0",
            "text/html": "<div>\n<style scoped>\n    .dataframe tbody tr th:only-of-type {\n        vertical-align: middle;\n    }\n\n    .dataframe tbody tr th {\n        vertical-align: top;\n    }\n\n    .dataframe thead th {\n        text-align: right;\n    }\n</style>\n<table border=\"1\" class=\"dataframe\">\n  <thead>\n    <tr style=\"text-align: right;\">\n      <th></th>\n      <th>0</th>\n      <th>1</th>\n    </tr>\n  </thead>\n  <tbody>\n    <tr>\n      <th>0</th>\n      <td>1041</td>\n      <td>861.0</td>\n    </tr>\n    <tr>\n      <th>1</th>\n      <td>114</td>\n      <td>184.0</td>\n    </tr>\n    <tr>\n      <th>2</th>\n      <td>1475</td>\n      <td>1119.5</td>\n    </tr>\n    <tr>\n      <th>3</th>\n      <td>769</td>\n      <td>628.0</td>\n    </tr>\n  </tbody>\n</table>\n</div>"
          },
          "metadata": {}
        }
      ],
      "outputs_reference": null,
      "execution_count": 11,
      "block_group": "fac0cd9bb3e6407da3b01571fa913e9e",
      "content_dependencies": null
    },
    {
      "cell_type": "code",
      "source": "stroop_german_n = pd.read_csv('stroop_german.n.csv')\nstroop_german_n.head()",
      "metadata": {
        "source_hash": "5b79cfe3",
        "execution_start": 1731451979930,
        "execution_millis": 48,
        "execution_context_id": "51b4ef2b-c299-4bc8-8282-12e112dd08f6",
        "cell_id": "32933258956842759a8c5718e584eb61",
        "deepnote_cell_type": "code"
      },
      "outputs": [
        {
          "output_type": "execute_result",
          "execution_count": 12,
          "data": {
            "application/vnd.deepnote.dataframe.v3+json": {
              "column_count": 2,
              "row_count": 4,
              "columns": [
                {
                  "name": "0",
                  "dtype": "int64",
                  "stats": {
                    "unique_count": 3,
                    "nan_count": 0,
                    "min": "29",
                    "max": "32",
                    "histogram": [
                      {
                        "bin_start": 29,
                        "bin_end": 29.3,
                        "count": 1
                      },
                      {
                        "bin_start": 29.3,
                        "bin_end": 29.6,
                        "count": 0
                      },
                      {
                        "bin_start": 29.6,
                        "bin_end": 29.9,
                        "count": 0
                      },
                      {
                        "bin_start": 29.9,
                        "bin_end": 30.2,
                        "count": 2
                      },
                      {
                        "bin_start": 30.2,
                        "bin_end": 30.5,
                        "count": 0
                      },
                      {
                        "bin_start": 30.5,
                        "bin_end": 30.8,
                        "count": 0
                      },
                      {
                        "bin_start": 30.8,
                        "bin_end": 31.1,
                        "count": 0
                      },
                      {
                        "bin_start": 31.1,
                        "bin_end": 31.4,
                        "count": 0
                      },
                      {
                        "bin_start": 31.4,
                        "bin_end": 31.7,
                        "count": 0
                      },
                      {
                        "bin_start": 31.7,
                        "bin_end": 32,
                        "count": 1
                      }
                    ]
                  }
                },
                {
                  "name": "1",
                  "dtype": "int64",
                  "stats": {
                    "unique_count": 3,
                    "nan_count": 0,
                    "min": "8",
                    "max": "11",
                    "histogram": [
                      {
                        "bin_start": 8,
                        "bin_end": 8.3,
                        "count": 1
                      },
                      {
                        "bin_start": 8.3,
                        "bin_end": 8.6,
                        "count": 0
                      },
                      {
                        "bin_start": 8.6,
                        "bin_end": 8.9,
                        "count": 0
                      },
                      {
                        "bin_start": 8.9,
                        "bin_end": 9.2,
                        "count": 0
                      },
                      {
                        "bin_start": 9.2,
                        "bin_end": 9.5,
                        "count": 0
                      },
                      {
                        "bin_start": 9.5,
                        "bin_end": 9.8,
                        "count": 0
                      },
                      {
                        "bin_start": 9.8,
                        "bin_end": 10.1,
                        "count": 2
                      },
                      {
                        "bin_start": 10.1,
                        "bin_end": 10.4,
                        "count": 0
                      },
                      {
                        "bin_start": 10.4,
                        "bin_end": 10.7,
                        "count": 0
                      },
                      {
                        "bin_start": 10.7,
                        "bin_end": 11,
                        "count": 1
                      }
                    ]
                  }
                },
                {
                  "name": "_deepnote_index_column",
                  "dtype": "int64"
                }
              ],
              "rows": [
                {
                  "0": 29,
                  "1": 11,
                  "_deepnote_index_column": 0
                },
                {
                  "0": 30,
                  "1": 10,
                  "_deepnote_index_column": 1
                },
                {
                  "0": 32,
                  "1": 8,
                  "_deepnote_index_column": 2
                },
                {
                  "0": 30,
                  "1": 10,
                  "_deepnote_index_column": 3
                }
              ]
            },
            "text/plain": "    0   1\n0  29  11\n1  30  10\n2  32   8\n3  30  10",
            "text/html": "<div>\n<style scoped>\n    .dataframe tbody tr th:only-of-type {\n        vertical-align: middle;\n    }\n\n    .dataframe tbody tr th {\n        vertical-align: top;\n    }\n\n    .dataframe thead th {\n        text-align: right;\n    }\n</style>\n<table border=\"1\" class=\"dataframe\">\n  <thead>\n    <tr style=\"text-align: right;\">\n      <th></th>\n      <th>0</th>\n      <th>1</th>\n    </tr>\n  </thead>\n  <tbody>\n    <tr>\n      <th>0</th>\n      <td>29</td>\n      <td>11</td>\n    </tr>\n    <tr>\n      <th>1</th>\n      <td>30</td>\n      <td>10</td>\n    </tr>\n    <tr>\n      <th>2</th>\n      <td>32</td>\n      <td>8</td>\n    </tr>\n    <tr>\n      <th>3</th>\n      <td>30</td>\n      <td>10</td>\n    </tr>\n  </tbody>\n</table>\n</div>"
          },
          "metadata": {}
        }
      ],
      "outputs_reference": null,
      "execution_count": 12,
      "block_group": "d9f28990ba2446f5a6e94775ba8e3032",
      "content_dependencies": null
    },
    {
      "cell_type": "code",
      "source": "stroop_german_pe = pd.read_csv('stroop_german.pe.csv')\nstroop_german_pe.head()",
      "metadata": {
        "source_hash": "3485a605",
        "execution_start": 1731451989379,
        "execution_millis": 68,
        "execution_context_id": "51b4ef2b-c299-4bc8-8282-12e112dd08f6",
        "cell_id": "92e5c7218fae4c2a932b5425146a1b79",
        "deepnote_cell_type": "code"
      },
      "outputs": [
        {
          "output_type": "execute_result",
          "execution_count": 13,
          "data": {
            "application/vnd.deepnote.dataframe.v3+json": {
              "column_count": 2,
              "row_count": 4,
              "columns": [
                {
                  "name": "0",
                  "dtype": "float64",
                  "stats": {
                    "unique_count": 4,
                    "nan_count": 0,
                    "min": "0.0",
                    "max": "76.6666666666667",
                    "histogram": [
                      {
                        "bin_start": 0,
                        "bin_end": 7.66666666666667,
                        "count": 1
                      },
                      {
                        "bin_start": 7.66666666666667,
                        "bin_end": 15.33333333333334,
                        "count": 2
                      },
                      {
                        "bin_start": 15.33333333333334,
                        "bin_end": 23.000000000000007,
                        "count": 0
                      },
                      {
                        "bin_start": 23.000000000000007,
                        "bin_end": 30.66666666666668,
                        "count": 0
                      },
                      {
                        "bin_start": 30.66666666666668,
                        "bin_end": 38.33333333333335,
                        "count": 0
                      },
                      {
                        "bin_start": 38.33333333333335,
                        "bin_end": 46.000000000000014,
                        "count": 0
                      },
                      {
                        "bin_start": 46.000000000000014,
                        "bin_end": 53.666666666666686,
                        "count": 0
                      },
                      {
                        "bin_start": 53.666666666666686,
                        "bin_end": 61.33333333333336,
                        "count": 0
                      },
                      {
                        "bin_start": 61.33333333333336,
                        "bin_end": 69.00000000000003,
                        "count": 0
                      },
                      {
                        "bin_start": 69.00000000000003,
                        "bin_end": 76.6666666666667,
                        "count": 1
                      }
                    ]
                  }
                },
                {
                  "name": "1",
                  "dtype": "int64",
                  "stats": {
                    "unique_count": 3,
                    "nan_count": 0,
                    "min": "0",
                    "max": "70",
                    "histogram": [
                      {
                        "bin_start": 0,
                        "bin_end": 7,
                        "count": 2
                      },
                      {
                        "bin_start": 7,
                        "bin_end": 14,
                        "count": 1
                      },
                      {
                        "bin_start": 14,
                        "bin_end": 21,
                        "count": 0
                      },
                      {
                        "bin_start": 21,
                        "bin_end": 28,
                        "count": 0
                      },
                      {
                        "bin_start": 28,
                        "bin_end": 35,
                        "count": 0
                      },
                      {
                        "bin_start": 35,
                        "bin_end": 42,
                        "count": 0
                      },
                      {
                        "bin_start": 42,
                        "bin_end": 49,
                        "count": 0
                      },
                      {
                        "bin_start": 49,
                        "bin_end": 56,
                        "count": 0
                      },
                      {
                        "bin_start": 56,
                        "bin_end": 63,
                        "count": 0
                      },
                      {
                        "bin_start": 63,
                        "bin_end": 70,
                        "count": 1
                      }
                    ]
                  }
                },
                {
                  "name": "_deepnote_index_column",
                  "dtype": "int64"
                }
              ],
              "rows": [
                {
                  "0": 0,
                  "1": 0,
                  "_deepnote_index_column": 0
                },
                {
                  "0": 76.6666666666667,
                  "1": 70,
                  "_deepnote_index_column": 1
                },
                {
                  "0": 12.5,
                  "1": 0,
                  "_deepnote_index_column": 2
                },
                {
                  "0": 10,
                  "1": 10,
                  "_deepnote_index_column": 3
                }
              ]
            },
            "text/plain": "           0   1\n0   0.000000   0\n1  76.666667  70\n2  12.500000   0\n3  10.000000  10",
            "text/html": "<div>\n<style scoped>\n    .dataframe tbody tr th:only-of-type {\n        vertical-align: middle;\n    }\n\n    .dataframe tbody tr th {\n        vertical-align: top;\n    }\n\n    .dataframe thead th {\n        text-align: right;\n    }\n</style>\n<table border=\"1\" class=\"dataframe\">\n  <thead>\n    <tr style=\"text-align: right;\">\n      <th></th>\n      <th>0</th>\n      <th>1</th>\n    </tr>\n  </thead>\n  <tbody>\n    <tr>\n      <th>0</th>\n      <td>0.000000</td>\n      <td>0</td>\n    </tr>\n    <tr>\n      <th>1</th>\n      <td>76.666667</td>\n      <td>70</td>\n    </tr>\n    <tr>\n      <th>2</th>\n      <td>12.500000</td>\n      <td>0</td>\n    </tr>\n    <tr>\n      <th>3</th>\n      <td>10.000000</td>\n      <td>10</td>\n    </tr>\n  </tbody>\n</table>\n</div>"
          },
          "metadata": {}
        }
      ],
      "outputs_reference": null,
      "execution_count": 13,
      "block_group": "6cfe9c02203145408ba54932276a5784",
      "content_dependencies": null
    },
    {
      "cell_type": "code",
      "source": "",
      "metadata": {
        "cell_id": "cd7f9c9232fd4cf5b34a5a58b2a7b6a9",
        "deepnote_cell_type": "code"
      },
      "outputs": [],
      "outputs_reference": null,
      "execution_count": null,
      "block_group": "878ac06523aa4d0ea13b41b76ebe183a",
      "content_dependencies": null
    },
    {
      "cell_type": "markdown",
      "source": "<a style='text-decoration:none;line-height:16px;display:flex;color:#5B5B62;padding:10px;justify-content:end;' href='https://deepnote.com?utm_source=created-in-deepnote-cell&projectId=cf600e86-d997-4f8a-992e-61a18f163a75' target=\"_blank\">\n<img alt='Created in deepnote.com' style='display:inline;max-height:16px;margin:0px;margin-right:7.5px;' src='data:image/svg+xml;base64,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' > </img>\nCreated in <span style='font-weight:600;margin-left:4px;'>Deepnote</span></a>",
      "metadata": {
        "created_in_deepnote_cell": true,
        "deepnote_cell_type": "markdown"
      }
    }
  ],
  "nbformat": 4,
  "nbformat_minor": 0,
  "metadata": {
    "deepnote_persisted_session": {
      "createdAt": "2024-11-12T22:37:52.073Z"
    },
    "deepnote_notebook_id": "3c9e7313bdc74da995e4d028c2f6c1d0"
  }
}