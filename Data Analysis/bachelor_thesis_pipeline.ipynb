{
  "cells": [
    {
      "cell_type": "markdown",
      "source": "# Bachelor Thesis Preliminary Pipeline",
      "metadata": {
        "cell_id": "466552d31d914aecb40b57daca0cf12d",
        "deepnote_cell_type": "markdown"
      },
      "block_group": "c2987306959b4655b5027496ca153968"
    },
    {
      "cell_type": "markdown",
      "source": "## Introduction",
      "metadata": {
        "cell_id": "4392462c10404417a12ccfa7226c212a",
        "deepnote_cell_type": "markdown"
      },
      "block_group": "65b2fbbdd1df4c0796d5d7046afb8739"
    },
    {
      "cell_type": "markdown",
      "source": "This Jupyter Notebook (Python3) serves as the primary data analysis and visualization pipeline for a bachelor’s thesis study investigating the potential effects of visual brainwave stimulation on sleep quality. The study is conducted by Annabella Vöelkert, a student in the \"Prevention, Therapy, and Rehabilitation Sciences\" program at Dresden International University. The research specifically targets how exposure to delta-frequency stroboscopic light, administered before bedtime, could influence students' sleep quality.\n\n### Overview of the Study\n\nSleep is foundational to health, impacting everything from cognitive function and emotional resilience to overall physical wellness. However, modern lifestyles often disrupt sleep patterns, leading to increased sleep-related issues. This study explores whether a novel intervention—stroboscopic light exposure at delta frequencies—can enhance sleep quality, potentially helping to manage stress and improve restfulness.\n\nKey components of the study include:\n\n- **Anamnesis and Screening**: Each participant completes an initial questionnaire to assess eligibility and gather baseline information.\n- **Baseline Sleep Tracking**: Participants maintain morning and evening sleep logs for the first five days to document their typical sleep habits.\n- **Intervention Phase**: For five consecutive nights, participants wear specialized glasses before bedtime that emits stroboscopic light in delta frequencies, aiming to synchronize brainwave activity with a frequency associated with deep sleep states.\n- **Cognitive Assessment**: To measure potential changes, participants complete memory and concentration tests at the start and end of the study, allowing for objective evaluation of cognitive effects alongside subjective sleep improvements.\n\n### Purpose of this Notebook\n\nThis notebook provides a structured approach to analyzing data collected during the study. The primary objectives include:\n\n1. **Data Cleaning and Preprocessing**: Organizing raw data from sleep logs, questionnaires, and cognitive assessments for accurate analysis.\n2. **Statistical Analysis**: Evaluating relationships between delta-frequency stimulation and sleep quality metrics, as well as analyzing any notable cognitive changes.\n3. **Data Visualization**: Generating visual representations of sleep patterns, intervention impact, and cognitive test results to support findings and reveal trends.\n4. **Conclusions and Insights**: Compiling results to assess the feasibility and potential benefits of delta-frequency light exposure as a tool for sleep enhancement.\n\nBy following this pipeline, we aim to understand if stroboscopic light with delta frequencies can be a meaningful addition to sleep improvement strategies.",
      "metadata": {
        "jp-MarkdownHeadingCollapsed": true,
        "cell_id": "b8bc69ae50794a45a54db4a51ac6b2ef",
        "deepnote_cell_type": "markdown"
      },
      "block_group": "cade28c1011e43ca939147d22b951eb3"
    },
    {
      "cell_type": "markdown",
      "source": "## Library Imports",
      "metadata": {
        "cell_id": "4ea08ec8b20446ffb47f71757e823784",
        "deepnote_cell_type": "markdown"
      },
      "block_group": "124069b8f16b4af08671b6dc9548ed3e"
    },
    {
      "cell_type": "code",
      "source": "import os\nimport pandas as pd\nimport numpy as np\nimport matplotlib.pyplot as plt",
      "metadata": {
        "tags": [],
        "editable": true,
        "slideshow": {
          "slide_type": ""
        },
        "source_hash": "47320855",
        "execution_start": 1731627358790,
        "execution_millis": 434,
        "execution_context_id": "d6825e58-3769-484f-8607-a71473c05eb7",
        "cell_id": "b39275916f894aa6a9e3e148376d5b4d",
        "deepnote_cell_type": "code"
      },
      "outputs": [],
      "outputs_reference": null,
      "execution_count": 36,
      "block_group": "b39cccbc21fc4d0993d293ec95e14283",
      "content_dependencies": null
    },
    {
      "cell_type": "markdown",
      "source": "## File Imports",
      "metadata": {
        "cell_id": "55fa57d25c5a499d91a4b3340ee854af",
        "deepnote_cell_type": "markdown"
      },
      "block_group": "7fb184fb768e4fa6a424f0cbfec0684b"
    },
    {
      "cell_type": "markdown",
      "source": "### Medical History Form",
      "metadata": {
        "cell_id": "27cfed67697843f4a2a8ba99dab43333",
        "deepnote_cell_type": "markdown"
      },
      "block_group": "0d9832bf458f43a3a82465f8b59108ce"
    },
    {
      "cell_type": "code",
      "source": "anamnesebogen_ba = pd.read_csv('Anamnesebogen_BA.csv')\nanamnesebogen_ba.head()",
      "metadata": {
        "source_hash": "5c61d330",
        "execution_start": 1731627222258,
        "execution_millis": 149,
        "execution_context_id": "8132cf72-65a5-4f53-bde2-b669605264d8",
        "cell_id": "e0f60ddc557d46c883ff771b3ca61faf",
        "deepnote_cell_type": "code"
      },
      "outputs": [
        {
          "output_type": "execute_result",
          "execution_count": 2,
          "data": {
            "application/vnd.deepnote.dataframe.v3+json": {
              "column_count": 52,
              "row_count": 1,
              "columns": [
                {
                  "name": "Zeitstempel",
                  "dtype": "object",
                  "stats": {
                    "unique_count": 1,
                    "nan_count": 0,
                    "categories": [
                      {
                        "name": "2024/02/07 12:13:04 AM MEZ",
                        "count": 1
                      }
                    ]
                  }
                },
                {
                  "name": "Nachname",
                  "dtype": "object",
                  "stats": {
                    "unique_count": 1,
                    "nan_count": 0,
                    "categories": [
                      {
                        "name": "Poloczek",
                        "count": 1
                      }
                    ]
                  }
                },
                {
                  "name": "Vorname",
                  "dtype": "object",
                  "stats": {
                    "unique_count": 1,
                    "nan_count": 0,
                    "categories": [
                      {
                        "name": "Maurice",
                        "count": 1
                      }
                    ]
                  }
                },
                {
                  "name": "Geburtsdatum",
                  "dtype": "object",
                  "stats": {
                    "unique_count": 1,
                    "nan_count": 0,
                    "categories": [
                      {
                        "name": "1997-07-17",
                        "count": 1
                      }
                    ]
                  }
                },
                {
                  "name": "Adresse",
                  "dtype": "object",
                  "stats": {
                    "unique_count": 1,
                    "nan_count": 0,
                    "categories": [
                      {
                        "name": "Hofener Straße 90",
                        "count": 1
                      }
                    ]
                  }
                },
                {
                  "name": "Mailadresse",
                  "dtype": "object",
                  "stats": {
                    "unique_count": 1,
                    "nan_count": 0,
                    "categories": [
                      {
                        "name": "poloczekmaurice@gmail.com",
                        "count": 1
                      }
                    ]
                  }
                },
                {
                  "name": "Telefonnummer",
                  "dtype": "float64",
                  "stats": {
                    "unique_count": 0,
                    "nan_count": 1,
                    "min": null,
                    "max": null,
                    "histogram": [
                      {
                        "bin_start": 0,
                        "bin_end": 0.1,
                        "count": 0
                      },
                      {
                        "bin_start": 0.1,
                        "bin_end": 0.2,
                        "count": 0
                      },
                      {
                        "bin_start": 0.2,
                        "bin_end": 0.30000000000000004,
                        "count": 0
                      },
                      {
                        "bin_start": 0.30000000000000004,
                        "bin_end": 0.4,
                        "count": 0
                      },
                      {
                        "bin_start": 0.4,
                        "bin_end": 0.5,
                        "count": 0
                      },
                      {
                        "bin_start": 0.5,
                        "bin_end": 0.6000000000000001,
                        "count": 0
                      },
                      {
                        "bin_start": 0.6000000000000001,
                        "bin_end": 0.7000000000000001,
                        "count": 0
                      },
                      {
                        "bin_start": 0.7000000000000001,
                        "bin_end": 0.8,
                        "count": 0
                      },
                      {
                        "bin_start": 0.8,
                        "bin_end": 0.9,
                        "count": 0
                      },
                      {
                        "bin_start": 0.9,
                        "bin_end": 1,
                        "count": 0
                      }
                    ]
                  }
                },
                {
                  "name": "Geschlecht",
                  "dtype": "object",
                  "stats": {
                    "unique_count": 1,
                    "nan_count": 0,
                    "categories": [
                      {
                        "name": "männlich",
                        "count": 1
                      }
                    ]
                  }
                },
                {
                  "name": "Staatsangehörigkeit ",
                  "dtype": "object",
                  "stats": {
                    "unique_count": 1,
                    "nan_count": 0,
                    "categories": [
                      {
                        "name": "deutsch",
                        "count": 1
                      }
                    ]
                  }
                },
                {
                  "name": "Sind Sie derzeit an einer deutschen Universität immatrikuliert?",
                  "dtype": "object",
                  "stats": {
                    "unique_count": 1,
                    "nan_count": 0,
                    "categories": [
                      {
                        "name": "Ja",
                        "count": 1
                      }
                    ]
                  }
                },
                {
                  "name": "Welcher Studiengang wird von Ihnen derzeit belegt? (Bitte den vollständigen Studiengang angeben, z.B., \"Bachelor in Biologie\" oder \"Master in Psychologie\")",
                  "dtype": "object",
                  "stats": {
                    "unique_count": 1,
                    "nan_count": 0,
                    "categories": [
                      {
                        "name": "B.Sc. Wirtschaftsinformatik",
                        "count": 1
                      }
                    ]
                  }
                },
                {
                  "name": "In welchem Semester befinden Sie sich derzeit? (Bitte die genaue Semesterzahl angeben, z.B., \"3. Semester\" oder \"6. Semester\")",
                  "dtype": "float64",
                  "stats": {
                    "unique_count": 1,
                    "nan_count": 0,
                    "min": "6.0",
                    "max": "6.0",
                    "histogram": [
                      {
                        "bin_start": 5.5,
                        "bin_end": 5.6,
                        "count": 0
                      },
                      {
                        "bin_start": 5.6,
                        "bin_end": 5.7,
                        "count": 0
                      },
                      {
                        "bin_start": 5.7,
                        "bin_end": 5.8,
                        "count": 0
                      },
                      {
                        "bin_start": 5.8,
                        "bin_end": 5.9,
                        "count": 0
                      },
                      {
                        "bin_start": 5.9,
                        "bin_end": 6,
                        "count": 0
                      },
                      {
                        "bin_start": 6,
                        "bin_end": 6.1,
                        "count": 1
                      },
                      {
                        "bin_start": 6.1,
                        "bin_end": 6.2,
                        "count": 0
                      },
                      {
                        "bin_start": 6.2,
                        "bin_end": 6.3,
                        "count": 0
                      },
                      {
                        "bin_start": 6.3,
                        "bin_end": 6.4,
                        "count": 0
                      },
                      {
                        "bin_start": 6.4,
                        "bin_end": 6.5,
                        "count": 0
                      }
                    ]
                  }
                },
                {
                  "name": "Wie ist ihr aktueller Status auf das Studium bezogen?",
                  "dtype": "float64",
                  "stats": {
                    "unique_count": 0,
                    "nan_count": 1,
                    "min": null,
                    "max": null,
                    "histogram": [
                      {
                        "bin_start": 0,
                        "bin_end": 0.1,
                        "count": 0
                      },
                      {
                        "bin_start": 0.1,
                        "bin_end": 0.2,
                        "count": 0
                      },
                      {
                        "bin_start": 0.2,
                        "bin_end": 0.30000000000000004,
                        "count": 0
                      },
                      {
                        "bin_start": 0.30000000000000004,
                        "bin_end": 0.4,
                        "count": 0
                      },
                      {
                        "bin_start": 0.4,
                        "bin_end": 0.5,
                        "count": 0
                      },
                      {
                        "bin_start": 0.5,
                        "bin_end": 0.6000000000000001,
                        "count": 0
                      },
                      {
                        "bin_start": 0.6000000000000001,
                        "bin_end": 0.7000000000000001,
                        "count": 0
                      },
                      {
                        "bin_start": 0.7000000000000001,
                        "bin_end": 0.8,
                        "count": 0
                      },
                      {
                        "bin_start": 0.8,
                        "bin_end": 0.9,
                        "count": 0
                      },
                      {
                        "bin_start": 0.9,
                        "bin_end": 1,
                        "count": 0
                      }
                    ]
                  }
                },
                {
                  "name": "Leiden Sie an Epilepsie?",
                  "dtype": "object",
                  "stats": {
                    "unique_count": 1,
                    "nan_count": 0,
                    "categories": [
                      {
                        "name": "Nein",
                        "count": 1
                      }
                    ]
                  }
                },
                {
                  "name": "Leidet einer Ihrer Familienangehörigen unter Epilepsie?",
                  "dtype": "float64",
                  "stats": {
                    "unique_count": 0,
                    "nan_count": 1,
                    "min": null,
                    "max": null,
                    "histogram": [
                      {
                        "bin_start": 0,
                        "bin_end": 0.1,
                        "count": 0
                      },
                      {
                        "bin_start": 0.1,
                        "bin_end": 0.2,
                        "count": 0
                      },
                      {
                        "bin_start": 0.2,
                        "bin_end": 0.30000000000000004,
                        "count": 0
                      },
                      {
                        "bin_start": 0.30000000000000004,
                        "bin_end": 0.4,
                        "count": 0
                      },
                      {
                        "bin_start": 0.4,
                        "bin_end": 0.5,
                        "count": 0
                      },
                      {
                        "bin_start": 0.5,
                        "bin_end": 0.6000000000000001,
                        "count": 0
                      },
                      {
                        "bin_start": 0.6000000000000001,
                        "bin_end": 0.7000000000000001,
                        "count": 0
                      },
                      {
                        "bin_start": 0.7000000000000001,
                        "bin_end": 0.8,
                        "count": 0
                      },
                      {
                        "bin_start": 0.8,
                        "bin_end": 0.9,
                        "count": 0
                      },
                      {
                        "bin_start": 0.9,
                        "bin_end": 1,
                        "count": 0
                      }
                    ]
                  }
                },
                {
                  "name": "Wurde bei Ihnen von einem Arzt eine Schlafstörung diagnostiziert?",
                  "dtype": "object",
                  "stats": {
                    "unique_count": 1,
                    "nan_count": 0,
                    "categories": [
                      {
                        "name": "Nein",
                        "count": 1
                      }
                    ]
                  }
                },
                {
                  "name": "Leiden Sie unter einer chronischen Erkrankung? Wenn ja, geben Sie bitte an, um welche Erkrankung(en) es sich handelt.",
                  "dtype": "float64",
                  "stats": {
                    "unique_count": 0,
                    "nan_count": 1,
                    "min": null,
                    "max": null,
                    "histogram": [
                      {
                        "bin_start": 0,
                        "bin_end": 0.1,
                        "count": 0
                      },
                      {
                        "bin_start": 0.1,
                        "bin_end": 0.2,
                        "count": 0
                      },
                      {
                        "bin_start": 0.2,
                        "bin_end": 0.30000000000000004,
                        "count": 0
                      },
                      {
                        "bin_start": 0.30000000000000004,
                        "bin_end": 0.4,
                        "count": 0
                      },
                      {
                        "bin_start": 0.4,
                        "bin_end": 0.5,
                        "count": 0
                      },
                      {
                        "bin_start": 0.5,
                        "bin_end": 0.6000000000000001,
                        "count": 0
                      },
                      {
                        "bin_start": 0.6000000000000001,
                        "bin_end": 0.7000000000000001,
                        "count": 0
                      },
                      {
                        "bin_start": 0.7000000000000001,
                        "bin_end": 0.8,
                        "count": 0
                      },
                      {
                        "bin_start": 0.8,
                        "bin_end": 0.9,
                        "count": 0
                      },
                      {
                        "bin_start": 0.9,
                        "bin_end": 1,
                        "count": 0
                      }
                    ]
                  }
                },
                {
                  "name": "Nehmen Sie aktuell Medikamente ein? (Bitte auflisten)",
                  "dtype": "float64",
                  "stats": {
                    "unique_count": 0,
                    "nan_count": 1,
                    "min": null,
                    "max": null,
                    "histogram": [
                      {
                        "bin_start": 0,
                        "bin_end": 0.1,
                        "count": 0
                      },
                      {
                        "bin_start": 0.1,
                        "bin_end": 0.2,
                        "count": 0
                      },
                      {
                        "bin_start": 0.2,
                        "bin_end": 0.30000000000000004,
                        "count": 0
                      },
                      {
                        "bin_start": 0.30000000000000004,
                        "bin_end": 0.4,
                        "count": 0
                      },
                      {
                        "bin_start": 0.4,
                        "bin_end": 0.5,
                        "count": 0
                      },
                      {
                        "bin_start": 0.5,
                        "bin_end": 0.6000000000000001,
                        "count": 0
                      },
                      {
                        "bin_start": 0.6000000000000001,
                        "bin_end": 0.7000000000000001,
                        "count": 0
                      },
                      {
                        "bin_start": 0.7000000000000001,
                        "bin_end": 0.8,
                        "count": 0
                      },
                      {
                        "bin_start": 0.8,
                        "bin_end": 0.9,
                        "count": 0
                      },
                      {
                        "bin_start": 0.9,
                        "bin_end": 1,
                        "count": 0
                      }
                    ]
                  }
                },
                {
                  "name": "Nehmen Sie Drogen oder Substanzen ein, die den Schlaf beeinflussen können?",
                  "dtype": "object",
                  "stats": {
                    "unique_count": 1,
                    "nan_count": 0,
                    "categories": [
                      {
                        "name": "Nein",
                        "count": 1
                      }
                    ]
                  }
                },
                {
                  "name": "Wie bewerten Sie ihren aktuellen Gesundheitszustand?",
                  "dtype": "int64",
                  "stats": {
                    "unique_count": 1,
                    "nan_count": 0,
                    "min": "4",
                    "max": "4",
                    "histogram": [
                      {
                        "bin_start": 3.5,
                        "bin_end": 3.6,
                        "count": 0
                      },
                      {
                        "bin_start": 3.6,
                        "bin_end": 3.7,
                        "count": 0
                      },
                      {
                        "bin_start": 3.7,
                        "bin_end": 3.8,
                        "count": 0
                      },
                      {
                        "bin_start": 3.8,
                        "bin_end": 3.9,
                        "count": 0
                      },
                      {
                        "bin_start": 3.9,
                        "bin_end": 4,
                        "count": 0
                      },
                      {
                        "bin_start": 4,
                        "bin_end": 4.1,
                        "count": 1
                      },
                      {
                        "bin_start": 4.1,
                        "bin_end": 4.2,
                        "count": 0
                      },
                      {
                        "bin_start": 4.2,
                        "bin_end": 4.3,
                        "count": 0
                      },
                      {
                        "bin_start": 4.3,
                        "bin_end": 4.4,
                        "count": 0
                      },
                      {
                        "bin_start": 4.4,
                        "bin_end": 4.5,
                        "count": 0
                      }
                    ]
                  }
                },
                {
                  "name": "Wie bewerten Sie Ihren aktuellen psychischen Gesundheitszustand?",
                  "dtype": "float64",
                  "stats": {
                    "unique_count": 0,
                    "nan_count": 1,
                    "min": null,
                    "max": null,
                    "histogram": [
                      {
                        "bin_start": 0,
                        "bin_end": 0.1,
                        "count": 0
                      },
                      {
                        "bin_start": 0.1,
                        "bin_end": 0.2,
                        "count": 0
                      },
                      {
                        "bin_start": 0.2,
                        "bin_end": 0.30000000000000004,
                        "count": 0
                      },
                      {
                        "bin_start": 0.30000000000000004,
                        "bin_end": 0.4,
                        "count": 0
                      },
                      {
                        "bin_start": 0.4,
                        "bin_end": 0.5,
                        "count": 0
                      },
                      {
                        "bin_start": 0.5,
                        "bin_end": 0.6000000000000001,
                        "count": 0
                      },
                      {
                        "bin_start": 0.6000000000000001,
                        "bin_end": 0.7000000000000001,
                        "count": 0
                      },
                      {
                        "bin_start": 0.7000000000000001,
                        "bin_end": 0.8,
                        "count": 0
                      },
                      {
                        "bin_start": 0.8,
                        "bin_end": 0.9,
                        "count": 0
                      },
                      {
                        "bin_start": 0.9,
                        "bin_end": 1,
                        "count": 0
                      }
                    ]
                  }
                },
                {
                  "name": "Haben Sie in der Vergangenheit unter psychischen Problemen gelitten oder wurden Sie diesbezüglich behandelt? (Falls ja, geben Sie bitte an, um welche Probleme es sich handelte.)",
                  "dtype": "float64",
                  "stats": {
                    "unique_count": 0,
                    "nan_count": 1,
                    "min": null,
                    "max": null,
                    "histogram": [
                      {
                        "bin_start": 0,
                        "bin_end": 0.1,
                        "count": 0
                      },
                      {
                        "bin_start": 0.1,
                        "bin_end": 0.2,
                        "count": 0
                      },
                      {
                        "bin_start": 0.2,
                        "bin_end": 0.30000000000000004,
                        "count": 0
                      },
                      {
                        "bin_start": 0.30000000000000004,
                        "bin_end": 0.4,
                        "count": 0
                      },
                      {
                        "bin_start": 0.4,
                        "bin_end": 0.5,
                        "count": 0
                      },
                      {
                        "bin_start": 0.5,
                        "bin_end": 0.6000000000000001,
                        "count": 0
                      },
                      {
                        "bin_start": 0.6000000000000001,
                        "bin_end": 0.7000000000000001,
                        "count": 0
                      },
                      {
                        "bin_start": 0.7000000000000001,
                        "bin_end": 0.8,
                        "count": 0
                      },
                      {
                        "bin_start": 0.8,
                        "bin_end": 0.9,
                        "count": 0
                      },
                      {
                        "bin_start": 0.9,
                        "bin_end": 1,
                        "count": 0
                      }
                    ]
                  }
                },
                {
                  "name": "Rauchen Sie?",
                  "dtype": "object",
                  "stats": {
                    "unique_count": 1,
                    "nan_count": 0,
                    "categories": [
                      {
                        "name": "Nein",
                        "count": 1
                      }
                    ]
                  }
                },
                {
                  "name": "Konsumieren Sie Alkohol?",
                  "dtype": "object",
                  "stats": {
                    "unique_count": 1,
                    "nan_count": 0,
                    "categories": [
                      {
                        "name": "gelegentlich (1-2 mal pro Woche)",
                        "count": 1
                      }
                    ]
                  }
                },
                {
                  "name": "Wie oft sind Sie sportlich aktiv?",
                  "dtype": "object",
                  "stats": {
                    "unique_count": 1,
                    "nan_count": 0,
                    "categories": [
                      {
                        "name": "Mehrmals pro Woche",
                        "count": 1
                      }
                    ]
                  }
                },
                {
                  "name": "Wie sehr achten Sie auf eine ausgewogene Ernährung?",
                  "dtype": "int64",
                  "stats": {
                    "unique_count": 1,
                    "nan_count": 0,
                    "min": "2",
                    "max": "2",
                    "histogram": [
                      {
                        "bin_start": 1.5,
                        "bin_end": 1.6,
                        "count": 0
                      },
                      {
                        "bin_start": 1.6,
                        "bin_end": 1.7,
                        "count": 0
                      },
                      {
                        "bin_start": 1.7,
                        "bin_end": 1.8,
                        "count": 0
                      },
                      {
                        "bin_start": 1.8,
                        "bin_end": 1.9,
                        "count": 0
                      },
                      {
                        "bin_start": 1.9,
                        "bin_end": 2,
                        "count": 0
                      },
                      {
                        "bin_start": 2,
                        "bin_end": 2.1,
                        "count": 1
                      },
                      {
                        "bin_start": 2.1,
                        "bin_end": 2.2,
                        "count": 0
                      },
                      {
                        "bin_start": 2.2,
                        "bin_end": 2.3,
                        "count": 0
                      },
                      {
                        "bin_start": 2.3,
                        "bin_end": 2.4,
                        "count": 0
                      },
                      {
                        "bin_start": 2.4,
                        "bin_end": 2.5,
                        "count": 0
                      }
                    ]
                  }
                },
                {
                  "name": "Wie viel Koffein konsumieren Sie täglich? (z. B. zwei Tassen Kaffee/Energydrinks pro Tag)",
                  "dtype": "float64",
                  "stats": {
                    "unique_count": 0,
                    "nan_count": 1,
                    "min": null,
                    "max": null,
                    "histogram": [
                      {
                        "bin_start": 0,
                        "bin_end": 0.1,
                        "count": 0
                      },
                      {
                        "bin_start": 0.1,
                        "bin_end": 0.2,
                        "count": 0
                      },
                      {
                        "bin_start": 0.2,
                        "bin_end": 0.30000000000000004,
                        "count": 0
                      },
                      {
                        "bin_start": 0.30000000000000004,
                        "bin_end": 0.4,
                        "count": 0
                      },
                      {
                        "bin_start": 0.4,
                        "bin_end": 0.5,
                        "count": 0
                      },
                      {
                        "bin_start": 0.5,
                        "bin_end": 0.6000000000000001,
                        "count": 0
                      },
                      {
                        "bin_start": 0.6000000000000001,
                        "bin_end": 0.7000000000000001,
                        "count": 0
                      },
                      {
                        "bin_start": 0.7000000000000001,
                        "bin_end": 0.8,
                        "count": 0
                      },
                      {
                        "bin_start": 0.8,
                        "bin_end": 0.9,
                        "count": 0
                      },
                      {
                        "bin_start": 0.9,
                        "bin_end": 1,
                        "count": 0
                      }
                    ]
                  }
                },
                {
                  "name": "Wann nehmen Sie in der Regel Ihr letztes koffeinhaltiges Getränk zu sich? (z. B. 15:30 Uhr)",
                  "dtype": "float64",
                  "stats": {
                    "unique_count": 0,
                    "nan_count": 1,
                    "min": null,
                    "max": null,
                    "histogram": [
                      {
                        "bin_start": 0,
                        "bin_end": 0.1,
                        "count": 0
                      },
                      {
                        "bin_start": 0.1,
                        "bin_end": 0.2,
                        "count": 0
                      },
                      {
                        "bin_start": 0.2,
                        "bin_end": 0.30000000000000004,
                        "count": 0
                      },
                      {
                        "bin_start": 0.30000000000000004,
                        "bin_end": 0.4,
                        "count": 0
                      },
                      {
                        "bin_start": 0.4,
                        "bin_end": 0.5,
                        "count": 0
                      },
                      {
                        "bin_start": 0.5,
                        "bin_end": 0.6000000000000001,
                        "count": 0
                      },
                      {
                        "bin_start": 0.6000000000000001,
                        "bin_end": 0.7000000000000001,
                        "count": 0
                      },
                      {
                        "bin_start": 0.7000000000000001,
                        "bin_end": 0.8,
                        "count": 0
                      },
                      {
                        "bin_start": 0.8,
                        "bin_end": 0.9,
                        "count": 0
                      },
                      {
                        "bin_start": 0.9,
                        "bin_end": 1,
                        "count": 0
                      }
                    ]
                  }
                },
                {
                  "name": "Wie bewerten Sie Ihren Stresslevel in den letzten 1-2 Wochen?",
                  "dtype": "int64",
                  "stats": {
                    "unique_count": 1,
                    "nan_count": 0,
                    "min": "5",
                    "max": "5",
                    "histogram": [
                      {
                        "bin_start": 4.5,
                        "bin_end": 4.6,
                        "count": 0
                      },
                      {
                        "bin_start": 4.6,
                        "bin_end": 4.7,
                        "count": 0
                      },
                      {
                        "bin_start": 4.7,
                        "bin_end": 4.8,
                        "count": 0
                      },
                      {
                        "bin_start": 4.8,
                        "bin_end": 4.9,
                        "count": 0
                      },
                      {
                        "bin_start": 4.9,
                        "bin_end": 5,
                        "count": 0
                      },
                      {
                        "bin_start": 5,
                        "bin_end": 5.1,
                        "count": 1
                      },
                      {
                        "bin_start": 5.1,
                        "bin_end": 5.2,
                        "count": 0
                      },
                      {
                        "bin_start": 5.2,
                        "bin_end": 5.3,
                        "count": 0
                      },
                      {
                        "bin_start": 5.3,
                        "bin_end": 5.4,
                        "count": 0
                      },
                      {
                        "bin_start": 5.4,
                        "bin_end": 5.5,
                        "count": 0
                      }
                    ]
                  }
                },
                {
                  "name": "Welche stressreduzierenden Maßnahmen ergreifen Sie?",
                  "dtype": "object",
                  "stats": {
                    "unique_count": 1,
                    "nan_count": 0,
                    "categories": [
                      {
                        "name": "Lesen;Sport",
                        "count": 1
                      }
                    ]
                  }
                },
                {
                  "name": "Wie viele Stunden haben Sie durchschnittlich in den letzten 1-2 Wochen am Tageslicht verbracht?",
                  "dtype": "object",
                  "stats": {
                    "unique_count": 1,
                    "nan_count": 0,
                    "categories": [
                      {
                        "name": "1-2 Stunden pro Tag",
                        "count": 1
                      }
                    ]
                  }
                },
                {
                  "name": "Nutzen Sie eine Tageslichtlampe?",
                  "dtype": "object",
                  "stats": {
                    "unique_count": 1,
                    "nan_count": 0,
                    "categories": [
                      {
                        "name": "Nein, gar nicht",
                        "count": 1
                      }
                    ]
                  }
                },
                {
                  "name": "Wie bewerten Sie die Qualität Ihres aktuellen Schlafs in den letzten 1-2 Wochen?",
                  "dtype": "int64",
                  "stats": {
                    "unique_count": 1,
                    "nan_count": 0,
                    "min": "4",
                    "max": "4",
                    "histogram": [
                      {
                        "bin_start": 3.5,
                        "bin_end": 3.6,
                        "count": 0
                      },
                      {
                        "bin_start": 3.6,
                        "bin_end": 3.7,
                        "count": 0
                      },
                      {
                        "bin_start": 3.7,
                        "bin_end": 3.8,
                        "count": 0
                      },
                      {
                        "bin_start": 3.8,
                        "bin_end": 3.9,
                        "count": 0
                      },
                      {
                        "bin_start": 3.9,
                        "bin_end": 4,
                        "count": 0
                      },
                      {
                        "bin_start": 4,
                        "bin_end": 4.1,
                        "count": 1
                      },
                      {
                        "bin_start": 4.1,
                        "bin_end": 4.2,
                        "count": 0
                      },
                      {
                        "bin_start": 4.2,
                        "bin_end": 4.3,
                        "count": 0
                      },
                      {
                        "bin_start": 4.3,
                        "bin_end": 4.4,
                        "count": 0
                      },
                      {
                        "bin_start": 4.4,
                        "bin_end": 4.5,
                        "count": 0
                      }
                    ]
                  }
                },
                {
                  "name": "Wie viele Stunden schlafen Sie durchschnittlich pro Nacht?",
                  "dtype": "object",
                  "stats": {
                    "unique_count": 1,
                    "nan_count": 0,
                    "categories": [
                      {
                        "name": "5-6 Stunden",
                        "count": 1
                      }
                    ]
                  }
                },
                {
                  "name": "Wann gehen Sie üblicherweise zu Bett? (z. B. 22:30 Uhr)",
                  "dtype": "object",
                  "stats": {
                    "unique_count": 1,
                    "nan_count": 0,
                    "categories": [
                      {
                        "name": "1 Uhr",
                        "count": 1
                      }
                    ]
                  }
                },
                {
                  "name": "Wann stehen Sie üblicherweise auf? (z. B. 6:30 Uhr)",
                  "dtype": "object",
                  "stats": {
                    "unique_count": 1,
                    "nan_count": 0,
                    "categories": [
                      {
                        "name": "6:30 Uhr",
                        "count": 1
                      }
                    ]
                  }
                },
                {
                  "name": "Leiden Sie aktuell unter Schlafproblemen?",
                  "dtype": "object",
                  "stats": {
                    "unique_count": 1,
                    "nan_count": 0,
                    "categories": [
                      {
                        "name": "Nein",
                        "count": 1
                      }
                    ]
                  }
                },
                {
                  "name": "Gibt es in Ihrer Familie Personen, die unter Schlafstörungen leiden oder gelitten haben?",
                  "dtype": "float64",
                  "stats": {
                    "unique_count": 0,
                    "nan_count": 1,
                    "min": null,
                    "max": null,
                    "histogram": [
                      {
                        "bin_start": 0,
                        "bin_end": 0.1,
                        "count": 0
                      },
                      {
                        "bin_start": 0.1,
                        "bin_end": 0.2,
                        "count": 0
                      },
                      {
                        "bin_start": 0.2,
                        "bin_end": 0.30000000000000004,
                        "count": 0
                      },
                      {
                        "bin_start": 0.30000000000000004,
                        "bin_end": 0.4,
                        "count": 0
                      },
                      {
                        "bin_start": 0.4,
                        "bin_end": 0.5,
                        "count": 0
                      },
                      {
                        "bin_start": 0.5,
                        "bin_end": 0.6000000000000001,
                        "count": 0
                      },
                      {
                        "bin_start": 0.6000000000000001,
                        "bin_end": 0.7000000000000001,
                        "count": 0
                      },
                      {
                        "bin_start": 0.7000000000000001,
                        "bin_end": 0.8,
                        "count": 0
                      },
                      {
                        "bin_start": 0.8,
                        "bin_end": 0.9,
                        "count": 0
                      },
                      {
                        "bin_start": 0.9,
                        "bin_end": 1,
                        "count": 0
                      }
                    ]
                  }
                },
                {
                  "name": "Wie lange benötigen Sie durchschnittlich zum Einschlafen (z. B. 20 min)",
                  "dtype": "object",
                  "stats": {
                    "unique_count": 1,
                    "nan_count": 0,
                    "categories": [
                      {
                        "name": "10 min",
                        "count": 1
                      }
                    ]
                  }
                },
                {
                  "name": "Wie oft erwachen Sie nachts durchschnittlich? (z. B. 2 mal)",
                  "dtype": "object",
                  "stats": {
                    "unique_count": 1,
                    "nan_count": 0,
                    "categories": [
                      {
                        "name": "1x",
                        "count": 1
                      }
                    ]
                  }
                },
                {
                  "name": "Fühlen Sie sich nach dem Aufwachen erholt?",
                  "dtype": "object",
                  "stats": {
                    "unique_count": 1,
                    "nan_count": 0,
                    "categories": [
                      {
                        "name": "Nein",
                        "count": 1
                      }
                    ]
                  }
                },
                {
                  "name": "Wie viele Minuten bevor Sie schlafen gehen, schalten Sie Ihre elektronischen Geräte wie Smartphones, Tablets oder Computer ab? (z. B. 20 Minuten)",
                  "dtype": "float64",
                  "stats": {
                    "unique_count": 0,
                    "nan_count": 1,
                    "min": null,
                    "max": null,
                    "histogram": [
                      {
                        "bin_start": 0,
                        "bin_end": 0.1,
                        "count": 0
                      },
                      {
                        "bin_start": 0.1,
                        "bin_end": 0.2,
                        "count": 0
                      },
                      {
                        "bin_start": 0.2,
                        "bin_end": 0.30000000000000004,
                        "count": 0
                      },
                      {
                        "bin_start": 0.30000000000000004,
                        "bin_end": 0.4,
                        "count": 0
                      },
                      {
                        "bin_start": 0.4,
                        "bin_end": 0.5,
                        "count": 0
                      },
                      {
                        "bin_start": 0.5,
                        "bin_end": 0.6000000000000001,
                        "count": 0
                      },
                      {
                        "bin_start": 0.6000000000000001,
                        "bin_end": 0.7000000000000001,
                        "count": 0
                      },
                      {
                        "bin_start": 0.7000000000000001,
                        "bin_end": 0.8,
                        "count": 0
                      },
                      {
                        "bin_start": 0.8,
                        "bin_end": 0.9,
                        "count": 0
                      },
                      {
                        "bin_start": 0.9,
                        "bin_end": 1,
                        "count": 0
                      }
                    ]
                  }
                },
                {
                  "name": "Nehmen Sie aktuell Medikamente ein, um Ihren Schlaf zu verbessern? (Wenn ja, geben Sie bitte an, welche z. B. Neurexan)",
                  "dtype": "object",
                  "stats": {
                    "unique_count": 1,
                    "nan_count": 0,
                    "categories": [
                      {
                        "name": "Nein",
                        "count": 1
                      }
                    ]
                  }
                },
                {
                  "name": "Haben Sie in der Vergangenheit Medikamente verwendet, um besser schlafen zu können? (Wenn ja, geben Sie bitte an, welche z. B. Neurexan)",
                  "dtype": "float64",
                  "stats": {
                    "unique_count": 0,
                    "nan_count": 1,
                    "min": null,
                    "max": null,
                    "histogram": [
                      {
                        "bin_start": 0,
                        "bin_end": 0.1,
                        "count": 0
                      },
                      {
                        "bin_start": 0.1,
                        "bin_end": 0.2,
                        "count": 0
                      },
                      {
                        "bin_start": 0.2,
                        "bin_end": 0.30000000000000004,
                        "count": 0
                      },
                      {
                        "bin_start": 0.30000000000000004,
                        "bin_end": 0.4,
                        "count": 0
                      },
                      {
                        "bin_start": 0.4,
                        "bin_end": 0.5,
                        "count": 0
                      },
                      {
                        "bin_start": 0.5,
                        "bin_end": 0.6000000000000001,
                        "count": 0
                      },
                      {
                        "bin_start": 0.6000000000000001,
                        "bin_end": 0.7000000000000001,
                        "count": 0
                      },
                      {
                        "bin_start": 0.7000000000000001,
                        "bin_end": 0.8,
                        "count": 0
                      },
                      {
                        "bin_start": 0.8,
                        "bin_end": 0.9,
                        "count": 0
                      },
                      {
                        "bin_start": 0.9,
                        "bin_end": 1,
                        "count": 0
                      }
                    ]
                  }
                },
                {
                  "name": "Neigen Sie dazu, tagsüber einzuschlafen?",
                  "dtype": "object",
                  "stats": {
                    "unique_count": 1,
                    "nan_count": 0,
                    "categories": [
                      {
                        "name": "Nein",
                        "count": 1
                      }
                    ]
                  }
                },
                {
                  "name": "Haben Sie Schwierigkeiten, sich tagsüber zu konzentrieren?",
                  "dtype": "object",
                  "stats": {
                    "unique_count": 1,
                    "nan_count": 0,
                    "categories": [
                      {
                        "name": "Ja",
                        "count": 1
                      }
                    ]
                  }
                },
                {
                  "name": "Sind Sie bereit, sich einer 10-tägigen Intervention zu unterziehen?",
                  "dtype": "object",
                  "stats": {
                    "unique_count": 1,
                    "nan_count": 0,
                    "categories": [
                      {
                        "name": "Ja",
                        "count": 1
                      }
                    ]
                  }
                },
                {
                  "name": "Sind Sie bereit, einen Gedächtnistest vor und nach der Intervention zu absolvieren? (hierfür wird ein Laptop oder Computer benötigt)",
                  "dtype": "object",
                  "stats": {
                    "unique_count": 1,
                    "nan_count": 0,
                    "categories": [
                      {
                        "name": "Ja",
                        "count": 1
                      }
                    ]
                  }
                },
                {
                  "name": "Sind Sie bereit, für den Zeitraum der Intervention auf Drogen, einschließlich Alkohol und Nikotin, zu verzichten?",
                  "dtype": "object",
                  "stats": {
                    "unique_count": 1,
                    "nan_count": 0,
                    "categories": [
                      {
                        "name": "Ja",
                        "count": 1
                      }
                    ]
                  }
                },
                {
                  "name": "Einverständniserklärung:\nIch erkläre mich freiwillig bereit, an der Studie teilzunehmen, und habe alle Fragen wahrheitsgemäß beantwortet. Mir ist bewusst, dass ich jederzeit meine Teilnahme ohne Angabe von Gründen abbrechen kann.",
                  "dtype": "object",
                  "stats": {
                    "unique_count": 1,
                    "nan_count": 0,
                    "categories": [
                      {
                        "name": "Ja",
                        "count": 1
                      }
                    ]
                  }
                },
                {
                  "name": "Datenschutz:\nIch habe die Datenschutzvereinbarungen der Studie gelesen und stimme diesen zu.",
                  "dtype": "float64",
                  "stats": {
                    "unique_count": 0,
                    "nan_count": 1,
                    "min": null,
                    "max": null,
                    "histogram": [
                      {
                        "bin_start": 0,
                        "bin_end": 0.1,
                        "count": 0
                      },
                      {
                        "bin_start": 0.1,
                        "bin_end": 0.2,
                        "count": 0
                      },
                      {
                        "bin_start": 0.2,
                        "bin_end": 0.30000000000000004,
                        "count": 0
                      },
                      {
                        "bin_start": 0.30000000000000004,
                        "bin_end": 0.4,
                        "count": 0
                      },
                      {
                        "bin_start": 0.4,
                        "bin_end": 0.5,
                        "count": 0
                      },
                      {
                        "bin_start": 0.5,
                        "bin_end": 0.6000000000000001,
                        "count": 0
                      },
                      {
                        "bin_start": 0.6000000000000001,
                        "bin_end": 0.7000000000000001,
                        "count": 0
                      },
                      {
                        "bin_start": 0.7000000000000001,
                        "bin_end": 0.8,
                        "count": 0
                      },
                      {
                        "bin_start": 0.8,
                        "bin_end": 0.9,
                        "count": 0
                      },
                      {
                        "bin_start": 0.9,
                        "bin_end": 1,
                        "count": 0
                      }
                    ]
                  }
                },
                {
                  "name": "Ausschlusskriterien:\nMir ist bewusst, dass Epileptiker, Personen mit diagnostizierten Schlafstörungen, sowie Personen, die Medikamente oder Substanzen einnehmen, die den Schlaf beeinflussen können, von der Studie ausgeschlossen werden.",
                  "dtype": "object",
                  "stats": {
                    "unique_count": 1,
                    "nan_count": 0,
                    "categories": [
                      {
                        "name": "Ja",
                        "count": 1
                      }
                    ]
                  }
                },
                {
                  "name": "_deepnote_index_column",
                  "dtype": "int64"
                }
              ],
              "rows": [
                {
                  "Zeitstempel": "2024/02/07 12:13:04 AM MEZ",
                  "Nachname": "Poloczek",
                  "Vorname": "Maurice",
                  "Geburtsdatum": "1997-07-17",
                  "Adresse": "Hofener Straße 90",
                  "Mailadresse": "poloczekmaurice@gmail.com",
                  "Telefonnummer": "nan",
                  "Geschlecht": "männlich",
                  "Staatsangehörigkeit ": "deutsch",
                  "Sind Sie derzeit an einer deutschen Universität immatrikuliert?": "Ja",
                  "Welcher Studiengang wird von Ihnen derzeit belegt? (Bitte den vollständigen Studiengang angeben, z.B., \"Bachelor in Biologie\" oder \"Master in Psychologie\")": "B.Sc. Wirtschaftsinformatik",
                  "In welchem Semester befinden Sie sich derzeit? (Bitte die genaue Semesterzahl angeben, z.B., \"3. Semester\" oder \"6. Semester\")": 6,
                  "Wie ist ihr aktueller Status auf das Studium bezogen?": "nan",
                  "Leiden Sie an Epilepsie?": "Nein",
                  "Leidet einer Ihrer Familienangehörigen unter Epilepsie?": "nan",
                  "Wurde bei Ihnen von einem Arzt eine Schlafstörung diagnostiziert?": "Nein",
                  "Leiden Sie unter einer chronischen Erkrankung? Wenn ja, geben Sie bitte an, um welche Erkrankung(en) es sich handelt.": "nan",
                  "Nehmen Sie aktuell Medikamente ein? (Bitte auflisten)": "nan",
                  "Nehmen Sie Drogen oder Substanzen ein, die den Schlaf beeinflussen können?": "Nein",
                  "Wie bewerten Sie ihren aktuellen Gesundheitszustand?": 4,
                  "Wie bewerten Sie Ihren aktuellen psychischen Gesundheitszustand?": "nan",
                  "Haben Sie in der Vergangenheit unter psychischen Problemen gelitten oder wurden Sie diesbezüglich behandelt? (Falls ja, geben Sie bitte an, um welche Probleme es sich handelte.)": "nan",
                  "Rauchen Sie?": "Nein",
                  "Konsumieren Sie Alkohol?": "gelegentlich (1-2 mal pro Woche)",
                  "Wie oft sind Sie sportlich aktiv?": "Mehrmals pro Woche",
                  "Wie sehr achten Sie auf eine ausgewogene Ernährung?": 2,
                  "Wie viel Koffein konsumieren Sie täglich? (z. B. zwei Tassen Kaffee/Energydrinks pro Tag)": "nan",
                  "Wann nehmen Sie in der Regel Ihr letztes koffeinhaltiges Getränk zu sich? (z. B. 15:30 Uhr)": "nan",
                  "Wie bewerten Sie Ihren Stresslevel in den letzten 1-2 Wochen?": 5,
                  "Welche stressreduzierenden Maßnahmen ergreifen Sie?": "Lesen;Sport",
                  "Wie viele Stunden haben Sie durchschnittlich in den letzten 1-2 Wochen am Tageslicht verbracht?": "1-2 Stunden pro Tag",
                  "Nutzen Sie eine Tageslichtlampe?": "Nein, gar nicht",
                  "Wie bewerten Sie die Qualität Ihres aktuellen Schlafs in den letzten 1-2 Wochen?": 4,
                  "Wie viele Stunden schlafen Sie durchschnittlich pro Nacht?": "5-6 Stunden",
                  "Wann gehen Sie üblicherweise zu Bett? (z. B. 22:30 Uhr)": "1 Uhr",
                  "Wann stehen Sie üblicherweise auf? (z. B. 6:30 Uhr)": "6:30 Uhr",
                  "Leiden Sie aktuell unter Schlafproblemen?": "Nein",
                  "Gibt es in Ihrer Familie Personen, die unter Schlafstörungen leiden oder gelitten haben?": "nan",
                  "Wie lange benötigen Sie durchschnittlich zum Einschlafen (z. B. 20 min)": "10 min",
                  "Wie oft erwachen Sie nachts durchschnittlich? (z. B. 2 mal)": "1x",
                  "Fühlen Sie sich nach dem Aufwachen erholt?": "Nein",
                  "Wie viele Minuten bevor Sie schlafen gehen, schalten Sie Ihre elektronischen Geräte wie Smartphones, Tablets oder Computer ab? (z. B. 20 Minuten)": "nan",
                  "Nehmen Sie aktuell Medikamente ein, um Ihren Schlaf zu verbessern? (Wenn ja, geben Sie bitte an, welche z. B. Neurexan)": "Nein",
                  "Haben Sie in der Vergangenheit Medikamente verwendet, um besser schlafen zu können? (Wenn ja, geben Sie bitte an, welche z. B. Neurexan)": "nan",
                  "Neigen Sie dazu, tagsüber einzuschlafen?": "Nein",
                  "Haben Sie Schwierigkeiten, sich tagsüber zu konzentrieren?": "Ja",
                  "Sind Sie bereit, sich einer 10-tägigen Intervention zu unterziehen?": "Ja",
                  "Sind Sie bereit, einen Gedächtnistest vor und nach der Intervention zu absolvieren? (hierfür wird ein Laptop oder Computer benötigt)": "Ja",
                  "Sind Sie bereit, für den Zeitraum der Intervention auf Drogen, einschließlich Alkohol und Nikotin, zu verzichten?": "Ja",
                  "Einverständniserklärung:\nIch erkläre mich freiwillig bereit, an der Studie teilzunehmen, und habe alle Fragen wahrheitsgemäß beantwortet. Mir ist bewusst, dass ich jederzeit meine Teilnahme ohne Angabe von Gründen abbrechen kann.": "Ja",
                  "Datenschutz:\nIch habe die Datenschutzvereinbarungen der Studie gelesen und stimme diesen zu.": "nan",
                  "Ausschlusskriterien:\nMir ist bewusst, dass Epileptiker, Personen mit diagnostizierten Schlafstörungen, sowie Personen, die Medikamente oder Substanzen einnehmen, die den Schlaf beeinflussen können, von der Studie ausgeschlossen werden.": "Ja",
                  "_deepnote_index_column": 0
                }
              ]
            },
            "text/plain": "                  Zeitstempel  Nachname  Vorname Geburtsdatum  \\\n0  2024/02/07 12:13:04 AM MEZ  Poloczek  Maurice   1997-07-17   \n\n             Adresse                Mailadresse  Telefonnummer Geschlecht  \\\n0  Hofener Straße 90  poloczekmaurice@gmail.com            NaN   männlich   \n\n  Staatsangehörigkeit   \\\n0              deutsch   \n\n  Sind Sie derzeit an einer deutschen Universität immatrikuliert?  ...  \\\n0                                                 Ja               ...   \n\n  Nehmen Sie aktuell Medikamente ein, um Ihren Schlaf zu verbessern? (Wenn ja, geben Sie bitte an, welche z. B. Neurexan)  \\\n0                                               Nein                                                                        \n\n   Haben Sie in der Vergangenheit Medikamente verwendet, um besser schlafen zu können? (Wenn ja, geben Sie bitte an, welche z. B. Neurexan)  \\\n0                                                NaN                                                                                          \n\n   Neigen Sie dazu, tagsüber einzuschlafen?  \\\n0                                      Nein   \n\n  Haben Sie Schwierigkeiten, sich tagsüber zu konzentrieren?  \\\n0                                                 Ja           \n\n   Sind Sie bereit, sich einer 10-tägigen Intervention zu unterziehen?  \\\n0                                                 Ja                     \n\n  Sind Sie bereit, einen Gedächtnistest vor und nach der Intervention zu absolvieren? (hierfür wird ein Laptop oder Computer benötigt)  \\\n0                                                 Ja                                                                                     \n\n   Sind Sie bereit, für den Zeitraum der Intervention auf Drogen, einschließlich Alkohol und Nikotin, zu verzichten?  \\\n0                                                 Ja                                                                   \n\n   Einverständniserklärung:\\nIch erkläre mich freiwillig bereit, an der Studie teilzunehmen, und habe alle Fragen wahrheitsgemäß beantwortet. Mir ist bewusst, dass ich jederzeit meine Teilnahme ohne Angabe von Gründen abbrechen kann.  \\\n0                                                 Ja                                                                                                                                                                                        \n\n  Datenschutz:\\nIch habe die Datenschutzvereinbarungen der Studie gelesen und stimme diesen zu.  \\\n0                                                NaN                                              \n\n   Ausschlusskriterien:\\nMir ist bewusst, dass Epileptiker, Personen mit diagnostizierten Schlafstörungen, sowie Personen, die Medikamente oder Substanzen einnehmen, die den Schlaf beeinflussen können, von der Studie ausgeschlossen werden.  \n0                                                 Ja                                                                                                                                                                                             \n\n[1 rows x 52 columns]",
            "text/html": "<div>\n<style scoped>\n    .dataframe tbody tr th:only-of-type {\n        vertical-align: middle;\n    }\n\n    .dataframe tbody tr th {\n        vertical-align: top;\n    }\n\n    .dataframe thead th {\n        text-align: right;\n    }\n</style>\n<table border=\"1\" class=\"dataframe\">\n  <thead>\n    <tr style=\"text-align: right;\">\n      <th></th>\n      <th>Zeitstempel</th>\n      <th>Nachname</th>\n      <th>Vorname</th>\n      <th>Geburtsdatum</th>\n      <th>Adresse</th>\n      <th>Mailadresse</th>\n      <th>Telefonnummer</th>\n      <th>Geschlecht</th>\n      <th>Staatsangehörigkeit</th>\n      <th>Sind Sie derzeit an einer deutschen Universität immatrikuliert?</th>\n      <th>...</th>\n      <th>Nehmen Sie aktuell Medikamente ein, um Ihren Schlaf zu verbessern? (Wenn ja, geben Sie bitte an, welche z. B. Neurexan)</th>\n      <th>Haben Sie in der Vergangenheit Medikamente verwendet, um besser schlafen zu können? (Wenn ja, geben Sie bitte an, welche z. B. Neurexan)</th>\n      <th>Neigen Sie dazu, tagsüber einzuschlafen?</th>\n      <th>Haben Sie Schwierigkeiten, sich tagsüber zu konzentrieren?</th>\n      <th>Sind Sie bereit, sich einer 10-tägigen Intervention zu unterziehen?</th>\n      <th>Sind Sie bereit, einen Gedächtnistest vor und nach der Intervention zu absolvieren? (hierfür wird ein Laptop oder Computer benötigt)</th>\n      <th>Sind Sie bereit, für den Zeitraum der Intervention auf Drogen, einschließlich Alkohol und Nikotin, zu verzichten?</th>\n      <th>Einverständniserklärung:\\nIch erkläre mich freiwillig bereit, an der Studie teilzunehmen, und habe alle Fragen wahrheitsgemäß beantwortet. Mir ist bewusst, dass ich jederzeit meine Teilnahme ohne Angabe von Gründen abbrechen kann.</th>\n      <th>Datenschutz:\\nIch habe die Datenschutzvereinbarungen der Studie gelesen und stimme diesen zu.</th>\n      <th>Ausschlusskriterien:\\nMir ist bewusst, dass Epileptiker, Personen mit diagnostizierten Schlafstörungen, sowie Personen, die Medikamente oder Substanzen einnehmen, die den Schlaf beeinflussen können, von der Studie ausgeschlossen werden.</th>\n    </tr>\n  </thead>\n  <tbody>\n    <tr>\n      <th>0</th>\n      <td>2024/02/07 12:13:04 AM MEZ</td>\n      <td>Poloczek</td>\n      <td>Maurice</td>\n      <td>1997-07-17</td>\n      <td>Hofener Straße 90</td>\n      <td>poloczekmaurice@gmail.com</td>\n      <td>NaN</td>\n      <td>männlich</td>\n      <td>deutsch</td>\n      <td>Ja</td>\n      <td>...</td>\n      <td>Nein</td>\n      <td>NaN</td>\n      <td>Nein</td>\n      <td>Ja</td>\n      <td>Ja</td>\n      <td>Ja</td>\n      <td>Ja</td>\n      <td>Ja</td>\n      <td>NaN</td>\n      <td>Ja</td>\n    </tr>\n  </tbody>\n</table>\n<p>1 rows × 52 columns</p>\n</div>"
          },
          "metadata": {}
        }
      ],
      "outputs_reference": null,
      "execution_count": 2,
      "block_group": "509a7eb673bd49c0973f18d9a2e3bdd6",
      "content_dependencies": null
    },
    {
      "cell_type": "markdown",
      "source": "### Morning Protocol",
      "metadata": {
        "cell_id": "26efc3be7e184bbb84ce70d6fdc3dfd0",
        "deepnote_cell_type": "markdown"
      },
      "block_group": "7b54ec12f5ba489994e6f84675eacac9"
    },
    {
      "cell_type": "code",
      "source": "morgen_protokoll = pd.read_csv('Morgen-Protokoll mit Intervention.csv')\nmorgen_protokoll.head()",
      "metadata": {
        "source_hash": "38a1211f",
        "execution_start": 1731627222454,
        "execution_millis": 61,
        "execution_context_id": "51b4ef2b-c299-4bc8-8282-12e112dd08f6",
        "cell_id": "cdb423da8d364124bc943dda98515da4",
        "deepnote_cell_type": "code"
      },
      "outputs": [
        {
          "output_type": "execute_result",
          "execution_count": 3,
          "data": {
            "application/vnd.deepnote.dataframe.v3+json": {
              "column_count": 20,
              "row_count": 1,
              "columns": [
                {
                  "name": "Zeitstempel",
                  "dtype": "object",
                  "stats": {
                    "unique_count": 1,
                    "nan_count": 0,
                    "categories": [
                      {
                        "name": "2024/05/28 9:17:57 AM MEZ",
                        "count": 1
                      }
                    ]
                  }
                },
                {
                  "name": "Wie unbeschwert fühlen Sie sich jetzt?",
                  "dtype": "int64",
                  "stats": {
                    "unique_count": 1,
                    "nan_count": 0,
                    "min": "5",
                    "max": "5",
                    "histogram": [
                      {
                        "bin_start": 4.5,
                        "bin_end": 4.6,
                        "count": 0
                      },
                      {
                        "bin_start": 4.6,
                        "bin_end": 4.7,
                        "count": 0
                      },
                      {
                        "bin_start": 4.7,
                        "bin_end": 4.8,
                        "count": 0
                      },
                      {
                        "bin_start": 4.8,
                        "bin_end": 4.9,
                        "count": 0
                      },
                      {
                        "bin_start": 4.9,
                        "bin_end": 5,
                        "count": 0
                      },
                      {
                        "bin_start": 5,
                        "bin_end": 5.1,
                        "count": 1
                      },
                      {
                        "bin_start": 5.1,
                        "bin_end": 5.2,
                        "count": 0
                      },
                      {
                        "bin_start": 5.2,
                        "bin_end": 5.3,
                        "count": 0
                      },
                      {
                        "bin_start": 5.3,
                        "bin_end": 5.4,
                        "count": 0
                      },
                      {
                        "bin_start": 5.4,
                        "bin_end": 5.5,
                        "count": 0
                      }
                    ]
                  }
                },
                {
                  "name": "Wie frisch fühlen Sie sich jetzt?",
                  "dtype": "int64",
                  "stats": {
                    "unique_count": 1,
                    "nan_count": 0,
                    "min": "4",
                    "max": "4",
                    "histogram": [
                      {
                        "bin_start": 3.5,
                        "bin_end": 3.6,
                        "count": 0
                      },
                      {
                        "bin_start": 3.6,
                        "bin_end": 3.7,
                        "count": 0
                      },
                      {
                        "bin_start": 3.7,
                        "bin_end": 3.8,
                        "count": 0
                      },
                      {
                        "bin_start": 3.8,
                        "bin_end": 3.9,
                        "count": 0
                      },
                      {
                        "bin_start": 3.9,
                        "bin_end": 4,
                        "count": 0
                      },
                      {
                        "bin_start": 4,
                        "bin_end": 4.1,
                        "count": 1
                      },
                      {
                        "bin_start": 4.1,
                        "bin_end": 4.2,
                        "count": 0
                      },
                      {
                        "bin_start": 4.2,
                        "bin_end": 4.3,
                        "count": 0
                      },
                      {
                        "bin_start": 4.3,
                        "bin_end": 4.4,
                        "count": 0
                      },
                      {
                        "bin_start": 4.4,
                        "bin_end": 4.5,
                        "count": 0
                      }
                    ]
                  }
                },
                {
                  "name": "Wie entspannt fühlen Sie sich jetzt?",
                  "dtype": "int64",
                  "stats": {
                    "unique_count": 1,
                    "nan_count": 0,
                    "min": "4",
                    "max": "4",
                    "histogram": [
                      {
                        "bin_start": 3.5,
                        "bin_end": 3.6,
                        "count": 0
                      },
                      {
                        "bin_start": 3.6,
                        "bin_end": 3.7,
                        "count": 0
                      },
                      {
                        "bin_start": 3.7,
                        "bin_end": 3.8,
                        "count": 0
                      },
                      {
                        "bin_start": 3.8,
                        "bin_end": 3.9,
                        "count": 0
                      },
                      {
                        "bin_start": 3.9,
                        "bin_end": 4,
                        "count": 0
                      },
                      {
                        "bin_start": 4,
                        "bin_end": 4.1,
                        "count": 1
                      },
                      {
                        "bin_start": 4.1,
                        "bin_end": 4.2,
                        "count": 0
                      },
                      {
                        "bin_start": 4.2,
                        "bin_end": 4.3,
                        "count": 0
                      },
                      {
                        "bin_start": 4.3,
                        "bin_end": 4.4,
                        "count": 0
                      },
                      {
                        "bin_start": 4.4,
                        "bin_end": 4.5,
                        "count": 0
                      }
                    ]
                  }
                },
                {
                  "name": "Wie erholsam war Ihr Schlaf?",
                  "dtype": "int64",
                  "stats": {
                    "unique_count": 1,
                    "nan_count": 0,
                    "min": "2",
                    "max": "2",
                    "histogram": [
                      {
                        "bin_start": 1.5,
                        "bin_end": 1.6,
                        "count": 0
                      },
                      {
                        "bin_start": 1.6,
                        "bin_end": 1.7,
                        "count": 0
                      },
                      {
                        "bin_start": 1.7,
                        "bin_end": 1.8,
                        "count": 0
                      },
                      {
                        "bin_start": 1.8,
                        "bin_end": 1.9,
                        "count": 0
                      },
                      {
                        "bin_start": 1.9,
                        "bin_end": 2,
                        "count": 0
                      },
                      {
                        "bin_start": 2,
                        "bin_end": 2.1,
                        "count": 1
                      },
                      {
                        "bin_start": 2.1,
                        "bin_end": 2.2,
                        "count": 0
                      },
                      {
                        "bin_start": 2.2,
                        "bin_end": 2.3,
                        "count": 0
                      },
                      {
                        "bin_start": 2.3,
                        "bin_end": 2.4,
                        "count": 0
                      },
                      {
                        "bin_start": 2.4,
                        "bin_end": 2.5,
                        "count": 0
                      }
                    ]
                  }
                },
                {
                  "name": "Um wie viel Uhr haben Sie gestern im Bett gelegen und das Licht gelöscht? (z. B. 22:30 Uhr)",
                  "dtype": "object",
                  "stats": {
                    "unique_count": 1,
                    "nan_count": 0,
                    "categories": [
                      {
                        "name": "23:00",
                        "count": 1
                      }
                    ]
                  }
                },
                {
                  "name": "Wie lange hat es anschließend gedauert, bis Sie einschliefen? (ca. 20 Minuten)",
                  "dtype": "object",
                  "stats": {
                    "unique_count": 1,
                    "nan_count": 0,
                    "categories": [
                      {
                        "name": "5min",
                        "count": 1
                      }
                    ]
                  }
                },
                {
                  "name": "Waren Sie nachts wach? Wenn ja, wie oft? Und wie lange insgesamt? (z. B. 2 Mal, insgesamt ca. 20 Minuten)",
                  "dtype": "object",
                  "stats": {
                    "unique_count": 1,
                    "nan_count": 0,
                    "categories": [
                      {
                        "name": "nein",
                        "count": 1
                      }
                    ]
                  }
                },
                {
                  "name": "Sofern Sie schlecht geschlafen haben, woran hat es gelegen? (Mehrfach Auswahl möglich)",
                  "dtype": "float64",
                  "stats": {
                    "unique_count": 0,
                    "nan_count": 1,
                    "min": null,
                    "max": null,
                    "histogram": [
                      {
                        "bin_start": 0,
                        "bin_end": 0.1,
                        "count": 0
                      },
                      {
                        "bin_start": 0.1,
                        "bin_end": 0.2,
                        "count": 0
                      },
                      {
                        "bin_start": 0.2,
                        "bin_end": 0.30000000000000004,
                        "count": 0
                      },
                      {
                        "bin_start": 0.30000000000000004,
                        "bin_end": 0.4,
                        "count": 0
                      },
                      {
                        "bin_start": 0.4,
                        "bin_end": 0.5,
                        "count": 0
                      },
                      {
                        "bin_start": 0.5,
                        "bin_end": 0.6000000000000001,
                        "count": 0
                      },
                      {
                        "bin_start": 0.6000000000000001,
                        "bin_end": 0.7000000000000001,
                        "count": 0
                      },
                      {
                        "bin_start": 0.7000000000000001,
                        "bin_end": 0.8,
                        "count": 0
                      },
                      {
                        "bin_start": 0.8,
                        "bin_end": 0.9,
                        "count": 0
                      },
                      {
                        "bin_start": 0.9,
                        "bin_end": 1,
                        "count": 0
                      }
                    ]
                  }
                },
                {
                  "name": "Haben Sie nachts geträumt? Wenn ja:",
                  "dtype": "object",
                  "stats": {
                    "unique_count": 1,
                    "nan_count": 0,
                    "categories": [
                      {
                        "name": "mittel",
                        "count": 1
                      }
                    ]
                  }
                },
                {
                  "name": "Haben Sie nachts geträumt? Wenn ja:.1",
                  "dtype": "object",
                  "stats": {
                    "unique_count": 1,
                    "nan_count": 0,
                    "categories": [
                      {
                        "name": "angenehm",
                        "count": 1
                      }
                    ]
                  }
                },
                {
                  "name": "Wann sind Sie endgültig aufgewacht? (z. B. 8:30 Uhr)",
                  "dtype": "object",
                  "stats": {
                    "unique_count": 1,
                    "nan_count": 0,
                    "categories": [
                      {
                        "name": "08:30",
                        "count": 1
                      }
                    ]
                  }
                },
                {
                  "name": "Wurden Sie zuletzt...",
                  "dtype": "object",
                  "stats": {
                    "unique_count": 1,
                    "nan_count": 0,
                    "categories": [
                      {
                        "name": "von alleine wach",
                        "count": 1
                      }
                    ]
                  }
                },
                {
                  "name": "Wie lange haben Sie insgesamt geschlafen? (ca. 6 Stunden 45 Minuten)",
                  "dtype": "object",
                  "stats": {
                    "unique_count": 1,
                    "nan_count": 0,
                    "categories": [
                      {
                        "name": "9:30h",
                        "count": 1
                      }
                    ]
                  }
                },
                {
                  "name": "Wann sind Sie heute morgen endgültig aufgestanden? (haben das Bett verlassen)\nz. B. 6:45 Uhr",
                  "dtype": "object",
                  "stats": {
                    "unique_count": 1,
                    "nan_count": 0,
                    "categories": [
                      {
                        "name": "08:35",
                        "count": 1
                      }
                    ]
                  }
                },
                {
                  "name": "Um wie viel Uhr haben Sie gestern Abend die visuelle Gehirnwellen-Stimulation angewendet? (z. B. 21:30 Uhr)",
                  "dtype": "float64",
                  "stats": {
                    "unique_count": 0,
                    "nan_count": 1,
                    "min": null,
                    "max": null,
                    "histogram": [
                      {
                        "bin_start": 0,
                        "bin_end": 0.1,
                        "count": 0
                      },
                      {
                        "bin_start": 0.1,
                        "bin_end": 0.2,
                        "count": 0
                      },
                      {
                        "bin_start": 0.2,
                        "bin_end": 0.30000000000000004,
                        "count": 0
                      },
                      {
                        "bin_start": 0.30000000000000004,
                        "bin_end": 0.4,
                        "count": 0
                      },
                      {
                        "bin_start": 0.4,
                        "bin_end": 0.5,
                        "count": 0
                      },
                      {
                        "bin_start": 0.5,
                        "bin_end": 0.6000000000000001,
                        "count": 0
                      },
                      {
                        "bin_start": 0.6000000000000001,
                        "bin_end": 0.7000000000000001,
                        "count": 0
                      },
                      {
                        "bin_start": 0.7000000000000001,
                        "bin_end": 0.8,
                        "count": 0
                      },
                      {
                        "bin_start": 0.8,
                        "bin_end": 0.9,
                        "count": 0
                      },
                      {
                        "bin_start": 0.9,
                        "bin_end": 1,
                        "count": 0
                      }
                    ]
                  }
                },
                {
                  "name": "Wie haben Sie sich gestern nach der Anwendung der visuellen Gehirnwellen-Stimulation gefühlt?",
                  "dtype": "int64",
                  "stats": {
                    "unique_count": 1,
                    "nan_count": 0,
                    "min": "1",
                    "max": "1",
                    "histogram": [
                      {
                        "bin_start": 0.5,
                        "bin_end": 0.6,
                        "count": 0
                      },
                      {
                        "bin_start": 0.6,
                        "bin_end": 0.7,
                        "count": 0
                      },
                      {
                        "bin_start": 0.7,
                        "bin_end": 0.8,
                        "count": 0
                      },
                      {
                        "bin_start": 0.8,
                        "bin_end": 0.9,
                        "count": 0
                      },
                      {
                        "bin_start": 0.9,
                        "bin_end": 1,
                        "count": 0
                      },
                      {
                        "bin_start": 1,
                        "bin_end": 1.1,
                        "count": 1
                      },
                      {
                        "bin_start": 1.1,
                        "bin_end": 1.2000000000000002,
                        "count": 0
                      },
                      {
                        "bin_start": 1.2000000000000002,
                        "bin_end": 1.3,
                        "count": 0
                      },
                      {
                        "bin_start": 1.3,
                        "bin_end": 1.4,
                        "count": 0
                      },
                      {
                        "bin_start": 1.4,
                        "bin_end": 1.5,
                        "count": 0
                      }
                    ]
                  }
                },
                {
                  "name": "Wie haben Sie die Anwendung gestern Abend wahrgenommen?",
                  "dtype": "int64",
                  "stats": {
                    "unique_count": 1,
                    "nan_count": 0,
                    "min": "1",
                    "max": "1",
                    "histogram": [
                      {
                        "bin_start": 0.5,
                        "bin_end": 0.6,
                        "count": 0
                      },
                      {
                        "bin_start": 0.6,
                        "bin_end": 0.7,
                        "count": 0
                      },
                      {
                        "bin_start": 0.7,
                        "bin_end": 0.8,
                        "count": 0
                      },
                      {
                        "bin_start": 0.8,
                        "bin_end": 0.9,
                        "count": 0
                      },
                      {
                        "bin_start": 0.9,
                        "bin_end": 1,
                        "count": 0
                      },
                      {
                        "bin_start": 1,
                        "bin_end": 1.1,
                        "count": 1
                      },
                      {
                        "bin_start": 1.1,
                        "bin_end": 1.2000000000000002,
                        "count": 0
                      },
                      {
                        "bin_start": 1.2000000000000002,
                        "bin_end": 1.3,
                        "count": 0
                      },
                      {
                        "bin_start": 1.3,
                        "bin_end": 1.4,
                        "count": 0
                      },
                      {
                        "bin_start": 1.4,
                        "bin_end": 1.5,
                        "count": 0
                      }
                    ]
                  }
                },
                {
                  "name": "Hatten Sie nach der Anwendung irgendwelche unerwünschten Effekte? (z. B. Kopfschmerzen, innere Unruhe)",
                  "dtype": "object",
                  "stats": {
                    "unique_count": 1,
                    "nan_count": 0,
                    "categories": [
                      {
                        "name": "-",
                        "count": 1
                      }
                    ]
                  }
                },
                {
                  "name": "Hat sich sonst noch irgendetwas Außergewöhnliches ereignet, teilen Sie es uns bitte in Ihren eigenen Worten mit:",
                  "dtype": "float64",
                  "stats": {
                    "unique_count": 0,
                    "nan_count": 1,
                    "min": null,
                    "max": null,
                    "histogram": [
                      {
                        "bin_start": 0,
                        "bin_end": 0.1,
                        "count": 0
                      },
                      {
                        "bin_start": 0.1,
                        "bin_end": 0.2,
                        "count": 0
                      },
                      {
                        "bin_start": 0.2,
                        "bin_end": 0.30000000000000004,
                        "count": 0
                      },
                      {
                        "bin_start": 0.30000000000000004,
                        "bin_end": 0.4,
                        "count": 0
                      },
                      {
                        "bin_start": 0.4,
                        "bin_end": 0.5,
                        "count": 0
                      },
                      {
                        "bin_start": 0.5,
                        "bin_end": 0.6000000000000001,
                        "count": 0
                      },
                      {
                        "bin_start": 0.6000000000000001,
                        "bin_end": 0.7000000000000001,
                        "count": 0
                      },
                      {
                        "bin_start": 0.7000000000000001,
                        "bin_end": 0.8,
                        "count": 0
                      },
                      {
                        "bin_start": 0.8,
                        "bin_end": 0.9,
                        "count": 0
                      },
                      {
                        "bin_start": 0.9,
                        "bin_end": 1,
                        "count": 0
                      }
                    ]
                  }
                },
                {
                  "name": "_deepnote_index_column",
                  "dtype": "int64"
                }
              ],
              "rows": [
                {
                  "Zeitstempel": "2024/05/28 9:17:57 AM MEZ",
                  "Wie unbeschwert fühlen Sie sich jetzt?": 5,
                  "Wie frisch fühlen Sie sich jetzt?": 4,
                  "Wie entspannt fühlen Sie sich jetzt?": 4,
                  "Wie erholsam war Ihr Schlaf?": 2,
                  "Um wie viel Uhr haben Sie gestern im Bett gelegen und das Licht gelöscht? (z. B. 22:30 Uhr)": "23:00",
                  "Wie lange hat es anschließend gedauert, bis Sie einschliefen? (ca. 20 Minuten)": "5min",
                  "Waren Sie nachts wach? Wenn ja, wie oft? Und wie lange insgesamt? (z. B. 2 Mal, insgesamt ca. 20 Minuten)": "nein",
                  "Sofern Sie schlecht geschlafen haben, woran hat es gelegen? (Mehrfach Auswahl möglich)": "nan",
                  "Haben Sie nachts geträumt? Wenn ja:": "mittel",
                  "Haben Sie nachts geträumt? Wenn ja:.1": "angenehm",
                  "Wann sind Sie endgültig aufgewacht? (z. B. 8:30 Uhr)": "08:30",
                  "Wurden Sie zuletzt...": "von alleine wach",
                  "Wie lange haben Sie insgesamt geschlafen? (ca. 6 Stunden 45 Minuten)": "9:30h",
                  "Wann sind Sie heute morgen endgültig aufgestanden? (haben das Bett verlassen)\nz. B. 6:45 Uhr": "08:35",
                  "Um wie viel Uhr haben Sie gestern Abend die visuelle Gehirnwellen-Stimulation angewendet? (z. B. 21:30 Uhr)": "nan",
                  "Wie haben Sie sich gestern nach der Anwendung der visuellen Gehirnwellen-Stimulation gefühlt?": 1,
                  "Wie haben Sie die Anwendung gestern Abend wahrgenommen?": 1,
                  "Hatten Sie nach der Anwendung irgendwelche unerwünschten Effekte? (z. B. Kopfschmerzen, innere Unruhe)": "-",
                  "Hat sich sonst noch irgendetwas Außergewöhnliches ereignet, teilen Sie es uns bitte in Ihren eigenen Worten mit:": "nan",
                  "_deepnote_index_column": 0
                }
              ]
            },
            "text/plain": "                 Zeitstempel  Wie unbeschwert fühlen Sie sich jetzt?  \\\n0  2024/05/28 9:17:57 AM MEZ                                       5   \n\n   Wie frisch fühlen Sie sich jetzt?  Wie entspannt fühlen Sie sich jetzt?  \\\n0                                  4                                     4   \n\n   Wie erholsam war Ihr Schlaf?  \\\n0                             2   \n\n  Um wie viel Uhr haben Sie gestern im Bett gelegen und das Licht gelöscht? (z. B. 22:30 Uhr)  \\\n0                                              23:00                                            \n\n  Wie lange hat es anschließend gedauert, bis Sie einschliefen? (ca. 20 Minuten)  \\\n0                                               5min                               \n\n  Waren Sie nachts wach? Wenn ja, wie oft? Und wie lange insgesamt? (z. B. 2 Mal, insgesamt ca. 20 Minuten)  \\\n0                                               nein                                                          \n\n   Sofern Sie schlecht geschlafen haben, woran hat es gelegen? (Mehrfach Auswahl möglich)  \\\n0                                                NaN                                        \n\n  Haben Sie nachts geträumt? Wenn ja: Haben Sie nachts geträumt? Wenn ja:.1  \\\n0                              mittel                              angenehm   \n\n  Wann sind Sie endgültig aufgewacht? (z. B. 8:30 Uhr) Wurden Sie zuletzt...  \\\n0                                              08:30        von alleine wach   \n\n  Wie lange haben Sie insgesamt geschlafen? (ca. 6 Stunden 45 Minuten)  \\\n0                                              9:30h                     \n\n  Wann sind Sie heute morgen endgültig aufgestanden? (haben das Bett verlassen)\\nz. B. 6:45 Uhr  \\\n0                                              08:35                                              \n\n   Um wie viel Uhr haben Sie gestern Abend die visuelle Gehirnwellen-Stimulation angewendet? (z. B. 21:30 Uhr)  \\\n0                                                NaN                                                             \n\n   Wie haben Sie sich gestern nach der Anwendung der visuellen Gehirnwellen-Stimulation gefühlt?  \\\n0                                                  1                                               \n\n   Wie haben Sie die Anwendung gestern Abend wahrgenommen?  \\\n0                                                  1         \n\n  Hatten Sie nach der Anwendung irgendwelche unerwünschten Effekte? (z. B. Kopfschmerzen, innere Unruhe)  \\\n0                                                  -                                                       \n\n   Hat sich sonst noch irgendetwas Außergewöhnliches ereignet, teilen Sie es uns bitte in Ihren eigenen Worten mit:  \n0                                                NaN                                                                 ",
            "text/html": "<div>\n<style scoped>\n    .dataframe tbody tr th:only-of-type {\n        vertical-align: middle;\n    }\n\n    .dataframe tbody tr th {\n        vertical-align: top;\n    }\n\n    .dataframe thead th {\n        text-align: right;\n    }\n</style>\n<table border=\"1\" class=\"dataframe\">\n  <thead>\n    <tr style=\"text-align: right;\">\n      <th></th>\n      <th>Zeitstempel</th>\n      <th>Wie unbeschwert fühlen Sie sich jetzt?</th>\n      <th>Wie frisch fühlen Sie sich jetzt?</th>\n      <th>Wie entspannt fühlen Sie sich jetzt?</th>\n      <th>Wie erholsam war Ihr Schlaf?</th>\n      <th>Um wie viel Uhr haben Sie gestern im Bett gelegen und das Licht gelöscht? (z. B. 22:30 Uhr)</th>\n      <th>Wie lange hat es anschließend gedauert, bis Sie einschliefen? (ca. 20 Minuten)</th>\n      <th>Waren Sie nachts wach? Wenn ja, wie oft? Und wie lange insgesamt? (z. B. 2 Mal, insgesamt ca. 20 Minuten)</th>\n      <th>Sofern Sie schlecht geschlafen haben, woran hat es gelegen? (Mehrfach Auswahl möglich)</th>\n      <th>Haben Sie nachts geträumt? Wenn ja:</th>\n      <th>Haben Sie nachts geträumt? Wenn ja:.1</th>\n      <th>Wann sind Sie endgültig aufgewacht? (z. B. 8:30 Uhr)</th>\n      <th>Wurden Sie zuletzt...</th>\n      <th>Wie lange haben Sie insgesamt geschlafen? (ca. 6 Stunden 45 Minuten)</th>\n      <th>Wann sind Sie heute morgen endgültig aufgestanden? (haben das Bett verlassen)\\nz. B. 6:45 Uhr</th>\n      <th>Um wie viel Uhr haben Sie gestern Abend die visuelle Gehirnwellen-Stimulation angewendet? (z. B. 21:30 Uhr)</th>\n      <th>Wie haben Sie sich gestern nach der Anwendung der visuellen Gehirnwellen-Stimulation gefühlt?</th>\n      <th>Wie haben Sie die Anwendung gestern Abend wahrgenommen?</th>\n      <th>Hatten Sie nach der Anwendung irgendwelche unerwünschten Effekte? (z. B. Kopfschmerzen, innere Unruhe)</th>\n      <th>Hat sich sonst noch irgendetwas Außergewöhnliches ereignet, teilen Sie es uns bitte in Ihren eigenen Worten mit:</th>\n    </tr>\n  </thead>\n  <tbody>\n    <tr>\n      <th>0</th>\n      <td>2024/05/28 9:17:57 AM MEZ</td>\n      <td>5</td>\n      <td>4</td>\n      <td>4</td>\n      <td>2</td>\n      <td>23:00</td>\n      <td>5min</td>\n      <td>nein</td>\n      <td>NaN</td>\n      <td>mittel</td>\n      <td>angenehm</td>\n      <td>08:30</td>\n      <td>von alleine wach</td>\n      <td>9:30h</td>\n      <td>08:35</td>\n      <td>NaN</td>\n      <td>1</td>\n      <td>1</td>\n      <td>-</td>\n      <td>NaN</td>\n    </tr>\n  </tbody>\n</table>\n</div>"
          },
          "metadata": {}
        }
      ],
      "outputs_reference": null,
      "execution_count": 3,
      "block_group": "26342296d7e9491fa25ce758606a1050",
      "content_dependencies": null
    },
    {
      "cell_type": "markdown",
      "source": "### Evening Protocol",
      "metadata": {
        "cell_id": "5b74a81e187547738a5031c0a973f9ea",
        "deepnote_cell_type": "markdown"
      },
      "block_group": "fd2ce3d6658c4ea895ddaad53e40433e"
    },
    {
      "cell_type": "code",
      "source": "abend_protokoll = pd.read_csv('Abend-Protokoll.csv')\nabend_protokoll.head()",
      "metadata": {
        "source_hash": "4ffc4d06",
        "execution_start": 1731627222562,
        "execution_millis": 47,
        "execution_context_id": "7e035b5a-6799-4610-adc3-539516df27b5",
        "cell_id": "719484ae7df14ad9aa29db88aeb54ce2",
        "deepnote_cell_type": "code"
      },
      "outputs": [
        {
          "output_type": "execute_result",
          "execution_count": 4,
          "data": {
            "application/vnd.deepnote.dataframe.v3+json": {
              "column_count": 16,
              "row_count": 1,
              "columns": [
                {
                  "name": "Zeitstempel",
                  "dtype": "object",
                  "stats": {
                    "unique_count": 1,
                    "nan_count": 0,
                    "categories": [
                      {
                        "name": "2024/05/28 7:47:13 PM MEZ",
                        "count": 1
                      }
                    ]
                  }
                },
                {
                  "name": " Wie unbeschwert fühlen Sie sich jetzt?",
                  "dtype": "int64",
                  "stats": {
                    "unique_count": 1,
                    "nan_count": 0,
                    "min": "5",
                    "max": "5",
                    "histogram": [
                      {
                        "bin_start": 4.5,
                        "bin_end": 4.6,
                        "count": 0
                      },
                      {
                        "bin_start": 4.6,
                        "bin_end": 4.7,
                        "count": 0
                      },
                      {
                        "bin_start": 4.7,
                        "bin_end": 4.8,
                        "count": 0
                      },
                      {
                        "bin_start": 4.8,
                        "bin_end": 4.9,
                        "count": 0
                      },
                      {
                        "bin_start": 4.9,
                        "bin_end": 5,
                        "count": 0
                      },
                      {
                        "bin_start": 5,
                        "bin_end": 5.1,
                        "count": 1
                      },
                      {
                        "bin_start": 5.1,
                        "bin_end": 5.2,
                        "count": 0
                      },
                      {
                        "bin_start": 5.2,
                        "bin_end": 5.3,
                        "count": 0
                      },
                      {
                        "bin_start": 5.3,
                        "bin_end": 5.4,
                        "count": 0
                      },
                      {
                        "bin_start": 5.4,
                        "bin_end": 5.5,
                        "count": 0
                      }
                    ]
                  }
                },
                {
                  "name": "Wie frisch fühlen Sie sich jetzt?",
                  "dtype": "int64",
                  "stats": {
                    "unique_count": 1,
                    "nan_count": 0,
                    "min": "4",
                    "max": "4",
                    "histogram": [
                      {
                        "bin_start": 3.5,
                        "bin_end": 3.6,
                        "count": 0
                      },
                      {
                        "bin_start": 3.6,
                        "bin_end": 3.7,
                        "count": 0
                      },
                      {
                        "bin_start": 3.7,
                        "bin_end": 3.8,
                        "count": 0
                      },
                      {
                        "bin_start": 3.8,
                        "bin_end": 3.9,
                        "count": 0
                      },
                      {
                        "bin_start": 3.9,
                        "bin_end": 4,
                        "count": 0
                      },
                      {
                        "bin_start": 4,
                        "bin_end": 4.1,
                        "count": 1
                      },
                      {
                        "bin_start": 4.1,
                        "bin_end": 4.2,
                        "count": 0
                      },
                      {
                        "bin_start": 4.2,
                        "bin_end": 4.3,
                        "count": 0
                      },
                      {
                        "bin_start": 4.3,
                        "bin_end": 4.4,
                        "count": 0
                      },
                      {
                        "bin_start": 4.4,
                        "bin_end": 4.5,
                        "count": 0
                      }
                    ]
                  }
                },
                {
                  "name": "Wie entspannt fühlen Sie sich jetzt?",
                  "dtype": "int64",
                  "stats": {
                    "unique_count": 1,
                    "nan_count": 0,
                    "min": "3",
                    "max": "3",
                    "histogram": [
                      {
                        "bin_start": 2.5,
                        "bin_end": 2.6,
                        "count": 0
                      },
                      {
                        "bin_start": 2.6,
                        "bin_end": 2.7,
                        "count": 0
                      },
                      {
                        "bin_start": 2.7,
                        "bin_end": 2.8,
                        "count": 0
                      },
                      {
                        "bin_start": 2.8,
                        "bin_end": 2.9,
                        "count": 0
                      },
                      {
                        "bin_start": 2.9,
                        "bin_end": 3,
                        "count": 0
                      },
                      {
                        "bin_start": 3,
                        "bin_end": 3.1,
                        "count": 1
                      },
                      {
                        "bin_start": 3.1,
                        "bin_end": 3.2,
                        "count": 0
                      },
                      {
                        "bin_start": 3.2,
                        "bin_end": 3.3,
                        "count": 0
                      },
                      {
                        "bin_start": 3.3,
                        "bin_end": 3.4,
                        "count": 0
                      },
                      {
                        "bin_start": 3.4,
                        "bin_end": 3.5,
                        "count": 0
                      }
                    ]
                  }
                },
                {
                  "name": "Wie war Ihre durchschnittliche Leistungsfähigkeit heute?",
                  "dtype": "int64",
                  "stats": {
                    "unique_count": 1,
                    "nan_count": 0,
                    "min": "4",
                    "max": "4",
                    "histogram": [
                      {
                        "bin_start": 3.5,
                        "bin_end": 3.6,
                        "count": 0
                      },
                      {
                        "bin_start": 3.6,
                        "bin_end": 3.7,
                        "count": 0
                      },
                      {
                        "bin_start": 3.7,
                        "bin_end": 3.8,
                        "count": 0
                      },
                      {
                        "bin_start": 3.8,
                        "bin_end": 3.9,
                        "count": 0
                      },
                      {
                        "bin_start": 3.9,
                        "bin_end": 4,
                        "count": 0
                      },
                      {
                        "bin_start": 4,
                        "bin_end": 4.1,
                        "count": 1
                      },
                      {
                        "bin_start": 4.1,
                        "bin_end": 4.2,
                        "count": 0
                      },
                      {
                        "bin_start": 4.2,
                        "bin_end": 4.3,
                        "count": 0
                      },
                      {
                        "bin_start": 4.3,
                        "bin_end": 4.4,
                        "count": 0
                      },
                      {
                        "bin_start": 4.4,
                        "bin_end": 4.5,
                        "count": 0
                      }
                    ]
                  }
                },
                {
                  "name": "Wie war Ihre durchschnittliche Konzentrationsfähigkeit heute?",
                  "dtype": "int64",
                  "stats": {
                    "unique_count": 1,
                    "nan_count": 0,
                    "min": "5",
                    "max": "5",
                    "histogram": [
                      {
                        "bin_start": 4.5,
                        "bin_end": 4.6,
                        "count": 0
                      },
                      {
                        "bin_start": 4.6,
                        "bin_end": 4.7,
                        "count": 0
                      },
                      {
                        "bin_start": 4.7,
                        "bin_end": 4.8,
                        "count": 0
                      },
                      {
                        "bin_start": 4.8,
                        "bin_end": 4.9,
                        "count": 0
                      },
                      {
                        "bin_start": 4.9,
                        "bin_end": 5,
                        "count": 0
                      },
                      {
                        "bin_start": 5,
                        "bin_end": 5.1,
                        "count": 1
                      },
                      {
                        "bin_start": 5.1,
                        "bin_end": 5.2,
                        "count": 0
                      },
                      {
                        "bin_start": 5.2,
                        "bin_end": 5.3,
                        "count": 0
                      },
                      {
                        "bin_start": 5.3,
                        "bin_end": 5.4,
                        "count": 0
                      },
                      {
                        "bin_start": 5.4,
                        "bin_end": 5.5,
                        "count": 0
                      }
                    ]
                  }
                },
                {
                  "name": "Wie war Ihre Stimmung heute?",
                  "dtype": "int64",
                  "stats": {
                    "unique_count": 1,
                    "nan_count": 0,
                    "min": "4",
                    "max": "4",
                    "histogram": [
                      {
                        "bin_start": 3.5,
                        "bin_end": 3.6,
                        "count": 0
                      },
                      {
                        "bin_start": 3.6,
                        "bin_end": 3.7,
                        "count": 0
                      },
                      {
                        "bin_start": 3.7,
                        "bin_end": 3.8,
                        "count": 0
                      },
                      {
                        "bin_start": 3.8,
                        "bin_end": 3.9,
                        "count": 0
                      },
                      {
                        "bin_start": 3.9,
                        "bin_end": 4,
                        "count": 0
                      },
                      {
                        "bin_start": 4,
                        "bin_end": 4.1,
                        "count": 1
                      },
                      {
                        "bin_start": 4.1,
                        "bin_end": 4.2,
                        "count": 0
                      },
                      {
                        "bin_start": 4.2,
                        "bin_end": 4.3,
                        "count": 0
                      },
                      {
                        "bin_start": 4.3,
                        "bin_end": 4.4,
                        "count": 0
                      },
                      {
                        "bin_start": 4.4,
                        "bin_end": 4.5,
                        "count": 0
                      }
                    ]
                  }
                },
                {
                  "name": "Haben Sie sich heute müde oder erschöpft gefühlt? (zwei Antworten möglich) Wenn ja:",
                  "dtype": "object",
                  "stats": {
                    "unique_count": 1,
                    "nan_count": 0,
                    "categories": [
                      {
                        "name": "ein wenig müde;ein wenig erschöpft",
                        "count": 1
                      }
                    ]
                  }
                },
                {
                  "name": "Haben Sie heute tagsüber geschlafen? Wenn ja:\nWie lange insgesamt? (z. B. ca. 1 Stunde 15 Minuten)\nWie oft? (z. B. 1 Mal)\nWann? (z. B. 14:30 - 15:45 Uhr)",
                  "dtype": "object",
                  "stats": {
                    "unique_count": 1,
                    "nan_count": 0,
                    "categories": [
                      {
                        "name": "-",
                        "count": 1
                      }
                    ]
                  }
                },
                {
                  "name": "Waren Sie heute sportlich aktiv? Wenn ja:\nWie lange? (z. B. 45 Minuten)\nWelche Sportart? (z. B. Joggen oder Yoga)\nWann? (z. B. 15:00 - 15:45 Uhr)",
                  "dtype": "object",
                  "stats": {
                    "unique_count": 1,
                    "nan_count": 0,
                    "categories": [
                      {
                        "name": "-",
                        "count": 1
                      }
                    ]
                  }
                },
                {
                  "name": "Wann haben Sie ca. die letzte Mahlzeit zu sich genommen? (z. B. 19:30 Uhr)",
                  "dtype": "object",
                  "stats": {
                    "unique_count": 1,
                    "nan_count": 0,
                    "categories": [
                      {
                        "name": "20:15",
                        "count": 1
                      }
                    ]
                  }
                },
                {
                  "name": "Wann haben Sie heute zuletzt Koffein zu sich genommen? (z. B. 16:00 Uhr)",
                  "dtype": "object",
                  "stats": {
                    "unique_count": 1,
                    "nan_count": 0,
                    "categories": [
                      {
                        "name": "12:45",
                        "count": 1
                      }
                    ]
                  }
                },
                {
                  "name": "Wie viele Stunden/Minuten haben Sie heute ca. am Tageslicht verbracht? (z. B. ca. 2 Stunden 30 Minuten)",
                  "dtype": "object",
                  "stats": {
                    "unique_count": 1,
                    "nan_count": 0,
                    "categories": [
                      {
                        "name": "2h",
                        "count": 1
                      }
                    ]
                  }
                },
                {
                  "name": "Wie viele Stunden/Minuten haben Sie heute ca. vor einem Bildschirm verbracht? (z. B. ca. 1 Stunden 30 Minuten)",
                  "dtype": "object",
                  "stats": {
                    "unique_count": 1,
                    "nan_count": 0,
                    "categories": [
                      {
                        "name": "6h",
                        "count": 1
                      }
                    ]
                  }
                },
                {
                  "name": "Hat es für Sie heute besonders starke Belastungen gegeben? Wenn ja:",
                  "dtype": "float64",
                  "stats": {
                    "unique_count": 0,
                    "nan_count": 1,
                    "min": null,
                    "max": null,
                    "histogram": [
                      {
                        "bin_start": 0,
                        "bin_end": 0.1,
                        "count": 0
                      },
                      {
                        "bin_start": 0.1,
                        "bin_end": 0.2,
                        "count": 0
                      },
                      {
                        "bin_start": 0.2,
                        "bin_end": 0.30000000000000004,
                        "count": 0
                      },
                      {
                        "bin_start": 0.30000000000000004,
                        "bin_end": 0.4,
                        "count": 0
                      },
                      {
                        "bin_start": 0.4,
                        "bin_end": 0.5,
                        "count": 0
                      },
                      {
                        "bin_start": 0.5,
                        "bin_end": 0.6000000000000001,
                        "count": 0
                      },
                      {
                        "bin_start": 0.6000000000000001,
                        "bin_end": 0.7000000000000001,
                        "count": 0
                      },
                      {
                        "bin_start": 0.7000000000000001,
                        "bin_end": 0.8,
                        "count": 0
                      },
                      {
                        "bin_start": 0.8,
                        "bin_end": 0.9,
                        "count": 0
                      },
                      {
                        "bin_start": 0.9,
                        "bin_end": 1,
                        "count": 0
                      }
                    ]
                  }
                },
                {
                  "name": "Hat sich heute irgendetwas Außergewöhnliches ereignet, teilen Sie es uns bitte in Ihren eigenen Worten mit:",
                  "dtype": "object",
                  "stats": {
                    "unique_count": 1,
                    "nan_count": 0,
                    "categories": [
                      {
                        "name": "Habe spontan einen Podcast mit einem Obdachlosen aufgenommen, das war mega krass",
                        "count": 1
                      }
                    ]
                  }
                },
                {
                  "name": "_deepnote_index_column",
                  "dtype": "int64"
                }
              ],
              "rows": [
                {
                  "Zeitstempel": "2024/05/28 7:47:13 PM MEZ",
                  " Wie unbeschwert fühlen Sie sich jetzt?": 5,
                  "Wie frisch fühlen Sie sich jetzt?": 4,
                  "Wie entspannt fühlen Sie sich jetzt?": 3,
                  "Wie war Ihre durchschnittliche Leistungsfähigkeit heute?": 4,
                  "Wie war Ihre durchschnittliche Konzentrationsfähigkeit heute?": 5,
                  "Wie war Ihre Stimmung heute?": 4,
                  "Haben Sie sich heute müde oder erschöpft gefühlt? (zwei Antworten möglich) Wenn ja:": "ein wenig müde;ein wenig erschöpft",
                  "Haben Sie heute tagsüber geschlafen? Wenn ja:\nWie lange insgesamt? (z. B. ca. 1 Stunde 15 Minuten)\nWie oft? (z. B. 1 Mal)\nWann? (z. B. 14:30 - 15:45 Uhr)": "-",
                  "Waren Sie heute sportlich aktiv? Wenn ja:\nWie lange? (z. B. 45 Minuten)\nWelche Sportart? (z. B. Joggen oder Yoga)\nWann? (z. B. 15:00 - 15:45 Uhr)": "-",
                  "Wann haben Sie ca. die letzte Mahlzeit zu sich genommen? (z. B. 19:30 Uhr)": "20:15",
                  "Wann haben Sie heute zuletzt Koffein zu sich genommen? (z. B. 16:00 Uhr)": "12:45",
                  "Wie viele Stunden/Minuten haben Sie heute ca. am Tageslicht verbracht? (z. B. ca. 2 Stunden 30 Minuten)": "2h",
                  "Wie viele Stunden/Minuten haben Sie heute ca. vor einem Bildschirm verbracht? (z. B. ca. 1 Stunden 30 Minuten)": "6h",
                  "Hat es für Sie heute besonders starke Belastungen gegeben? Wenn ja:": "nan",
                  "Hat sich heute irgendetwas Außergewöhnliches ereignet, teilen Sie es uns bitte in Ihren eigenen Worten mit:": "Habe spontan einen Podcast mit einem Obdachlosen aufgenommen, das war mega krass",
                  "_deepnote_index_column": 0
                }
              ]
            },
            "text/plain": "                 Zeitstempel   Wie unbeschwert fühlen Sie sich jetzt?  \\\n0  2024/05/28 7:47:13 PM MEZ                                        5   \n\n   Wie frisch fühlen Sie sich jetzt?  Wie entspannt fühlen Sie sich jetzt?  \\\n0                                  4                                     3   \n\n   Wie war Ihre durchschnittliche Leistungsfähigkeit heute?  \\\n0                                                  4          \n\n   Wie war Ihre durchschnittliche Konzentrationsfähigkeit heute?  \\\n0                                                  5               \n\n   Wie war Ihre Stimmung heute?  \\\n0                             4   \n\n  Haben Sie sich heute müde oder erschöpft gefühlt? (zwei Antworten möglich) Wenn ja:  \\\n0                 ein wenig müde;ein wenig erschöpft                                    \n\n  Haben Sie heute tagsüber geschlafen? Wenn ja:\\nWie lange insgesamt? (z. B. ca. 1 Stunde 15 Minuten)\\nWie oft? (z. B. 1 Mal)\\nWann? (z. B. 14:30 - 15:45 Uhr)  \\\n0                                                  -                                                                                                             \n\n  Waren Sie heute sportlich aktiv? Wenn ja:\\nWie lange? (z. B. 45 Minuten)\\nWelche Sportart? (z. B. Joggen oder Yoga)\\nWann? (z. B. 15:00 - 15:45 Uhr)  \\\n0                                                  -                                                                                                     \n\n  Wann haben Sie ca. die letzte Mahlzeit zu sich genommen? (z. B. 19:30 Uhr)  \\\n0                                              20:15                           \n\n  Wann haben Sie heute zuletzt Koffein zu sich genommen? (z. B. 16:00 Uhr)  \\\n0                                              12:45                         \n\n  Wie viele Stunden/Minuten haben Sie heute ca. am Tageslicht verbracht? (z. B. ca. 2 Stunden 30 Minuten)  \\\n0                                                 2h                                                        \n\n  Wie viele Stunden/Minuten haben Sie heute ca. vor einem Bildschirm verbracht? (z. B. ca. 1 Stunden 30 Minuten)  \\\n0                                                 6h                                                               \n\n   Hat es für Sie heute besonders starke Belastungen gegeben? Wenn ja:  \\\n0                                                NaN                     \n\n  Hat sich heute irgendetwas Außergewöhnliches ereignet, teilen Sie es uns bitte in Ihren eigenen Worten mit:  \n0  Habe spontan einen Podcast mit einem Obdachlos...                                                           ",
            "text/html": "<div>\n<style scoped>\n    .dataframe tbody tr th:only-of-type {\n        vertical-align: middle;\n    }\n\n    .dataframe tbody tr th {\n        vertical-align: top;\n    }\n\n    .dataframe thead th {\n        text-align: right;\n    }\n</style>\n<table border=\"1\" class=\"dataframe\">\n  <thead>\n    <tr style=\"text-align: right;\">\n      <th></th>\n      <th>Zeitstempel</th>\n      <th>Wie unbeschwert fühlen Sie sich jetzt?</th>\n      <th>Wie frisch fühlen Sie sich jetzt?</th>\n      <th>Wie entspannt fühlen Sie sich jetzt?</th>\n      <th>Wie war Ihre durchschnittliche Leistungsfähigkeit heute?</th>\n      <th>Wie war Ihre durchschnittliche Konzentrationsfähigkeit heute?</th>\n      <th>Wie war Ihre Stimmung heute?</th>\n      <th>Haben Sie sich heute müde oder erschöpft gefühlt? (zwei Antworten möglich) Wenn ja:</th>\n      <th>Haben Sie heute tagsüber geschlafen? Wenn ja:\\nWie lange insgesamt? (z. B. ca. 1 Stunde 15 Minuten)\\nWie oft? (z. B. 1 Mal)\\nWann? (z. B. 14:30 - 15:45 Uhr)</th>\n      <th>Waren Sie heute sportlich aktiv? Wenn ja:\\nWie lange? (z. B. 45 Minuten)\\nWelche Sportart? (z. B. Joggen oder Yoga)\\nWann? (z. B. 15:00 - 15:45 Uhr)</th>\n      <th>Wann haben Sie ca. die letzte Mahlzeit zu sich genommen? (z. B. 19:30 Uhr)</th>\n      <th>Wann haben Sie heute zuletzt Koffein zu sich genommen? (z. B. 16:00 Uhr)</th>\n      <th>Wie viele Stunden/Minuten haben Sie heute ca. am Tageslicht verbracht? (z. B. ca. 2 Stunden 30 Minuten)</th>\n      <th>Wie viele Stunden/Minuten haben Sie heute ca. vor einem Bildschirm verbracht? (z. B. ca. 1 Stunden 30 Minuten)</th>\n      <th>Hat es für Sie heute besonders starke Belastungen gegeben? Wenn ja:</th>\n      <th>Hat sich heute irgendetwas Außergewöhnliches ereignet, teilen Sie es uns bitte in Ihren eigenen Worten mit:</th>\n    </tr>\n  </thead>\n  <tbody>\n    <tr>\n      <th>0</th>\n      <td>2024/05/28 7:47:13 PM MEZ</td>\n      <td>5</td>\n      <td>4</td>\n      <td>3</td>\n      <td>4</td>\n      <td>5</td>\n      <td>4</td>\n      <td>ein wenig müde;ein wenig erschöpft</td>\n      <td>-</td>\n      <td>-</td>\n      <td>20:15</td>\n      <td>12:45</td>\n      <td>2h</td>\n      <td>6h</td>\n      <td>NaN</td>\n      <td>Habe spontan einen Podcast mit einem Obdachlos...</td>\n    </tr>\n  </tbody>\n</table>\n</div>"
          },
          "metadata": {}
        }
      ],
      "outputs_reference": null,
      "execution_count": 4,
      "block_group": "348ddcfd8d3d4ecf875992d9384d39d3",
      "content_dependencies": null
    },
    {
      "cell_type": "markdown",
      "source": "## Exploratory Data Analysis (EDA)",
      "metadata": {
        "cell_id": "122a78918c3a498bb49f18bfa573ac03",
        "deepnote_cell_type": "markdown"
      },
      "block_group": "464391fd748142778ead2e82fd1ded36"
    },
    {
      "cell_type": "code",
      "source": "data = pd.read_csv('data.csv')\ndata.head()",
      "metadata": {
        "source_hash": "21a2cce3",
        "execution_start": 1731627222650,
        "execution_millis": 34,
        "execution_context_id": "403e3833-9492-4751-a356-0586a3f6b02b",
        "cell_id": "4fd2fde8527644be8f14126d01c5032d",
        "deepnote_cell_type": "code"
      },
      "outputs": [
        {
          "output_type": "execute_result",
          "execution_count": 5,
          "data": {
            "application/vnd.deepnote.dataframe.v3+json": {
              "column_count": 10,
              "row_count": 4,
              "columns": [
                {
                  "name": "participant",
                  "dtype": "object",
                  "stats": {
                    "unique_count": 4,
                    "nan_count": 0,
                    "categories": [
                      {
                        "name": "s.bce1d5e5-ae0e-45f1-a96d-5bf45eaf751a.txt",
                        "count": 1
                      },
                      {
                        "name": "s.3271f666-2f34-4e1b-a748-562007caae07.txt",
                        "count": 1
                      },
                      {
                        "name": "2 others",
                        "count": 2
                      }
                    ]
                  }
                },
                {
                  "name": "Probandennummer_1",
                  "dtype": "float64",
                  "stats": {
                    "unique_count": 1,
                    "nan_count": 2,
                    "min": "69.0",
                    "max": "69.0",
                    "histogram": [
                      {
                        "bin_start": 68.5,
                        "bin_end": 68.6,
                        "count": 0
                      },
                      {
                        "bin_start": 68.6,
                        "bin_end": 68.7,
                        "count": 0
                      },
                      {
                        "bin_start": 68.7,
                        "bin_end": 68.8,
                        "count": 0
                      },
                      {
                        "bin_start": 68.8,
                        "bin_end": 68.9,
                        "count": 0
                      },
                      {
                        "bin_start": 68.9,
                        "bin_end": 69,
                        "count": 0
                      },
                      {
                        "bin_start": 69,
                        "bin_end": 69.1,
                        "count": 2
                      },
                      {
                        "bin_start": 69.1,
                        "bin_end": 69.2,
                        "count": 0
                      },
                      {
                        "bin_start": 69.2,
                        "bin_end": 69.3,
                        "count": 0
                      },
                      {
                        "bin_start": 69.3,
                        "bin_end": 69.4,
                        "count": 0
                      },
                      {
                        "bin_start": 69.4,
                        "bin_end": 69.5,
                        "count": 0
                      }
                    ]
                  }
                },
                {
                  "name": "stroop_task_1",
                  "dtype": "object",
                  "stats": {
                    "unique_count": 4,
                    "nan_count": 0,
                    "categories": [
                      {
                        "name": "stroop_german.2024-10-29-2228.data.bce1d5e5-ae0e-45f1-a96d-5bf45eaf751a.txt",
                        "count": 1
                      },
                      {
                        "name": "stroop_german.2024-08-22-0942.data.3271f666-2f34-4e1b-a748-562007caae07.txt",
                        "count": 1
                      },
                      {
                        "name": "2 others",
                        "count": 2
                      }
                    ]
                  }
                },
                {
                  "name": "n_back2_1",
                  "dtype": "object",
                  "stats": {
                    "unique_count": 3,
                    "nan_count": 1,
                    "categories": [
                      {
                        "name": "n_back2.2024-10-29-2236.data.bce1d5e5-ae0e-45f1-a96d-5bf45eaf751a.txt",
                        "count": 1
                      },
                      {
                        "name": "2 others",
                        "count": 2
                      },
                      {
                        "name": "Missing",
                        "count": 1
                      }
                    ]
                  }
                },
                {
                  "name": "corsi_task_1",
                  "dtype": "object",
                  "stats": {
                    "unique_count": 3,
                    "nan_count": 1,
                    "categories": [
                      {
                        "name": "corsi.2024-10-29-2238.data.bce1d5e5-ae0e-45f1-a96d-5bf45eaf751a.txt",
                        "count": 1
                      },
                      {
                        "name": "2 others",
                        "count": 2
                      },
                      {
                        "name": "Missing",
                        "count": 1
                      }
                    ]
                  }
                },
                {
                  "name": "digit_span_task_1",
                  "dtype": "object",
                  "stats": {
                    "unique_count": 3,
                    "nan_count": 1,
                    "categories": [
                      {
                        "name": "digit.2024-10-29-2243.data.bce1d5e5-ae0e-45f1-a96d-5bf45eaf751a.txt",
                        "count": 1
                      },
                      {
                        "name": "2 others",
                        "count": 2
                      },
                      {
                        "name": "Missing",
                        "count": 1
                      }
                    ]
                  }
                },
                {
                  "name": "CLIENT_start",
                  "dtype": "object",
                  "stats": {
                    "unique_count": 4,
                    "nan_count": 0,
                    "categories": [
                      {
                        "name": "2024-09-29-22-25",
                        "count": 1
                      },
                      {
                        "name": "2024-07-22-09-41",
                        "count": 1
                      },
                      {
                        "name": "2 others",
                        "count": 2
                      }
                    ]
                  }
                },
                {
                  "name": "TIME_start",
                  "dtype": "object",
                  "stats": {
                    "unique_count": 4,
                    "nan_count": 0,
                    "categories": [
                      {
                        "name": "2024-10-29-22-25",
                        "count": 1
                      },
                      {
                        "name": "2024-08-22-09-41",
                        "count": 1
                      },
                      {
                        "name": "2 others",
                        "count": 2
                      }
                    ]
                  }
                },
                {
                  "name": "TIME_end",
                  "dtype": "object",
                  "stats": {
                    "unique_count": 4,
                    "nan_count": 0,
                    "categories": [
                      {
                        "name": "2024-10-29-22-43",
                        "count": 1
                      },
                      {
                        "name": "2024-08-22-09-43",
                        "count": 1
                      },
                      {
                        "name": "2 others",
                        "count": 2
                      }
                    ]
                  }
                },
                {
                  "name": "TIME_total",
                  "dtype": "int64",
                  "stats": {
                    "unique_count": 3,
                    "nan_count": 0,
                    "min": "2",
                    "max": "18",
                    "histogram": [
                      {
                        "bin_start": 2,
                        "bin_end": 3.6,
                        "count": 1
                      },
                      {
                        "bin_start": 3.6,
                        "bin_end": 5.2,
                        "count": 0
                      },
                      {
                        "bin_start": 5.2,
                        "bin_end": 6.800000000000001,
                        "count": 0
                      },
                      {
                        "bin_start": 6.800000000000001,
                        "bin_end": 8.4,
                        "count": 0
                      },
                      {
                        "bin_start": 8.4,
                        "bin_end": 10,
                        "count": 0
                      },
                      {
                        "bin_start": 10,
                        "bin_end": 11.600000000000001,
                        "count": 0
                      },
                      {
                        "bin_start": 11.600000000000001,
                        "bin_end": 13.200000000000001,
                        "count": 0
                      },
                      {
                        "bin_start": 13.200000000000001,
                        "bin_end": 14.8,
                        "count": 0
                      },
                      {
                        "bin_start": 14.8,
                        "bin_end": 16.4,
                        "count": 2
                      },
                      {
                        "bin_start": 16.4,
                        "bin_end": 18,
                        "count": 1
                      }
                    ]
                  }
                },
                {
                  "name": "_deepnote_index_column",
                  "dtype": "int64"
                }
              ],
              "rows": [
                {
                  "participant": "s.bce1d5e5-ae0e-45f1-a96d-5bf45eaf751a.txt",
                  "Probandennummer_1": 69,
                  "stroop_task_1": "stroop_german.2024-10-29-2228.data.bce1d5e5-ae0e-45f1-a96d-5bf45eaf751a.txt",
                  "n_back2_1": "n_back2.2024-10-29-2236.data.bce1d5e5-ae0e-45f1-a96d-5bf45eaf751a.txt",
                  "corsi_task_1": "corsi.2024-10-29-2238.data.bce1d5e5-ae0e-45f1-a96d-5bf45eaf751a.txt",
                  "digit_span_task_1": "digit.2024-10-29-2243.data.bce1d5e5-ae0e-45f1-a96d-5bf45eaf751a.txt",
                  "CLIENT_start": "2024-09-29-22-25",
                  "TIME_start": "2024-10-29-22-25",
                  "TIME_end": "2024-10-29-22-43",
                  "TIME_total": 18,
                  "_deepnote_index_column": 0
                },
                {
                  "participant": "s.3271f666-2f34-4e1b-a748-562007caae07.txt",
                  "Probandennummer_1": "nan",
                  "stroop_task_1": "stroop_german.2024-08-22-0942.data.3271f666-2f34-4e1b-a748-562007caae07.txt",
                  "n_back2_1": "nan",
                  "corsi_task_1": "nan",
                  "digit_span_task_1": "nan",
                  "CLIENT_start": "2024-07-22-09-41",
                  "TIME_start": "2024-08-22-09-41",
                  "TIME_end": "2024-08-22-09-43",
                  "TIME_total": 2,
                  "_deepnote_index_column": 1
                },
                {
                  "participant": "s.2875974c-97f5-4e3d-80de-1779707e7a0e.txt",
                  "Probandennummer_1": "nan",
                  "stroop_task_1": "stroop_german.2024-11-03-1223.data.2875974c-97f5-4e3d-80de-1779707e7a0e.txt",
                  "n_back2_1": "n_back2.2024-11-03-1229.data.2875974c-97f5-4e3d-80de-1779707e7a0e.txt",
                  "corsi_task_1": "corsi.2024-11-03-1231.data.2875974c-97f5-4e3d-80de-1779707e7a0e.txt",
                  "digit_span_task_1": "digit.2024-11-03-1236.data.2875974c-97f5-4e3d-80de-1779707e7a0e.txt",
                  "CLIENT_start": "2024-10-03-12-21",
                  "TIME_start": "2024-11-03-12-21",
                  "TIME_end": "2024-11-03-12-36",
                  "TIME_total": 15,
                  "_deepnote_index_column": 2
                },
                {
                  "participant": "s.72986a90-e41d-47ce-a6e7-8d5f43130bdb.txt",
                  "Probandennummer_1": 69,
                  "stroop_task_1": "stroop_german.2024-10-30-1652.data.72986a90-e41d-47ce-a6e7-8d5f43130bdb.txt",
                  "n_back2_1": "n_back2.2024-10-30-1657.data.72986a90-e41d-47ce-a6e7-8d5f43130bdb.txt",
                  "corsi_task_1": "corsi.2024-10-30-1659.data.72986a90-e41d-47ce-a6e7-8d5f43130bdb.txt",
                  "digit_span_task_1": "digit.2024-10-30-1703.data.72986a90-e41d-47ce-a6e7-8d5f43130bdb.txt",
                  "CLIENT_start": "2024-09-30-16-48",
                  "TIME_start": "2024-10-30-16-48",
                  "TIME_end": "2024-10-30-17-03",
                  "TIME_total": 15,
                  "_deepnote_index_column": 3
                }
              ]
            },
            "text/plain": "                                  participant  Probandennummer_1  \\\n0  s.bce1d5e5-ae0e-45f1-a96d-5bf45eaf751a.txt               69.0   \n1  s.3271f666-2f34-4e1b-a748-562007caae07.txt                NaN   \n2  s.2875974c-97f5-4e3d-80de-1779707e7a0e.txt                NaN   \n3  s.72986a90-e41d-47ce-a6e7-8d5f43130bdb.txt               69.0   \n\n                                       stroop_task_1  \\\n0  stroop_german.2024-10-29-2228.data.bce1d5e5-ae...   \n1  stroop_german.2024-08-22-0942.data.3271f666-2f...   \n2  stroop_german.2024-11-03-1223.data.2875974c-97...   \n3  stroop_german.2024-10-30-1652.data.72986a90-e4...   \n\n                                           n_back2_1  \\\n0  n_back2.2024-10-29-2236.data.bce1d5e5-ae0e-45f...   \n1                                                NaN   \n2  n_back2.2024-11-03-1229.data.2875974c-97f5-4e3...   \n3  n_back2.2024-10-30-1657.data.72986a90-e41d-47c...   \n\n                                        corsi_task_1  \\\n0  corsi.2024-10-29-2238.data.bce1d5e5-ae0e-45f1-...   \n1                                                NaN   \n2  corsi.2024-11-03-1231.data.2875974c-97f5-4e3d-...   \n3  corsi.2024-10-30-1659.data.72986a90-e41d-47ce-...   \n\n                                   digit_span_task_1      CLIENT_start  \\\n0  digit.2024-10-29-2243.data.bce1d5e5-ae0e-45f1-...  2024-09-29-22-25   \n1                                                NaN  2024-07-22-09-41   \n2  digit.2024-11-03-1236.data.2875974c-97f5-4e3d-...  2024-10-03-12-21   \n3  digit.2024-10-30-1703.data.72986a90-e41d-47ce-...  2024-09-30-16-48   \n\n         TIME_start          TIME_end  TIME_total  \n0  2024-10-29-22-25  2024-10-29-22-43          18  \n1  2024-08-22-09-41  2024-08-22-09-43           2  \n2  2024-11-03-12-21  2024-11-03-12-36          15  \n3  2024-10-30-16-48  2024-10-30-17-03          15  ",
            "text/html": "<div>\n<style scoped>\n    .dataframe tbody tr th:only-of-type {\n        vertical-align: middle;\n    }\n\n    .dataframe tbody tr th {\n        vertical-align: top;\n    }\n\n    .dataframe thead th {\n        text-align: right;\n    }\n</style>\n<table border=\"1\" class=\"dataframe\">\n  <thead>\n    <tr style=\"text-align: right;\">\n      <th></th>\n      <th>participant</th>\n      <th>Probandennummer_1</th>\n      <th>stroop_task_1</th>\n      <th>n_back2_1</th>\n      <th>corsi_task_1</th>\n      <th>digit_span_task_1</th>\n      <th>CLIENT_start</th>\n      <th>TIME_start</th>\n      <th>TIME_end</th>\n      <th>TIME_total</th>\n    </tr>\n  </thead>\n  <tbody>\n    <tr>\n      <th>0</th>\n      <td>s.bce1d5e5-ae0e-45f1-a96d-5bf45eaf751a.txt</td>\n      <td>69.0</td>\n      <td>stroop_german.2024-10-29-2228.data.bce1d5e5-ae...</td>\n      <td>n_back2.2024-10-29-2236.data.bce1d5e5-ae0e-45f...</td>\n      <td>corsi.2024-10-29-2238.data.bce1d5e5-ae0e-45f1-...</td>\n      <td>digit.2024-10-29-2243.data.bce1d5e5-ae0e-45f1-...</td>\n      <td>2024-09-29-22-25</td>\n      <td>2024-10-29-22-25</td>\n      <td>2024-10-29-22-43</td>\n      <td>18</td>\n    </tr>\n    <tr>\n      <th>1</th>\n      <td>s.3271f666-2f34-4e1b-a748-562007caae07.txt</td>\n      <td>NaN</td>\n      <td>stroop_german.2024-08-22-0942.data.3271f666-2f...</td>\n      <td>NaN</td>\n      <td>NaN</td>\n      <td>NaN</td>\n      <td>2024-07-22-09-41</td>\n      <td>2024-08-22-09-41</td>\n      <td>2024-08-22-09-43</td>\n      <td>2</td>\n    </tr>\n    <tr>\n      <th>2</th>\n      <td>s.2875974c-97f5-4e3d-80de-1779707e7a0e.txt</td>\n      <td>NaN</td>\n      <td>stroop_german.2024-11-03-1223.data.2875974c-97...</td>\n      <td>n_back2.2024-11-03-1229.data.2875974c-97f5-4e3...</td>\n      <td>corsi.2024-11-03-1231.data.2875974c-97f5-4e3d-...</td>\n      <td>digit.2024-11-03-1236.data.2875974c-97f5-4e3d-...</td>\n      <td>2024-10-03-12-21</td>\n      <td>2024-11-03-12-21</td>\n      <td>2024-11-03-12-36</td>\n      <td>15</td>\n    </tr>\n    <tr>\n      <th>3</th>\n      <td>s.72986a90-e41d-47ce-a6e7-8d5f43130bdb.txt</td>\n      <td>69.0</td>\n      <td>stroop_german.2024-10-30-1652.data.72986a90-e4...</td>\n      <td>n_back2.2024-10-30-1657.data.72986a90-e41d-47c...</td>\n      <td>corsi.2024-10-30-1659.data.72986a90-e41d-47ce-...</td>\n      <td>digit.2024-10-30-1703.data.72986a90-e41d-47ce-...</td>\n      <td>2024-09-30-16-48</td>\n      <td>2024-10-30-16-48</td>\n      <td>2024-10-30-17-03</td>\n      <td>15</td>\n    </tr>\n  </tbody>\n</table>\n</div>"
          },
          "metadata": {}
        }
      ],
      "outputs_reference": null,
      "execution_count": 5,
      "block_group": "ef92ccd7adb742bdaaa6fd396573d098",
      "content_dependencies": null
    },
    {
      "cell_type": "code",
      "source": "data_times = pd.read_csv('data_times.csv')\ndata_times.head()",
      "metadata": {
        "source_hash": "ecd2c898",
        "execution_start": 1731627222726,
        "execution_millis": 47,
        "execution_context_id": "8132cf72-65a5-4f53-bde2-b669605264d8",
        "cell_id": "a125563f69b74ea5852b530f1ded5e70",
        "deepnote_cell_type": "code"
      },
      "outputs": [
        {
          "output_type": "execute_result",
          "execution_count": 6,
          "data": {
            "application/vnd.deepnote.dataframe.v3+json": {
              "column_count": 11,
              "row_count": 4,
              "columns": [
                {
                  "name": "participant",
                  "dtype": "object",
                  "stats": {
                    "unique_count": 4,
                    "nan_count": 0,
                    "categories": [
                      {
                        "name": "s.bce1d5e5-ae0e-45f1-a96d-5bf45eaf751a.txt",
                        "count": 1
                      },
                      {
                        "name": "s.3271f666-2f34-4e1b-a748-562007caae07.txt",
                        "count": 1
                      },
                      {
                        "name": "2 others",
                        "count": 2
                      }
                    ]
                  }
                },
                {
                  "name": "Probandennummer",
                  "dtype": "int64",
                  "stats": {
                    "unique_count": 4,
                    "nan_count": 0,
                    "min": "3628",
                    "max": "20757",
                    "histogram": [
                      {
                        "bin_start": 3628,
                        "bin_end": 5340.9,
                        "count": 2
                      },
                      {
                        "bin_start": 5340.9,
                        "bin_end": 7053.8,
                        "count": 0
                      },
                      {
                        "bin_start": 7053.8,
                        "bin_end": 8766.7,
                        "count": 0
                      },
                      {
                        "bin_start": 8766.7,
                        "bin_end": 10479.6,
                        "count": 0
                      },
                      {
                        "bin_start": 10479.6,
                        "bin_end": 12192.5,
                        "count": 0
                      },
                      {
                        "bin_start": 12192.5,
                        "bin_end": 13905.400000000001,
                        "count": 1
                      },
                      {
                        "bin_start": 13905.400000000001,
                        "bin_end": 15618.300000000001,
                        "count": 0
                      },
                      {
                        "bin_start": 15618.300000000001,
                        "bin_end": 17331.2,
                        "count": 0
                      },
                      {
                        "bin_start": 17331.2,
                        "bin_end": 19044.1,
                        "count": 0
                      },
                      {
                        "bin_start": 19044.1,
                        "bin_end": 20757,
                        "count": 1
                      }
                    ]
                  }
                },
                {
                  "name": "stroop_task",
                  "dtype": "float64",
                  "stats": {
                    "unique_count": 0,
                    "nan_count": 4,
                    "min": null,
                    "max": null,
                    "histogram": [
                      {
                        "bin_start": 0,
                        "bin_end": 0.1,
                        "count": 0
                      },
                      {
                        "bin_start": 0.1,
                        "bin_end": 0.2,
                        "count": 0
                      },
                      {
                        "bin_start": 0.2,
                        "bin_end": 0.30000000000000004,
                        "count": 0
                      },
                      {
                        "bin_start": 0.30000000000000004,
                        "bin_end": 0.4,
                        "count": 0
                      },
                      {
                        "bin_start": 0.4,
                        "bin_end": 0.5,
                        "count": 0
                      },
                      {
                        "bin_start": 0.5,
                        "bin_end": 0.6000000000000001,
                        "count": 0
                      },
                      {
                        "bin_start": 0.6000000000000001,
                        "bin_end": 0.7000000000000001,
                        "count": 0
                      },
                      {
                        "bin_start": 0.7000000000000001,
                        "bin_end": 0.8,
                        "count": 0
                      },
                      {
                        "bin_start": 0.8,
                        "bin_end": 0.9,
                        "count": 0
                      },
                      {
                        "bin_start": 0.9,
                        "bin_end": 1,
                        "count": 0
                      }
                    ]
                  }
                },
                {
                  "name": "n_back2",
                  "dtype": "float64",
                  "stats": {
                    "unique_count": 0,
                    "nan_count": 4,
                    "min": null,
                    "max": null,
                    "histogram": [
                      {
                        "bin_start": 0,
                        "bin_end": 0.1,
                        "count": 0
                      },
                      {
                        "bin_start": 0.1,
                        "bin_end": 0.2,
                        "count": 0
                      },
                      {
                        "bin_start": 0.2,
                        "bin_end": 0.30000000000000004,
                        "count": 0
                      },
                      {
                        "bin_start": 0.30000000000000004,
                        "bin_end": 0.4,
                        "count": 0
                      },
                      {
                        "bin_start": 0.4,
                        "bin_end": 0.5,
                        "count": 0
                      },
                      {
                        "bin_start": 0.5,
                        "bin_end": 0.6000000000000001,
                        "count": 0
                      },
                      {
                        "bin_start": 0.6000000000000001,
                        "bin_end": 0.7000000000000001,
                        "count": 0
                      },
                      {
                        "bin_start": 0.7000000000000001,
                        "bin_end": 0.8,
                        "count": 0
                      },
                      {
                        "bin_start": 0.8,
                        "bin_end": 0.9,
                        "count": 0
                      },
                      {
                        "bin_start": 0.9,
                        "bin_end": 1,
                        "count": 0
                      }
                    ]
                  }
                },
                {
                  "name": "corsi_task",
                  "dtype": "float64",
                  "stats": {
                    "unique_count": 0,
                    "nan_count": 4,
                    "min": null,
                    "max": null,
                    "histogram": [
                      {
                        "bin_start": 0,
                        "bin_end": 0.1,
                        "count": 0
                      },
                      {
                        "bin_start": 0.1,
                        "bin_end": 0.2,
                        "count": 0
                      },
                      {
                        "bin_start": 0.2,
                        "bin_end": 0.30000000000000004,
                        "count": 0
                      },
                      {
                        "bin_start": 0.30000000000000004,
                        "bin_end": 0.4,
                        "count": 0
                      },
                      {
                        "bin_start": 0.4,
                        "bin_end": 0.5,
                        "count": 0
                      },
                      {
                        "bin_start": 0.5,
                        "bin_end": 0.6000000000000001,
                        "count": 0
                      },
                      {
                        "bin_start": 0.6000000000000001,
                        "bin_end": 0.7000000000000001,
                        "count": 0
                      },
                      {
                        "bin_start": 0.7000000000000001,
                        "bin_end": 0.8,
                        "count": 0
                      },
                      {
                        "bin_start": 0.8,
                        "bin_end": 0.9,
                        "count": 0
                      },
                      {
                        "bin_start": 0.9,
                        "bin_end": 1,
                        "count": 0
                      }
                    ]
                  }
                },
                {
                  "name": "digit_span_task",
                  "dtype": "float64",
                  "stats": {
                    "unique_count": 0,
                    "nan_count": 4,
                    "min": null,
                    "max": null,
                    "histogram": [
                      {
                        "bin_start": 0,
                        "bin_end": 0.1,
                        "count": 0
                      },
                      {
                        "bin_start": 0.1,
                        "bin_end": 0.2,
                        "count": 0
                      },
                      {
                        "bin_start": 0.2,
                        "bin_end": 0.30000000000000004,
                        "count": 0
                      },
                      {
                        "bin_start": 0.30000000000000004,
                        "bin_end": 0.4,
                        "count": 0
                      },
                      {
                        "bin_start": 0.4,
                        "bin_end": 0.5,
                        "count": 0
                      },
                      {
                        "bin_start": 0.5,
                        "bin_end": 0.6000000000000001,
                        "count": 0
                      },
                      {
                        "bin_start": 0.6000000000000001,
                        "bin_end": 0.7000000000000001,
                        "count": 0
                      },
                      {
                        "bin_start": 0.7000000000000001,
                        "bin_end": 0.8,
                        "count": 0
                      },
                      {
                        "bin_start": 0.8,
                        "bin_end": 0.9,
                        "count": 0
                      },
                      {
                        "bin_start": 0.9,
                        "bin_end": 1,
                        "count": 0
                      }
                    ]
                  }
                },
                {
                  "name": "INFOSCREEN",
                  "dtype": "int64",
                  "stats": {
                    "unique_count": 1,
                    "nan_count": 0,
                    "min": "0",
                    "max": "0",
                    "histogram": [
                      {
                        "bin_start": -0.5,
                        "bin_end": -0.4,
                        "count": 0
                      },
                      {
                        "bin_start": -0.4,
                        "bin_end": -0.3,
                        "count": 0
                      },
                      {
                        "bin_start": -0.3,
                        "bin_end": -0.19999999999999996,
                        "count": 0
                      },
                      {
                        "bin_start": -0.19999999999999996,
                        "bin_end": -0.09999999999999998,
                        "count": 0
                      },
                      {
                        "bin_start": -0.09999999999999998,
                        "bin_end": 0,
                        "count": 0
                      },
                      {
                        "bin_start": 0,
                        "bin_end": 0.10000000000000009,
                        "count": 4
                      },
                      {
                        "bin_start": 0.10000000000000009,
                        "bin_end": 0.20000000000000007,
                        "count": 0
                      },
                      {
                        "bin_start": 0.20000000000000007,
                        "bin_end": 0.30000000000000004,
                        "count": 0
                      },
                      {
                        "bin_start": 0.30000000000000004,
                        "bin_end": 0.4,
                        "count": 0
                      },
                      {
                        "bin_start": 0.4,
                        "bin_end": 0.5,
                        "count": 0
                      }
                    ]
                  }
                },
                {
                  "name": "CLIENT_start",
                  "dtype": "object",
                  "stats": {
                    "unique_count": 4,
                    "nan_count": 0,
                    "categories": [
                      {
                        "name": "2024-09-29-22-25",
                        "count": 1
                      },
                      {
                        "name": "2024-07-22-09-41",
                        "count": 1
                      },
                      {
                        "name": "2 others",
                        "count": 2
                      }
                    ]
                  }
                },
                {
                  "name": "TIME_start",
                  "dtype": "object",
                  "stats": {
                    "unique_count": 4,
                    "nan_count": 0,
                    "categories": [
                      {
                        "name": "2024-10-29-22-25",
                        "count": 1
                      },
                      {
                        "name": "2024-08-22-09-41",
                        "count": 1
                      },
                      {
                        "name": "2 others",
                        "count": 2
                      }
                    ]
                  }
                },
                {
                  "name": "TIME_end",
                  "dtype": "object",
                  "stats": {
                    "unique_count": 4,
                    "nan_count": 0,
                    "categories": [
                      {
                        "name": "2024-10-29-22-43",
                        "count": 1
                      },
                      {
                        "name": "2024-08-22-09-43",
                        "count": 1
                      },
                      {
                        "name": "2 others",
                        "count": 2
                      }
                    ]
                  }
                },
                {
                  "name": "TIME_total",
                  "dtype": "int64",
                  "stats": {
                    "unique_count": 3,
                    "nan_count": 0,
                    "min": "2",
                    "max": "18",
                    "histogram": [
                      {
                        "bin_start": 2,
                        "bin_end": 3.6,
                        "count": 1
                      },
                      {
                        "bin_start": 3.6,
                        "bin_end": 5.2,
                        "count": 0
                      },
                      {
                        "bin_start": 5.2,
                        "bin_end": 6.800000000000001,
                        "count": 0
                      },
                      {
                        "bin_start": 6.800000000000001,
                        "bin_end": 8.4,
                        "count": 0
                      },
                      {
                        "bin_start": 8.4,
                        "bin_end": 10,
                        "count": 0
                      },
                      {
                        "bin_start": 10,
                        "bin_end": 11.600000000000001,
                        "count": 0
                      },
                      {
                        "bin_start": 11.600000000000001,
                        "bin_end": 13.200000000000001,
                        "count": 0
                      },
                      {
                        "bin_start": 13.200000000000001,
                        "bin_end": 14.8,
                        "count": 0
                      },
                      {
                        "bin_start": 14.8,
                        "bin_end": 16.4,
                        "count": 2
                      },
                      {
                        "bin_start": 16.4,
                        "bin_end": 18,
                        "count": 1
                      }
                    ]
                  }
                },
                {
                  "name": "_deepnote_index_column",
                  "dtype": "int64"
                }
              ],
              "rows": [
                {
                  "participant": "s.bce1d5e5-ae0e-45f1-a96d-5bf45eaf751a.txt",
                  "Probandennummer": 20757,
                  "stroop_task": "nan",
                  "n_back2": "nan",
                  "corsi_task": "nan",
                  "digit_span_task": "nan",
                  "INFOSCREEN": 0,
                  "CLIENT_start": "2024-09-29-22-25",
                  "TIME_start": "2024-10-29-22-25",
                  "TIME_end": "2024-10-29-22-43",
                  "TIME_total": 18,
                  "_deepnote_index_column": 0
                },
                {
                  "participant": "s.3271f666-2f34-4e1b-a748-562007caae07.txt",
                  "Probandennummer": 4806,
                  "stroop_task": "nan",
                  "n_back2": "nan",
                  "corsi_task": "nan",
                  "digit_span_task": "nan",
                  "INFOSCREEN": 0,
                  "CLIENT_start": "2024-07-22-09-41",
                  "TIME_start": "2024-08-22-09-41",
                  "TIME_end": "2024-08-22-09-43",
                  "TIME_total": 2,
                  "_deepnote_index_column": 1
                },
                {
                  "participant": "s.2875974c-97f5-4e3d-80de-1779707e7a0e.txt",
                  "Probandennummer": 3628,
                  "stroop_task": "nan",
                  "n_back2": "nan",
                  "corsi_task": "nan",
                  "digit_span_task": "nan",
                  "INFOSCREEN": 0,
                  "CLIENT_start": "2024-10-03-12-21",
                  "TIME_start": "2024-11-03-12-21",
                  "TIME_end": "2024-11-03-12-36",
                  "TIME_total": 15,
                  "_deepnote_index_column": 2
                },
                {
                  "participant": "s.72986a90-e41d-47ce-a6e7-8d5f43130bdb.txt",
                  "Probandennummer": 13682,
                  "stroop_task": "nan",
                  "n_back2": "nan",
                  "corsi_task": "nan",
                  "digit_span_task": "nan",
                  "INFOSCREEN": 0,
                  "CLIENT_start": "2024-09-30-16-48",
                  "TIME_start": "2024-10-30-16-48",
                  "TIME_end": "2024-10-30-17-03",
                  "TIME_total": 15,
                  "_deepnote_index_column": 3
                }
              ]
            },
            "text/plain": "                                  participant  Probandennummer  stroop_task  \\\n0  s.bce1d5e5-ae0e-45f1-a96d-5bf45eaf751a.txt            20757          NaN   \n1  s.3271f666-2f34-4e1b-a748-562007caae07.txt             4806          NaN   \n2  s.2875974c-97f5-4e3d-80de-1779707e7a0e.txt             3628          NaN   \n3  s.72986a90-e41d-47ce-a6e7-8d5f43130bdb.txt            13682          NaN   \n\n   n_back2  corsi_task  digit_span_task  INFOSCREEN      CLIENT_start  \\\n0      NaN         NaN              NaN           0  2024-09-29-22-25   \n1      NaN         NaN              NaN           0  2024-07-22-09-41   \n2      NaN         NaN              NaN           0  2024-10-03-12-21   \n3      NaN         NaN              NaN           0  2024-09-30-16-48   \n\n         TIME_start          TIME_end  TIME_total  \n0  2024-10-29-22-25  2024-10-29-22-43          18  \n1  2024-08-22-09-41  2024-08-22-09-43           2  \n2  2024-11-03-12-21  2024-11-03-12-36          15  \n3  2024-10-30-16-48  2024-10-30-17-03          15  ",
            "text/html": "<div>\n<style scoped>\n    .dataframe tbody tr th:only-of-type {\n        vertical-align: middle;\n    }\n\n    .dataframe tbody tr th {\n        vertical-align: top;\n    }\n\n    .dataframe thead th {\n        text-align: right;\n    }\n</style>\n<table border=\"1\" class=\"dataframe\">\n  <thead>\n    <tr style=\"text-align: right;\">\n      <th></th>\n      <th>participant</th>\n      <th>Probandennummer</th>\n      <th>stroop_task</th>\n      <th>n_back2</th>\n      <th>corsi_task</th>\n      <th>digit_span_task</th>\n      <th>INFOSCREEN</th>\n      <th>CLIENT_start</th>\n      <th>TIME_start</th>\n      <th>TIME_end</th>\n      <th>TIME_total</th>\n    </tr>\n  </thead>\n  <tbody>\n    <tr>\n      <th>0</th>\n      <td>s.bce1d5e5-ae0e-45f1-a96d-5bf45eaf751a.txt</td>\n      <td>20757</td>\n      <td>NaN</td>\n      <td>NaN</td>\n      <td>NaN</td>\n      <td>NaN</td>\n      <td>0</td>\n      <td>2024-09-29-22-25</td>\n      <td>2024-10-29-22-25</td>\n      <td>2024-10-29-22-43</td>\n      <td>18</td>\n    </tr>\n    <tr>\n      <th>1</th>\n      <td>s.3271f666-2f34-4e1b-a748-562007caae07.txt</td>\n      <td>4806</td>\n      <td>NaN</td>\n      <td>NaN</td>\n      <td>NaN</td>\n      <td>NaN</td>\n      <td>0</td>\n      <td>2024-07-22-09-41</td>\n      <td>2024-08-22-09-41</td>\n      <td>2024-08-22-09-43</td>\n      <td>2</td>\n    </tr>\n    <tr>\n      <th>2</th>\n      <td>s.2875974c-97f5-4e3d-80de-1779707e7a0e.txt</td>\n      <td>3628</td>\n      <td>NaN</td>\n      <td>NaN</td>\n      <td>NaN</td>\n      <td>NaN</td>\n      <td>0</td>\n      <td>2024-10-03-12-21</td>\n      <td>2024-11-03-12-21</td>\n      <td>2024-11-03-12-36</td>\n      <td>15</td>\n    </tr>\n    <tr>\n      <th>3</th>\n      <td>s.72986a90-e41d-47ce-a6e7-8d5f43130bdb.txt</td>\n      <td>13682</td>\n      <td>NaN</td>\n      <td>NaN</td>\n      <td>NaN</td>\n      <td>NaN</td>\n      <td>0</td>\n      <td>2024-09-30-16-48</td>\n      <td>2024-10-30-16-48</td>\n      <td>2024-10-30-17-03</td>\n      <td>15</td>\n    </tr>\n  </tbody>\n</table>\n</div>"
          },
          "metadata": {}
        }
      ],
      "outputs_reference": null,
      "execution_count": 6,
      "block_group": "8b418c7f9c5f4bc5bb2956259ff5a48b",
      "content_dependencies": null
    },
    {
      "cell_type": "code",
      "source": "stroop_german_min = pd.read_csv('stroop_german.min.csv')\nstroop_german_min.head()",
      "metadata": {
        "source_hash": "f9a14826",
        "execution_start": 1731627222818,
        "execution_millis": 61,
        "execution_context_id": "d6825e58-3769-484f-8607-a71473c05eb7",
        "cell_id": "99e9b6eaa9f745859ea768723c468b1d",
        "deepnote_cell_type": "code"
      },
      "outputs": [
        {
          "output_type": "execute_result",
          "execution_count": 7,
          "data": {
            "application/vnd.deepnote.dataframe.v3+json": {
              "column_count": 2,
              "row_count": 4,
              "columns": [
                {
                  "name": "0",
                  "dtype": "int64",
                  "stats": {
                    "unique_count": 4,
                    "nan_count": 0,
                    "min": "15",
                    "max": "874",
                    "histogram": [
                      {
                        "bin_start": 15,
                        "bin_end": 100.9,
                        "count": 1
                      },
                      {
                        "bin_start": 100.9,
                        "bin_end": 186.8,
                        "count": 0
                      },
                      {
                        "bin_start": 186.8,
                        "bin_end": 272.70000000000005,
                        "count": 0
                      },
                      {
                        "bin_start": 272.70000000000005,
                        "bin_end": 358.6,
                        "count": 0
                      },
                      {
                        "bin_start": 358.6,
                        "bin_end": 444.5,
                        "count": 1
                      },
                      {
                        "bin_start": 444.5,
                        "bin_end": 530.4000000000001,
                        "count": 0
                      },
                      {
                        "bin_start": 530.4000000000001,
                        "bin_end": 616.3000000000001,
                        "count": 1
                      },
                      {
                        "bin_start": 616.3000000000001,
                        "bin_end": 702.2,
                        "count": 0
                      },
                      {
                        "bin_start": 702.2,
                        "bin_end": 788.1,
                        "count": 0
                      },
                      {
                        "bin_start": 788.1,
                        "bin_end": 874,
                        "count": 1
                      }
                    ]
                  }
                },
                {
                  "name": "1",
                  "dtype": "int64",
                  "stats": {
                    "unique_count": 4,
                    "nan_count": 0,
                    "min": "67",
                    "max": "951",
                    "histogram": [
                      {
                        "bin_start": 67,
                        "bin_end": 155.4,
                        "count": 1
                      },
                      {
                        "bin_start": 155.4,
                        "bin_end": 243.8,
                        "count": 0
                      },
                      {
                        "bin_start": 243.8,
                        "bin_end": 332.20000000000005,
                        "count": 0
                      },
                      {
                        "bin_start": 332.20000000000005,
                        "bin_end": 420.6,
                        "count": 0
                      },
                      {
                        "bin_start": 420.6,
                        "bin_end": 509,
                        "count": 2
                      },
                      {
                        "bin_start": 509,
                        "bin_end": 597.4000000000001,
                        "count": 0
                      },
                      {
                        "bin_start": 597.4000000000001,
                        "bin_end": 685.8000000000001,
                        "count": 0
                      },
                      {
                        "bin_start": 685.8000000000001,
                        "bin_end": 774.2,
                        "count": 0
                      },
                      {
                        "bin_start": 774.2,
                        "bin_end": 862.6,
                        "count": 0
                      },
                      {
                        "bin_start": 862.6,
                        "bin_end": 951,
                        "count": 1
                      }
                    ]
                  }
                },
                {
                  "name": "_deepnote_index_column",
                  "dtype": "int64"
                }
              ],
              "rows": [
                {
                  "0": 569,
                  "1": 430,
                  "_deepnote_index_column": 0
                },
                {
                  "0": 15,
                  "1": 67,
                  "_deepnote_index_column": 1
                },
                {
                  "0": 874,
                  "1": 951,
                  "_deepnote_index_column": 2
                },
                {
                  "0": 370,
                  "1": 491,
                  "_deepnote_index_column": 3
                }
              ]
            },
            "text/plain": "     0    1\n0  569  430\n1   15   67\n2  874  951\n3  370  491",
            "text/html": "<div>\n<style scoped>\n    .dataframe tbody tr th:only-of-type {\n        vertical-align: middle;\n    }\n\n    .dataframe tbody tr th {\n        vertical-align: top;\n    }\n\n    .dataframe thead th {\n        text-align: right;\n    }\n</style>\n<table border=\"1\" class=\"dataframe\">\n  <thead>\n    <tr style=\"text-align: right;\">\n      <th></th>\n      <th>0</th>\n      <th>1</th>\n    </tr>\n  </thead>\n  <tbody>\n    <tr>\n      <th>0</th>\n      <td>569</td>\n      <td>430</td>\n    </tr>\n    <tr>\n      <th>1</th>\n      <td>15</td>\n      <td>67</td>\n    </tr>\n    <tr>\n      <th>2</th>\n      <td>874</td>\n      <td>951</td>\n    </tr>\n    <tr>\n      <th>3</th>\n      <td>370</td>\n      <td>491</td>\n    </tr>\n  </tbody>\n</table>\n</div>"
          },
          "metadata": {}
        }
      ],
      "outputs_reference": null,
      "execution_count": 7,
      "block_group": "48351705fda54ca6b1df0847d5a51f53",
      "content_dependencies": null
    },
    {
      "cell_type": "code",
      "source": "stroop_german_max = pd.read_csv('stroop_german.max.csv')\nstroop_german_max.head()",
      "metadata": {
        "source_hash": "e94eaad1",
        "execution_start": 1731627222922,
        "execution_millis": 43,
        "execution_context_id": "7e035b5a-6799-4610-adc3-539516df27b5",
        "cell_id": "1776b4fe818649cb93eb741f06ed7d11",
        "deepnote_cell_type": "code"
      },
      "outputs": [
        {
          "output_type": "execute_result",
          "execution_count": 8,
          "data": {
            "application/vnd.deepnote.dataframe.v3+json": {
              "column_count": 2,
              "row_count": 4,
              "columns": [
                {
                  "name": "0",
                  "dtype": "int64",
                  "stats": {
                    "unique_count": 4,
                    "nan_count": 0,
                    "min": "304",
                    "max": "1985",
                    "histogram": [
                      {
                        "bin_start": 304,
                        "bin_end": 472.1,
                        "count": 1
                      },
                      {
                        "bin_start": 472.1,
                        "bin_end": 640.2,
                        "count": 0
                      },
                      {
                        "bin_start": 640.2,
                        "bin_end": 808.3,
                        "count": 0
                      },
                      {
                        "bin_start": 808.3,
                        "bin_end": 976.4,
                        "count": 0
                      },
                      {
                        "bin_start": 976.4,
                        "bin_end": 1144.5,
                        "count": 0
                      },
                      {
                        "bin_start": 1144.5,
                        "bin_end": 1312.6,
                        "count": 1
                      },
                      {
                        "bin_start": 1312.6,
                        "bin_end": 1480.7,
                        "count": 0
                      },
                      {
                        "bin_start": 1480.7,
                        "bin_end": 1648.8,
                        "count": 1
                      },
                      {
                        "bin_start": 1648.8,
                        "bin_end": 1816.8999999999999,
                        "count": 0
                      },
                      {
                        "bin_start": 1816.8999999999999,
                        "bin_end": 1985,
                        "count": 1
                      }
                    ]
                  }
                },
                {
                  "name": "1",
                  "dtype": "int64",
                  "stats": {
                    "unique_count": 4,
                    "nan_count": 0,
                    "min": "263",
                    "max": "1476",
                    "histogram": [
                      {
                        "bin_start": 263,
                        "bin_end": 384.3,
                        "count": 1
                      },
                      {
                        "bin_start": 384.3,
                        "bin_end": 505.6,
                        "count": 0
                      },
                      {
                        "bin_start": 505.6,
                        "bin_end": 626.9,
                        "count": 0
                      },
                      {
                        "bin_start": 626.9,
                        "bin_end": 748.2,
                        "count": 0
                      },
                      {
                        "bin_start": 748.2,
                        "bin_end": 869.5,
                        "count": 0
                      },
                      {
                        "bin_start": 869.5,
                        "bin_end": 990.8,
                        "count": 0
                      },
                      {
                        "bin_start": 990.8,
                        "bin_end": 1112.1,
                        "count": 0
                      },
                      {
                        "bin_start": 1112.1,
                        "bin_end": 1233.4,
                        "count": 0
                      },
                      {
                        "bin_start": 1233.4,
                        "bin_end": 1354.7,
                        "count": 0
                      },
                      {
                        "bin_start": 1354.7,
                        "bin_end": 1476,
                        "count": 3
                      }
                    ]
                  }
                },
                {
                  "name": "_deepnote_index_column",
                  "dtype": "int64"
                }
              ],
              "rows": [
                {
                  "0": 1560,
                  "1": 1386,
                  "_deepnote_index_column": 0
                },
                {
                  "0": 304,
                  "1": 263,
                  "_deepnote_index_column": 1
                },
                {
                  "0": 1985,
                  "1": 1476,
                  "_deepnote_index_column": 2
                },
                {
                  "0": 1231,
                  "1": 1366,
                  "_deepnote_index_column": 3
                }
              ]
            },
            "text/plain": "      0     1\n0  1560  1386\n1   304   263\n2  1985  1476\n3  1231  1366",
            "text/html": "<div>\n<style scoped>\n    .dataframe tbody tr th:only-of-type {\n        vertical-align: middle;\n    }\n\n    .dataframe tbody tr th {\n        vertical-align: top;\n    }\n\n    .dataframe thead th {\n        text-align: right;\n    }\n</style>\n<table border=\"1\" class=\"dataframe\">\n  <thead>\n    <tr style=\"text-align: right;\">\n      <th></th>\n      <th>0</th>\n      <th>1</th>\n    </tr>\n  </thead>\n  <tbody>\n    <tr>\n      <th>0</th>\n      <td>1560</td>\n      <td>1386</td>\n    </tr>\n    <tr>\n      <th>1</th>\n      <td>304</td>\n      <td>263</td>\n    </tr>\n    <tr>\n      <th>2</th>\n      <td>1985</td>\n      <td>1476</td>\n    </tr>\n    <tr>\n      <th>3</th>\n      <td>1231</td>\n      <td>1366</td>\n    </tr>\n  </tbody>\n</table>\n</div>"
          },
          "metadata": {}
        }
      ],
      "outputs_reference": null,
      "execution_count": 8,
      "block_group": "edb75f58e68e4680a5eac45e268a21a2",
      "content_dependencies": null
    },
    {
      "cell_type": "code",
      "source": "stroop_german_mean = pd.read_csv('stroop_german.mean.csv')\nstroop_german_mean.head()",
      "metadata": {
        "source_hash": "fb2f17d2",
        "execution_start": 1731627223010,
        "execution_millis": 18,
        "execution_context_id": "7e035b5a-6799-4610-adc3-539516df27b5",
        "cell_id": "9dec175a52a94a8c914a6766aa27d058",
        "deepnote_cell_type": "code"
      },
      "outputs": [
        {
          "output_type": "execute_result",
          "execution_count": 9,
          "data": {
            "application/vnd.deepnote.dataframe.v3+json": {
              "column_count": 2,
              "row_count": 4,
              "columns": [
                {
                  "name": "0",
                  "dtype": "float64",
                  "stats": {
                    "unique_count": 4,
                    "nan_count": 0,
                    "min": "139.285714285714",
                    "max": "1481.0",
                    "histogram": [
                      {
                        "bin_start": 139.285714285714,
                        "bin_end": 273.45714285714257,
                        "count": 1
                      },
                      {
                        "bin_start": 273.45714285714257,
                        "bin_end": 407.6285714285712,
                        "count": 0
                      },
                      {
                        "bin_start": 407.6285714285712,
                        "bin_end": 541.7999999999998,
                        "count": 0
                      },
                      {
                        "bin_start": 541.7999999999998,
                        "bin_end": 675.9714285714284,
                        "count": 0
                      },
                      {
                        "bin_start": 675.9714285714284,
                        "bin_end": 810.142857142857,
                        "count": 1
                      },
                      {
                        "bin_start": 810.142857142857,
                        "bin_end": 944.3142857142857,
                        "count": 0
                      },
                      {
                        "bin_start": 944.3142857142857,
                        "bin_end": 1078.4857142857143,
                        "count": 1
                      },
                      {
                        "bin_start": 1078.4857142857143,
                        "bin_end": 1212.6571428571428,
                        "count": 0
                      },
                      {
                        "bin_start": 1212.6571428571428,
                        "bin_end": 1346.8285714285714,
                        "count": 0
                      },
                      {
                        "bin_start": 1346.8285714285714,
                        "bin_end": 1481,
                        "count": 1
                      }
                    ]
                  }
                },
                {
                  "name": "1",
                  "dtype": "float64",
                  "stats": {
                    "unique_count": 4,
                    "nan_count": 0,
                    "min": "171.333333333333",
                    "max": "1163.375",
                    "histogram": [
                      {
                        "bin_start": 171.333333333333,
                        "bin_end": 270.5374999999997,
                        "count": 1
                      },
                      {
                        "bin_start": 270.5374999999997,
                        "bin_end": 369.7416666666664,
                        "count": 0
                      },
                      {
                        "bin_start": 369.7416666666664,
                        "bin_end": 468.9458333333331,
                        "count": 0
                      },
                      {
                        "bin_start": 468.9458333333331,
                        "bin_end": 568.1499999999997,
                        "count": 0
                      },
                      {
                        "bin_start": 568.1499999999997,
                        "bin_end": 667.3541666666665,
                        "count": 0
                      },
                      {
                        "bin_start": 667.3541666666665,
                        "bin_end": 766.5583333333332,
                        "count": 1
                      },
                      {
                        "bin_start": 766.5583333333332,
                        "bin_end": 865.7624999999999,
                        "count": 1
                      },
                      {
                        "bin_start": 865.7624999999999,
                        "bin_end": 964.9666666666666,
                        "count": 0
                      },
                      {
                        "bin_start": 964.9666666666666,
                        "bin_end": 1064.1708333333331,
                        "count": 0
                      },
                      {
                        "bin_start": 1064.1708333333331,
                        "bin_end": 1163.375,
                        "count": 1
                      }
                    ]
                  }
                },
                {
                  "name": "_deepnote_index_column",
                  "dtype": "int64"
                }
              ],
              "rows": [
                {
                  "0": 1027.03448275862,
                  "1": 845.454545454545,
                  "_deepnote_index_column": 0
                },
                {
                  "0": 139.285714285714,
                  "1": 171.333333333333,
                  "_deepnote_index_column": 1
                },
                {
                  "0": 1481,
                  "1": 1163.375,
                  "_deepnote_index_column": 2
                },
                {
                  "0": 777.62962962963,
                  "1": 703.333333333333,
                  "_deepnote_index_column": 3
                }
              ]
            },
            "text/plain": "             0            1\n0  1027.034483   845.454545\n1   139.285714   171.333333\n2  1481.000000  1163.375000\n3   777.629630   703.333333",
            "text/html": "<div>\n<style scoped>\n    .dataframe tbody tr th:only-of-type {\n        vertical-align: middle;\n    }\n\n    .dataframe tbody tr th {\n        vertical-align: top;\n    }\n\n    .dataframe thead th {\n        text-align: right;\n    }\n</style>\n<table border=\"1\" class=\"dataframe\">\n  <thead>\n    <tr style=\"text-align: right;\">\n      <th></th>\n      <th>0</th>\n      <th>1</th>\n    </tr>\n  </thead>\n  <tbody>\n    <tr>\n      <th>0</th>\n      <td>1027.034483</td>\n      <td>845.454545</td>\n    </tr>\n    <tr>\n      <th>1</th>\n      <td>139.285714</td>\n      <td>171.333333</td>\n    </tr>\n    <tr>\n      <th>2</th>\n      <td>1481.000000</td>\n      <td>1163.375000</td>\n    </tr>\n    <tr>\n      <th>3</th>\n      <td>777.629630</td>\n      <td>703.333333</td>\n    </tr>\n  </tbody>\n</table>\n</div>"
          },
          "metadata": {}
        }
      ],
      "outputs_reference": null,
      "execution_count": 9,
      "block_group": "82fc184db74a48019ab798f10784836a",
      "content_dependencies": null
    },
    {
      "cell_type": "code",
      "source": "stroop_german_median = pd.read_csv('stroop_german.median.csv')\nstroop_german_median.head()",
      "metadata": {
        "source_hash": "46cdf850",
        "execution_start": 1731627223070,
        "execution_millis": 19,
        "execution_context_id": "7e035b5a-6799-4610-adc3-539516df27b5",
        "cell_id": "9176d925f73347289d451a3dc8e1b91b",
        "deepnote_cell_type": "code"
      },
      "outputs": [
        {
          "output_type": "execute_result",
          "execution_count": 10,
          "data": {
            "application/vnd.deepnote.dataframe.v3+json": {
              "column_count": 2,
              "row_count": 4,
              "columns": [
                {
                  "name": "0",
                  "dtype": "int64",
                  "stats": {
                    "unique_count": 4,
                    "nan_count": 0,
                    "min": "114",
                    "max": "1475",
                    "histogram": [
                      {
                        "bin_start": 114,
                        "bin_end": 250.1,
                        "count": 1
                      },
                      {
                        "bin_start": 250.1,
                        "bin_end": 386.2,
                        "count": 0
                      },
                      {
                        "bin_start": 386.2,
                        "bin_end": 522.3,
                        "count": 0
                      },
                      {
                        "bin_start": 522.3,
                        "bin_end": 658.4,
                        "count": 0
                      },
                      {
                        "bin_start": 658.4,
                        "bin_end": 794.5,
                        "count": 1
                      },
                      {
                        "bin_start": 794.5,
                        "bin_end": 930.5999999999999,
                        "count": 0
                      },
                      {
                        "bin_start": 930.5999999999999,
                        "bin_end": 1066.6999999999998,
                        "count": 1
                      },
                      {
                        "bin_start": 1066.6999999999998,
                        "bin_end": 1202.8,
                        "count": 0
                      },
                      {
                        "bin_start": 1202.8,
                        "bin_end": 1338.8999999999999,
                        "count": 0
                      },
                      {
                        "bin_start": 1338.8999999999999,
                        "bin_end": 1475,
                        "count": 1
                      }
                    ]
                  }
                },
                {
                  "name": "1",
                  "dtype": "float64",
                  "stats": {
                    "unique_count": 4,
                    "nan_count": 0,
                    "min": "184.0",
                    "max": "1119.5",
                    "histogram": [
                      {
                        "bin_start": 184,
                        "bin_end": 277.55,
                        "count": 1
                      },
                      {
                        "bin_start": 277.55,
                        "bin_end": 371.1,
                        "count": 0
                      },
                      {
                        "bin_start": 371.1,
                        "bin_end": 464.65,
                        "count": 0
                      },
                      {
                        "bin_start": 464.65,
                        "bin_end": 558.2,
                        "count": 0
                      },
                      {
                        "bin_start": 558.2,
                        "bin_end": 651.75,
                        "count": 1
                      },
                      {
                        "bin_start": 651.75,
                        "bin_end": 745.3,
                        "count": 0
                      },
                      {
                        "bin_start": 745.3,
                        "bin_end": 838.85,
                        "count": 0
                      },
                      {
                        "bin_start": 838.85,
                        "bin_end": 932.4,
                        "count": 1
                      },
                      {
                        "bin_start": 932.4,
                        "bin_end": 1025.9499999999998,
                        "count": 0
                      },
                      {
                        "bin_start": 1025.9499999999998,
                        "bin_end": 1119.5,
                        "count": 1
                      }
                    ]
                  }
                },
                {
                  "name": "_deepnote_index_column",
                  "dtype": "int64"
                }
              ],
              "rows": [
                {
                  "0": 1041,
                  "1": 861,
                  "_deepnote_index_column": 0
                },
                {
                  "0": 114,
                  "1": 184,
                  "_deepnote_index_column": 1
                },
                {
                  "0": 1475,
                  "1": 1119.5,
                  "_deepnote_index_column": 2
                },
                {
                  "0": 769,
                  "1": 628,
                  "_deepnote_index_column": 3
                }
              ]
            },
            "text/plain": "      0       1\n0  1041   861.0\n1   114   184.0\n2  1475  1119.5\n3   769   628.0",
            "text/html": "<div>\n<style scoped>\n    .dataframe tbody tr th:only-of-type {\n        vertical-align: middle;\n    }\n\n    .dataframe tbody tr th {\n        vertical-align: top;\n    }\n\n    .dataframe thead th {\n        text-align: right;\n    }\n</style>\n<table border=\"1\" class=\"dataframe\">\n  <thead>\n    <tr style=\"text-align: right;\">\n      <th></th>\n      <th>0</th>\n      <th>1</th>\n    </tr>\n  </thead>\n  <tbody>\n    <tr>\n      <th>0</th>\n      <td>1041</td>\n      <td>861.0</td>\n    </tr>\n    <tr>\n      <th>1</th>\n      <td>114</td>\n      <td>184.0</td>\n    </tr>\n    <tr>\n      <th>2</th>\n      <td>1475</td>\n      <td>1119.5</td>\n    </tr>\n    <tr>\n      <th>3</th>\n      <td>769</td>\n      <td>628.0</td>\n    </tr>\n  </tbody>\n</table>\n</div>"
          },
          "metadata": {}
        }
      ],
      "outputs_reference": null,
      "execution_count": 10,
      "block_group": "fac0cd9bb3e6407da3b01571fa913e9e",
      "content_dependencies": null
    },
    {
      "cell_type": "code",
      "source": "stroop_german_n = pd.read_csv('stroop_german.n.csv')\nstroop_german_n.head()",
      "metadata": {
        "source_hash": "5b79cfe3",
        "execution_start": 1731627223138,
        "execution_millis": 27,
        "execution_context_id": "7e035b5a-6799-4610-adc3-539516df27b5",
        "cell_id": "32933258956842759a8c5718e584eb61",
        "deepnote_cell_type": "code"
      },
      "outputs": [
        {
          "output_type": "execute_result",
          "execution_count": 11,
          "data": {
            "application/vnd.deepnote.dataframe.v3+json": {
              "column_count": 2,
              "row_count": 4,
              "columns": [
                {
                  "name": "0",
                  "dtype": "int64",
                  "stats": {
                    "unique_count": 3,
                    "nan_count": 0,
                    "min": "29",
                    "max": "32",
                    "histogram": [
                      {
                        "bin_start": 29,
                        "bin_end": 29.3,
                        "count": 1
                      },
                      {
                        "bin_start": 29.3,
                        "bin_end": 29.6,
                        "count": 0
                      },
                      {
                        "bin_start": 29.6,
                        "bin_end": 29.9,
                        "count": 0
                      },
                      {
                        "bin_start": 29.9,
                        "bin_end": 30.2,
                        "count": 2
                      },
                      {
                        "bin_start": 30.2,
                        "bin_end": 30.5,
                        "count": 0
                      },
                      {
                        "bin_start": 30.5,
                        "bin_end": 30.8,
                        "count": 0
                      },
                      {
                        "bin_start": 30.8,
                        "bin_end": 31.1,
                        "count": 0
                      },
                      {
                        "bin_start": 31.1,
                        "bin_end": 31.4,
                        "count": 0
                      },
                      {
                        "bin_start": 31.4,
                        "bin_end": 31.7,
                        "count": 0
                      },
                      {
                        "bin_start": 31.7,
                        "bin_end": 32,
                        "count": 1
                      }
                    ]
                  }
                },
                {
                  "name": "1",
                  "dtype": "int64",
                  "stats": {
                    "unique_count": 3,
                    "nan_count": 0,
                    "min": "8",
                    "max": "11",
                    "histogram": [
                      {
                        "bin_start": 8,
                        "bin_end": 8.3,
                        "count": 1
                      },
                      {
                        "bin_start": 8.3,
                        "bin_end": 8.6,
                        "count": 0
                      },
                      {
                        "bin_start": 8.6,
                        "bin_end": 8.9,
                        "count": 0
                      },
                      {
                        "bin_start": 8.9,
                        "bin_end": 9.2,
                        "count": 0
                      },
                      {
                        "bin_start": 9.2,
                        "bin_end": 9.5,
                        "count": 0
                      },
                      {
                        "bin_start": 9.5,
                        "bin_end": 9.8,
                        "count": 0
                      },
                      {
                        "bin_start": 9.8,
                        "bin_end": 10.1,
                        "count": 2
                      },
                      {
                        "bin_start": 10.1,
                        "bin_end": 10.4,
                        "count": 0
                      },
                      {
                        "bin_start": 10.4,
                        "bin_end": 10.7,
                        "count": 0
                      },
                      {
                        "bin_start": 10.7,
                        "bin_end": 11,
                        "count": 1
                      }
                    ]
                  }
                },
                {
                  "name": "_deepnote_index_column",
                  "dtype": "int64"
                }
              ],
              "rows": [
                {
                  "0": 29,
                  "1": 11,
                  "_deepnote_index_column": 0
                },
                {
                  "0": 30,
                  "1": 10,
                  "_deepnote_index_column": 1
                },
                {
                  "0": 32,
                  "1": 8,
                  "_deepnote_index_column": 2
                },
                {
                  "0": 30,
                  "1": 10,
                  "_deepnote_index_column": 3
                }
              ]
            },
            "text/plain": "    0   1\n0  29  11\n1  30  10\n2  32   8\n3  30  10",
            "text/html": "<div>\n<style scoped>\n    .dataframe tbody tr th:only-of-type {\n        vertical-align: middle;\n    }\n\n    .dataframe tbody tr th {\n        vertical-align: top;\n    }\n\n    .dataframe thead th {\n        text-align: right;\n    }\n</style>\n<table border=\"1\" class=\"dataframe\">\n  <thead>\n    <tr style=\"text-align: right;\">\n      <th></th>\n      <th>0</th>\n      <th>1</th>\n    </tr>\n  </thead>\n  <tbody>\n    <tr>\n      <th>0</th>\n      <td>29</td>\n      <td>11</td>\n    </tr>\n    <tr>\n      <th>1</th>\n      <td>30</td>\n      <td>10</td>\n    </tr>\n    <tr>\n      <th>2</th>\n      <td>32</td>\n      <td>8</td>\n    </tr>\n    <tr>\n      <th>3</th>\n      <td>30</td>\n      <td>10</td>\n    </tr>\n  </tbody>\n</table>\n</div>"
          },
          "metadata": {}
        }
      ],
      "outputs_reference": null,
      "execution_count": 11,
      "block_group": "d9f28990ba2446f5a6e94775ba8e3032",
      "content_dependencies": null
    },
    {
      "cell_type": "code",
      "source": "stroop_german_pe = pd.read_csv('stroop_german.pe.csv')\nstroop_german_pe.head()",
      "metadata": {
        "source_hash": "3485a605",
        "execution_start": 1731627223210,
        "execution_millis": 15,
        "execution_context_id": "403e3833-9492-4751-a356-0586a3f6b02b",
        "cell_id": "92e5c7218fae4c2a932b5425146a1b79",
        "deepnote_cell_type": "code"
      },
      "outputs": [
        {
          "output_type": "execute_result",
          "execution_count": 12,
          "data": {
            "application/vnd.deepnote.dataframe.v3+json": {
              "column_count": 2,
              "row_count": 4,
              "columns": [
                {
                  "name": "0",
                  "dtype": "float64",
                  "stats": {
                    "unique_count": 4,
                    "nan_count": 0,
                    "min": "0.0",
                    "max": "76.6666666666667",
                    "histogram": [
                      {
                        "bin_start": 0,
                        "bin_end": 7.66666666666667,
                        "count": 1
                      },
                      {
                        "bin_start": 7.66666666666667,
                        "bin_end": 15.33333333333334,
                        "count": 2
                      },
                      {
                        "bin_start": 15.33333333333334,
                        "bin_end": 23.000000000000007,
                        "count": 0
                      },
                      {
                        "bin_start": 23.000000000000007,
                        "bin_end": 30.66666666666668,
                        "count": 0
                      },
                      {
                        "bin_start": 30.66666666666668,
                        "bin_end": 38.33333333333335,
                        "count": 0
                      },
                      {
                        "bin_start": 38.33333333333335,
                        "bin_end": 46.000000000000014,
                        "count": 0
                      },
                      {
                        "bin_start": 46.000000000000014,
                        "bin_end": 53.666666666666686,
                        "count": 0
                      },
                      {
                        "bin_start": 53.666666666666686,
                        "bin_end": 61.33333333333336,
                        "count": 0
                      },
                      {
                        "bin_start": 61.33333333333336,
                        "bin_end": 69.00000000000003,
                        "count": 0
                      },
                      {
                        "bin_start": 69.00000000000003,
                        "bin_end": 76.6666666666667,
                        "count": 1
                      }
                    ]
                  }
                },
                {
                  "name": "1",
                  "dtype": "int64",
                  "stats": {
                    "unique_count": 3,
                    "nan_count": 0,
                    "min": "0",
                    "max": "70",
                    "histogram": [
                      {
                        "bin_start": 0,
                        "bin_end": 7,
                        "count": 2
                      },
                      {
                        "bin_start": 7,
                        "bin_end": 14,
                        "count": 1
                      },
                      {
                        "bin_start": 14,
                        "bin_end": 21,
                        "count": 0
                      },
                      {
                        "bin_start": 21,
                        "bin_end": 28,
                        "count": 0
                      },
                      {
                        "bin_start": 28,
                        "bin_end": 35,
                        "count": 0
                      },
                      {
                        "bin_start": 35,
                        "bin_end": 42,
                        "count": 0
                      },
                      {
                        "bin_start": 42,
                        "bin_end": 49,
                        "count": 0
                      },
                      {
                        "bin_start": 49,
                        "bin_end": 56,
                        "count": 0
                      },
                      {
                        "bin_start": 56,
                        "bin_end": 63,
                        "count": 0
                      },
                      {
                        "bin_start": 63,
                        "bin_end": 70,
                        "count": 1
                      }
                    ]
                  }
                },
                {
                  "name": "_deepnote_index_column",
                  "dtype": "int64"
                }
              ],
              "rows": [
                {
                  "0": 0,
                  "1": 0,
                  "_deepnote_index_column": 0
                },
                {
                  "0": 76.6666666666667,
                  "1": 70,
                  "_deepnote_index_column": 1
                },
                {
                  "0": 12.5,
                  "1": 0,
                  "_deepnote_index_column": 2
                },
                {
                  "0": 10,
                  "1": 10,
                  "_deepnote_index_column": 3
                }
              ]
            },
            "text/plain": "           0   1\n0   0.000000   0\n1  76.666667  70\n2  12.500000   0\n3  10.000000  10",
            "text/html": "<div>\n<style scoped>\n    .dataframe tbody tr th:only-of-type {\n        vertical-align: middle;\n    }\n\n    .dataframe tbody tr th {\n        vertical-align: top;\n    }\n\n    .dataframe thead th {\n        text-align: right;\n    }\n</style>\n<table border=\"1\" class=\"dataframe\">\n  <thead>\n    <tr style=\"text-align: right;\">\n      <th></th>\n      <th>0</th>\n      <th>1</th>\n    </tr>\n  </thead>\n  <tbody>\n    <tr>\n      <th>0</th>\n      <td>0.000000</td>\n      <td>0</td>\n    </tr>\n    <tr>\n      <th>1</th>\n      <td>76.666667</td>\n      <td>70</td>\n    </tr>\n    <tr>\n      <th>2</th>\n      <td>12.500000</td>\n      <td>0</td>\n    </tr>\n    <tr>\n      <th>3</th>\n      <td>10.000000</td>\n      <td>10</td>\n    </tr>\n  </tbody>\n</table>\n</div>"
          },
          "metadata": {}
        }
      ],
      "outputs_reference": null,
      "execution_count": 12,
      "block_group": "6cfe9c02203145408ba54932276a5784",
      "content_dependencies": null
    },
    {
      "cell_type": "markdown",
      "source": "# Data Cleaning Pipeline",
      "metadata": {
        "cell_id": "579c2d15dae84943befa51c79fd7dfab",
        "deepnote_cell_type": "markdown"
      },
      "block_group": "b050d8ca540c4ed9bf5304a907e47d6d"
    },
    {
      "cell_type": "markdown",
      "source": "## Convert .txt files to .csv files.",
      "metadata": {
        "source_hash": "9ee3207b",
        "execution_start": 1731454334945,
        "execution_millis": 0,
        "execution_context_id": "51b4ef2b-c299-4bc8-8282-12e112dd08f6",
        "deepnote_app_block_visible": false,
        "cell_id": "efe3e409efeb4adc9171fb0a1928af14",
        "deepnote_cell_type": "markdown"
      },
      "block_group": "c37be74e240647a28807604c8eaad679"
    },
    {
      "cell_type": "markdown",
      "source": "### Convert Corsi .txt files to .csv files",
      "metadata": {
        "cell_id": "b16c3b1f11d443aebb2a6d33b058a91e",
        "deepnote_cell_type": "markdown"
      },
      "block_group": "f5997d29017a41749721c2f175f1f258"
    },
    {
      "cell_type": "code",
      "source": "def corsi_txt_to_csv(file_path, output_folder, file_counter):\n    # Define column names\n    column_names = [\n        'Highest Corsi span so far',\n        'Number of items in current trial to be remembered (starting with 2)',\n        'Status of current trial (1 = correct, 0 = incorrect)',\n        'The table row from the table'\n    ]\n\n    # Read the .txt file into a DataFrame\n    df = pd.read_csv(file_path, delimiter=' ', header=None, names=column_names)\n\n    # Ensure the output folder exists\n    os.makedirs(output_folder, exist_ok=True)\n\n    # Create a new name using the counter\n    output_file_path = os.path.join(output_folder, f\"corsi_{file_counter}.csv\")\n\n    # Save DataFrame as a .csv file with column names\n    df.to_csv(output_file_path, index=False)\n    print(f\"Converted {file_path} to {output_file_path}\")\n\ndef convert_corsi_txt_to_csv(input_folder, output_folder):\n    # Initialize a counter\n    file_counter = 1\n\n    for file_name in os.listdir(input_folder):\n        if file_name.endswith('.txt') and 'corsi' in file_name:\n            file_path = os.path.join(input_folder, file_name)\n            corsi_txt_to_csv(file_path, output_folder, file_counter)\n            file_counter += 1\n\nconvert_corsi_txt_to_csv('experiment_data', 'csv_experiment_data')",
      "metadata": {
        "source_hash": "da24654d",
        "execution_start": 1731627223274,
        "execution_millis": 889,
        "execution_context_id": "d6825e58-3769-484f-8607-a71473c05eb7",
        "cell_id": "dee0610ae48348dd978d596f79cf3645",
        "deepnote_cell_type": "code"
      },
      "outputs": [
        {
          "name": "stdout",
          "text": "Converted experiment_data/corsi.2024-10-29-2238.data.bce1d5e5-ae0e-45f1-a96d-5bf45eaf751a.txt to csv_experiment_data/corsi_1.csv\nConverted experiment_data/corsi.2024-10-30-1659.data.72986a90-e41d-47ce-a6e7-8d5f43130bdb.txt to csv_experiment_data/corsi_2.csv\nConverted experiment_data/corsi.2024-11-03-1231.data.2875974c-97f5-4e3d-80de-1779707e7a0e.txt to csv_experiment_data/corsi_3.csv\n",
          "output_type": "stream"
        }
      ],
      "outputs_reference": null,
      "execution_count": 13,
      "block_group": "a64746d9351e4af490731aeba2446878",
      "content_dependencies": null
    },
    {
      "cell_type": "markdown",
      "source": "### Convert Digit .txt to .csv files",
      "metadata": {
        "cell_id": "b233f05d984d4ce287be1d41b654dcf6",
        "deepnote_cell_type": "markdown"
      },
      "block_group": "ef35febacfda4850a7598127019b040a"
    },
    {
      "cell_type": "code",
      "source": "def digit_txt_to_csv(file_path, output_folder, file_counter):\n    # Read all lines from the file\n    with open(file_path, 'r') as file:\n        lines = [line.strip() for line in file.readlines()]\n    \n    # Initialize lists to store data\n    data = []\n    \n    # Process three lines at a time\n    for i in range(0, len(lines), 3):\n        if i + 2 >= len(lines):  # Skip incomplete trials\n            break\n            \n        # Split each line into components\n        clicked_line = lines[i].split()\n        rt_line = lines[i + 1].split()\n        metrics_line = lines[i + 2]\n        \n        # Create a row dictionary with basic components\n        row = {\n            'trial_id': clicked_line[0],\n            'type1': clicked_line[1],\n            'click1': clicked_line[2] if len(clicked_line) > 2 else '',\n            'click2': clicked_line[3] if len(clicked_line) > 3 else '',\n            'click3': clicked_line[4] if len(clicked_line) > 4 else '',\n            'click4': clicked_line[5] if len(clicked_line) > 5 else '',\n            'click5': clicked_line[6] if len(clicked_line) > 6 else '',\n            'click6': clicked_line[7] if len(clicked_line) > 7 else '',\n            'click7': clicked_line[8] if len(clicked_line) > 8 else '',\n            'click8': clicked_line[9] if len(clicked_line) > 9 else '',\n            'click9': clicked_line[10] if len(clicked_line) > 10 else '',\n            \n            'type2': rt_line[1],\n            'rt1': rt_line[2] if len(rt_line) > 2 else '',\n            'rt2': rt_line[3] if len(rt_line) > 3 else '',\n            'rt3': rt_line[4] if len(rt_line) > 4 else '',\n            'rt4': rt_line[5] if len(rt_line) > 5 else '',\n            'rt5': rt_line[6] if len(rt_line) > 6 else '',\n            'rt6': rt_line[7] if len(rt_line) > 7 else '',\n            'rt7': rt_line[8] if len(rt_line) > 8 else '',\n            'rt8': rt_line[9] if len(rt_line) > 9 else '',\n            'rt9': rt_line[10] if len(rt_line) > 10 else '',\n        }\n        \n        # Improved metrics parsing\n        metrics_parts = [part.strip() for part in metrics_line.split('//')]\n        \n        # Parse first part (longest span, current length, correctness)\n        first_metrics = metrics_parts[0].split()\n        row.update({\n            'longest_span': first_metrics[1],\n            'current_length': first_metrics[2],\n            'correctness': first_metrics[3]\n        })\n        \n        # Parse current frequency (length)\n        if len(metrics_parts) >= 2:\n            freq_parts = metrics_parts[1].split()\n            row['frequency_length1'] = freq_parts[0] if len(freq_parts) > 0 else ''\n            row['frequency_length2'] = freq_parts[1] if len(freq_parts) > 1 else ''\n        \n        # Parse shown numbers\n        if len(metrics_parts) >= 3:\n            shown_parts = metrics_parts[2].split()\n            row['numbers_shown1'] = shown_parts[0] if len(shown_parts) > 0 else ''\n            row['numbers_shown2'] = shown_parts[1] if len(shown_parts) > 1 else ''\n        \n        # Parse clicked numbers\n        if len(metrics_parts) >= 4:\n            clicked_parts = metrics_parts[3].split()\n            row['numbers_clicked1'] = clicked_parts[0] if len(clicked_parts) > 0 else ''\n            row['numbers_clicked2'] = clicked_parts[1] if len(clicked_parts) > 1 else ''\n        \n        data.append(row)\n    \n    # Convert to DataFrame\n    df = pd.DataFrame(data)\n    \n    # Ensure the output folder exists\n    os.makedirs(output_folder, exist_ok=True)\n    \n    # Create a new name using the counter\n    output_file_path = os.path.join(output_folder, f\"digit_{file_counter}.csv\")\n    \n    # Save DataFrame as a .csv file\n    df.to_csv(output_file_path, index=False)\n    print(f\"Converted {file_path} to {output_file_path}\")\n\ndef convert_digit_txt_to_csv(input_folder, output_folder):\n    # Initialize a counter\n    file_counter = 1\n\n    for file_name in os.listdir(input_folder):\n        if file_name.endswith('.txt') and 'digit' in file_name:\n            file_path = os.path.join(input_folder, file_name)\n            digit_txt_to_csv(file_path, output_folder, file_counter)\n            file_counter += 1\n\nconvert_digit_txt_to_csv('experiment_data', 'csv_experiment_data')\n",
      "metadata": {
        "source_hash": "af2ac9a9",
        "execution_start": 1731627224278,
        "execution_millis": 537,
        "execution_context_id": "d6825e58-3769-484f-8607-a71473c05eb7",
        "cell_id": "26bc13b7df5c48b38fe601051feedcd3",
        "deepnote_cell_type": "code"
      },
      "outputs": [
        {
          "name": "stdout",
          "text": "Converted experiment_data/digit.2024-10-29-2243.data.bce1d5e5-ae0e-45f1-a96d-5bf45eaf751a.txt to csv_experiment_data/digit_1.csv\nConverted experiment_data/digit.2024-10-30-1703.data.72986a90-e41d-47ce-a6e7-8d5f43130bdb.txt to csv_experiment_data/digit_2.csv\nConverted experiment_data/digit.2024-11-03-1236.data.2875974c-97f5-4e3d-80de-1779707e7a0e.txt to csv_experiment_data/digit_3.csv\n",
          "output_type": "stream"
        }
      ],
      "outputs_reference": null,
      "execution_count": 14,
      "block_group": "eb867d5a6cc14b3381a59a7b43688dc0",
      "content_dependencies": null
    },
    {
      "cell_type": "markdown",
      "source": "### Convert n-back .txt to .csv files",
      "metadata": {
        "cell_id": "369a6393e90d4086bc87a0deca193dd4",
        "deepnote_cell_type": "markdown"
      },
      "block_group": "81a60eee70e94156b9925cf118cbce07"
    },
    {
      "cell_type": "code",
      "source": "def nback_txt_to_csv(file_path, output_folder, file_count):\n    # Define column names\n    column_names = [\n        'Block Number (the number of the block, there are 3 blocks)',\n        'Trial Number (the number of the trial)',\n        'Type of Trial (1 = matching stimulus, 0 = non-matching stimulus)',\n        'Score (1 = correct, 0 = incorrect)',\n        'Match (1 = participant matched correctly, 0 = participant did not match; only meaningful on match trials)',\n        'Miss (1 = participant missed, 0 = participant did not miss; only meaningful on non-match trials)',\n        'False Alarm (1 = participant wrongly pressed button, 0 = participant correctly pressed button; only meaningful on non-match trials)',\n        'Reaction Time',\n        'Memory (variable used internally)',\n        'Current Letter (a number between 1 and 15, representing letter A, etc.)',\n        'nback1',\n        'nback2'\n    ]\n\n    # Read the .txt file into a DataFrame\n    df = pd.read_csv(file_path, delimiter=' ', header=None, names=column_names)\n\n    # Ensure the output folder exists\n    os.makedirs(output_folder, exist_ok=True)\n\n    # Create a new name using the counter\n    output_file_path = os.path.join(output_folder, f\"n_back_{file_count}.csv\")\n\n    # Save DataFrame as a .csv file with column names\n    df.to_csv(output_file_path, index=False)\n    print(f\"Converted {file_path} to {output_file_path}\")\n\ndef convert_nback_txt_to_csv(input_folder, output_folder):\n    file_count = 1\n    \n    for file_name in os.listdir(input_folder):\n        if file_name.endswith('.txt') and 'n_back' in file_name:\n            file_path = os.path.join(input_folder, file_name)\n            nback_txt_to_csv(file_path, output_folder, file_count)\n            file_count += 1\n\nconvert_nback_txt_to_csv('experiment_data', 'csv_experiment_data')\n",
      "metadata": {
        "source_hash": "5776e7d8",
        "execution_start": 1731627224966,
        "execution_millis": 558,
        "execution_context_id": "d6825e58-3769-484f-8607-a71473c05eb7",
        "cell_id": "d268e7c7d26d4512b7dc61384713b884",
        "deepnote_cell_type": "code"
      },
      "outputs": [
        {
          "name": "stdout",
          "text": "Converted experiment_data/n_back2.2024-10-29-2236.data.bce1d5e5-ae0e-45f1-a96d-5bf45eaf751a.txt to csv_experiment_data/n_back_1.csv\nConverted experiment_data/n_back2.2024-10-30-1657.data.72986a90-e41d-47ce-a6e7-8d5f43130bdb.txt to csv_experiment_data/n_back_2.csv\nConverted experiment_data/n_back2.2024-11-03-1229.data.2875974c-97f5-4e3d-80de-1779707e7a0e.txt to csv_experiment_data/n_back_3.csv\n",
          "output_type": "stream"
        }
      ],
      "outputs_reference": null,
      "execution_count": 17,
      "block_group": "a75a737264b24b328977ad9d549e7099",
      "content_dependencies": null
    },
    {
      "cell_type": "markdown",
      "source": "### Convert Stroop .txt to .csv files",
      "metadata": {
        "cell_id": "c96e37f7b4b5441cb3ef6797a3709910",
        "deepnote_cell_type": "markdown"
      },
      "block_group": "72356c1690c0432988982f52a86819e3"
    },
    {
      "cell_type": "code",
      "source": "def stroop_txt_to_csv(file_path, output_folder, file_count):\n    # Define column names\n    column_names = [\n        'Name of Block',\n        'Name of Word',\n        'Color of Word',\n        'Stroop Color Match (1 = compatible, 0 = incompatible)',\n        'Tablerow Number',\n        'Pressed Key Number',\n        'Status (1 = correct, 2 = wrong, 3 = timeout)',\n        'Response Time (ms)'\n    ]\n\n    # Read the .txt file into a DataFrame\n    df = pd.read_csv(file_path, delimiter='\\s+', header=None, names=column_names)\n\n    # Ensure the output folder exists\n    os.makedirs(output_folder, exist_ok=True)\n\n    # Create a new name using the counter\n    output_file_path = os.path.join(output_folder, f\"stroop_{file_count}.csv\")\n\n    # Save DataFrame as a .csv file with column names\n    df.to_csv(output_file_path, index=False)\n    print(f\"Converted {file_path} to {output_file_path}\")\n\ndef convert_stroop_txt_to_csv(input_folder, output_folder):\n    file_count = 1\n    \n    for file_name in os.listdir(input_folder):\n        if file_name.endswith('.txt') and 'stroop' in file_name:\n            file_path = os.path.join(input_folder, file_name)\n            stroop_txt_to_csv(file_path, output_folder, file_count)\n            file_count += 1\n\nconvert_stroop_txt_to_csv('experiment_data', 'csv_experiment_data')",
      "metadata": {
        "source_hash": "46fd8ded",
        "execution_start": 1731627225578,
        "execution_millis": 980,
        "execution_context_id": "d6825e58-3769-484f-8607-a71473c05eb7",
        "cell_id": "65fe4da14e1043fb9e5f9cfbf892f70f",
        "deepnote_cell_type": "code"
      },
      "outputs": [
        {
          "name": "stdout",
          "text": "Converted experiment_data/stroop_german.2024-08-22-0942.data.3271f666-2f34-4e1b-a748-562007caae07.txt to csv_experiment_data/stroop_1.csv\nConverted experiment_data/stroop_german.2024-10-21-1616.data.3111dfe2-fe42-4378-b100-37d36965e550.txt to csv_experiment_data/stroop_2.csv\nConverted experiment_data/stroop_german.2024-10-29-1833.data.a31d751c-4234-46fd-bbc7-cbd89940fe4c.txt to csv_experiment_data/stroop_3.csv\nConverted experiment_data/stroop_german.2024-10-29-2228.data.bce1d5e5-ae0e-45f1-a96d-5bf45eaf751a.txt to csv_experiment_data/stroop_4.csv\nConverted experiment_data/stroop_german.2024-10-30-1652.data.72986a90-e41d-47ce-a6e7-8d5f43130bdb.txt to csv_experiment_data/stroop_5.csv\nConverted experiment_data/stroop_german.2024-11-03-1223.data.2875974c-97f5-4e3d-80de-1779707e7a0e.txt to csv_experiment_data/stroop_6.csv\n",
          "output_type": "stream"
        }
      ],
      "outputs_reference": null,
      "execution_count": 18,
      "block_group": "075cf245e3de4f099c6787073ce0ae28",
      "content_dependencies": null
    },
    {
      "cell_type": "markdown",
      "source": "## Create DataFrames from newly created .csv files",
      "metadata": {
        "cell_id": "eddc0f07a4b946d9a0b17a135453b764",
        "deepnote_cell_type": "markdown"
      },
      "block_group": "ee770d04b53c4d7ba97daec670b8c4af"
    },
    {
      "cell_type": "code",
      "source": "# Corsi Trials\ncorsi_one = pd.read_csv('csv_experiment_data/corsi_1.csv')\ncorsi_two = pd.read_csv('csv_experiment_data/corsi_2.csv')\ncorsi_three = pd.read_csv('csv_experiment_data/corsi_3.csv')\n\n# Digit Trials\ndigit_one = pd.read_csv('csv_experiment_data/digit_1.csv')\ndigit_two = pd.read_csv('csv_experiment_data/digit_2.csv')\ndigit_three = pd.read_csv('csv_experiment_data/digit_3.csv')\n\n# N-Back Trials\nn_back_one = pd.read_csv('csv_experiment_data/n_back_1.csv')\nn_back_two = pd.read_csv('csv_experiment_data/n_back_2.csv')\nn_back_three = pd.read_csv('csv_experiment_data/n_back_3.csv')\n\n# Stroop Trials\nstroop_one = pd.read_csv('csv_experiment_data/stroop_1.csv')\nstroop_two = pd.read_csv('csv_experiment_data/stroop_2.csv')\nstroop_three = pd.read_csv('csv_experiment_data/stroop_3.csv')\nstroop_four = pd.read_csv('csv_experiment_data/stroop_4.csv')\nstroop_five = pd.read_csv('csv_experiment_data/stroop_5.csv')\nstroop_six = pd.read_csv('csv_experiment_data/stroop_6.csv')",
      "metadata": {
        "source_hash": "b2f6e1cf",
        "execution_start": 1731627226606,
        "execution_millis": 1553,
        "execution_context_id": "d6825e58-3769-484f-8607-a71473c05eb7",
        "cell_id": "f60297470e144ca38c327fb1e041e3bb",
        "deepnote_cell_type": "code"
      },
      "outputs": [],
      "outputs_reference": null,
      "execution_count": 19,
      "block_group": "1c5d9e156c3e418db4a9e921bf90e68b",
      "content_dependencies": null
    },
    {
      "cell_type": "markdown",
      "source": "## View DataFrames",
      "metadata": {
        "deepnote_app_block_visible": false,
        "cell_id": "12bb97cefe3a4d7ab7ba39b639b7693f",
        "deepnote_cell_type": "markdown"
      },
      "block_group": "cb6cf5cad5844d5da553daaf7a813ad7"
    },
    {
      "cell_type": "markdown",
      "source": "### View Corsi DataFrames",
      "metadata": {
        "deepnote_app_block_visible": false,
        "cell_id": "32061db066324f1d99f0820d812bb46c",
        "deepnote_cell_type": "markdown"
      },
      "block_group": "9261760e22e24767a35b862e9cc8415c"
    },
    {
      "cell_type": "code",
      "source": "corsi_one.head()",
      "metadata": {
        "source_hash": "4e789040",
        "execution_start": 1731627228218,
        "execution_millis": 1,
        "execution_context_id": "8132cf72-65a5-4f53-bde2-b669605264d8",
        "cell_id": "89142095997e4ddfa944db31a5fc37ef",
        "deepnote_cell_type": "code"
      },
      "outputs": [
        {
          "output_type": "execute_result",
          "execution_count": 20,
          "data": {
            "application/vnd.deepnote.dataframe.v3+json": {
              "column_count": 4,
              "row_count": 5,
              "columns": [
                {
                  "name": "Highest Corsi span so far",
                  "dtype": "int64",
                  "stats": {
                    "unique_count": 4,
                    "nan_count": 0,
                    "min": "2",
                    "max": "5",
                    "histogram": [
                      {
                        "bin_start": 2,
                        "bin_end": 2.3,
                        "count": 1
                      },
                      {
                        "bin_start": 2.3,
                        "bin_end": 2.6,
                        "count": 0
                      },
                      {
                        "bin_start": 2.6,
                        "bin_end": 2.9,
                        "count": 0
                      },
                      {
                        "bin_start": 2.9,
                        "bin_end": 3.2,
                        "count": 1
                      },
                      {
                        "bin_start": 3.2,
                        "bin_end": 3.5,
                        "count": 0
                      },
                      {
                        "bin_start": 3.5,
                        "bin_end": 3.8,
                        "count": 0
                      },
                      {
                        "bin_start": 3.8,
                        "bin_end": 4.1,
                        "count": 1
                      },
                      {
                        "bin_start": 4.1,
                        "bin_end": 4.4,
                        "count": 0
                      },
                      {
                        "bin_start": 4.4,
                        "bin_end": 4.699999999999999,
                        "count": 0
                      },
                      {
                        "bin_start": 4.699999999999999,
                        "bin_end": 5,
                        "count": 2
                      }
                    ]
                  }
                },
                {
                  "name": "Number of items in current trial to be remembered (starting with 2)",
                  "dtype": "int64",
                  "stats": {
                    "unique_count": 5,
                    "nan_count": 0,
                    "min": "2",
                    "max": "6",
                    "histogram": [
                      {
                        "bin_start": 2,
                        "bin_end": 2.4,
                        "count": 1
                      },
                      {
                        "bin_start": 2.4,
                        "bin_end": 2.8,
                        "count": 0
                      },
                      {
                        "bin_start": 2.8,
                        "bin_end": 3.2,
                        "count": 1
                      },
                      {
                        "bin_start": 3.2,
                        "bin_end": 3.6,
                        "count": 0
                      },
                      {
                        "bin_start": 3.6,
                        "bin_end": 4,
                        "count": 0
                      },
                      {
                        "bin_start": 4,
                        "bin_end": 4.4,
                        "count": 1
                      },
                      {
                        "bin_start": 4.4,
                        "bin_end": 4.800000000000001,
                        "count": 0
                      },
                      {
                        "bin_start": 4.800000000000001,
                        "bin_end": 5.2,
                        "count": 1
                      },
                      {
                        "bin_start": 5.2,
                        "bin_end": 5.6,
                        "count": 0
                      },
                      {
                        "bin_start": 5.6,
                        "bin_end": 6,
                        "count": 1
                      }
                    ]
                  }
                },
                {
                  "name": "Status of current trial (1 = correct, 0 = incorrect)",
                  "dtype": "int64",
                  "stats": {
                    "unique_count": 2,
                    "nan_count": 0,
                    "min": "0",
                    "max": "1",
                    "histogram": [
                      {
                        "bin_start": 0,
                        "bin_end": 0.1,
                        "count": 1
                      },
                      {
                        "bin_start": 0.1,
                        "bin_end": 0.2,
                        "count": 0
                      },
                      {
                        "bin_start": 0.2,
                        "bin_end": 0.30000000000000004,
                        "count": 0
                      },
                      {
                        "bin_start": 0.30000000000000004,
                        "bin_end": 0.4,
                        "count": 0
                      },
                      {
                        "bin_start": 0.4,
                        "bin_end": 0.5,
                        "count": 0
                      },
                      {
                        "bin_start": 0.5,
                        "bin_end": 0.6000000000000001,
                        "count": 0
                      },
                      {
                        "bin_start": 0.6000000000000001,
                        "bin_end": 0.7000000000000001,
                        "count": 0
                      },
                      {
                        "bin_start": 0.7000000000000001,
                        "bin_end": 0.8,
                        "count": 0
                      },
                      {
                        "bin_start": 0.8,
                        "bin_end": 0.9,
                        "count": 0
                      },
                      {
                        "bin_start": 0.9,
                        "bin_end": 1,
                        "count": 4
                      }
                    ]
                  }
                },
                {
                  "name": "The table row from the table",
                  "dtype": "int64",
                  "stats": {
                    "unique_count": 5,
                    "nan_count": 0,
                    "min": "47",
                    "max": "500",
                    "histogram": [
                      {
                        "bin_start": 47,
                        "bin_end": 92.3,
                        "count": 1
                      },
                      {
                        "bin_start": 92.3,
                        "bin_end": 137.6,
                        "count": 0
                      },
                      {
                        "bin_start": 137.6,
                        "bin_end": 182.89999999999998,
                        "count": 1
                      },
                      {
                        "bin_start": 182.89999999999998,
                        "bin_end": 228.2,
                        "count": 1
                      },
                      {
                        "bin_start": 228.2,
                        "bin_end": 273.5,
                        "count": 0
                      },
                      {
                        "bin_start": 273.5,
                        "bin_end": 318.79999999999995,
                        "count": 0
                      },
                      {
                        "bin_start": 318.79999999999995,
                        "bin_end": 364.09999999999997,
                        "count": 0
                      },
                      {
                        "bin_start": 364.09999999999997,
                        "bin_end": 409.4,
                        "count": 0
                      },
                      {
                        "bin_start": 409.4,
                        "bin_end": 454.7,
                        "count": 1
                      },
                      {
                        "bin_start": 454.7,
                        "bin_end": 500,
                        "count": 1
                      }
                    ]
                  }
                },
                {
                  "name": "_deepnote_index_column",
                  "dtype": "int64"
                }
              ],
              "rows": [
                {
                  "Highest Corsi span so far": 2,
                  "Number of items in current trial to be remembered (starting with 2)": 2,
                  "Status of current trial (1 = correct, 0 = incorrect)": 1,
                  "The table row from the table": 432,
                  "_deepnote_index_column": 0
                },
                {
                  "Highest Corsi span so far": 3,
                  "Number of items in current trial to be remembered (starting with 2)": 3,
                  "Status of current trial (1 = correct, 0 = incorrect)": 1,
                  "The table row from the table": 500,
                  "_deepnote_index_column": 1
                },
                {
                  "Highest Corsi span so far": 4,
                  "Number of items in current trial to be remembered (starting with 2)": 4,
                  "Status of current trial (1 = correct, 0 = incorrect)": 1,
                  "The table row from the table": 47,
                  "_deepnote_index_column": 2
                },
                {
                  "Highest Corsi span so far": 5,
                  "Number of items in current trial to be remembered (starting with 2)": 5,
                  "Status of current trial (1 = correct, 0 = incorrect)": 1,
                  "The table row from the table": 140,
                  "_deepnote_index_column": 3
                },
                {
                  "Highest Corsi span so far": 5,
                  "Number of items in current trial to be remembered (starting with 2)": 6,
                  "Status of current trial (1 = correct, 0 = incorrect)": 0,
                  "The table row from the table": 185,
                  "_deepnote_index_column": 4
                }
              ]
            },
            "text/plain": "   Highest Corsi span so far  \\\n0                          2   \n1                          3   \n2                          4   \n3                          5   \n4                          5   \n\n   Number of items in current trial to be remembered (starting with 2)  \\\n0                                                  2                     \n1                                                  3                     \n2                                                  4                     \n3                                                  5                     \n4                                                  6                     \n\n   Status of current trial (1 = correct, 0 = incorrect)  \\\n0                                                  1      \n1                                                  1      \n2                                                  1      \n3                                                  1      \n4                                                  0      \n\n   The table row from the table  \n0                           432  \n1                           500  \n2                            47  \n3                           140  \n4                           185  ",
            "text/html": "<div>\n<style scoped>\n    .dataframe tbody tr th:only-of-type {\n        vertical-align: middle;\n    }\n\n    .dataframe tbody tr th {\n        vertical-align: top;\n    }\n\n    .dataframe thead th {\n        text-align: right;\n    }\n</style>\n<table border=\"1\" class=\"dataframe\">\n  <thead>\n    <tr style=\"text-align: right;\">\n      <th></th>\n      <th>Highest Corsi span so far</th>\n      <th>Number of items in current trial to be remembered (starting with 2)</th>\n      <th>Status of current trial (1 = correct, 0 = incorrect)</th>\n      <th>The table row from the table</th>\n    </tr>\n  </thead>\n  <tbody>\n    <tr>\n      <th>0</th>\n      <td>2</td>\n      <td>2</td>\n      <td>1</td>\n      <td>432</td>\n    </tr>\n    <tr>\n      <th>1</th>\n      <td>3</td>\n      <td>3</td>\n      <td>1</td>\n      <td>500</td>\n    </tr>\n    <tr>\n      <th>2</th>\n      <td>4</td>\n      <td>4</td>\n      <td>1</td>\n      <td>47</td>\n    </tr>\n    <tr>\n      <th>3</th>\n      <td>5</td>\n      <td>5</td>\n      <td>1</td>\n      <td>140</td>\n    </tr>\n    <tr>\n      <th>4</th>\n      <td>5</td>\n      <td>6</td>\n      <td>0</td>\n      <td>185</td>\n    </tr>\n  </tbody>\n</table>\n</div>"
          },
          "metadata": {}
        }
      ],
      "outputs_reference": null,
      "execution_count": 20,
      "block_group": "3d12012a1065444a8fd58be5dcaf340b",
      "content_dependencies": null
    },
    {
      "cell_type": "code",
      "source": "corsi_two.head()",
      "metadata": {
        "source_hash": "f8db67df",
        "execution_start": 1731627228270,
        "execution_millis": 1,
        "execution_context_id": "8132cf72-65a5-4f53-bde2-b669605264d8",
        "cell_id": "0714556f10f0410c93ea8ea661f29928",
        "deepnote_cell_type": "code"
      },
      "outputs": [
        {
          "output_type": "execute_result",
          "execution_count": 21,
          "data": {
            "application/vnd.deepnote.dataframe.v3+json": {
              "column_count": 4,
              "row_count": 4,
              "columns": [
                {
                  "name": "Highest Corsi span so far",
                  "dtype": "int64",
                  "stats": {
                    "unique_count": 2,
                    "nan_count": 0,
                    "min": "0",
                    "max": "2",
                    "histogram": [
                      {
                        "bin_start": 0,
                        "bin_end": 0.2,
                        "count": 1
                      },
                      {
                        "bin_start": 0.2,
                        "bin_end": 0.4,
                        "count": 0
                      },
                      {
                        "bin_start": 0.4,
                        "bin_end": 0.6000000000000001,
                        "count": 0
                      },
                      {
                        "bin_start": 0.6000000000000001,
                        "bin_end": 0.8,
                        "count": 0
                      },
                      {
                        "bin_start": 0.8,
                        "bin_end": 1,
                        "count": 0
                      },
                      {
                        "bin_start": 1,
                        "bin_end": 1.2000000000000002,
                        "count": 0
                      },
                      {
                        "bin_start": 1.2000000000000002,
                        "bin_end": 1.4000000000000001,
                        "count": 0
                      },
                      {
                        "bin_start": 1.4000000000000001,
                        "bin_end": 1.6,
                        "count": 0
                      },
                      {
                        "bin_start": 1.6,
                        "bin_end": 1.8,
                        "count": 0
                      },
                      {
                        "bin_start": 1.8,
                        "bin_end": 2,
                        "count": 3
                      }
                    ]
                  }
                },
                {
                  "name": "Number of items in current trial to be remembered (starting with 2)",
                  "dtype": "int64",
                  "stats": {
                    "unique_count": 2,
                    "nan_count": 0,
                    "min": "2",
                    "max": "3",
                    "histogram": [
                      {
                        "bin_start": 2,
                        "bin_end": 2.1,
                        "count": 2
                      },
                      {
                        "bin_start": 2.1,
                        "bin_end": 2.2,
                        "count": 0
                      },
                      {
                        "bin_start": 2.2,
                        "bin_end": 2.3,
                        "count": 0
                      },
                      {
                        "bin_start": 2.3,
                        "bin_end": 2.4,
                        "count": 0
                      },
                      {
                        "bin_start": 2.4,
                        "bin_end": 2.5,
                        "count": 0
                      },
                      {
                        "bin_start": 2.5,
                        "bin_end": 2.6,
                        "count": 0
                      },
                      {
                        "bin_start": 2.6,
                        "bin_end": 2.7,
                        "count": 0
                      },
                      {
                        "bin_start": 2.7,
                        "bin_end": 2.8,
                        "count": 0
                      },
                      {
                        "bin_start": 2.8,
                        "bin_end": 2.9,
                        "count": 0
                      },
                      {
                        "bin_start": 2.9,
                        "bin_end": 3,
                        "count": 2
                      }
                    ]
                  }
                },
                {
                  "name": "Status of current trial (1 = correct, 0 = incorrect)",
                  "dtype": "int64",
                  "stats": {
                    "unique_count": 2,
                    "nan_count": 0,
                    "min": "0",
                    "max": "1",
                    "histogram": [
                      {
                        "bin_start": 0,
                        "bin_end": 0.1,
                        "count": 3
                      },
                      {
                        "bin_start": 0.1,
                        "bin_end": 0.2,
                        "count": 0
                      },
                      {
                        "bin_start": 0.2,
                        "bin_end": 0.30000000000000004,
                        "count": 0
                      },
                      {
                        "bin_start": 0.30000000000000004,
                        "bin_end": 0.4,
                        "count": 0
                      },
                      {
                        "bin_start": 0.4,
                        "bin_end": 0.5,
                        "count": 0
                      },
                      {
                        "bin_start": 0.5,
                        "bin_end": 0.6000000000000001,
                        "count": 0
                      },
                      {
                        "bin_start": 0.6000000000000001,
                        "bin_end": 0.7000000000000001,
                        "count": 0
                      },
                      {
                        "bin_start": 0.7000000000000001,
                        "bin_end": 0.8,
                        "count": 0
                      },
                      {
                        "bin_start": 0.8,
                        "bin_end": 0.9,
                        "count": 0
                      },
                      {
                        "bin_start": 0.9,
                        "bin_end": 1,
                        "count": 1
                      }
                    ]
                  }
                },
                {
                  "name": "The table row from the table",
                  "dtype": "int64",
                  "stats": {
                    "unique_count": 4,
                    "nan_count": 0,
                    "min": "204",
                    "max": "394",
                    "histogram": [
                      {
                        "bin_start": 204,
                        "bin_end": 223,
                        "count": 1
                      },
                      {
                        "bin_start": 223,
                        "bin_end": 242,
                        "count": 0
                      },
                      {
                        "bin_start": 242,
                        "bin_end": 261,
                        "count": 0
                      },
                      {
                        "bin_start": 261,
                        "bin_end": 280,
                        "count": 0
                      },
                      {
                        "bin_start": 280,
                        "bin_end": 299,
                        "count": 2
                      },
                      {
                        "bin_start": 299,
                        "bin_end": 318,
                        "count": 0
                      },
                      {
                        "bin_start": 318,
                        "bin_end": 337,
                        "count": 0
                      },
                      {
                        "bin_start": 337,
                        "bin_end": 356,
                        "count": 0
                      },
                      {
                        "bin_start": 356,
                        "bin_end": 375,
                        "count": 0
                      },
                      {
                        "bin_start": 375,
                        "bin_end": 394,
                        "count": 1
                      }
                    ]
                  }
                },
                {
                  "name": "_deepnote_index_column",
                  "dtype": "int64"
                }
              ],
              "rows": [
                {
                  "Highest Corsi span so far": 0,
                  "Number of items in current trial to be remembered (starting with 2)": 2,
                  "Status of current trial (1 = correct, 0 = incorrect)": 0,
                  "The table row from the table": 394,
                  "_deepnote_index_column": 0
                },
                {
                  "Highest Corsi span so far": 2,
                  "Number of items in current trial to be remembered (starting with 2)": 2,
                  "Status of current trial (1 = correct, 0 = incorrect)": 1,
                  "The table row from the table": 204,
                  "_deepnote_index_column": 1
                },
                {
                  "Highest Corsi span so far": 2,
                  "Number of items in current trial to be remembered (starting with 2)": 3,
                  "Status of current trial (1 = correct, 0 = incorrect)": 0,
                  "The table row from the table": 296,
                  "_deepnote_index_column": 2
                },
                {
                  "Highest Corsi span so far": 2,
                  "Number of items in current trial to be remembered (starting with 2)": 3,
                  "Status of current trial (1 = correct, 0 = incorrect)": 0,
                  "The table row from the table": 285,
                  "_deepnote_index_column": 3
                }
              ]
            },
            "text/plain": "   Highest Corsi span so far  \\\n0                          0   \n1                          2   \n2                          2   \n3                          2   \n\n   Number of items in current trial to be remembered (starting with 2)  \\\n0                                                  2                     \n1                                                  2                     \n2                                                  3                     \n3                                                  3                     \n\n   Status of current trial (1 = correct, 0 = incorrect)  \\\n0                                                  0      \n1                                                  1      \n2                                                  0      \n3                                                  0      \n\n   The table row from the table  \n0                           394  \n1                           204  \n2                           296  \n3                           285  ",
            "text/html": "<div>\n<style scoped>\n    .dataframe tbody tr th:only-of-type {\n        vertical-align: middle;\n    }\n\n    .dataframe tbody tr th {\n        vertical-align: top;\n    }\n\n    .dataframe thead th {\n        text-align: right;\n    }\n</style>\n<table border=\"1\" class=\"dataframe\">\n  <thead>\n    <tr style=\"text-align: right;\">\n      <th></th>\n      <th>Highest Corsi span so far</th>\n      <th>Number of items in current trial to be remembered (starting with 2)</th>\n      <th>Status of current trial (1 = correct, 0 = incorrect)</th>\n      <th>The table row from the table</th>\n    </tr>\n  </thead>\n  <tbody>\n    <tr>\n      <th>0</th>\n      <td>0</td>\n      <td>2</td>\n      <td>0</td>\n      <td>394</td>\n    </tr>\n    <tr>\n      <th>1</th>\n      <td>2</td>\n      <td>2</td>\n      <td>1</td>\n      <td>204</td>\n    </tr>\n    <tr>\n      <th>2</th>\n      <td>2</td>\n      <td>3</td>\n      <td>0</td>\n      <td>296</td>\n    </tr>\n    <tr>\n      <th>3</th>\n      <td>2</td>\n      <td>3</td>\n      <td>0</td>\n      <td>285</td>\n    </tr>\n  </tbody>\n</table>\n</div>"
          },
          "metadata": {}
        }
      ],
      "outputs_reference": null,
      "execution_count": 21,
      "block_group": "abf9aef566614261a55451c345b694f4",
      "content_dependencies": null
    },
    {
      "cell_type": "code",
      "source": "corsi_three.head()",
      "metadata": {
        "source_hash": "ea5b43ab",
        "execution_start": 1731627228334,
        "execution_millis": 1,
        "execution_context_id": "8132cf72-65a5-4f53-bde2-b669605264d8",
        "cell_id": "4bd734243af747648e3be756c4bdae8a",
        "deepnote_cell_type": "code"
      },
      "outputs": [
        {
          "output_type": "execute_result",
          "execution_count": 22,
          "data": {
            "application/vnd.deepnote.dataframe.v3+json": {
              "column_count": 4,
              "row_count": 5,
              "columns": [
                {
                  "name": "Highest Corsi span so far",
                  "dtype": "int64",
                  "stats": {
                    "unique_count": 2,
                    "nan_count": 0,
                    "min": "0",
                    "max": "2",
                    "histogram": [
                      {
                        "bin_start": 0,
                        "bin_end": 0.2,
                        "count": 2
                      },
                      {
                        "bin_start": 0.2,
                        "bin_end": 0.4,
                        "count": 0
                      },
                      {
                        "bin_start": 0.4,
                        "bin_end": 0.6000000000000001,
                        "count": 0
                      },
                      {
                        "bin_start": 0.6000000000000001,
                        "bin_end": 0.8,
                        "count": 0
                      },
                      {
                        "bin_start": 0.8,
                        "bin_end": 1,
                        "count": 0
                      },
                      {
                        "bin_start": 1,
                        "bin_end": 1.2000000000000002,
                        "count": 0
                      },
                      {
                        "bin_start": 1.2000000000000002,
                        "bin_end": 1.4000000000000001,
                        "count": 0
                      },
                      {
                        "bin_start": 1.4000000000000001,
                        "bin_end": 1.6,
                        "count": 0
                      },
                      {
                        "bin_start": 1.6,
                        "bin_end": 1.8,
                        "count": 0
                      },
                      {
                        "bin_start": 1.8,
                        "bin_end": 2,
                        "count": 3
                      }
                    ]
                  }
                },
                {
                  "name": "Number of items in current trial to be remembered (starting with 2)",
                  "dtype": "int64",
                  "stats": {
                    "unique_count": 2,
                    "nan_count": 0,
                    "min": "2",
                    "max": "3",
                    "histogram": [
                      {
                        "bin_start": 2,
                        "bin_end": 2.1,
                        "count": 3
                      },
                      {
                        "bin_start": 2.1,
                        "bin_end": 2.2,
                        "count": 0
                      },
                      {
                        "bin_start": 2.2,
                        "bin_end": 2.3,
                        "count": 0
                      },
                      {
                        "bin_start": 2.3,
                        "bin_end": 2.4,
                        "count": 0
                      },
                      {
                        "bin_start": 2.4,
                        "bin_end": 2.5,
                        "count": 0
                      },
                      {
                        "bin_start": 2.5,
                        "bin_end": 2.6,
                        "count": 0
                      },
                      {
                        "bin_start": 2.6,
                        "bin_end": 2.7,
                        "count": 0
                      },
                      {
                        "bin_start": 2.7,
                        "bin_end": 2.8,
                        "count": 0
                      },
                      {
                        "bin_start": 2.8,
                        "bin_end": 2.9,
                        "count": 0
                      },
                      {
                        "bin_start": 2.9,
                        "bin_end": 3,
                        "count": 2
                      }
                    ]
                  }
                },
                {
                  "name": "Status of current trial (1 = correct, 0 = incorrect)",
                  "dtype": "int64",
                  "stats": {
                    "unique_count": 2,
                    "nan_count": 0,
                    "min": "0",
                    "max": "1",
                    "histogram": [
                      {
                        "bin_start": 0,
                        "bin_end": 0.1,
                        "count": 4
                      },
                      {
                        "bin_start": 0.1,
                        "bin_end": 0.2,
                        "count": 0
                      },
                      {
                        "bin_start": 0.2,
                        "bin_end": 0.30000000000000004,
                        "count": 0
                      },
                      {
                        "bin_start": 0.30000000000000004,
                        "bin_end": 0.4,
                        "count": 0
                      },
                      {
                        "bin_start": 0.4,
                        "bin_end": 0.5,
                        "count": 0
                      },
                      {
                        "bin_start": 0.5,
                        "bin_end": 0.6000000000000001,
                        "count": 0
                      },
                      {
                        "bin_start": 0.6000000000000001,
                        "bin_end": 0.7000000000000001,
                        "count": 0
                      },
                      {
                        "bin_start": 0.7000000000000001,
                        "bin_end": 0.8,
                        "count": 0
                      },
                      {
                        "bin_start": 0.8,
                        "bin_end": 0.9,
                        "count": 0
                      },
                      {
                        "bin_start": 0.9,
                        "bin_end": 1,
                        "count": 1
                      }
                    ]
                  }
                },
                {
                  "name": "The table row from the table",
                  "dtype": "int64",
                  "stats": {
                    "unique_count": 5,
                    "nan_count": 0,
                    "min": "134",
                    "max": "490",
                    "histogram": [
                      {
                        "bin_start": 134,
                        "bin_end": 169.6,
                        "count": 1
                      },
                      {
                        "bin_start": 169.6,
                        "bin_end": 205.2,
                        "count": 0
                      },
                      {
                        "bin_start": 205.2,
                        "bin_end": 240.8,
                        "count": 2
                      },
                      {
                        "bin_start": 240.8,
                        "bin_end": 276.4,
                        "count": 0
                      },
                      {
                        "bin_start": 276.4,
                        "bin_end": 312,
                        "count": 0
                      },
                      {
                        "bin_start": 312,
                        "bin_end": 347.6,
                        "count": 0
                      },
                      {
                        "bin_start": 347.6,
                        "bin_end": 383.20000000000005,
                        "count": 0
                      },
                      {
                        "bin_start": 383.20000000000005,
                        "bin_end": 418.8,
                        "count": 0
                      },
                      {
                        "bin_start": 418.8,
                        "bin_end": 454.40000000000003,
                        "count": 1
                      },
                      {
                        "bin_start": 454.40000000000003,
                        "bin_end": 490,
                        "count": 1
                      }
                    ]
                  }
                },
                {
                  "name": "_deepnote_index_column",
                  "dtype": "int64"
                }
              ],
              "rows": [
                {
                  "Highest Corsi span so far": 0,
                  "Number of items in current trial to be remembered (starting with 2)": 2,
                  "Status of current trial (1 = correct, 0 = incorrect)": 0,
                  "The table row from the table": 490,
                  "_deepnote_index_column": 0
                },
                {
                  "Highest Corsi span so far": 0,
                  "Number of items in current trial to be remembered (starting with 2)": 2,
                  "Status of current trial (1 = correct, 0 = incorrect)": 0,
                  "The table row from the table": 435,
                  "_deepnote_index_column": 1
                },
                {
                  "Highest Corsi span so far": 2,
                  "Number of items in current trial to be remembered (starting with 2)": 2,
                  "Status of current trial (1 = correct, 0 = incorrect)": 1,
                  "The table row from the table": 228,
                  "_deepnote_index_column": 2
                },
                {
                  "Highest Corsi span so far": 2,
                  "Number of items in current trial to be remembered (starting with 2)": 3,
                  "Status of current trial (1 = correct, 0 = incorrect)": 0,
                  "The table row from the table": 212,
                  "_deepnote_index_column": 3
                },
                {
                  "Highest Corsi span so far": 2,
                  "Number of items in current trial to be remembered (starting with 2)": 3,
                  "Status of current trial (1 = correct, 0 = incorrect)": 0,
                  "The table row from the table": 134,
                  "_deepnote_index_column": 4
                }
              ]
            },
            "text/plain": "   Highest Corsi span so far  \\\n0                          0   \n1                          0   \n2                          2   \n3                          2   \n4                          2   \n\n   Number of items in current trial to be remembered (starting with 2)  \\\n0                                                  2                     \n1                                                  2                     \n2                                                  2                     \n3                                                  3                     \n4                                                  3                     \n\n   Status of current trial (1 = correct, 0 = incorrect)  \\\n0                                                  0      \n1                                                  0      \n2                                                  1      \n3                                                  0      \n4                                                  0      \n\n   The table row from the table  \n0                           490  \n1                           435  \n2                           228  \n3                           212  \n4                           134  ",
            "text/html": "<div>\n<style scoped>\n    .dataframe tbody tr th:only-of-type {\n        vertical-align: middle;\n    }\n\n    .dataframe tbody tr th {\n        vertical-align: top;\n    }\n\n    .dataframe thead th {\n        text-align: right;\n    }\n</style>\n<table border=\"1\" class=\"dataframe\">\n  <thead>\n    <tr style=\"text-align: right;\">\n      <th></th>\n      <th>Highest Corsi span so far</th>\n      <th>Number of items in current trial to be remembered (starting with 2)</th>\n      <th>Status of current trial (1 = correct, 0 = incorrect)</th>\n      <th>The table row from the table</th>\n    </tr>\n  </thead>\n  <tbody>\n    <tr>\n      <th>0</th>\n      <td>0</td>\n      <td>2</td>\n      <td>0</td>\n      <td>490</td>\n    </tr>\n    <tr>\n      <th>1</th>\n      <td>0</td>\n      <td>2</td>\n      <td>0</td>\n      <td>435</td>\n    </tr>\n    <tr>\n      <th>2</th>\n      <td>2</td>\n      <td>2</td>\n      <td>1</td>\n      <td>228</td>\n    </tr>\n    <tr>\n      <th>3</th>\n      <td>2</td>\n      <td>3</td>\n      <td>0</td>\n      <td>212</td>\n    </tr>\n    <tr>\n      <th>4</th>\n      <td>2</td>\n      <td>3</td>\n      <td>0</td>\n      <td>134</td>\n    </tr>\n  </tbody>\n</table>\n</div>"
          },
          "metadata": {}
        }
      ],
      "outputs_reference": null,
      "execution_count": 22,
      "block_group": "9d43cade527d4fed871c746043cf9564",
      "content_dependencies": null
    },
    {
      "cell_type": "markdown",
      "source": "### View Digit DataFrames",
      "metadata": {
        "cell_id": "279539e6feca4de087d2541a385e98b0",
        "deepnote_cell_type": "markdown"
      },
      "block_group": "6f1940254f154eed9b07ea7c0dd8bed3"
    },
    {
      "cell_type": "code",
      "source": "digit_one.head()",
      "metadata": {
        "source_hash": "13963725",
        "execution_start": 1731627228386,
        "execution_millis": 2,
        "execution_context_id": "8132cf72-65a5-4f53-bde2-b669605264d8",
        "cell_id": "b0ba7aa0c9474269b71cc638c7142964",
        "deepnote_cell_type": "code"
      },
      "outputs": [
        {
          "output_type": "execute_result",
          "execution_count": 23,
          "data": {
            "application/vnd.deepnote.dataframe.v3+json": {
              "column_count": 28,
              "row_count": 5,
              "columns": [
                {
                  "name": "trial_id",
                  "dtype": "int64",
                  "stats": {
                    "unique_count": 2,
                    "nan_count": 0,
                    "min": "1",
                    "max": "2",
                    "histogram": [
                      {
                        "bin_start": 1,
                        "bin_end": 1.1,
                        "count": 1
                      },
                      {
                        "bin_start": 1.1,
                        "bin_end": 1.2,
                        "count": 0
                      },
                      {
                        "bin_start": 1.2,
                        "bin_end": 1.3,
                        "count": 0
                      },
                      {
                        "bin_start": 1.3,
                        "bin_end": 1.4,
                        "count": 0
                      },
                      {
                        "bin_start": 1.4,
                        "bin_end": 1.5,
                        "count": 0
                      },
                      {
                        "bin_start": 1.5,
                        "bin_end": 1.6,
                        "count": 0
                      },
                      {
                        "bin_start": 1.6,
                        "bin_end": 1.7000000000000002,
                        "count": 0
                      },
                      {
                        "bin_start": 1.7000000000000002,
                        "bin_end": 1.8,
                        "count": 0
                      },
                      {
                        "bin_start": 1.8,
                        "bin_end": 1.9,
                        "count": 0
                      },
                      {
                        "bin_start": 1.9,
                        "bin_end": 2,
                        "count": 4
                      }
                    ]
                  }
                },
                {
                  "name": "type1",
                  "dtype": "object",
                  "stats": {
                    "unique_count": 1,
                    "nan_count": 0,
                    "categories": [
                      {
                        "name": "clickedStim",
                        "count": 5
                      }
                    ]
                  }
                },
                {
                  "name": "click1",
                  "dtype": "int64",
                  "stats": {
                    "unique_count": 4,
                    "nan_count": 0,
                    "min": "13",
                    "max": "16",
                    "histogram": [
                      {
                        "bin_start": 13,
                        "bin_end": 13.3,
                        "count": 1
                      },
                      {
                        "bin_start": 13.3,
                        "bin_end": 13.6,
                        "count": 0
                      },
                      {
                        "bin_start": 13.6,
                        "bin_end": 13.9,
                        "count": 0
                      },
                      {
                        "bin_start": 13.9,
                        "bin_end": 14.2,
                        "count": 2
                      },
                      {
                        "bin_start": 14.2,
                        "bin_end": 14.5,
                        "count": 0
                      },
                      {
                        "bin_start": 14.5,
                        "bin_end": 14.8,
                        "count": 0
                      },
                      {
                        "bin_start": 14.8,
                        "bin_end": 15.1,
                        "count": 1
                      },
                      {
                        "bin_start": 15.1,
                        "bin_end": 15.4,
                        "count": 0
                      },
                      {
                        "bin_start": 15.4,
                        "bin_end": 15.7,
                        "count": 0
                      },
                      {
                        "bin_start": 15.7,
                        "bin_end": 16,
                        "count": 1
                      }
                    ]
                  }
                },
                {
                  "name": "click2",
                  "dtype": "int64",
                  "stats": {
                    "unique_count": 4,
                    "nan_count": 0,
                    "min": "9",
                    "max": "14",
                    "histogram": [
                      {
                        "bin_start": 9,
                        "bin_end": 9.5,
                        "count": 2
                      },
                      {
                        "bin_start": 9.5,
                        "bin_end": 10,
                        "count": 0
                      },
                      {
                        "bin_start": 10,
                        "bin_end": 10.5,
                        "count": 1
                      },
                      {
                        "bin_start": 10.5,
                        "bin_end": 11,
                        "count": 0
                      },
                      {
                        "bin_start": 11,
                        "bin_end": 11.5,
                        "count": 0
                      },
                      {
                        "bin_start": 11.5,
                        "bin_end": 12,
                        "count": 0
                      },
                      {
                        "bin_start": 12,
                        "bin_end": 12.5,
                        "count": 0
                      },
                      {
                        "bin_start": 12.5,
                        "bin_end": 13,
                        "count": 0
                      },
                      {
                        "bin_start": 13,
                        "bin_end": 13.5,
                        "count": 1
                      },
                      {
                        "bin_start": 13.5,
                        "bin_end": 14,
                        "count": 1
                      }
                    ]
                  }
                },
                {
                  "name": "click3",
                  "dtype": "int64",
                  "stats": {
                    "unique_count": 2,
                    "nan_count": 0,
                    "min": "5",
                    "max": "10",
                    "histogram": [
                      {
                        "bin_start": 5,
                        "bin_end": 5.5,
                        "count": 3
                      },
                      {
                        "bin_start": 5.5,
                        "bin_end": 6,
                        "count": 0
                      },
                      {
                        "bin_start": 6,
                        "bin_end": 6.5,
                        "count": 0
                      },
                      {
                        "bin_start": 6.5,
                        "bin_end": 7,
                        "count": 0
                      },
                      {
                        "bin_start": 7,
                        "bin_end": 7.5,
                        "count": 0
                      },
                      {
                        "bin_start": 7.5,
                        "bin_end": 8,
                        "count": 0
                      },
                      {
                        "bin_start": 8,
                        "bin_end": 8.5,
                        "count": 0
                      },
                      {
                        "bin_start": 8.5,
                        "bin_end": 9,
                        "count": 0
                      },
                      {
                        "bin_start": 9,
                        "bin_end": 9.5,
                        "count": 0
                      },
                      {
                        "bin_start": 9.5,
                        "bin_end": 10,
                        "count": 2
                      }
                    ]
                  }
                },
                {
                  "name": "click4",
                  "dtype": "float64",
                  "stats": {
                    "unique_count": 1,
                    "nan_count": 3,
                    "min": "6.0",
                    "max": "6.0",
                    "histogram": [
                      {
                        "bin_start": 5.5,
                        "bin_end": 5.6,
                        "count": 0
                      },
                      {
                        "bin_start": 5.6,
                        "bin_end": 5.7,
                        "count": 0
                      },
                      {
                        "bin_start": 5.7,
                        "bin_end": 5.8,
                        "count": 0
                      },
                      {
                        "bin_start": 5.8,
                        "bin_end": 5.9,
                        "count": 0
                      },
                      {
                        "bin_start": 5.9,
                        "bin_end": 6,
                        "count": 0
                      },
                      {
                        "bin_start": 6,
                        "bin_end": 6.1,
                        "count": 2
                      },
                      {
                        "bin_start": 6.1,
                        "bin_end": 6.2,
                        "count": 0
                      },
                      {
                        "bin_start": 6.2,
                        "bin_end": 6.3,
                        "count": 0
                      },
                      {
                        "bin_start": 6.3,
                        "bin_end": 6.4,
                        "count": 0
                      },
                      {
                        "bin_start": 6.4,
                        "bin_end": 6.5,
                        "count": 0
                      }
                    ]
                  }
                },
                {
                  "name": "click5",
                  "dtype": "float64",
                  "stats": {
                    "unique_count": 0,
                    "nan_count": 5,
                    "min": null,
                    "max": null,
                    "histogram": [
                      {
                        "bin_start": 0,
                        "bin_end": 0.1,
                        "count": 0
                      },
                      {
                        "bin_start": 0.1,
                        "bin_end": 0.2,
                        "count": 0
                      },
                      {
                        "bin_start": 0.2,
                        "bin_end": 0.30000000000000004,
                        "count": 0
                      },
                      {
                        "bin_start": 0.30000000000000004,
                        "bin_end": 0.4,
                        "count": 0
                      },
                      {
                        "bin_start": 0.4,
                        "bin_end": 0.5,
                        "count": 0
                      },
                      {
                        "bin_start": 0.5,
                        "bin_end": 0.6000000000000001,
                        "count": 0
                      },
                      {
                        "bin_start": 0.6000000000000001,
                        "bin_end": 0.7000000000000001,
                        "count": 0
                      },
                      {
                        "bin_start": 0.7000000000000001,
                        "bin_end": 0.8,
                        "count": 0
                      },
                      {
                        "bin_start": 0.8,
                        "bin_end": 0.9,
                        "count": 0
                      },
                      {
                        "bin_start": 0.9,
                        "bin_end": 1,
                        "count": 0
                      }
                    ]
                  }
                },
                {
                  "name": "click6",
                  "dtype": "float64",
                  "stats": {
                    "unique_count": 0,
                    "nan_count": 5,
                    "min": null,
                    "max": null,
                    "histogram": [
                      {
                        "bin_start": 0,
                        "bin_end": 0.1,
                        "count": 0
                      },
                      {
                        "bin_start": 0.1,
                        "bin_end": 0.2,
                        "count": 0
                      },
                      {
                        "bin_start": 0.2,
                        "bin_end": 0.30000000000000004,
                        "count": 0
                      },
                      {
                        "bin_start": 0.30000000000000004,
                        "bin_end": 0.4,
                        "count": 0
                      },
                      {
                        "bin_start": 0.4,
                        "bin_end": 0.5,
                        "count": 0
                      },
                      {
                        "bin_start": 0.5,
                        "bin_end": 0.6000000000000001,
                        "count": 0
                      },
                      {
                        "bin_start": 0.6000000000000001,
                        "bin_end": 0.7000000000000001,
                        "count": 0
                      },
                      {
                        "bin_start": 0.7000000000000001,
                        "bin_end": 0.8,
                        "count": 0
                      },
                      {
                        "bin_start": 0.8,
                        "bin_end": 0.9,
                        "count": 0
                      },
                      {
                        "bin_start": 0.9,
                        "bin_end": 1,
                        "count": 0
                      }
                    ]
                  }
                },
                {
                  "name": "click7",
                  "dtype": "float64",
                  "stats": {
                    "unique_count": 0,
                    "nan_count": 5,
                    "min": null,
                    "max": null,
                    "histogram": [
                      {
                        "bin_start": 0,
                        "bin_end": 0.1,
                        "count": 0
                      },
                      {
                        "bin_start": 0.1,
                        "bin_end": 0.2,
                        "count": 0
                      },
                      {
                        "bin_start": 0.2,
                        "bin_end": 0.30000000000000004,
                        "count": 0
                      },
                      {
                        "bin_start": 0.30000000000000004,
                        "bin_end": 0.4,
                        "count": 0
                      },
                      {
                        "bin_start": 0.4,
                        "bin_end": 0.5,
                        "count": 0
                      },
                      {
                        "bin_start": 0.5,
                        "bin_end": 0.6000000000000001,
                        "count": 0
                      },
                      {
                        "bin_start": 0.6000000000000001,
                        "bin_end": 0.7000000000000001,
                        "count": 0
                      },
                      {
                        "bin_start": 0.7000000000000001,
                        "bin_end": 0.8,
                        "count": 0
                      },
                      {
                        "bin_start": 0.8,
                        "bin_end": 0.9,
                        "count": 0
                      },
                      {
                        "bin_start": 0.9,
                        "bin_end": 1,
                        "count": 0
                      }
                    ]
                  }
                },
                {
                  "name": "click8",
                  "dtype": "float64",
                  "stats": {
                    "unique_count": 0,
                    "nan_count": 5,
                    "min": null,
                    "max": null,
                    "histogram": [
                      {
                        "bin_start": 0,
                        "bin_end": 0.1,
                        "count": 0
                      },
                      {
                        "bin_start": 0.1,
                        "bin_end": 0.2,
                        "count": 0
                      },
                      {
                        "bin_start": 0.2,
                        "bin_end": 0.30000000000000004,
                        "count": 0
                      },
                      {
                        "bin_start": 0.30000000000000004,
                        "bin_end": 0.4,
                        "count": 0
                      },
                      {
                        "bin_start": 0.4,
                        "bin_end": 0.5,
                        "count": 0
                      },
                      {
                        "bin_start": 0.5,
                        "bin_end": 0.6000000000000001,
                        "count": 0
                      },
                      {
                        "bin_start": 0.6000000000000001,
                        "bin_end": 0.7000000000000001,
                        "count": 0
                      },
                      {
                        "bin_start": 0.7000000000000001,
                        "bin_end": 0.8,
                        "count": 0
                      },
                      {
                        "bin_start": 0.8,
                        "bin_end": 0.9,
                        "count": 0
                      },
                      {
                        "bin_start": 0.9,
                        "bin_end": 1,
                        "count": 0
                      }
                    ]
                  }
                },
                {
                  "name": "click9",
                  "dtype": "float64",
                  "stats": {
                    "unique_count": 0,
                    "nan_count": 5,
                    "min": null,
                    "max": null,
                    "histogram": [
                      {
                        "bin_start": 0,
                        "bin_end": 0.1,
                        "count": 0
                      },
                      {
                        "bin_start": 0.1,
                        "bin_end": 0.2,
                        "count": 0
                      },
                      {
                        "bin_start": 0.2,
                        "bin_end": 0.30000000000000004,
                        "count": 0
                      },
                      {
                        "bin_start": 0.30000000000000004,
                        "bin_end": 0.4,
                        "count": 0
                      },
                      {
                        "bin_start": 0.4,
                        "bin_end": 0.5,
                        "count": 0
                      },
                      {
                        "bin_start": 0.5,
                        "bin_end": 0.6000000000000001,
                        "count": 0
                      },
                      {
                        "bin_start": 0.6000000000000001,
                        "bin_end": 0.7000000000000001,
                        "count": 0
                      },
                      {
                        "bin_start": 0.7000000000000001,
                        "bin_end": 0.8,
                        "count": 0
                      },
                      {
                        "bin_start": 0.8,
                        "bin_end": 0.9,
                        "count": 0
                      },
                      {
                        "bin_start": 0.9,
                        "bin_end": 1,
                        "count": 0
                      }
                    ]
                  }
                },
                {
                  "name": "type2",
                  "dtype": "object",
                  "stats": {
                    "unique_count": 1,
                    "nan_count": 0,
                    "categories": [
                      {
                        "name": "rts",
                        "count": 5
                      }
                    ]
                  }
                },
                {
                  "name": "rt1",
                  "dtype": "int64",
                  "stats": {
                    "unique_count": 5,
                    "nan_count": 0,
                    "min": "1054",
                    "max": "1673",
                    "histogram": [
                      {
                        "bin_start": 1054,
                        "bin_end": 1115.9,
                        "count": 3
                      },
                      {
                        "bin_start": 1115.9,
                        "bin_end": 1177.8,
                        "count": 0
                      },
                      {
                        "bin_start": 1177.8,
                        "bin_end": 1239.7,
                        "count": 0
                      },
                      {
                        "bin_start": 1239.7,
                        "bin_end": 1301.6,
                        "count": 0
                      },
                      {
                        "bin_start": 1301.6,
                        "bin_end": 1363.5,
                        "count": 0
                      },
                      {
                        "bin_start": 1363.5,
                        "bin_end": 1425.4,
                        "count": 0
                      },
                      {
                        "bin_start": 1425.4,
                        "bin_end": 1487.3,
                        "count": 0
                      },
                      {
                        "bin_start": 1487.3,
                        "bin_end": 1549.2,
                        "count": 0
                      },
                      {
                        "bin_start": 1549.2,
                        "bin_end": 1611.1,
                        "count": 1
                      },
                      {
                        "bin_start": 1611.1,
                        "bin_end": 1673,
                        "count": 1
                      }
                    ]
                  }
                },
                {
                  "name": "rt2",
                  "dtype": "int64",
                  "stats": {
                    "unique_count": 5,
                    "nan_count": 0,
                    "min": "541",
                    "max": "926",
                    "histogram": [
                      {
                        "bin_start": 541,
                        "bin_end": 579.5,
                        "count": 1
                      },
                      {
                        "bin_start": 579.5,
                        "bin_end": 618,
                        "count": 0
                      },
                      {
                        "bin_start": 618,
                        "bin_end": 656.5,
                        "count": 0
                      },
                      {
                        "bin_start": 656.5,
                        "bin_end": 695,
                        "count": 1
                      },
                      {
                        "bin_start": 695,
                        "bin_end": 733.5,
                        "count": 0
                      },
                      {
                        "bin_start": 733.5,
                        "bin_end": 772,
                        "count": 0
                      },
                      {
                        "bin_start": 772,
                        "bin_end": 810.5,
                        "count": 1
                      },
                      {
                        "bin_start": 810.5,
                        "bin_end": 849,
                        "count": 0
                      },
                      {
                        "bin_start": 849,
                        "bin_end": 887.5,
                        "count": 1
                      },
                      {
                        "bin_start": 887.5,
                        "bin_end": 926,
                        "count": 1
                      }
                    ]
                  }
                },
                {
                  "name": "rt3",
                  "dtype": "int64",
                  "stats": {
                    "unique_count": 5,
                    "nan_count": 0,
                    "min": "639",
                    "max": "1192",
                    "histogram": [
                      {
                        "bin_start": 639,
                        "bin_end": 694.3,
                        "count": 2
                      },
                      {
                        "bin_start": 694.3,
                        "bin_end": 749.6,
                        "count": 0
                      },
                      {
                        "bin_start": 749.6,
                        "bin_end": 804.9,
                        "count": 0
                      },
                      {
                        "bin_start": 804.9,
                        "bin_end": 860.2,
                        "count": 1
                      },
                      {
                        "bin_start": 860.2,
                        "bin_end": 915.5,
                        "count": 1
                      },
                      {
                        "bin_start": 915.5,
                        "bin_end": 970.8,
                        "count": 0
                      },
                      {
                        "bin_start": 970.8,
                        "bin_end": 1026.1,
                        "count": 0
                      },
                      {
                        "bin_start": 1026.1,
                        "bin_end": 1081.4,
                        "count": 0
                      },
                      {
                        "bin_start": 1081.4,
                        "bin_end": 1136.7,
                        "count": 0
                      },
                      {
                        "bin_start": 1136.7,
                        "bin_end": 1192,
                        "count": 1
                      }
                    ]
                  }
                },
                {
                  "name": "rt4",
                  "dtype": "float64",
                  "stats": {
                    "unique_count": 2,
                    "nan_count": 3,
                    "min": "883.0",
                    "max": "1202.0",
                    "histogram": [
                      {
                        "bin_start": 883,
                        "bin_end": 914.9,
                        "count": 1
                      },
                      {
                        "bin_start": 914.9,
                        "bin_end": 946.8,
                        "count": 0
                      },
                      {
                        "bin_start": 946.8,
                        "bin_end": 978.7,
                        "count": 0
                      },
                      {
                        "bin_start": 978.7,
                        "bin_end": 1010.6,
                        "count": 0
                      },
                      {
                        "bin_start": 1010.6,
                        "bin_end": 1042.5,
                        "count": 0
                      },
                      {
                        "bin_start": 1042.5,
                        "bin_end": 1074.4,
                        "count": 0
                      },
                      {
                        "bin_start": 1074.4,
                        "bin_end": 1106.3,
                        "count": 0
                      },
                      {
                        "bin_start": 1106.3,
                        "bin_end": 1138.2,
                        "count": 0
                      },
                      {
                        "bin_start": 1138.2,
                        "bin_end": 1170.1,
                        "count": 0
                      },
                      {
                        "bin_start": 1170.1,
                        "bin_end": 1202,
                        "count": 1
                      }
                    ]
                  }
                },
                {
                  "name": "rt5",
                  "dtype": "float64",
                  "stats": {
                    "unique_count": 0,
                    "nan_count": 5,
                    "min": null,
                    "max": null,
                    "histogram": [
                      {
                        "bin_start": 0,
                        "bin_end": 0.1,
                        "count": 0
                      },
                      {
                        "bin_start": 0.1,
                        "bin_end": 0.2,
                        "count": 0
                      },
                      {
                        "bin_start": 0.2,
                        "bin_end": 0.30000000000000004,
                        "count": 0
                      },
                      {
                        "bin_start": 0.30000000000000004,
                        "bin_end": 0.4,
                        "count": 0
                      },
                      {
                        "bin_start": 0.4,
                        "bin_end": 0.5,
                        "count": 0
                      },
                      {
                        "bin_start": 0.5,
                        "bin_end": 0.6000000000000001,
                        "count": 0
                      },
                      {
                        "bin_start": 0.6000000000000001,
                        "bin_end": 0.7000000000000001,
                        "count": 0
                      },
                      {
                        "bin_start": 0.7000000000000001,
                        "bin_end": 0.8,
                        "count": 0
                      },
                      {
                        "bin_start": 0.8,
                        "bin_end": 0.9,
                        "count": 0
                      },
                      {
                        "bin_start": 0.9,
                        "bin_end": 1,
                        "count": 0
                      }
                    ]
                  }
                },
                {
                  "name": "rt6",
                  "dtype": "float64",
                  "stats": {
                    "unique_count": 0,
                    "nan_count": 5,
                    "min": null,
                    "max": null,
                    "histogram": [
                      {
                        "bin_start": 0,
                        "bin_end": 0.1,
                        "count": 0
                      },
                      {
                        "bin_start": 0.1,
                        "bin_end": 0.2,
                        "count": 0
                      },
                      {
                        "bin_start": 0.2,
                        "bin_end": 0.30000000000000004,
                        "count": 0
                      },
                      {
                        "bin_start": 0.30000000000000004,
                        "bin_end": 0.4,
                        "count": 0
                      },
                      {
                        "bin_start": 0.4,
                        "bin_end": 0.5,
                        "count": 0
                      },
                      {
                        "bin_start": 0.5,
                        "bin_end": 0.6000000000000001,
                        "count": 0
                      },
                      {
                        "bin_start": 0.6000000000000001,
                        "bin_end": 0.7000000000000001,
                        "count": 0
                      },
                      {
                        "bin_start": 0.7000000000000001,
                        "bin_end": 0.8,
                        "count": 0
                      },
                      {
                        "bin_start": 0.8,
                        "bin_end": 0.9,
                        "count": 0
                      },
                      {
                        "bin_start": 0.9,
                        "bin_end": 1,
                        "count": 0
                      }
                    ]
                  }
                },
                {
                  "name": "rt7",
                  "dtype": "float64",
                  "stats": {
                    "unique_count": 0,
                    "nan_count": 5,
                    "min": null,
                    "max": null,
                    "histogram": [
                      {
                        "bin_start": 0,
                        "bin_end": 0.1,
                        "count": 0
                      },
                      {
                        "bin_start": 0.1,
                        "bin_end": 0.2,
                        "count": 0
                      },
                      {
                        "bin_start": 0.2,
                        "bin_end": 0.30000000000000004,
                        "count": 0
                      },
                      {
                        "bin_start": 0.30000000000000004,
                        "bin_end": 0.4,
                        "count": 0
                      },
                      {
                        "bin_start": 0.4,
                        "bin_end": 0.5,
                        "count": 0
                      },
                      {
                        "bin_start": 0.5,
                        "bin_end": 0.6000000000000001,
                        "count": 0
                      },
                      {
                        "bin_start": 0.6000000000000001,
                        "bin_end": 0.7000000000000001,
                        "count": 0
                      },
                      {
                        "bin_start": 0.7000000000000001,
                        "bin_end": 0.8,
                        "count": 0
                      },
                      {
                        "bin_start": 0.8,
                        "bin_end": 0.9,
                        "count": 0
                      },
                      {
                        "bin_start": 0.9,
                        "bin_end": 1,
                        "count": 0
                      }
                    ]
                  }
                },
                {
                  "name": "rt8",
                  "dtype": "float64",
                  "stats": {
                    "unique_count": 0,
                    "nan_count": 5,
                    "min": null,
                    "max": null,
                    "histogram": [
                      {
                        "bin_start": 0,
                        "bin_end": 0.1,
                        "count": 0
                      },
                      {
                        "bin_start": 0.1,
                        "bin_end": 0.2,
                        "count": 0
                      },
                      {
                        "bin_start": 0.2,
                        "bin_end": 0.30000000000000004,
                        "count": 0
                      },
                      {
                        "bin_start": 0.30000000000000004,
                        "bin_end": 0.4,
                        "count": 0
                      },
                      {
                        "bin_start": 0.4,
                        "bin_end": 0.5,
                        "count": 0
                      },
                      {
                        "bin_start": 0.5,
                        "bin_end": 0.6000000000000001,
                        "count": 0
                      },
                      {
                        "bin_start": 0.6000000000000001,
                        "bin_end": 0.7000000000000001,
                        "count": 0
                      },
                      {
                        "bin_start": 0.7000000000000001,
                        "bin_end": 0.8,
                        "count": 0
                      },
                      {
                        "bin_start": 0.8,
                        "bin_end": 0.9,
                        "count": 0
                      },
                      {
                        "bin_start": 0.9,
                        "bin_end": 1,
                        "count": 0
                      }
                    ]
                  }
                },
                {
                  "name": "rt9",
                  "dtype": "float64",
                  "stats": {
                    "unique_count": 0,
                    "nan_count": 5,
                    "min": null,
                    "max": null,
                    "histogram": [
                      {
                        "bin_start": 0,
                        "bin_end": 0.1,
                        "count": 0
                      },
                      {
                        "bin_start": 0.1,
                        "bin_end": 0.2,
                        "count": 0
                      },
                      {
                        "bin_start": 0.2,
                        "bin_end": 0.30000000000000004,
                        "count": 0
                      },
                      {
                        "bin_start": 0.30000000000000004,
                        "bin_end": 0.4,
                        "count": 0
                      },
                      {
                        "bin_start": 0.4,
                        "bin_end": 0.5,
                        "count": 0
                      },
                      {
                        "bin_start": 0.5,
                        "bin_end": 0.6000000000000001,
                        "count": 0
                      },
                      {
                        "bin_start": 0.6000000000000001,
                        "bin_end": 0.7000000000000001,
                        "count": 0
                      },
                      {
                        "bin_start": 0.7000000000000001,
                        "bin_end": 0.8,
                        "count": 0
                      },
                      {
                        "bin_start": 0.8,
                        "bin_end": 0.9,
                        "count": 0
                      },
                      {
                        "bin_start": 0.9,
                        "bin_end": 1,
                        "count": 0
                      }
                    ]
                  }
                },
                {
                  "name": "longest_span",
                  "dtype": "int64",
                  "stats": {
                    "unique_count": 2,
                    "nan_count": 0,
                    "min": "0",
                    "max": "2",
                    "histogram": [
                      {
                        "bin_start": 0,
                        "bin_end": 0.2,
                        "count": 3
                      },
                      {
                        "bin_start": 0.2,
                        "bin_end": 0.4,
                        "count": 0
                      },
                      {
                        "bin_start": 0.4,
                        "bin_end": 0.6000000000000001,
                        "count": 0
                      },
                      {
                        "bin_start": 0.6000000000000001,
                        "bin_end": 0.8,
                        "count": 0
                      },
                      {
                        "bin_start": 0.8,
                        "bin_end": 1,
                        "count": 0
                      },
                      {
                        "bin_start": 1,
                        "bin_end": 1.2000000000000002,
                        "count": 0
                      },
                      {
                        "bin_start": 1.2000000000000002,
                        "bin_end": 1.4000000000000001,
                        "count": 0
                      },
                      {
                        "bin_start": 1.4000000000000001,
                        "bin_end": 1.6,
                        "count": 0
                      },
                      {
                        "bin_start": 1.6,
                        "bin_end": 1.8,
                        "count": 0
                      },
                      {
                        "bin_start": 1.8,
                        "bin_end": 2,
                        "count": 2
                      }
                    ]
                  }
                },
                {
                  "name": "current_length",
                  "dtype": "int64",
                  "stats": {
                    "unique_count": 2,
                    "nan_count": 0,
                    "min": "2",
                    "max": "3",
                    "histogram": [
                      {
                        "bin_start": 2,
                        "bin_end": 2.1,
                        "count": 3
                      },
                      {
                        "bin_start": 2.1,
                        "bin_end": 2.2,
                        "count": 0
                      },
                      {
                        "bin_start": 2.2,
                        "bin_end": 2.3,
                        "count": 0
                      },
                      {
                        "bin_start": 2.3,
                        "bin_end": 2.4,
                        "count": 0
                      },
                      {
                        "bin_start": 2.4,
                        "bin_end": 2.5,
                        "count": 0
                      },
                      {
                        "bin_start": 2.5,
                        "bin_end": 2.6,
                        "count": 0
                      },
                      {
                        "bin_start": 2.6,
                        "bin_end": 2.7,
                        "count": 0
                      },
                      {
                        "bin_start": 2.7,
                        "bin_end": 2.8,
                        "count": 0
                      },
                      {
                        "bin_start": 2.8,
                        "bin_end": 2.9,
                        "count": 0
                      },
                      {
                        "bin_start": 2.9,
                        "bin_end": 3,
                        "count": 2
                      }
                    ]
                  }
                },
                {
                  "name": "correctness",
                  "dtype": "int64",
                  "stats": {
                    "unique_count": 1,
                    "nan_count": 0,
                    "min": "0",
                    "max": "0",
                    "histogram": [
                      {
                        "bin_start": -0.5,
                        "bin_end": -0.4,
                        "count": 0
                      },
                      {
                        "bin_start": -0.4,
                        "bin_end": -0.3,
                        "count": 0
                      },
                      {
                        "bin_start": -0.3,
                        "bin_end": -0.19999999999999996,
                        "count": 0
                      },
                      {
                        "bin_start": -0.19999999999999996,
                        "bin_end": -0.09999999999999998,
                        "count": 0
                      },
                      {
                        "bin_start": -0.09999999999999998,
                        "bin_end": 0,
                        "count": 0
                      },
                      {
                        "bin_start": 0,
                        "bin_end": 0.10000000000000009,
                        "count": 5
                      },
                      {
                        "bin_start": 0.10000000000000009,
                        "bin_end": 0.20000000000000007,
                        "count": 0
                      },
                      {
                        "bin_start": 0.20000000000000007,
                        "bin_end": 0.30000000000000004,
                        "count": 0
                      },
                      {
                        "bin_start": 0.30000000000000004,
                        "bin_end": 0.4,
                        "count": 0
                      },
                      {
                        "bin_start": 0.4,
                        "bin_end": 0.5,
                        "count": 0
                      }
                    ]
                  }
                },
                {
                  "name": "frequency_length1",
                  "dtype": "int64",
                  "stats": {
                    "unique_count": 3,
                    "nan_count": 0,
                    "min": "7",
                    "max": "10",
                    "histogram": [
                      {
                        "bin_start": 7,
                        "bin_end": 7.3,
                        "count": 2
                      },
                      {
                        "bin_start": 7.3,
                        "bin_end": 7.6,
                        "count": 0
                      },
                      {
                        "bin_start": 7.6,
                        "bin_end": 7.9,
                        "count": 0
                      },
                      {
                        "bin_start": 7.9,
                        "bin_end": 8.2,
                        "count": 2
                      },
                      {
                        "bin_start": 8.2,
                        "bin_end": 8.5,
                        "count": 0
                      },
                      {
                        "bin_start": 8.5,
                        "bin_end": 8.8,
                        "count": 0
                      },
                      {
                        "bin_start": 8.8,
                        "bin_end": 9.1,
                        "count": 0
                      },
                      {
                        "bin_start": 9.1,
                        "bin_end": 9.4,
                        "count": 0
                      },
                      {
                        "bin_start": 9.4,
                        "bin_end": 9.7,
                        "count": 0
                      },
                      {
                        "bin_start": 9.7,
                        "bin_end": 10,
                        "count": 1
                      }
                    ]
                  }
                },
                {
                  "name": "frequency_length2",
                  "dtype": "int64",
                  "stats": {
                    "unique_count": 4,
                    "nan_count": 0,
                    "min": "3",
                    "max": "7",
                    "histogram": [
                      {
                        "bin_start": 3,
                        "bin_end": 3.4,
                        "count": 2
                      },
                      {
                        "bin_start": 3.4,
                        "bin_end": 3.8,
                        "count": 0
                      },
                      {
                        "bin_start": 3.8,
                        "bin_end": 4.2,
                        "count": 1
                      },
                      {
                        "bin_start": 4.2,
                        "bin_end": 4.6,
                        "count": 0
                      },
                      {
                        "bin_start": 4.6,
                        "bin_end": 5,
                        "count": 0
                      },
                      {
                        "bin_start": 5,
                        "bin_end": 5.4,
                        "count": 0
                      },
                      {
                        "bin_start": 5.4,
                        "bin_end": 5.800000000000001,
                        "count": 0
                      },
                      {
                        "bin_start": 5.800000000000001,
                        "bin_end": 6.2,
                        "count": 1
                      },
                      {
                        "bin_start": 6.2,
                        "bin_end": 6.6,
                        "count": 0
                      },
                      {
                        "bin_start": 6.6,
                        "bin_end": 7,
                        "count": 1
                      }
                    ]
                  }
                },
                {
                  "name": "numbers_shown1",
                  "dtype": "int64",
                  "stats": {
                    "unique_count": 3,
                    "nan_count": 0,
                    "min": "7",
                    "max": "10",
                    "histogram": [
                      {
                        "bin_start": 7,
                        "bin_end": 7.3,
                        "count": 2
                      },
                      {
                        "bin_start": 7.3,
                        "bin_end": 7.6,
                        "count": 0
                      },
                      {
                        "bin_start": 7.6,
                        "bin_end": 7.9,
                        "count": 0
                      },
                      {
                        "bin_start": 7.9,
                        "bin_end": 8.2,
                        "count": 2
                      },
                      {
                        "bin_start": 8.2,
                        "bin_end": 8.5,
                        "count": 0
                      },
                      {
                        "bin_start": 8.5,
                        "bin_end": 8.8,
                        "count": 0
                      },
                      {
                        "bin_start": 8.8,
                        "bin_end": 9.1,
                        "count": 0
                      },
                      {
                        "bin_start": 9.1,
                        "bin_end": 9.4,
                        "count": 0
                      },
                      {
                        "bin_start": 9.4,
                        "bin_end": 9.7,
                        "count": 0
                      },
                      {
                        "bin_start": 9.7,
                        "bin_end": 10,
                        "count": 1
                      }
                    ]
                  }
                },
                {
                  "name": "numbers_shown2",
                  "dtype": "int64",
                  "stats": {
                    "unique_count": 4,
                    "nan_count": 0,
                    "min": "3",
                    "max": "7",
                    "histogram": [
                      {
                        "bin_start": 3,
                        "bin_end": 3.4,
                        "count": 2
                      },
                      {
                        "bin_start": 3.4,
                        "bin_end": 3.8,
                        "count": 0
                      },
                      {
                        "bin_start": 3.8,
                        "bin_end": 4.2,
                        "count": 1
                      },
                      {
                        "bin_start": 4.2,
                        "bin_end": 4.6,
                        "count": 0
                      },
                      {
                        "bin_start": 4.6,
                        "bin_end": 5,
                        "count": 0
                      },
                      {
                        "bin_start": 5,
                        "bin_end": 5.4,
                        "count": 0
                      },
                      {
                        "bin_start": 5.4,
                        "bin_end": 5.800000000000001,
                        "count": 0
                      },
                      {
                        "bin_start": 5.800000000000001,
                        "bin_end": 6.2,
                        "count": 1
                      },
                      {
                        "bin_start": 6.2,
                        "bin_end": 6.6,
                        "count": 0
                      },
                      {
                        "bin_start": 6.6,
                        "bin_end": 7,
                        "count": 1
                      }
                    ]
                  }
                },
                {
                  "name": "_deepnote_index_column",
                  "dtype": "int64"
                }
              ],
              "rows": [
                {
                  "trial_id": 1,
                  "type1": "clickedStim",
                  "click1": 14,
                  "click2": 9,
                  "click3": 5,
                  "click4": "nan",
                  "click5": "nan",
                  "click6": "nan",
                  "click7": "nan",
                  "click8": "nan",
                  "click9": "nan",
                  "type2": "rts",
                  "rt1": 1073,
                  "rt2": 926,
                  "rt3": 1192,
                  "rt4": "nan",
                  "rt5": "nan",
                  "rt6": "nan",
                  "rt7": "nan",
                  "rt8": "nan",
                  "rt9": "nan",
                  "longest_span": 0,
                  "current_length": 2,
                  "correctness": 0,
                  "frequency_length1": 8,
                  "frequency_length2": 3,
                  "numbers_shown1": 8,
                  "numbers_shown2": 3,
                  "_deepnote_index_column": 0
                },
                {
                  "trial_id": 2,
                  "type1": "clickedStim",
                  "click1": 16,
                  "click2": 9,
                  "click3": 5,
                  "click4": "nan",
                  "click5": "nan",
                  "click6": "nan",
                  "click7": "nan",
                  "click8": "nan",
                  "click9": "nan",
                  "type2": "rts",
                  "rt1": 1054,
                  "rt2": 810,
                  "rt3": 664,
                  "rt4": "nan",
                  "rt5": "nan",
                  "rt6": "nan",
                  "rt7": "nan",
                  "rt8": "nan",
                  "rt9": "nan",
                  "longest_span": 0,
                  "current_length": 2,
                  "correctness": 0,
                  "frequency_length1": 10,
                  "frequency_length2": 3,
                  "numbers_shown1": 10,
                  "numbers_shown2": 3,
                  "_deepnote_index_column": 1
                },
                {
                  "trial_id": 2,
                  "type1": "clickedStim",
                  "click1": 13,
                  "click2": 10,
                  "click3": 5,
                  "click4": "nan",
                  "click5": "nan",
                  "click6": "nan",
                  "click7": "nan",
                  "click8": "nan",
                  "click9": "nan",
                  "type2": "rts",
                  "rt1": 1673,
                  "rt2": 541,
                  "rt3": 875,
                  "rt4": "nan",
                  "rt5": "nan",
                  "rt6": "nan",
                  "rt7": "nan",
                  "rt8": "nan",
                  "rt9": "nan",
                  "longest_span": 0,
                  "current_length": 2,
                  "correctness": 0,
                  "frequency_length1": 7,
                  "frequency_length2": 4,
                  "numbers_shown1": 7,
                  "numbers_shown2": 4,
                  "_deepnote_index_column": 2
                },
                {
                  "trial_id": 2,
                  "type1": "clickedStim",
                  "click1": 15,
                  "click2": 14,
                  "click3": 10,
                  "click4": 6,
                  "click5": "nan",
                  "click6": "nan",
                  "click7": "nan",
                  "click8": "nan",
                  "click9": "nan",
                  "type2": "rts",
                  "rt1": 1094,
                  "rt2": 666,
                  "rt3": 810,
                  "rt4": 883,
                  "rt5": "nan",
                  "rt6": "nan",
                  "rt7": "nan",
                  "rt8": "nan",
                  "rt9": "nan",
                  "longest_span": 2,
                  "current_length": 3,
                  "correctness": 0,
                  "frequency_length1": 8,
                  "frequency_length2": 7,
                  "numbers_shown1": 8,
                  "numbers_shown2": 7,
                  "_deepnote_index_column": 3
                },
                {
                  "trial_id": 2,
                  "type1": "clickedStim",
                  "click1": 14,
                  "click2": 13,
                  "click3": 10,
                  "click4": 6,
                  "click5": "nan",
                  "click6": "nan",
                  "click7": "nan",
                  "click8": "nan",
                  "click9": "nan",
                  "type2": "rts",
                  "rt1": 1563,
                  "rt2": 883,
                  "rt3": 639,
                  "rt4": 1202,
                  "rt5": "nan",
                  "rt6": "nan",
                  "rt7": "nan",
                  "rt8": "nan",
                  "rt9": "nan",
                  "longest_span": 2,
                  "current_length": 3,
                  "correctness": 0,
                  "frequency_length1": 7,
                  "frequency_length2": 6,
                  "numbers_shown1": 7,
                  "numbers_shown2": 6,
                  "_deepnote_index_column": 4
                }
              ]
            },
            "text/plain": "   trial_id        type1  click1  click2  click3  click4  click5  click6  \\\n0         1  clickedStim      14       9       5     NaN     NaN     NaN   \n1         2  clickedStim      16       9       5     NaN     NaN     NaN   \n2         2  clickedStim      13      10       5     NaN     NaN     NaN   \n3         2  clickedStim      15      14      10     6.0     NaN     NaN   \n4         2  clickedStim      14      13      10     6.0     NaN     NaN   \n\n   click7  click8  ...  rt7 rt8  rt9  longest_span  current_length  \\\n0     NaN     NaN  ...  NaN NaN  NaN             0               2   \n1     NaN     NaN  ...  NaN NaN  NaN             0               2   \n2     NaN     NaN  ...  NaN NaN  NaN             0               2   \n3     NaN     NaN  ...  NaN NaN  NaN             2               3   \n4     NaN     NaN  ...  NaN NaN  NaN             2               3   \n\n   correctness  frequency_length1  frequency_length2  numbers_shown1  \\\n0            0                  8                  3               8   \n1            0                 10                  3              10   \n2            0                  7                  4               7   \n3            0                  8                  7               8   \n4            0                  7                  6               7   \n\n   numbers_shown2  \n0               3  \n1               3  \n2               4  \n3               7  \n4               6  \n\n[5 rows x 28 columns]",
            "text/html": "<div>\n<style scoped>\n    .dataframe tbody tr th:only-of-type {\n        vertical-align: middle;\n    }\n\n    .dataframe tbody tr th {\n        vertical-align: top;\n    }\n\n    .dataframe thead th {\n        text-align: right;\n    }\n</style>\n<table border=\"1\" class=\"dataframe\">\n  <thead>\n    <tr style=\"text-align: right;\">\n      <th></th>\n      <th>trial_id</th>\n      <th>type1</th>\n      <th>click1</th>\n      <th>click2</th>\n      <th>click3</th>\n      <th>click4</th>\n      <th>click5</th>\n      <th>click6</th>\n      <th>click7</th>\n      <th>click8</th>\n      <th>...</th>\n      <th>rt7</th>\n      <th>rt8</th>\n      <th>rt9</th>\n      <th>longest_span</th>\n      <th>current_length</th>\n      <th>correctness</th>\n      <th>frequency_length1</th>\n      <th>frequency_length2</th>\n      <th>numbers_shown1</th>\n      <th>numbers_shown2</th>\n    </tr>\n  </thead>\n  <tbody>\n    <tr>\n      <th>0</th>\n      <td>1</td>\n      <td>clickedStim</td>\n      <td>14</td>\n      <td>9</td>\n      <td>5</td>\n      <td>NaN</td>\n      <td>NaN</td>\n      <td>NaN</td>\n      <td>NaN</td>\n      <td>NaN</td>\n      <td>...</td>\n      <td>NaN</td>\n      <td>NaN</td>\n      <td>NaN</td>\n      <td>0</td>\n      <td>2</td>\n      <td>0</td>\n      <td>8</td>\n      <td>3</td>\n      <td>8</td>\n      <td>3</td>\n    </tr>\n    <tr>\n      <th>1</th>\n      <td>2</td>\n      <td>clickedStim</td>\n      <td>16</td>\n      <td>9</td>\n      <td>5</td>\n      <td>NaN</td>\n      <td>NaN</td>\n      <td>NaN</td>\n      <td>NaN</td>\n      <td>NaN</td>\n      <td>...</td>\n      <td>NaN</td>\n      <td>NaN</td>\n      <td>NaN</td>\n      <td>0</td>\n      <td>2</td>\n      <td>0</td>\n      <td>10</td>\n      <td>3</td>\n      <td>10</td>\n      <td>3</td>\n    </tr>\n    <tr>\n      <th>2</th>\n      <td>2</td>\n      <td>clickedStim</td>\n      <td>13</td>\n      <td>10</td>\n      <td>5</td>\n      <td>NaN</td>\n      <td>NaN</td>\n      <td>NaN</td>\n      <td>NaN</td>\n      <td>NaN</td>\n      <td>...</td>\n      <td>NaN</td>\n      <td>NaN</td>\n      <td>NaN</td>\n      <td>0</td>\n      <td>2</td>\n      <td>0</td>\n      <td>7</td>\n      <td>4</td>\n      <td>7</td>\n      <td>4</td>\n    </tr>\n    <tr>\n      <th>3</th>\n      <td>2</td>\n      <td>clickedStim</td>\n      <td>15</td>\n      <td>14</td>\n      <td>10</td>\n      <td>6.0</td>\n      <td>NaN</td>\n      <td>NaN</td>\n      <td>NaN</td>\n      <td>NaN</td>\n      <td>...</td>\n      <td>NaN</td>\n      <td>NaN</td>\n      <td>NaN</td>\n      <td>2</td>\n      <td>3</td>\n      <td>0</td>\n      <td>8</td>\n      <td>7</td>\n      <td>8</td>\n      <td>7</td>\n    </tr>\n    <tr>\n      <th>4</th>\n      <td>2</td>\n      <td>clickedStim</td>\n      <td>14</td>\n      <td>13</td>\n      <td>10</td>\n      <td>6.0</td>\n      <td>NaN</td>\n      <td>NaN</td>\n      <td>NaN</td>\n      <td>NaN</td>\n      <td>...</td>\n      <td>NaN</td>\n      <td>NaN</td>\n      <td>NaN</td>\n      <td>2</td>\n      <td>3</td>\n      <td>0</td>\n      <td>7</td>\n      <td>6</td>\n      <td>7</td>\n      <td>6</td>\n    </tr>\n  </tbody>\n</table>\n<p>5 rows × 28 columns</p>\n</div>"
          },
          "metadata": {}
        }
      ],
      "outputs_reference": null,
      "execution_count": 23,
      "block_group": "c0e0f79c7f1541639d2f6b523dd593c2",
      "content_dependencies": null
    },
    {
      "cell_type": "code",
      "source": "digit_two.head()",
      "metadata": {
        "source_hash": "8ba9423a",
        "execution_start": 1731627228438,
        "execution_millis": 2,
        "execution_context_id": "8132cf72-65a5-4f53-bde2-b669605264d8",
        "cell_id": "f87c71824d374dbc80d2fe6a5e159246",
        "deepnote_cell_type": "code"
      },
      "outputs": [
        {
          "output_type": "execute_result",
          "execution_count": 24,
          "data": {
            "application/vnd.deepnote.dataframe.v3+json": {
              "column_count": 28,
              "row_count": 5,
              "columns": [
                {
                  "name": "trial_id",
                  "dtype": "int64",
                  "stats": {
                    "unique_count": 2,
                    "nan_count": 0,
                    "min": "1",
                    "max": "2",
                    "histogram": [
                      {
                        "bin_start": 1,
                        "bin_end": 1.1,
                        "count": 1
                      },
                      {
                        "bin_start": 1.1,
                        "bin_end": 1.2,
                        "count": 0
                      },
                      {
                        "bin_start": 1.2,
                        "bin_end": 1.3,
                        "count": 0
                      },
                      {
                        "bin_start": 1.3,
                        "bin_end": 1.4,
                        "count": 0
                      },
                      {
                        "bin_start": 1.4,
                        "bin_end": 1.5,
                        "count": 0
                      },
                      {
                        "bin_start": 1.5,
                        "bin_end": 1.6,
                        "count": 0
                      },
                      {
                        "bin_start": 1.6,
                        "bin_end": 1.7000000000000002,
                        "count": 0
                      },
                      {
                        "bin_start": 1.7000000000000002,
                        "bin_end": 1.8,
                        "count": 0
                      },
                      {
                        "bin_start": 1.8,
                        "bin_end": 1.9,
                        "count": 0
                      },
                      {
                        "bin_start": 1.9,
                        "bin_end": 2,
                        "count": 4
                      }
                    ]
                  }
                },
                {
                  "name": "type1",
                  "dtype": "object",
                  "stats": {
                    "unique_count": 1,
                    "nan_count": 0,
                    "categories": [
                      {
                        "name": "clickedStim",
                        "count": 5
                      }
                    ]
                  }
                },
                {
                  "name": "click1",
                  "dtype": "int64",
                  "stats": {
                    "unique_count": 5,
                    "nan_count": 0,
                    "min": "10",
                    "max": "17",
                    "histogram": [
                      {
                        "bin_start": 10,
                        "bin_end": 10.7,
                        "count": 1
                      },
                      {
                        "bin_start": 10.7,
                        "bin_end": 11.4,
                        "count": 1
                      },
                      {
                        "bin_start": 11.4,
                        "bin_end": 12.1,
                        "count": 0
                      },
                      {
                        "bin_start": 12.1,
                        "bin_end": 12.8,
                        "count": 0
                      },
                      {
                        "bin_start": 12.8,
                        "bin_end": 13.5,
                        "count": 1
                      },
                      {
                        "bin_start": 13.5,
                        "bin_end": 14.2,
                        "count": 1
                      },
                      {
                        "bin_start": 14.2,
                        "bin_end": 14.899999999999999,
                        "count": 0
                      },
                      {
                        "bin_start": 14.899999999999999,
                        "bin_end": 15.6,
                        "count": 0
                      },
                      {
                        "bin_start": 15.6,
                        "bin_end": 16.3,
                        "count": 0
                      },
                      {
                        "bin_start": 16.3,
                        "bin_end": 17,
                        "count": 1
                      }
                    ]
                  }
                },
                {
                  "name": "click2",
                  "dtype": "int64",
                  "stats": {
                    "unique_count": 3,
                    "nan_count": 0,
                    "min": "11",
                    "max": "17",
                    "histogram": [
                      {
                        "bin_start": 11,
                        "bin_end": 11.6,
                        "count": 1
                      },
                      {
                        "bin_start": 11.6,
                        "bin_end": 12.2,
                        "count": 0
                      },
                      {
                        "bin_start": 12.2,
                        "bin_end": 12.8,
                        "count": 0
                      },
                      {
                        "bin_start": 12.8,
                        "bin_end": 13.4,
                        "count": 0
                      },
                      {
                        "bin_start": 13.4,
                        "bin_end": 14,
                        "count": 0
                      },
                      {
                        "bin_start": 14,
                        "bin_end": 14.6,
                        "count": 0
                      },
                      {
                        "bin_start": 14.6,
                        "bin_end": 15.2,
                        "count": 0
                      },
                      {
                        "bin_start": 15.2,
                        "bin_end": 15.8,
                        "count": 0
                      },
                      {
                        "bin_start": 15.8,
                        "bin_end": 16.4,
                        "count": 3
                      },
                      {
                        "bin_start": 16.4,
                        "bin_end": 17,
                        "count": 1
                      }
                    ]
                  }
                },
                {
                  "name": "click3",
                  "dtype": "int64",
                  "stats": {
                    "unique_count": 3,
                    "nan_count": 0,
                    "min": "5",
                    "max": "14",
                    "histogram": [
                      {
                        "bin_start": 5,
                        "bin_end": 5.9,
                        "count": 3
                      },
                      {
                        "bin_start": 5.9,
                        "bin_end": 6.8,
                        "count": 0
                      },
                      {
                        "bin_start": 6.8,
                        "bin_end": 7.7,
                        "count": 0
                      },
                      {
                        "bin_start": 7.7,
                        "bin_end": 8.6,
                        "count": 1
                      },
                      {
                        "bin_start": 8.6,
                        "bin_end": 9.5,
                        "count": 0
                      },
                      {
                        "bin_start": 9.5,
                        "bin_end": 10.4,
                        "count": 0
                      },
                      {
                        "bin_start": 10.4,
                        "bin_end": 11.3,
                        "count": 0
                      },
                      {
                        "bin_start": 11.3,
                        "bin_end": 12.2,
                        "count": 0
                      },
                      {
                        "bin_start": 12.2,
                        "bin_end": 13.1,
                        "count": 0
                      },
                      {
                        "bin_start": 13.1,
                        "bin_end": 14,
                        "count": 1
                      }
                    ]
                  }
                },
                {
                  "name": "click4",
                  "dtype": "float64",
                  "stats": {
                    "unique_count": 1,
                    "nan_count": 3,
                    "min": "6.0",
                    "max": "6.0",
                    "histogram": [
                      {
                        "bin_start": 5.5,
                        "bin_end": 5.6,
                        "count": 0
                      },
                      {
                        "bin_start": 5.6,
                        "bin_end": 5.7,
                        "count": 0
                      },
                      {
                        "bin_start": 5.7,
                        "bin_end": 5.8,
                        "count": 0
                      },
                      {
                        "bin_start": 5.8,
                        "bin_end": 5.9,
                        "count": 0
                      },
                      {
                        "bin_start": 5.9,
                        "bin_end": 6,
                        "count": 0
                      },
                      {
                        "bin_start": 6,
                        "bin_end": 6.1,
                        "count": 2
                      },
                      {
                        "bin_start": 6.1,
                        "bin_end": 6.2,
                        "count": 0
                      },
                      {
                        "bin_start": 6.2,
                        "bin_end": 6.3,
                        "count": 0
                      },
                      {
                        "bin_start": 6.3,
                        "bin_end": 6.4,
                        "count": 0
                      },
                      {
                        "bin_start": 6.4,
                        "bin_end": 6.5,
                        "count": 0
                      }
                    ]
                  }
                },
                {
                  "name": "click5",
                  "dtype": "float64",
                  "stats": {
                    "unique_count": 0,
                    "nan_count": 5,
                    "min": null,
                    "max": null,
                    "histogram": [
                      {
                        "bin_start": 0,
                        "bin_end": 0.1,
                        "count": 0
                      },
                      {
                        "bin_start": 0.1,
                        "bin_end": 0.2,
                        "count": 0
                      },
                      {
                        "bin_start": 0.2,
                        "bin_end": 0.30000000000000004,
                        "count": 0
                      },
                      {
                        "bin_start": 0.30000000000000004,
                        "bin_end": 0.4,
                        "count": 0
                      },
                      {
                        "bin_start": 0.4,
                        "bin_end": 0.5,
                        "count": 0
                      },
                      {
                        "bin_start": 0.5,
                        "bin_end": 0.6000000000000001,
                        "count": 0
                      },
                      {
                        "bin_start": 0.6000000000000001,
                        "bin_end": 0.7000000000000001,
                        "count": 0
                      },
                      {
                        "bin_start": 0.7000000000000001,
                        "bin_end": 0.8,
                        "count": 0
                      },
                      {
                        "bin_start": 0.8,
                        "bin_end": 0.9,
                        "count": 0
                      },
                      {
                        "bin_start": 0.9,
                        "bin_end": 1,
                        "count": 0
                      }
                    ]
                  }
                },
                {
                  "name": "click6",
                  "dtype": "float64",
                  "stats": {
                    "unique_count": 0,
                    "nan_count": 5,
                    "min": null,
                    "max": null,
                    "histogram": [
                      {
                        "bin_start": 0,
                        "bin_end": 0.1,
                        "count": 0
                      },
                      {
                        "bin_start": 0.1,
                        "bin_end": 0.2,
                        "count": 0
                      },
                      {
                        "bin_start": 0.2,
                        "bin_end": 0.30000000000000004,
                        "count": 0
                      },
                      {
                        "bin_start": 0.30000000000000004,
                        "bin_end": 0.4,
                        "count": 0
                      },
                      {
                        "bin_start": 0.4,
                        "bin_end": 0.5,
                        "count": 0
                      },
                      {
                        "bin_start": 0.5,
                        "bin_end": 0.6000000000000001,
                        "count": 0
                      },
                      {
                        "bin_start": 0.6000000000000001,
                        "bin_end": 0.7000000000000001,
                        "count": 0
                      },
                      {
                        "bin_start": 0.7000000000000001,
                        "bin_end": 0.8,
                        "count": 0
                      },
                      {
                        "bin_start": 0.8,
                        "bin_end": 0.9,
                        "count": 0
                      },
                      {
                        "bin_start": 0.9,
                        "bin_end": 1,
                        "count": 0
                      }
                    ]
                  }
                },
                {
                  "name": "click7",
                  "dtype": "float64",
                  "stats": {
                    "unique_count": 0,
                    "nan_count": 5,
                    "min": null,
                    "max": null,
                    "histogram": [
                      {
                        "bin_start": 0,
                        "bin_end": 0.1,
                        "count": 0
                      },
                      {
                        "bin_start": 0.1,
                        "bin_end": 0.2,
                        "count": 0
                      },
                      {
                        "bin_start": 0.2,
                        "bin_end": 0.30000000000000004,
                        "count": 0
                      },
                      {
                        "bin_start": 0.30000000000000004,
                        "bin_end": 0.4,
                        "count": 0
                      },
                      {
                        "bin_start": 0.4,
                        "bin_end": 0.5,
                        "count": 0
                      },
                      {
                        "bin_start": 0.5,
                        "bin_end": 0.6000000000000001,
                        "count": 0
                      },
                      {
                        "bin_start": 0.6000000000000001,
                        "bin_end": 0.7000000000000001,
                        "count": 0
                      },
                      {
                        "bin_start": 0.7000000000000001,
                        "bin_end": 0.8,
                        "count": 0
                      },
                      {
                        "bin_start": 0.8,
                        "bin_end": 0.9,
                        "count": 0
                      },
                      {
                        "bin_start": 0.9,
                        "bin_end": 1,
                        "count": 0
                      }
                    ]
                  }
                },
                {
                  "name": "click8",
                  "dtype": "float64",
                  "stats": {
                    "unique_count": 0,
                    "nan_count": 5,
                    "min": null,
                    "max": null,
                    "histogram": [
                      {
                        "bin_start": 0,
                        "bin_end": 0.1,
                        "count": 0
                      },
                      {
                        "bin_start": 0.1,
                        "bin_end": 0.2,
                        "count": 0
                      },
                      {
                        "bin_start": 0.2,
                        "bin_end": 0.30000000000000004,
                        "count": 0
                      },
                      {
                        "bin_start": 0.30000000000000004,
                        "bin_end": 0.4,
                        "count": 0
                      },
                      {
                        "bin_start": 0.4,
                        "bin_end": 0.5,
                        "count": 0
                      },
                      {
                        "bin_start": 0.5,
                        "bin_end": 0.6000000000000001,
                        "count": 0
                      },
                      {
                        "bin_start": 0.6000000000000001,
                        "bin_end": 0.7000000000000001,
                        "count": 0
                      },
                      {
                        "bin_start": 0.7000000000000001,
                        "bin_end": 0.8,
                        "count": 0
                      },
                      {
                        "bin_start": 0.8,
                        "bin_end": 0.9,
                        "count": 0
                      },
                      {
                        "bin_start": 0.9,
                        "bin_end": 1,
                        "count": 0
                      }
                    ]
                  }
                },
                {
                  "name": "click9",
                  "dtype": "float64",
                  "stats": {
                    "unique_count": 0,
                    "nan_count": 5,
                    "min": null,
                    "max": null,
                    "histogram": [
                      {
                        "bin_start": 0,
                        "bin_end": 0.1,
                        "count": 0
                      },
                      {
                        "bin_start": 0.1,
                        "bin_end": 0.2,
                        "count": 0
                      },
                      {
                        "bin_start": 0.2,
                        "bin_end": 0.30000000000000004,
                        "count": 0
                      },
                      {
                        "bin_start": 0.30000000000000004,
                        "bin_end": 0.4,
                        "count": 0
                      },
                      {
                        "bin_start": 0.4,
                        "bin_end": 0.5,
                        "count": 0
                      },
                      {
                        "bin_start": 0.5,
                        "bin_end": 0.6000000000000001,
                        "count": 0
                      },
                      {
                        "bin_start": 0.6000000000000001,
                        "bin_end": 0.7000000000000001,
                        "count": 0
                      },
                      {
                        "bin_start": 0.7000000000000001,
                        "bin_end": 0.8,
                        "count": 0
                      },
                      {
                        "bin_start": 0.8,
                        "bin_end": 0.9,
                        "count": 0
                      },
                      {
                        "bin_start": 0.9,
                        "bin_end": 1,
                        "count": 0
                      }
                    ]
                  }
                },
                {
                  "name": "type2",
                  "dtype": "object",
                  "stats": {
                    "unique_count": 1,
                    "nan_count": 0,
                    "categories": [
                      {
                        "name": "rts",
                        "count": 5
                      }
                    ]
                  }
                },
                {
                  "name": "rt1",
                  "dtype": "int64",
                  "stats": {
                    "unique_count": 5,
                    "nan_count": 0,
                    "min": "953",
                    "max": "1324",
                    "histogram": [
                      {
                        "bin_start": 953,
                        "bin_end": 990.1,
                        "count": 1
                      },
                      {
                        "bin_start": 990.1,
                        "bin_end": 1027.2,
                        "count": 0
                      },
                      {
                        "bin_start": 1027.2,
                        "bin_end": 1064.3,
                        "count": 0
                      },
                      {
                        "bin_start": 1064.3,
                        "bin_end": 1101.4,
                        "count": 0
                      },
                      {
                        "bin_start": 1101.4,
                        "bin_end": 1138.5,
                        "count": 0
                      },
                      {
                        "bin_start": 1138.5,
                        "bin_end": 1175.6,
                        "count": 0
                      },
                      {
                        "bin_start": 1175.6,
                        "bin_end": 1212.7,
                        "count": 1
                      },
                      {
                        "bin_start": 1212.7,
                        "bin_end": 1249.8,
                        "count": 1
                      },
                      {
                        "bin_start": 1249.8,
                        "bin_end": 1286.9,
                        "count": 0
                      },
                      {
                        "bin_start": 1286.9,
                        "bin_end": 1324,
                        "count": 2
                      }
                    ]
                  }
                },
                {
                  "name": "rt2",
                  "dtype": "int64",
                  "stats": {
                    "unique_count": 5,
                    "nan_count": 0,
                    "min": "417",
                    "max": "657",
                    "histogram": [
                      {
                        "bin_start": 417,
                        "bin_end": 441,
                        "count": 1
                      },
                      {
                        "bin_start": 441,
                        "bin_end": 465,
                        "count": 0
                      },
                      {
                        "bin_start": 465,
                        "bin_end": 489,
                        "count": 1
                      },
                      {
                        "bin_start": 489,
                        "bin_end": 513,
                        "count": 1
                      },
                      {
                        "bin_start": 513,
                        "bin_end": 537,
                        "count": 0
                      },
                      {
                        "bin_start": 537,
                        "bin_end": 561,
                        "count": 0
                      },
                      {
                        "bin_start": 561,
                        "bin_end": 585,
                        "count": 0
                      },
                      {
                        "bin_start": 585,
                        "bin_end": 609,
                        "count": 0
                      },
                      {
                        "bin_start": 609,
                        "bin_end": 633,
                        "count": 1
                      },
                      {
                        "bin_start": 633,
                        "bin_end": 657,
                        "count": 1
                      }
                    ]
                  }
                },
                {
                  "name": "rt3",
                  "dtype": "int64",
                  "stats": {
                    "unique_count": 5,
                    "nan_count": 0,
                    "min": "580",
                    "max": "698",
                    "histogram": [
                      {
                        "bin_start": 580,
                        "bin_end": 591.8,
                        "count": 2
                      },
                      {
                        "bin_start": 591.8,
                        "bin_end": 603.6,
                        "count": 0
                      },
                      {
                        "bin_start": 603.6,
                        "bin_end": 615.4,
                        "count": 0
                      },
                      {
                        "bin_start": 615.4,
                        "bin_end": 627.2,
                        "count": 0
                      },
                      {
                        "bin_start": 627.2,
                        "bin_end": 639,
                        "count": 0
                      },
                      {
                        "bin_start": 639,
                        "bin_end": 650.8,
                        "count": 0
                      },
                      {
                        "bin_start": 650.8,
                        "bin_end": 662.6,
                        "count": 1
                      },
                      {
                        "bin_start": 662.6,
                        "bin_end": 674.4,
                        "count": 1
                      },
                      {
                        "bin_start": 674.4,
                        "bin_end": 686.2,
                        "count": 0
                      },
                      {
                        "bin_start": 686.2,
                        "bin_end": 698,
                        "count": 1
                      }
                    ]
                  }
                },
                {
                  "name": "rt4",
                  "dtype": "float64",
                  "stats": {
                    "unique_count": 2,
                    "nan_count": 3,
                    "min": "602.0",
                    "max": "935.0",
                    "histogram": [
                      {
                        "bin_start": 602,
                        "bin_end": 635.3,
                        "count": 1
                      },
                      {
                        "bin_start": 635.3,
                        "bin_end": 668.6,
                        "count": 0
                      },
                      {
                        "bin_start": 668.6,
                        "bin_end": 701.9,
                        "count": 0
                      },
                      {
                        "bin_start": 701.9,
                        "bin_end": 735.2,
                        "count": 0
                      },
                      {
                        "bin_start": 735.2,
                        "bin_end": 768.5,
                        "count": 0
                      },
                      {
                        "bin_start": 768.5,
                        "bin_end": 801.8,
                        "count": 0
                      },
                      {
                        "bin_start": 801.8,
                        "bin_end": 835.0999999999999,
                        "count": 0
                      },
                      {
                        "bin_start": 835.0999999999999,
                        "bin_end": 868.4,
                        "count": 0
                      },
                      {
                        "bin_start": 868.4,
                        "bin_end": 901.7,
                        "count": 0
                      },
                      {
                        "bin_start": 901.7,
                        "bin_end": 935,
                        "count": 1
                      }
                    ]
                  }
                },
                {
                  "name": "rt5",
                  "dtype": "float64",
                  "stats": {
                    "unique_count": 0,
                    "nan_count": 5,
                    "min": null,
                    "max": null,
                    "histogram": [
                      {
                        "bin_start": 0,
                        "bin_end": 0.1,
                        "count": 0
                      },
                      {
                        "bin_start": 0.1,
                        "bin_end": 0.2,
                        "count": 0
                      },
                      {
                        "bin_start": 0.2,
                        "bin_end": 0.30000000000000004,
                        "count": 0
                      },
                      {
                        "bin_start": 0.30000000000000004,
                        "bin_end": 0.4,
                        "count": 0
                      },
                      {
                        "bin_start": 0.4,
                        "bin_end": 0.5,
                        "count": 0
                      },
                      {
                        "bin_start": 0.5,
                        "bin_end": 0.6000000000000001,
                        "count": 0
                      },
                      {
                        "bin_start": 0.6000000000000001,
                        "bin_end": 0.7000000000000001,
                        "count": 0
                      },
                      {
                        "bin_start": 0.7000000000000001,
                        "bin_end": 0.8,
                        "count": 0
                      },
                      {
                        "bin_start": 0.8,
                        "bin_end": 0.9,
                        "count": 0
                      },
                      {
                        "bin_start": 0.9,
                        "bin_end": 1,
                        "count": 0
                      }
                    ]
                  }
                },
                {
                  "name": "rt6",
                  "dtype": "float64",
                  "stats": {
                    "unique_count": 0,
                    "nan_count": 5,
                    "min": null,
                    "max": null,
                    "histogram": [
                      {
                        "bin_start": 0,
                        "bin_end": 0.1,
                        "count": 0
                      },
                      {
                        "bin_start": 0.1,
                        "bin_end": 0.2,
                        "count": 0
                      },
                      {
                        "bin_start": 0.2,
                        "bin_end": 0.30000000000000004,
                        "count": 0
                      },
                      {
                        "bin_start": 0.30000000000000004,
                        "bin_end": 0.4,
                        "count": 0
                      },
                      {
                        "bin_start": 0.4,
                        "bin_end": 0.5,
                        "count": 0
                      },
                      {
                        "bin_start": 0.5,
                        "bin_end": 0.6000000000000001,
                        "count": 0
                      },
                      {
                        "bin_start": 0.6000000000000001,
                        "bin_end": 0.7000000000000001,
                        "count": 0
                      },
                      {
                        "bin_start": 0.7000000000000001,
                        "bin_end": 0.8,
                        "count": 0
                      },
                      {
                        "bin_start": 0.8,
                        "bin_end": 0.9,
                        "count": 0
                      },
                      {
                        "bin_start": 0.9,
                        "bin_end": 1,
                        "count": 0
                      }
                    ]
                  }
                },
                {
                  "name": "rt7",
                  "dtype": "float64",
                  "stats": {
                    "unique_count": 0,
                    "nan_count": 5,
                    "min": null,
                    "max": null,
                    "histogram": [
                      {
                        "bin_start": 0,
                        "bin_end": 0.1,
                        "count": 0
                      },
                      {
                        "bin_start": 0.1,
                        "bin_end": 0.2,
                        "count": 0
                      },
                      {
                        "bin_start": 0.2,
                        "bin_end": 0.30000000000000004,
                        "count": 0
                      },
                      {
                        "bin_start": 0.30000000000000004,
                        "bin_end": 0.4,
                        "count": 0
                      },
                      {
                        "bin_start": 0.4,
                        "bin_end": 0.5,
                        "count": 0
                      },
                      {
                        "bin_start": 0.5,
                        "bin_end": 0.6000000000000001,
                        "count": 0
                      },
                      {
                        "bin_start": 0.6000000000000001,
                        "bin_end": 0.7000000000000001,
                        "count": 0
                      },
                      {
                        "bin_start": 0.7000000000000001,
                        "bin_end": 0.8,
                        "count": 0
                      },
                      {
                        "bin_start": 0.8,
                        "bin_end": 0.9,
                        "count": 0
                      },
                      {
                        "bin_start": 0.9,
                        "bin_end": 1,
                        "count": 0
                      }
                    ]
                  }
                },
                {
                  "name": "rt8",
                  "dtype": "float64",
                  "stats": {
                    "unique_count": 0,
                    "nan_count": 5,
                    "min": null,
                    "max": null,
                    "histogram": [
                      {
                        "bin_start": 0,
                        "bin_end": 0.1,
                        "count": 0
                      },
                      {
                        "bin_start": 0.1,
                        "bin_end": 0.2,
                        "count": 0
                      },
                      {
                        "bin_start": 0.2,
                        "bin_end": 0.30000000000000004,
                        "count": 0
                      },
                      {
                        "bin_start": 0.30000000000000004,
                        "bin_end": 0.4,
                        "count": 0
                      },
                      {
                        "bin_start": 0.4,
                        "bin_end": 0.5,
                        "count": 0
                      },
                      {
                        "bin_start": 0.5,
                        "bin_end": 0.6000000000000001,
                        "count": 0
                      },
                      {
                        "bin_start": 0.6000000000000001,
                        "bin_end": 0.7000000000000001,
                        "count": 0
                      },
                      {
                        "bin_start": 0.7000000000000001,
                        "bin_end": 0.8,
                        "count": 0
                      },
                      {
                        "bin_start": 0.8,
                        "bin_end": 0.9,
                        "count": 0
                      },
                      {
                        "bin_start": 0.9,
                        "bin_end": 1,
                        "count": 0
                      }
                    ]
                  }
                },
                {
                  "name": "rt9",
                  "dtype": "float64",
                  "stats": {
                    "unique_count": 0,
                    "nan_count": 5,
                    "min": null,
                    "max": null,
                    "histogram": [
                      {
                        "bin_start": 0,
                        "bin_end": 0.1,
                        "count": 0
                      },
                      {
                        "bin_start": 0.1,
                        "bin_end": 0.2,
                        "count": 0
                      },
                      {
                        "bin_start": 0.2,
                        "bin_end": 0.30000000000000004,
                        "count": 0
                      },
                      {
                        "bin_start": 0.30000000000000004,
                        "bin_end": 0.4,
                        "count": 0
                      },
                      {
                        "bin_start": 0.4,
                        "bin_end": 0.5,
                        "count": 0
                      },
                      {
                        "bin_start": 0.5,
                        "bin_end": 0.6000000000000001,
                        "count": 0
                      },
                      {
                        "bin_start": 0.6000000000000001,
                        "bin_end": 0.7000000000000001,
                        "count": 0
                      },
                      {
                        "bin_start": 0.7000000000000001,
                        "bin_end": 0.8,
                        "count": 0
                      },
                      {
                        "bin_start": 0.8,
                        "bin_end": 0.9,
                        "count": 0
                      },
                      {
                        "bin_start": 0.9,
                        "bin_end": 1,
                        "count": 0
                      }
                    ]
                  }
                },
                {
                  "name": "longest_span",
                  "dtype": "int64",
                  "stats": {
                    "unique_count": 2,
                    "nan_count": 0,
                    "min": "0",
                    "max": "2",
                    "histogram": [
                      {
                        "bin_start": 0,
                        "bin_end": 0.2,
                        "count": 3
                      },
                      {
                        "bin_start": 0.2,
                        "bin_end": 0.4,
                        "count": 0
                      },
                      {
                        "bin_start": 0.4,
                        "bin_end": 0.6000000000000001,
                        "count": 0
                      },
                      {
                        "bin_start": 0.6000000000000001,
                        "bin_end": 0.8,
                        "count": 0
                      },
                      {
                        "bin_start": 0.8,
                        "bin_end": 1,
                        "count": 0
                      },
                      {
                        "bin_start": 1,
                        "bin_end": 1.2000000000000002,
                        "count": 0
                      },
                      {
                        "bin_start": 1.2000000000000002,
                        "bin_end": 1.4000000000000001,
                        "count": 0
                      },
                      {
                        "bin_start": 1.4000000000000001,
                        "bin_end": 1.6,
                        "count": 0
                      },
                      {
                        "bin_start": 1.6,
                        "bin_end": 1.8,
                        "count": 0
                      },
                      {
                        "bin_start": 1.8,
                        "bin_end": 2,
                        "count": 2
                      }
                    ]
                  }
                },
                {
                  "name": "current_length",
                  "dtype": "int64",
                  "stats": {
                    "unique_count": 2,
                    "nan_count": 0,
                    "min": "2",
                    "max": "3",
                    "histogram": [
                      {
                        "bin_start": 2,
                        "bin_end": 2.1,
                        "count": 3
                      },
                      {
                        "bin_start": 2.1,
                        "bin_end": 2.2,
                        "count": 0
                      },
                      {
                        "bin_start": 2.2,
                        "bin_end": 2.3,
                        "count": 0
                      },
                      {
                        "bin_start": 2.3,
                        "bin_end": 2.4,
                        "count": 0
                      },
                      {
                        "bin_start": 2.4,
                        "bin_end": 2.5,
                        "count": 0
                      },
                      {
                        "bin_start": 2.5,
                        "bin_end": 2.6,
                        "count": 0
                      },
                      {
                        "bin_start": 2.6,
                        "bin_end": 2.7,
                        "count": 0
                      },
                      {
                        "bin_start": 2.7,
                        "bin_end": 2.8,
                        "count": 0
                      },
                      {
                        "bin_start": 2.8,
                        "bin_end": 2.9,
                        "count": 0
                      },
                      {
                        "bin_start": 2.9,
                        "bin_end": 3,
                        "count": 2
                      }
                    ]
                  }
                },
                {
                  "name": "correctness",
                  "dtype": "int64",
                  "stats": {
                    "unique_count": 1,
                    "nan_count": 0,
                    "min": "0",
                    "max": "0",
                    "histogram": [
                      {
                        "bin_start": -0.5,
                        "bin_end": -0.4,
                        "count": 0
                      },
                      {
                        "bin_start": -0.4,
                        "bin_end": -0.3,
                        "count": 0
                      },
                      {
                        "bin_start": -0.3,
                        "bin_end": -0.19999999999999996,
                        "count": 0
                      },
                      {
                        "bin_start": -0.19999999999999996,
                        "bin_end": -0.09999999999999998,
                        "count": 0
                      },
                      {
                        "bin_start": -0.09999999999999998,
                        "bin_end": 0,
                        "count": 0
                      },
                      {
                        "bin_start": 0,
                        "bin_end": 0.10000000000000009,
                        "count": 5
                      },
                      {
                        "bin_start": 0.10000000000000009,
                        "bin_end": 0.20000000000000007,
                        "count": 0
                      },
                      {
                        "bin_start": 0.20000000000000007,
                        "bin_end": 0.30000000000000004,
                        "count": 0
                      },
                      {
                        "bin_start": 0.30000000000000004,
                        "bin_end": 0.4,
                        "count": 0
                      },
                      {
                        "bin_start": 0.4,
                        "bin_end": 0.5,
                        "count": 0
                      }
                    ]
                  }
                },
                {
                  "name": "frequency_length1",
                  "dtype": "int64",
                  "stats": {
                    "unique_count": 4,
                    "nan_count": 0,
                    "min": "4",
                    "max": "10",
                    "histogram": [
                      {
                        "bin_start": 4,
                        "bin_end": 4.6,
                        "count": 2
                      },
                      {
                        "bin_start": 4.6,
                        "bin_end": 5.2,
                        "count": 0
                      },
                      {
                        "bin_start": 5.2,
                        "bin_end": 5.8,
                        "count": 0
                      },
                      {
                        "bin_start": 5.8,
                        "bin_end": 6.4,
                        "count": 0
                      },
                      {
                        "bin_start": 6.4,
                        "bin_end": 7,
                        "count": 0
                      },
                      {
                        "bin_start": 7,
                        "bin_end": 7.6,
                        "count": 1
                      },
                      {
                        "bin_start": 7.6,
                        "bin_end": 8.2,
                        "count": 1
                      },
                      {
                        "bin_start": 8.2,
                        "bin_end": 8.8,
                        "count": 0
                      },
                      {
                        "bin_start": 8.8,
                        "bin_end": 9.399999999999999,
                        "count": 0
                      },
                      {
                        "bin_start": 9.399999999999999,
                        "bin_end": 10,
                        "count": 1
                      }
                    ]
                  }
                },
                {
                  "name": "frequency_length2",
                  "dtype": "int64",
                  "stats": {
                    "unique_count": 3,
                    "nan_count": 0,
                    "min": "5",
                    "max": "10",
                    "histogram": [
                      {
                        "bin_start": 5,
                        "bin_end": 5.5,
                        "count": 1
                      },
                      {
                        "bin_start": 5.5,
                        "bin_end": 6,
                        "count": 0
                      },
                      {
                        "bin_start": 6,
                        "bin_end": 6.5,
                        "count": 0
                      },
                      {
                        "bin_start": 6.5,
                        "bin_end": 7,
                        "count": 0
                      },
                      {
                        "bin_start": 7,
                        "bin_end": 7.5,
                        "count": 0
                      },
                      {
                        "bin_start": 7.5,
                        "bin_end": 8,
                        "count": 0
                      },
                      {
                        "bin_start": 8,
                        "bin_end": 8.5,
                        "count": 0
                      },
                      {
                        "bin_start": 8.5,
                        "bin_end": 9,
                        "count": 0
                      },
                      {
                        "bin_start": 9,
                        "bin_end": 9.5,
                        "count": 1
                      },
                      {
                        "bin_start": 9.5,
                        "bin_end": 10,
                        "count": 3
                      }
                    ]
                  }
                },
                {
                  "name": "numbers_shown1",
                  "dtype": "int64",
                  "stats": {
                    "unique_count": 4,
                    "nan_count": 0,
                    "min": "4",
                    "max": "10",
                    "histogram": [
                      {
                        "bin_start": 4,
                        "bin_end": 4.6,
                        "count": 2
                      },
                      {
                        "bin_start": 4.6,
                        "bin_end": 5.2,
                        "count": 0
                      },
                      {
                        "bin_start": 5.2,
                        "bin_end": 5.8,
                        "count": 0
                      },
                      {
                        "bin_start": 5.8,
                        "bin_end": 6.4,
                        "count": 0
                      },
                      {
                        "bin_start": 6.4,
                        "bin_end": 7,
                        "count": 0
                      },
                      {
                        "bin_start": 7,
                        "bin_end": 7.6,
                        "count": 1
                      },
                      {
                        "bin_start": 7.6,
                        "bin_end": 8.2,
                        "count": 1
                      },
                      {
                        "bin_start": 8.2,
                        "bin_end": 8.8,
                        "count": 0
                      },
                      {
                        "bin_start": 8.8,
                        "bin_end": 9.399999999999999,
                        "count": 0
                      },
                      {
                        "bin_start": 9.399999999999999,
                        "bin_end": 10,
                        "count": 1
                      }
                    ]
                  }
                },
                {
                  "name": "numbers_shown2",
                  "dtype": "int64",
                  "stats": {
                    "unique_count": 3,
                    "nan_count": 0,
                    "min": "5",
                    "max": "10",
                    "histogram": [
                      {
                        "bin_start": 5,
                        "bin_end": 5.5,
                        "count": 1
                      },
                      {
                        "bin_start": 5.5,
                        "bin_end": 6,
                        "count": 0
                      },
                      {
                        "bin_start": 6,
                        "bin_end": 6.5,
                        "count": 0
                      },
                      {
                        "bin_start": 6.5,
                        "bin_end": 7,
                        "count": 0
                      },
                      {
                        "bin_start": 7,
                        "bin_end": 7.5,
                        "count": 0
                      },
                      {
                        "bin_start": 7.5,
                        "bin_end": 8,
                        "count": 0
                      },
                      {
                        "bin_start": 8,
                        "bin_end": 8.5,
                        "count": 0
                      },
                      {
                        "bin_start": 8.5,
                        "bin_end": 9,
                        "count": 0
                      },
                      {
                        "bin_start": 9,
                        "bin_end": 9.5,
                        "count": 1
                      },
                      {
                        "bin_start": 9.5,
                        "bin_end": 10,
                        "count": 3
                      }
                    ]
                  }
                },
                {
                  "name": "_deepnote_index_column",
                  "dtype": "int64"
                }
              ],
              "rows": [
                {
                  "trial_id": 1,
                  "type1": "clickedStim",
                  "click1": 13,
                  "click2": 16,
                  "click3": 5,
                  "click4": "nan",
                  "click5": "nan",
                  "click6": "nan",
                  "click7": "nan",
                  "click8": "nan",
                  "click9": "nan",
                  "type2": "rts",
                  "rt1": 1324,
                  "rt2": 626,
                  "rt3": 667,
                  "rt4": "nan",
                  "rt5": "nan",
                  "rt6": "nan",
                  "rt7": "nan",
                  "rt8": "nan",
                  "rt9": "nan",
                  "longest_span": 0,
                  "current_length": 2,
                  "correctness": 0,
                  "frequency_length1": 7,
                  "frequency_length2": 10,
                  "numbers_shown1": 7,
                  "numbers_shown2": 10,
                  "_deepnote_index_column": 0
                },
                {
                  "trial_id": 2,
                  "type1": "clickedStim",
                  "click1": 14,
                  "click2": 11,
                  "click3": 5,
                  "click4": "nan",
                  "click5": "nan",
                  "click6": "nan",
                  "click7": "nan",
                  "click8": "nan",
                  "click9": "nan",
                  "type2": "rts",
                  "rt1": 1222,
                  "rt2": 417,
                  "rt3": 660,
                  "rt4": "nan",
                  "rt5": "nan",
                  "rt6": "nan",
                  "rt7": "nan",
                  "rt8": "nan",
                  "rt9": "nan",
                  "longest_span": 0,
                  "current_length": 2,
                  "correctness": 0,
                  "frequency_length1": 8,
                  "frequency_length2": 5,
                  "numbers_shown1": 8,
                  "numbers_shown2": 5,
                  "_deepnote_index_column": 1
                },
                {
                  "trial_id": 2,
                  "type1": "clickedStim",
                  "click1": 10,
                  "click2": 16,
                  "click3": 5,
                  "click4": "nan",
                  "click5": "nan",
                  "click6": "nan",
                  "click7": "nan",
                  "click8": "nan",
                  "click9": "nan",
                  "type2": "rts",
                  "rt1": 1300,
                  "rt2": 465,
                  "rt3": 698,
                  "rt4": "nan",
                  "rt5": "nan",
                  "rt6": "nan",
                  "rt7": "nan",
                  "rt8": "nan",
                  "rt9": "nan",
                  "longest_span": 0,
                  "current_length": 2,
                  "correctness": 0,
                  "frequency_length1": 4,
                  "frequency_length2": 10,
                  "numbers_shown1": 4,
                  "numbers_shown2": 10,
                  "_deepnote_index_column": 2
                },
                {
                  "trial_id": 2,
                  "type1": "clickedStim",
                  "click1": 11,
                  "click2": 17,
                  "click3": 14,
                  "click4": 6,
                  "click5": "nan",
                  "click6": "nan",
                  "click7": "nan",
                  "click8": "nan",
                  "click9": "nan",
                  "type2": "rts",
                  "rt1": 1203,
                  "rt2": 657,
                  "rt3": 580,
                  "rt4": 602,
                  "rt5": "nan",
                  "rt6": "nan",
                  "rt7": "nan",
                  "rt8": "nan",
                  "rt9": "nan",
                  "longest_span": 2,
                  "current_length": 3,
                  "correctness": 0,
                  "frequency_length1": 4,
                  "frequency_length2": 10,
                  "numbers_shown1": 4,
                  "numbers_shown2": 10,
                  "_deepnote_index_column": 3
                },
                {
                  "trial_id": 2,
                  "type1": "clickedStim",
                  "click1": 17,
                  "click2": 16,
                  "click3": 8,
                  "click4": 6,
                  "click5": "nan",
                  "click6": "nan",
                  "click7": "nan",
                  "click8": "nan",
                  "click9": "nan",
                  "type2": "rts",
                  "rt1": 953,
                  "rt2": 497,
                  "rt3": 583,
                  "rt4": 935,
                  "rt5": "nan",
                  "rt6": "nan",
                  "rt7": "nan",
                  "rt8": "nan",
                  "rt9": "nan",
                  "longest_span": 2,
                  "current_length": 3,
                  "correctness": 0,
                  "frequency_length1": 10,
                  "frequency_length2": 9,
                  "numbers_shown1": 10,
                  "numbers_shown2": 9,
                  "_deepnote_index_column": 4
                }
              ]
            },
            "text/plain": "   trial_id        type1  click1  click2  click3  click4  click5  click6  \\\n0         1  clickedStim      13      16       5     NaN     NaN     NaN   \n1         2  clickedStim      14      11       5     NaN     NaN     NaN   \n2         2  clickedStim      10      16       5     NaN     NaN     NaN   \n3         2  clickedStim      11      17      14     6.0     NaN     NaN   \n4         2  clickedStim      17      16       8     6.0     NaN     NaN   \n\n   click7  click8  ...  rt7 rt8  rt9  longest_span  current_length  \\\n0     NaN     NaN  ...  NaN NaN  NaN             0               2   \n1     NaN     NaN  ...  NaN NaN  NaN             0               2   \n2     NaN     NaN  ...  NaN NaN  NaN             0               2   \n3     NaN     NaN  ...  NaN NaN  NaN             2               3   \n4     NaN     NaN  ...  NaN NaN  NaN             2               3   \n\n   correctness  frequency_length1  frequency_length2  numbers_shown1  \\\n0            0                  7                 10               7   \n1            0                  8                  5               8   \n2            0                  4                 10               4   \n3            0                  4                 10               4   \n4            0                 10                  9              10   \n\n   numbers_shown2  \n0              10  \n1               5  \n2              10  \n3              10  \n4               9  \n\n[5 rows x 28 columns]",
            "text/html": "<div>\n<style scoped>\n    .dataframe tbody tr th:only-of-type {\n        vertical-align: middle;\n    }\n\n    .dataframe tbody tr th {\n        vertical-align: top;\n    }\n\n    .dataframe thead th {\n        text-align: right;\n    }\n</style>\n<table border=\"1\" class=\"dataframe\">\n  <thead>\n    <tr style=\"text-align: right;\">\n      <th></th>\n      <th>trial_id</th>\n      <th>type1</th>\n      <th>click1</th>\n      <th>click2</th>\n      <th>click3</th>\n      <th>click4</th>\n      <th>click5</th>\n      <th>click6</th>\n      <th>click7</th>\n      <th>click8</th>\n      <th>...</th>\n      <th>rt7</th>\n      <th>rt8</th>\n      <th>rt9</th>\n      <th>longest_span</th>\n      <th>current_length</th>\n      <th>correctness</th>\n      <th>frequency_length1</th>\n      <th>frequency_length2</th>\n      <th>numbers_shown1</th>\n      <th>numbers_shown2</th>\n    </tr>\n  </thead>\n  <tbody>\n    <tr>\n      <th>0</th>\n      <td>1</td>\n      <td>clickedStim</td>\n      <td>13</td>\n      <td>16</td>\n      <td>5</td>\n      <td>NaN</td>\n      <td>NaN</td>\n      <td>NaN</td>\n      <td>NaN</td>\n      <td>NaN</td>\n      <td>...</td>\n      <td>NaN</td>\n      <td>NaN</td>\n      <td>NaN</td>\n      <td>0</td>\n      <td>2</td>\n      <td>0</td>\n      <td>7</td>\n      <td>10</td>\n      <td>7</td>\n      <td>10</td>\n    </tr>\n    <tr>\n      <th>1</th>\n      <td>2</td>\n      <td>clickedStim</td>\n      <td>14</td>\n      <td>11</td>\n      <td>5</td>\n      <td>NaN</td>\n      <td>NaN</td>\n      <td>NaN</td>\n      <td>NaN</td>\n      <td>NaN</td>\n      <td>...</td>\n      <td>NaN</td>\n      <td>NaN</td>\n      <td>NaN</td>\n      <td>0</td>\n      <td>2</td>\n      <td>0</td>\n      <td>8</td>\n      <td>5</td>\n      <td>8</td>\n      <td>5</td>\n    </tr>\n    <tr>\n      <th>2</th>\n      <td>2</td>\n      <td>clickedStim</td>\n      <td>10</td>\n      <td>16</td>\n      <td>5</td>\n      <td>NaN</td>\n      <td>NaN</td>\n      <td>NaN</td>\n      <td>NaN</td>\n      <td>NaN</td>\n      <td>...</td>\n      <td>NaN</td>\n      <td>NaN</td>\n      <td>NaN</td>\n      <td>0</td>\n      <td>2</td>\n      <td>0</td>\n      <td>4</td>\n      <td>10</td>\n      <td>4</td>\n      <td>10</td>\n    </tr>\n    <tr>\n      <th>3</th>\n      <td>2</td>\n      <td>clickedStim</td>\n      <td>11</td>\n      <td>17</td>\n      <td>14</td>\n      <td>6.0</td>\n      <td>NaN</td>\n      <td>NaN</td>\n      <td>NaN</td>\n      <td>NaN</td>\n      <td>...</td>\n      <td>NaN</td>\n      <td>NaN</td>\n      <td>NaN</td>\n      <td>2</td>\n      <td>3</td>\n      <td>0</td>\n      <td>4</td>\n      <td>10</td>\n      <td>4</td>\n      <td>10</td>\n    </tr>\n    <tr>\n      <th>4</th>\n      <td>2</td>\n      <td>clickedStim</td>\n      <td>17</td>\n      <td>16</td>\n      <td>8</td>\n      <td>6.0</td>\n      <td>NaN</td>\n      <td>NaN</td>\n      <td>NaN</td>\n      <td>NaN</td>\n      <td>...</td>\n      <td>NaN</td>\n      <td>NaN</td>\n      <td>NaN</td>\n      <td>2</td>\n      <td>3</td>\n      <td>0</td>\n      <td>10</td>\n      <td>9</td>\n      <td>10</td>\n      <td>9</td>\n    </tr>\n  </tbody>\n</table>\n<p>5 rows × 28 columns</p>\n</div>"
          },
          "metadata": {}
        }
      ],
      "outputs_reference": null,
      "execution_count": 24,
      "block_group": "b1724db5702d48a5963f6a6e016f3685",
      "content_dependencies": null
    },
    {
      "cell_type": "code",
      "source": "digit_three.head()",
      "metadata": {
        "source_hash": "ca88d84e",
        "execution_start": 1731627228482,
        "execution_millis": 12,
        "execution_context_id": "8132cf72-65a5-4f53-bde2-b669605264d8",
        "cell_id": "13f15175c1ea4cf69f97ff1ba29f9890",
        "deepnote_cell_type": "code"
      },
      "outputs": [
        {
          "output_type": "execute_result",
          "execution_count": 25,
          "data": {
            "application/vnd.deepnote.dataframe.v3+json": {
              "column_count": 28,
              "row_count": 5,
              "columns": [
                {
                  "name": "trial_id",
                  "dtype": "int64",
                  "stats": {
                    "unique_count": 2,
                    "nan_count": 0,
                    "min": "1",
                    "max": "2",
                    "histogram": [
                      {
                        "bin_start": 1,
                        "bin_end": 1.1,
                        "count": 1
                      },
                      {
                        "bin_start": 1.1,
                        "bin_end": 1.2,
                        "count": 0
                      },
                      {
                        "bin_start": 1.2,
                        "bin_end": 1.3,
                        "count": 0
                      },
                      {
                        "bin_start": 1.3,
                        "bin_end": 1.4,
                        "count": 0
                      },
                      {
                        "bin_start": 1.4,
                        "bin_end": 1.5,
                        "count": 0
                      },
                      {
                        "bin_start": 1.5,
                        "bin_end": 1.6,
                        "count": 0
                      },
                      {
                        "bin_start": 1.6,
                        "bin_end": 1.7000000000000002,
                        "count": 0
                      },
                      {
                        "bin_start": 1.7000000000000002,
                        "bin_end": 1.8,
                        "count": 0
                      },
                      {
                        "bin_start": 1.8,
                        "bin_end": 1.9,
                        "count": 0
                      },
                      {
                        "bin_start": 1.9,
                        "bin_end": 2,
                        "count": 4
                      }
                    ]
                  }
                },
                {
                  "name": "type1",
                  "dtype": "object",
                  "stats": {
                    "unique_count": 1,
                    "nan_count": 0,
                    "categories": [
                      {
                        "name": "clickedStim",
                        "count": 5
                      }
                    ]
                  }
                },
                {
                  "name": "click1",
                  "dtype": "int64",
                  "stats": {
                    "unique_count": 4,
                    "nan_count": 0,
                    "min": "7",
                    "max": "16",
                    "histogram": [
                      {
                        "bin_start": 7,
                        "bin_end": 7.9,
                        "count": 1
                      },
                      {
                        "bin_start": 7.9,
                        "bin_end": 8.8,
                        "count": 0
                      },
                      {
                        "bin_start": 8.8,
                        "bin_end": 9.7,
                        "count": 0
                      },
                      {
                        "bin_start": 9.7,
                        "bin_end": 10.6,
                        "count": 1
                      },
                      {
                        "bin_start": 10.6,
                        "bin_end": 11.5,
                        "count": 0
                      },
                      {
                        "bin_start": 11.5,
                        "bin_end": 12.4,
                        "count": 0
                      },
                      {
                        "bin_start": 12.4,
                        "bin_end": 13.3,
                        "count": 1
                      },
                      {
                        "bin_start": 13.3,
                        "bin_end": 14.2,
                        "count": 0
                      },
                      {
                        "bin_start": 14.2,
                        "bin_end": 15.1,
                        "count": 0
                      },
                      {
                        "bin_start": 15.1,
                        "bin_end": 16,
                        "count": 2
                      }
                    ]
                  }
                },
                {
                  "name": "click2",
                  "dtype": "int64",
                  "stats": {
                    "unique_count": 5,
                    "nan_count": 0,
                    "min": "9",
                    "max": "13",
                    "histogram": [
                      {
                        "bin_start": 9,
                        "bin_end": 9.4,
                        "count": 1
                      },
                      {
                        "bin_start": 9.4,
                        "bin_end": 9.8,
                        "count": 0
                      },
                      {
                        "bin_start": 9.8,
                        "bin_end": 10.2,
                        "count": 1
                      },
                      {
                        "bin_start": 10.2,
                        "bin_end": 10.6,
                        "count": 0
                      },
                      {
                        "bin_start": 10.6,
                        "bin_end": 11,
                        "count": 0
                      },
                      {
                        "bin_start": 11,
                        "bin_end": 11.4,
                        "count": 1
                      },
                      {
                        "bin_start": 11.4,
                        "bin_end": 11.8,
                        "count": 0
                      },
                      {
                        "bin_start": 11.8,
                        "bin_end": 12.2,
                        "count": 1
                      },
                      {
                        "bin_start": 12.2,
                        "bin_end": 12.6,
                        "count": 0
                      },
                      {
                        "bin_start": 12.6,
                        "bin_end": 13,
                        "count": 1
                      }
                    ]
                  }
                },
                {
                  "name": "click3",
                  "dtype": "int64",
                  "stats": {
                    "unique_count": 3,
                    "nan_count": 0,
                    "min": "5",
                    "max": "17",
                    "histogram": [
                      {
                        "bin_start": 5,
                        "bin_end": 6.2,
                        "count": 3
                      },
                      {
                        "bin_start": 6.2,
                        "bin_end": 7.4,
                        "count": 0
                      },
                      {
                        "bin_start": 7.4,
                        "bin_end": 8.6,
                        "count": 0
                      },
                      {
                        "bin_start": 8.6,
                        "bin_end": 9.8,
                        "count": 0
                      },
                      {
                        "bin_start": 9.8,
                        "bin_end": 11,
                        "count": 1
                      },
                      {
                        "bin_start": 11,
                        "bin_end": 12.2,
                        "count": 0
                      },
                      {
                        "bin_start": 12.2,
                        "bin_end": 13.4,
                        "count": 0
                      },
                      {
                        "bin_start": 13.4,
                        "bin_end": 14.6,
                        "count": 0
                      },
                      {
                        "bin_start": 14.6,
                        "bin_end": 15.799999999999999,
                        "count": 0
                      },
                      {
                        "bin_start": 15.799999999999999,
                        "bin_end": 17,
                        "count": 1
                      }
                    ]
                  }
                },
                {
                  "name": "click4",
                  "dtype": "float64",
                  "stats": {
                    "unique_count": 1,
                    "nan_count": 3,
                    "min": "6.0",
                    "max": "6.0",
                    "histogram": [
                      {
                        "bin_start": 5.5,
                        "bin_end": 5.6,
                        "count": 0
                      },
                      {
                        "bin_start": 5.6,
                        "bin_end": 5.7,
                        "count": 0
                      },
                      {
                        "bin_start": 5.7,
                        "bin_end": 5.8,
                        "count": 0
                      },
                      {
                        "bin_start": 5.8,
                        "bin_end": 5.9,
                        "count": 0
                      },
                      {
                        "bin_start": 5.9,
                        "bin_end": 6,
                        "count": 0
                      },
                      {
                        "bin_start": 6,
                        "bin_end": 6.1,
                        "count": 2
                      },
                      {
                        "bin_start": 6.1,
                        "bin_end": 6.2,
                        "count": 0
                      },
                      {
                        "bin_start": 6.2,
                        "bin_end": 6.3,
                        "count": 0
                      },
                      {
                        "bin_start": 6.3,
                        "bin_end": 6.4,
                        "count": 0
                      },
                      {
                        "bin_start": 6.4,
                        "bin_end": 6.5,
                        "count": 0
                      }
                    ]
                  }
                },
                {
                  "name": "click5",
                  "dtype": "float64",
                  "stats": {
                    "unique_count": 0,
                    "nan_count": 5,
                    "min": null,
                    "max": null,
                    "histogram": [
                      {
                        "bin_start": 0,
                        "bin_end": 0.1,
                        "count": 0
                      },
                      {
                        "bin_start": 0.1,
                        "bin_end": 0.2,
                        "count": 0
                      },
                      {
                        "bin_start": 0.2,
                        "bin_end": 0.30000000000000004,
                        "count": 0
                      },
                      {
                        "bin_start": 0.30000000000000004,
                        "bin_end": 0.4,
                        "count": 0
                      },
                      {
                        "bin_start": 0.4,
                        "bin_end": 0.5,
                        "count": 0
                      },
                      {
                        "bin_start": 0.5,
                        "bin_end": 0.6000000000000001,
                        "count": 0
                      },
                      {
                        "bin_start": 0.6000000000000001,
                        "bin_end": 0.7000000000000001,
                        "count": 0
                      },
                      {
                        "bin_start": 0.7000000000000001,
                        "bin_end": 0.8,
                        "count": 0
                      },
                      {
                        "bin_start": 0.8,
                        "bin_end": 0.9,
                        "count": 0
                      },
                      {
                        "bin_start": 0.9,
                        "bin_end": 1,
                        "count": 0
                      }
                    ]
                  }
                },
                {
                  "name": "click6",
                  "dtype": "float64",
                  "stats": {
                    "unique_count": 0,
                    "nan_count": 5,
                    "min": null,
                    "max": null,
                    "histogram": [
                      {
                        "bin_start": 0,
                        "bin_end": 0.1,
                        "count": 0
                      },
                      {
                        "bin_start": 0.1,
                        "bin_end": 0.2,
                        "count": 0
                      },
                      {
                        "bin_start": 0.2,
                        "bin_end": 0.30000000000000004,
                        "count": 0
                      },
                      {
                        "bin_start": 0.30000000000000004,
                        "bin_end": 0.4,
                        "count": 0
                      },
                      {
                        "bin_start": 0.4,
                        "bin_end": 0.5,
                        "count": 0
                      },
                      {
                        "bin_start": 0.5,
                        "bin_end": 0.6000000000000001,
                        "count": 0
                      },
                      {
                        "bin_start": 0.6000000000000001,
                        "bin_end": 0.7000000000000001,
                        "count": 0
                      },
                      {
                        "bin_start": 0.7000000000000001,
                        "bin_end": 0.8,
                        "count": 0
                      },
                      {
                        "bin_start": 0.8,
                        "bin_end": 0.9,
                        "count": 0
                      },
                      {
                        "bin_start": 0.9,
                        "bin_end": 1,
                        "count": 0
                      }
                    ]
                  }
                },
                {
                  "name": "click7",
                  "dtype": "float64",
                  "stats": {
                    "unique_count": 0,
                    "nan_count": 5,
                    "min": null,
                    "max": null,
                    "histogram": [
                      {
                        "bin_start": 0,
                        "bin_end": 0.1,
                        "count": 0
                      },
                      {
                        "bin_start": 0.1,
                        "bin_end": 0.2,
                        "count": 0
                      },
                      {
                        "bin_start": 0.2,
                        "bin_end": 0.30000000000000004,
                        "count": 0
                      },
                      {
                        "bin_start": 0.30000000000000004,
                        "bin_end": 0.4,
                        "count": 0
                      },
                      {
                        "bin_start": 0.4,
                        "bin_end": 0.5,
                        "count": 0
                      },
                      {
                        "bin_start": 0.5,
                        "bin_end": 0.6000000000000001,
                        "count": 0
                      },
                      {
                        "bin_start": 0.6000000000000001,
                        "bin_end": 0.7000000000000001,
                        "count": 0
                      },
                      {
                        "bin_start": 0.7000000000000001,
                        "bin_end": 0.8,
                        "count": 0
                      },
                      {
                        "bin_start": 0.8,
                        "bin_end": 0.9,
                        "count": 0
                      },
                      {
                        "bin_start": 0.9,
                        "bin_end": 1,
                        "count": 0
                      }
                    ]
                  }
                },
                {
                  "name": "click8",
                  "dtype": "float64",
                  "stats": {
                    "unique_count": 0,
                    "nan_count": 5,
                    "min": null,
                    "max": null,
                    "histogram": [
                      {
                        "bin_start": 0,
                        "bin_end": 0.1,
                        "count": 0
                      },
                      {
                        "bin_start": 0.1,
                        "bin_end": 0.2,
                        "count": 0
                      },
                      {
                        "bin_start": 0.2,
                        "bin_end": 0.30000000000000004,
                        "count": 0
                      },
                      {
                        "bin_start": 0.30000000000000004,
                        "bin_end": 0.4,
                        "count": 0
                      },
                      {
                        "bin_start": 0.4,
                        "bin_end": 0.5,
                        "count": 0
                      },
                      {
                        "bin_start": 0.5,
                        "bin_end": 0.6000000000000001,
                        "count": 0
                      },
                      {
                        "bin_start": 0.6000000000000001,
                        "bin_end": 0.7000000000000001,
                        "count": 0
                      },
                      {
                        "bin_start": 0.7000000000000001,
                        "bin_end": 0.8,
                        "count": 0
                      },
                      {
                        "bin_start": 0.8,
                        "bin_end": 0.9,
                        "count": 0
                      },
                      {
                        "bin_start": 0.9,
                        "bin_end": 1,
                        "count": 0
                      }
                    ]
                  }
                },
                {
                  "name": "click9",
                  "dtype": "float64",
                  "stats": {
                    "unique_count": 0,
                    "nan_count": 5,
                    "min": null,
                    "max": null,
                    "histogram": [
                      {
                        "bin_start": 0,
                        "bin_end": 0.1,
                        "count": 0
                      },
                      {
                        "bin_start": 0.1,
                        "bin_end": 0.2,
                        "count": 0
                      },
                      {
                        "bin_start": 0.2,
                        "bin_end": 0.30000000000000004,
                        "count": 0
                      },
                      {
                        "bin_start": 0.30000000000000004,
                        "bin_end": 0.4,
                        "count": 0
                      },
                      {
                        "bin_start": 0.4,
                        "bin_end": 0.5,
                        "count": 0
                      },
                      {
                        "bin_start": 0.5,
                        "bin_end": 0.6000000000000001,
                        "count": 0
                      },
                      {
                        "bin_start": 0.6000000000000001,
                        "bin_end": 0.7000000000000001,
                        "count": 0
                      },
                      {
                        "bin_start": 0.7000000000000001,
                        "bin_end": 0.8,
                        "count": 0
                      },
                      {
                        "bin_start": 0.8,
                        "bin_end": 0.9,
                        "count": 0
                      },
                      {
                        "bin_start": 0.9,
                        "bin_end": 1,
                        "count": 0
                      }
                    ]
                  }
                },
                {
                  "name": "type2",
                  "dtype": "object",
                  "stats": {
                    "unique_count": 1,
                    "nan_count": 0,
                    "categories": [
                      {
                        "name": "rts",
                        "count": 5
                      }
                    ]
                  }
                },
                {
                  "name": "rt1",
                  "dtype": "int64",
                  "stats": {
                    "unique_count": 5,
                    "nan_count": 0,
                    "min": "1599",
                    "max": "2409",
                    "histogram": [
                      {
                        "bin_start": 1599,
                        "bin_end": 1680,
                        "count": 1
                      },
                      {
                        "bin_start": 1680,
                        "bin_end": 1761,
                        "count": 0
                      },
                      {
                        "bin_start": 1761,
                        "bin_end": 1842,
                        "count": 1
                      },
                      {
                        "bin_start": 1842,
                        "bin_end": 1923,
                        "count": 0
                      },
                      {
                        "bin_start": 1923,
                        "bin_end": 2004,
                        "count": 2
                      },
                      {
                        "bin_start": 2004,
                        "bin_end": 2085,
                        "count": 0
                      },
                      {
                        "bin_start": 2085,
                        "bin_end": 2166,
                        "count": 0
                      },
                      {
                        "bin_start": 2166,
                        "bin_end": 2247,
                        "count": 0
                      },
                      {
                        "bin_start": 2247,
                        "bin_end": 2328,
                        "count": 0
                      },
                      {
                        "bin_start": 2328,
                        "bin_end": 2409,
                        "count": 1
                      }
                    ]
                  }
                },
                {
                  "name": "rt2",
                  "dtype": "int64",
                  "stats": {
                    "unique_count": 5,
                    "nan_count": 0,
                    "min": "691",
                    "max": "1121",
                    "histogram": [
                      {
                        "bin_start": 691,
                        "bin_end": 734,
                        "count": 1
                      },
                      {
                        "bin_start": 734,
                        "bin_end": 777,
                        "count": 0
                      },
                      {
                        "bin_start": 777,
                        "bin_end": 820,
                        "count": 1
                      },
                      {
                        "bin_start": 820,
                        "bin_end": 863,
                        "count": 0
                      },
                      {
                        "bin_start": 863,
                        "bin_end": 906,
                        "count": 1
                      },
                      {
                        "bin_start": 906,
                        "bin_end": 949,
                        "count": 1
                      },
                      {
                        "bin_start": 949,
                        "bin_end": 992,
                        "count": 0
                      },
                      {
                        "bin_start": 992,
                        "bin_end": 1035,
                        "count": 0
                      },
                      {
                        "bin_start": 1035,
                        "bin_end": 1078,
                        "count": 0
                      },
                      {
                        "bin_start": 1078,
                        "bin_end": 1121,
                        "count": 1
                      }
                    ]
                  }
                },
                {
                  "name": "rt3",
                  "dtype": "int64",
                  "stats": {
                    "unique_count": 5,
                    "nan_count": 0,
                    "min": "773",
                    "max": "1352",
                    "histogram": [
                      {
                        "bin_start": 773,
                        "bin_end": 830.9,
                        "count": 2
                      },
                      {
                        "bin_start": 830.9,
                        "bin_end": 888.8,
                        "count": 0
                      },
                      {
                        "bin_start": 888.8,
                        "bin_end": 946.7,
                        "count": 0
                      },
                      {
                        "bin_start": 946.7,
                        "bin_end": 1004.6,
                        "count": 1
                      },
                      {
                        "bin_start": 1004.6,
                        "bin_end": 1062.5,
                        "count": 0
                      },
                      {
                        "bin_start": 1062.5,
                        "bin_end": 1120.4,
                        "count": 0
                      },
                      {
                        "bin_start": 1120.4,
                        "bin_end": 1178.3,
                        "count": 0
                      },
                      {
                        "bin_start": 1178.3,
                        "bin_end": 1236.2,
                        "count": 1
                      },
                      {
                        "bin_start": 1236.2,
                        "bin_end": 1294.1,
                        "count": 0
                      },
                      {
                        "bin_start": 1294.1,
                        "bin_end": 1352,
                        "count": 1
                      }
                    ]
                  }
                },
                {
                  "name": "rt4",
                  "dtype": "float64",
                  "stats": {
                    "unique_count": 2,
                    "nan_count": 3,
                    "min": "873.0",
                    "max": "978.0",
                    "histogram": [
                      {
                        "bin_start": 873,
                        "bin_end": 883.5,
                        "count": 1
                      },
                      {
                        "bin_start": 883.5,
                        "bin_end": 894,
                        "count": 0
                      },
                      {
                        "bin_start": 894,
                        "bin_end": 904.5,
                        "count": 0
                      },
                      {
                        "bin_start": 904.5,
                        "bin_end": 915,
                        "count": 0
                      },
                      {
                        "bin_start": 915,
                        "bin_end": 925.5,
                        "count": 0
                      },
                      {
                        "bin_start": 925.5,
                        "bin_end": 936,
                        "count": 0
                      },
                      {
                        "bin_start": 936,
                        "bin_end": 946.5,
                        "count": 0
                      },
                      {
                        "bin_start": 946.5,
                        "bin_end": 957,
                        "count": 0
                      },
                      {
                        "bin_start": 957,
                        "bin_end": 967.5,
                        "count": 0
                      },
                      {
                        "bin_start": 967.5,
                        "bin_end": 978,
                        "count": 1
                      }
                    ]
                  }
                },
                {
                  "name": "rt5",
                  "dtype": "float64",
                  "stats": {
                    "unique_count": 0,
                    "nan_count": 5,
                    "min": null,
                    "max": null,
                    "histogram": [
                      {
                        "bin_start": 0,
                        "bin_end": 0.1,
                        "count": 0
                      },
                      {
                        "bin_start": 0.1,
                        "bin_end": 0.2,
                        "count": 0
                      },
                      {
                        "bin_start": 0.2,
                        "bin_end": 0.30000000000000004,
                        "count": 0
                      },
                      {
                        "bin_start": 0.30000000000000004,
                        "bin_end": 0.4,
                        "count": 0
                      },
                      {
                        "bin_start": 0.4,
                        "bin_end": 0.5,
                        "count": 0
                      },
                      {
                        "bin_start": 0.5,
                        "bin_end": 0.6000000000000001,
                        "count": 0
                      },
                      {
                        "bin_start": 0.6000000000000001,
                        "bin_end": 0.7000000000000001,
                        "count": 0
                      },
                      {
                        "bin_start": 0.7000000000000001,
                        "bin_end": 0.8,
                        "count": 0
                      },
                      {
                        "bin_start": 0.8,
                        "bin_end": 0.9,
                        "count": 0
                      },
                      {
                        "bin_start": 0.9,
                        "bin_end": 1,
                        "count": 0
                      }
                    ]
                  }
                },
                {
                  "name": "rt6",
                  "dtype": "float64",
                  "stats": {
                    "unique_count": 0,
                    "nan_count": 5,
                    "min": null,
                    "max": null,
                    "histogram": [
                      {
                        "bin_start": 0,
                        "bin_end": 0.1,
                        "count": 0
                      },
                      {
                        "bin_start": 0.1,
                        "bin_end": 0.2,
                        "count": 0
                      },
                      {
                        "bin_start": 0.2,
                        "bin_end": 0.30000000000000004,
                        "count": 0
                      },
                      {
                        "bin_start": 0.30000000000000004,
                        "bin_end": 0.4,
                        "count": 0
                      },
                      {
                        "bin_start": 0.4,
                        "bin_end": 0.5,
                        "count": 0
                      },
                      {
                        "bin_start": 0.5,
                        "bin_end": 0.6000000000000001,
                        "count": 0
                      },
                      {
                        "bin_start": 0.6000000000000001,
                        "bin_end": 0.7000000000000001,
                        "count": 0
                      },
                      {
                        "bin_start": 0.7000000000000001,
                        "bin_end": 0.8,
                        "count": 0
                      },
                      {
                        "bin_start": 0.8,
                        "bin_end": 0.9,
                        "count": 0
                      },
                      {
                        "bin_start": 0.9,
                        "bin_end": 1,
                        "count": 0
                      }
                    ]
                  }
                },
                {
                  "name": "rt7",
                  "dtype": "float64",
                  "stats": {
                    "unique_count": 0,
                    "nan_count": 5,
                    "min": null,
                    "max": null,
                    "histogram": [
                      {
                        "bin_start": 0,
                        "bin_end": 0.1,
                        "count": 0
                      },
                      {
                        "bin_start": 0.1,
                        "bin_end": 0.2,
                        "count": 0
                      },
                      {
                        "bin_start": 0.2,
                        "bin_end": 0.30000000000000004,
                        "count": 0
                      },
                      {
                        "bin_start": 0.30000000000000004,
                        "bin_end": 0.4,
                        "count": 0
                      },
                      {
                        "bin_start": 0.4,
                        "bin_end": 0.5,
                        "count": 0
                      },
                      {
                        "bin_start": 0.5,
                        "bin_end": 0.6000000000000001,
                        "count": 0
                      },
                      {
                        "bin_start": 0.6000000000000001,
                        "bin_end": 0.7000000000000001,
                        "count": 0
                      },
                      {
                        "bin_start": 0.7000000000000001,
                        "bin_end": 0.8,
                        "count": 0
                      },
                      {
                        "bin_start": 0.8,
                        "bin_end": 0.9,
                        "count": 0
                      },
                      {
                        "bin_start": 0.9,
                        "bin_end": 1,
                        "count": 0
                      }
                    ]
                  }
                },
                {
                  "name": "rt8",
                  "dtype": "float64",
                  "stats": {
                    "unique_count": 0,
                    "nan_count": 5,
                    "min": null,
                    "max": null,
                    "histogram": [
                      {
                        "bin_start": 0,
                        "bin_end": 0.1,
                        "count": 0
                      },
                      {
                        "bin_start": 0.1,
                        "bin_end": 0.2,
                        "count": 0
                      },
                      {
                        "bin_start": 0.2,
                        "bin_end": 0.30000000000000004,
                        "count": 0
                      },
                      {
                        "bin_start": 0.30000000000000004,
                        "bin_end": 0.4,
                        "count": 0
                      },
                      {
                        "bin_start": 0.4,
                        "bin_end": 0.5,
                        "count": 0
                      },
                      {
                        "bin_start": 0.5,
                        "bin_end": 0.6000000000000001,
                        "count": 0
                      },
                      {
                        "bin_start": 0.6000000000000001,
                        "bin_end": 0.7000000000000001,
                        "count": 0
                      },
                      {
                        "bin_start": 0.7000000000000001,
                        "bin_end": 0.8,
                        "count": 0
                      },
                      {
                        "bin_start": 0.8,
                        "bin_end": 0.9,
                        "count": 0
                      },
                      {
                        "bin_start": 0.9,
                        "bin_end": 1,
                        "count": 0
                      }
                    ]
                  }
                },
                {
                  "name": "rt9",
                  "dtype": "float64",
                  "stats": {
                    "unique_count": 0,
                    "nan_count": 5,
                    "min": null,
                    "max": null,
                    "histogram": [
                      {
                        "bin_start": 0,
                        "bin_end": 0.1,
                        "count": 0
                      },
                      {
                        "bin_start": 0.1,
                        "bin_end": 0.2,
                        "count": 0
                      },
                      {
                        "bin_start": 0.2,
                        "bin_end": 0.30000000000000004,
                        "count": 0
                      },
                      {
                        "bin_start": 0.30000000000000004,
                        "bin_end": 0.4,
                        "count": 0
                      },
                      {
                        "bin_start": 0.4,
                        "bin_end": 0.5,
                        "count": 0
                      },
                      {
                        "bin_start": 0.5,
                        "bin_end": 0.6000000000000001,
                        "count": 0
                      },
                      {
                        "bin_start": 0.6000000000000001,
                        "bin_end": 0.7000000000000001,
                        "count": 0
                      },
                      {
                        "bin_start": 0.7000000000000001,
                        "bin_end": 0.8,
                        "count": 0
                      },
                      {
                        "bin_start": 0.8,
                        "bin_end": 0.9,
                        "count": 0
                      },
                      {
                        "bin_start": 0.9,
                        "bin_end": 1,
                        "count": 0
                      }
                    ]
                  }
                },
                {
                  "name": "longest_span",
                  "dtype": "int64",
                  "stats": {
                    "unique_count": 2,
                    "nan_count": 0,
                    "min": "0",
                    "max": "2",
                    "histogram": [
                      {
                        "bin_start": 0,
                        "bin_end": 0.2,
                        "count": 3
                      },
                      {
                        "bin_start": 0.2,
                        "bin_end": 0.4,
                        "count": 0
                      },
                      {
                        "bin_start": 0.4,
                        "bin_end": 0.6000000000000001,
                        "count": 0
                      },
                      {
                        "bin_start": 0.6000000000000001,
                        "bin_end": 0.8,
                        "count": 0
                      },
                      {
                        "bin_start": 0.8,
                        "bin_end": 1,
                        "count": 0
                      },
                      {
                        "bin_start": 1,
                        "bin_end": 1.2000000000000002,
                        "count": 0
                      },
                      {
                        "bin_start": 1.2000000000000002,
                        "bin_end": 1.4000000000000001,
                        "count": 0
                      },
                      {
                        "bin_start": 1.4000000000000001,
                        "bin_end": 1.6,
                        "count": 0
                      },
                      {
                        "bin_start": 1.6,
                        "bin_end": 1.8,
                        "count": 0
                      },
                      {
                        "bin_start": 1.8,
                        "bin_end": 2,
                        "count": 2
                      }
                    ]
                  }
                },
                {
                  "name": "current_length",
                  "dtype": "int64",
                  "stats": {
                    "unique_count": 2,
                    "nan_count": 0,
                    "min": "2",
                    "max": "3",
                    "histogram": [
                      {
                        "bin_start": 2,
                        "bin_end": 2.1,
                        "count": 3
                      },
                      {
                        "bin_start": 2.1,
                        "bin_end": 2.2,
                        "count": 0
                      },
                      {
                        "bin_start": 2.2,
                        "bin_end": 2.3,
                        "count": 0
                      },
                      {
                        "bin_start": 2.3,
                        "bin_end": 2.4,
                        "count": 0
                      },
                      {
                        "bin_start": 2.4,
                        "bin_end": 2.5,
                        "count": 0
                      },
                      {
                        "bin_start": 2.5,
                        "bin_end": 2.6,
                        "count": 0
                      },
                      {
                        "bin_start": 2.6,
                        "bin_end": 2.7,
                        "count": 0
                      },
                      {
                        "bin_start": 2.7,
                        "bin_end": 2.8,
                        "count": 0
                      },
                      {
                        "bin_start": 2.8,
                        "bin_end": 2.9,
                        "count": 0
                      },
                      {
                        "bin_start": 2.9,
                        "bin_end": 3,
                        "count": 2
                      }
                    ]
                  }
                },
                {
                  "name": "correctness",
                  "dtype": "int64",
                  "stats": {
                    "unique_count": 1,
                    "nan_count": 0,
                    "min": "0",
                    "max": "0",
                    "histogram": [
                      {
                        "bin_start": -0.5,
                        "bin_end": -0.4,
                        "count": 0
                      },
                      {
                        "bin_start": -0.4,
                        "bin_end": -0.3,
                        "count": 0
                      },
                      {
                        "bin_start": -0.3,
                        "bin_end": -0.19999999999999996,
                        "count": 0
                      },
                      {
                        "bin_start": -0.19999999999999996,
                        "bin_end": -0.09999999999999998,
                        "count": 0
                      },
                      {
                        "bin_start": -0.09999999999999998,
                        "bin_end": 0,
                        "count": 0
                      },
                      {
                        "bin_start": 0,
                        "bin_end": 0.10000000000000009,
                        "count": 5
                      },
                      {
                        "bin_start": 0.10000000000000009,
                        "bin_end": 0.20000000000000007,
                        "count": 0
                      },
                      {
                        "bin_start": 0.20000000000000007,
                        "bin_end": 0.30000000000000004,
                        "count": 0
                      },
                      {
                        "bin_start": 0.30000000000000004,
                        "bin_end": 0.4,
                        "count": 0
                      },
                      {
                        "bin_start": 0.4,
                        "bin_end": 0.5,
                        "count": 0
                      }
                    ]
                  }
                },
                {
                  "name": "frequency_length1",
                  "dtype": "int64",
                  "stats": {
                    "unique_count": 5,
                    "nan_count": 0,
                    "min": "1",
                    "max": "10",
                    "histogram": [
                      {
                        "bin_start": 1,
                        "bin_end": 1.9,
                        "count": 1
                      },
                      {
                        "bin_start": 1.9,
                        "bin_end": 2.8,
                        "count": 0
                      },
                      {
                        "bin_start": 2.8,
                        "bin_end": 3.7,
                        "count": 0
                      },
                      {
                        "bin_start": 3.7,
                        "bin_end": 4.6,
                        "count": 1
                      },
                      {
                        "bin_start": 4.6,
                        "bin_end": 5.5,
                        "count": 0
                      },
                      {
                        "bin_start": 5.5,
                        "bin_end": 6.4,
                        "count": 1
                      },
                      {
                        "bin_start": 6.4,
                        "bin_end": 7.3,
                        "count": 0
                      },
                      {
                        "bin_start": 7.3,
                        "bin_end": 8.2,
                        "count": 0
                      },
                      {
                        "bin_start": 8.2,
                        "bin_end": 9.1,
                        "count": 1
                      },
                      {
                        "bin_start": 9.1,
                        "bin_end": 10,
                        "count": 1
                      }
                    ]
                  }
                },
                {
                  "name": "frequency_length2",
                  "dtype": "int64",
                  "stats": {
                    "unique_count": 4,
                    "nan_count": 0,
                    "min": "3",
                    "max": "7",
                    "histogram": [
                      {
                        "bin_start": 3,
                        "bin_end": 3.4,
                        "count": 1
                      },
                      {
                        "bin_start": 3.4,
                        "bin_end": 3.8,
                        "count": 0
                      },
                      {
                        "bin_start": 3.8,
                        "bin_end": 4.2,
                        "count": 2
                      },
                      {
                        "bin_start": 4.2,
                        "bin_end": 4.6,
                        "count": 0
                      },
                      {
                        "bin_start": 4.6,
                        "bin_end": 5,
                        "count": 0
                      },
                      {
                        "bin_start": 5,
                        "bin_end": 5.4,
                        "count": 1
                      },
                      {
                        "bin_start": 5.4,
                        "bin_end": 5.800000000000001,
                        "count": 0
                      },
                      {
                        "bin_start": 5.800000000000001,
                        "bin_end": 6.2,
                        "count": 0
                      },
                      {
                        "bin_start": 6.2,
                        "bin_end": 6.6,
                        "count": 0
                      },
                      {
                        "bin_start": 6.6,
                        "bin_end": 7,
                        "count": 1
                      }
                    ]
                  }
                },
                {
                  "name": "numbers_shown1",
                  "dtype": "int64",
                  "stats": {
                    "unique_count": 5,
                    "nan_count": 0,
                    "min": "1",
                    "max": "10",
                    "histogram": [
                      {
                        "bin_start": 1,
                        "bin_end": 1.9,
                        "count": 1
                      },
                      {
                        "bin_start": 1.9,
                        "bin_end": 2.8,
                        "count": 0
                      },
                      {
                        "bin_start": 2.8,
                        "bin_end": 3.7,
                        "count": 0
                      },
                      {
                        "bin_start": 3.7,
                        "bin_end": 4.6,
                        "count": 1
                      },
                      {
                        "bin_start": 4.6,
                        "bin_end": 5.5,
                        "count": 0
                      },
                      {
                        "bin_start": 5.5,
                        "bin_end": 6.4,
                        "count": 1
                      },
                      {
                        "bin_start": 6.4,
                        "bin_end": 7.3,
                        "count": 0
                      },
                      {
                        "bin_start": 7.3,
                        "bin_end": 8.2,
                        "count": 0
                      },
                      {
                        "bin_start": 8.2,
                        "bin_end": 9.1,
                        "count": 1
                      },
                      {
                        "bin_start": 9.1,
                        "bin_end": 10,
                        "count": 1
                      }
                    ]
                  }
                },
                {
                  "name": "numbers_shown2",
                  "dtype": "int64",
                  "stats": {
                    "unique_count": 4,
                    "nan_count": 0,
                    "min": "3",
                    "max": "7",
                    "histogram": [
                      {
                        "bin_start": 3,
                        "bin_end": 3.4,
                        "count": 1
                      },
                      {
                        "bin_start": 3.4,
                        "bin_end": 3.8,
                        "count": 0
                      },
                      {
                        "bin_start": 3.8,
                        "bin_end": 4.2,
                        "count": 2
                      },
                      {
                        "bin_start": 4.2,
                        "bin_end": 4.6,
                        "count": 0
                      },
                      {
                        "bin_start": 4.6,
                        "bin_end": 5,
                        "count": 0
                      },
                      {
                        "bin_start": 5,
                        "bin_end": 5.4,
                        "count": 1
                      },
                      {
                        "bin_start": 5.4,
                        "bin_end": 5.800000000000001,
                        "count": 0
                      },
                      {
                        "bin_start": 5.800000000000001,
                        "bin_end": 6.2,
                        "count": 0
                      },
                      {
                        "bin_start": 6.2,
                        "bin_end": 6.6,
                        "count": 0
                      },
                      {
                        "bin_start": 6.6,
                        "bin_end": 7,
                        "count": 1
                      }
                    ]
                  }
                },
                {
                  "name": "_deepnote_index_column",
                  "dtype": "int64"
                }
              ],
              "rows": [
                {
                  "trial_id": 1,
                  "type1": "clickedStim",
                  "click1": 16,
                  "click2": 9,
                  "click3": 5,
                  "click4": "nan",
                  "click5": "nan",
                  "click6": "nan",
                  "click7": "nan",
                  "click8": "nan",
                  "click9": "nan",
                  "type2": "rts",
                  "rt1": 1975,
                  "rt2": 1121,
                  "rt3": 1352,
                  "rt4": "nan",
                  "rt5": "nan",
                  "rt6": "nan",
                  "rt7": "nan",
                  "rt8": "nan",
                  "rt9": "nan",
                  "longest_span": 0,
                  "current_length": 2,
                  "correctness": 0,
                  "frequency_length1": 10,
                  "frequency_length2": 3,
                  "numbers_shown1": 10,
                  "numbers_shown2": 3,
                  "_deepnote_index_column": 0
                },
                {
                  "trial_id": 2,
                  "type1": "clickedStim",
                  "click1": 7,
                  "click2": 10,
                  "click3": 5,
                  "click4": "nan",
                  "click5": "nan",
                  "click6": "nan",
                  "click7": "nan",
                  "click8": "nan",
                  "click9": "nan",
                  "type2": "rts",
                  "rt1": 1986,
                  "rt2": 691,
                  "rt3": 1204,
                  "rt4": "nan",
                  "rt5": "nan",
                  "rt6": "nan",
                  "rt7": "nan",
                  "rt8": "nan",
                  "rt9": "nan",
                  "longest_span": 0,
                  "current_length": 2,
                  "correctness": 0,
                  "frequency_length1": 1,
                  "frequency_length2": 4,
                  "numbers_shown1": 1,
                  "numbers_shown2": 4,
                  "_deepnote_index_column": 1
                },
                {
                  "trial_id": 2,
                  "type1": "clickedStim",
                  "click1": 10,
                  "click2": 13,
                  "click3": 5,
                  "click4": "nan",
                  "click5": "nan",
                  "click6": "nan",
                  "click7": "nan",
                  "click8": "nan",
                  "click9": "nan",
                  "type2": "rts",
                  "rt1": 2409,
                  "rt2": 813,
                  "rt3": 830,
                  "rt4": "nan",
                  "rt5": "nan",
                  "rt6": "nan",
                  "rt7": "nan",
                  "rt8": "nan",
                  "rt9": "nan",
                  "longest_span": 0,
                  "current_length": 2,
                  "correctness": 0,
                  "frequency_length1": 4,
                  "frequency_length2": 7,
                  "numbers_shown1": 4,
                  "numbers_shown2": 7,
                  "_deepnote_index_column": 2
                },
                {
                  "trial_id": 2,
                  "type1": "clickedStim",
                  "click1": 13,
                  "click2": 12,
                  "click3": 10,
                  "click4": 6,
                  "click5": "nan",
                  "click6": "nan",
                  "click7": "nan",
                  "click8": "nan",
                  "click9": "nan",
                  "type2": "rts",
                  "rt1": 1832,
                  "rt2": 882,
                  "rt3": 953,
                  "rt4": 873,
                  "rt5": "nan",
                  "rt6": "nan",
                  "rt7": "nan",
                  "rt8": "nan",
                  "rt9": "nan",
                  "longest_span": 2,
                  "current_length": 3,
                  "correctness": 0,
                  "frequency_length1": 6,
                  "frequency_length2": 5,
                  "numbers_shown1": 6,
                  "numbers_shown2": 5,
                  "_deepnote_index_column": 3
                },
                {
                  "trial_id": 2,
                  "type1": "clickedStim",
                  "click1": 16,
                  "click2": 11,
                  "click3": 17,
                  "click4": 6,
                  "click5": "nan",
                  "click6": "nan",
                  "click7": "nan",
                  "click8": "nan",
                  "click9": "nan",
                  "type2": "rts",
                  "rt1": 1599,
                  "rt2": 917,
                  "rt3": 773,
                  "rt4": 978,
                  "rt5": "nan",
                  "rt6": "nan",
                  "rt7": "nan",
                  "rt8": "nan",
                  "rt9": "nan",
                  "longest_span": 2,
                  "current_length": 3,
                  "correctness": 0,
                  "frequency_length1": 9,
                  "frequency_length2": 4,
                  "numbers_shown1": 9,
                  "numbers_shown2": 4,
                  "_deepnote_index_column": 4
                }
              ]
            },
            "text/plain": "   trial_id        type1  click1  click2  click3  click4  click5  click6  \\\n0         1  clickedStim      16       9       5     NaN     NaN     NaN   \n1         2  clickedStim       7      10       5     NaN     NaN     NaN   \n2         2  clickedStim      10      13       5     NaN     NaN     NaN   \n3         2  clickedStim      13      12      10     6.0     NaN     NaN   \n4         2  clickedStim      16      11      17     6.0     NaN     NaN   \n\n   click7  click8  ...  rt7 rt8  rt9  longest_span  current_length  \\\n0     NaN     NaN  ...  NaN NaN  NaN             0               2   \n1     NaN     NaN  ...  NaN NaN  NaN             0               2   \n2     NaN     NaN  ...  NaN NaN  NaN             0               2   \n3     NaN     NaN  ...  NaN NaN  NaN             2               3   \n4     NaN     NaN  ...  NaN NaN  NaN             2               3   \n\n   correctness  frequency_length1  frequency_length2  numbers_shown1  \\\n0            0                 10                  3              10   \n1            0                  1                  4               1   \n2            0                  4                  7               4   \n3            0                  6                  5               6   \n4            0                  9                  4               9   \n\n   numbers_shown2  \n0               3  \n1               4  \n2               7  \n3               5  \n4               4  \n\n[5 rows x 28 columns]",
            "text/html": "<div>\n<style scoped>\n    .dataframe tbody tr th:only-of-type {\n        vertical-align: middle;\n    }\n\n    .dataframe tbody tr th {\n        vertical-align: top;\n    }\n\n    .dataframe thead th {\n        text-align: right;\n    }\n</style>\n<table border=\"1\" class=\"dataframe\">\n  <thead>\n    <tr style=\"text-align: right;\">\n      <th></th>\n      <th>trial_id</th>\n      <th>type1</th>\n      <th>click1</th>\n      <th>click2</th>\n      <th>click3</th>\n      <th>click4</th>\n      <th>click5</th>\n      <th>click6</th>\n      <th>click7</th>\n      <th>click8</th>\n      <th>...</th>\n      <th>rt7</th>\n      <th>rt8</th>\n      <th>rt9</th>\n      <th>longest_span</th>\n      <th>current_length</th>\n      <th>correctness</th>\n      <th>frequency_length1</th>\n      <th>frequency_length2</th>\n      <th>numbers_shown1</th>\n      <th>numbers_shown2</th>\n    </tr>\n  </thead>\n  <tbody>\n    <tr>\n      <th>0</th>\n      <td>1</td>\n      <td>clickedStim</td>\n      <td>16</td>\n      <td>9</td>\n      <td>5</td>\n      <td>NaN</td>\n      <td>NaN</td>\n      <td>NaN</td>\n      <td>NaN</td>\n      <td>NaN</td>\n      <td>...</td>\n      <td>NaN</td>\n      <td>NaN</td>\n      <td>NaN</td>\n      <td>0</td>\n      <td>2</td>\n      <td>0</td>\n      <td>10</td>\n      <td>3</td>\n      <td>10</td>\n      <td>3</td>\n    </tr>\n    <tr>\n      <th>1</th>\n      <td>2</td>\n      <td>clickedStim</td>\n      <td>7</td>\n      <td>10</td>\n      <td>5</td>\n      <td>NaN</td>\n      <td>NaN</td>\n      <td>NaN</td>\n      <td>NaN</td>\n      <td>NaN</td>\n      <td>...</td>\n      <td>NaN</td>\n      <td>NaN</td>\n      <td>NaN</td>\n      <td>0</td>\n      <td>2</td>\n      <td>0</td>\n      <td>1</td>\n      <td>4</td>\n      <td>1</td>\n      <td>4</td>\n    </tr>\n    <tr>\n      <th>2</th>\n      <td>2</td>\n      <td>clickedStim</td>\n      <td>10</td>\n      <td>13</td>\n      <td>5</td>\n      <td>NaN</td>\n      <td>NaN</td>\n      <td>NaN</td>\n      <td>NaN</td>\n      <td>NaN</td>\n      <td>...</td>\n      <td>NaN</td>\n      <td>NaN</td>\n      <td>NaN</td>\n      <td>0</td>\n      <td>2</td>\n      <td>0</td>\n      <td>4</td>\n      <td>7</td>\n      <td>4</td>\n      <td>7</td>\n    </tr>\n    <tr>\n      <th>3</th>\n      <td>2</td>\n      <td>clickedStim</td>\n      <td>13</td>\n      <td>12</td>\n      <td>10</td>\n      <td>6.0</td>\n      <td>NaN</td>\n      <td>NaN</td>\n      <td>NaN</td>\n      <td>NaN</td>\n      <td>...</td>\n      <td>NaN</td>\n      <td>NaN</td>\n      <td>NaN</td>\n      <td>2</td>\n      <td>3</td>\n      <td>0</td>\n      <td>6</td>\n      <td>5</td>\n      <td>6</td>\n      <td>5</td>\n    </tr>\n    <tr>\n      <th>4</th>\n      <td>2</td>\n      <td>clickedStim</td>\n      <td>16</td>\n      <td>11</td>\n      <td>17</td>\n      <td>6.0</td>\n      <td>NaN</td>\n      <td>NaN</td>\n      <td>NaN</td>\n      <td>NaN</td>\n      <td>...</td>\n      <td>NaN</td>\n      <td>NaN</td>\n      <td>NaN</td>\n      <td>2</td>\n      <td>3</td>\n      <td>0</td>\n      <td>9</td>\n      <td>4</td>\n      <td>9</td>\n      <td>4</td>\n    </tr>\n  </tbody>\n</table>\n<p>5 rows × 28 columns</p>\n</div>"
          },
          "metadata": {}
        }
      ],
      "outputs_reference": null,
      "execution_count": 25,
      "block_group": "16253cdf8c6b4b00b4eb808330180d60",
      "content_dependencies": null
    },
    {
      "cell_type": "markdown",
      "source": "### View n-Back DataFrames",
      "metadata": {
        "deepnote_app_block_visible": false,
        "cell_id": "1db95e3b902649ac99e0431ce323b1b0",
        "deepnote_cell_type": "markdown"
      },
      "block_group": "4ca0cfd7a7b94988aabcd1ea46ddce44"
    },
    {
      "cell_type": "code",
      "source": "n_back_one.head()",
      "metadata": {
        "source_hash": "451d2301",
        "execution_start": 1731627228554,
        "execution_millis": 1,
        "execution_context_id": "8132cf72-65a5-4f53-bde2-b669605264d8",
        "deepnote_app_block_visible": false,
        "cell_id": "50bcbe98b8b54a5aa08176cee4ac3aa3",
        "deepnote_cell_type": "code"
      },
      "outputs": [
        {
          "output_type": "execute_result",
          "execution_count": 26,
          "data": {
            "application/vnd.deepnote.dataframe.v3+json": {
              "column_count": 12,
              "row_count": 5,
              "columns": [
                {
                  "name": "Block Number (the number of the block, there are 3 blocks)",
                  "dtype": "int64",
                  "stats": {
                    "unique_count": 1,
                    "nan_count": 0,
                    "min": "1",
                    "max": "1",
                    "histogram": [
                      {
                        "bin_start": 0.5,
                        "bin_end": 0.6,
                        "count": 0
                      },
                      {
                        "bin_start": 0.6,
                        "bin_end": 0.7,
                        "count": 0
                      },
                      {
                        "bin_start": 0.7,
                        "bin_end": 0.8,
                        "count": 0
                      },
                      {
                        "bin_start": 0.8,
                        "bin_end": 0.9,
                        "count": 0
                      },
                      {
                        "bin_start": 0.9,
                        "bin_end": 1,
                        "count": 0
                      },
                      {
                        "bin_start": 1,
                        "bin_end": 1.1,
                        "count": 5
                      },
                      {
                        "bin_start": 1.1,
                        "bin_end": 1.2000000000000002,
                        "count": 0
                      },
                      {
                        "bin_start": 1.2000000000000002,
                        "bin_end": 1.3,
                        "count": 0
                      },
                      {
                        "bin_start": 1.3,
                        "bin_end": 1.4,
                        "count": 0
                      },
                      {
                        "bin_start": 1.4,
                        "bin_end": 1.5,
                        "count": 0
                      }
                    ]
                  }
                },
                {
                  "name": "Trial Number (the number of the trial)",
                  "dtype": "int64",
                  "stats": {
                    "unique_count": 5,
                    "nan_count": 0,
                    "min": "1",
                    "max": "5",
                    "histogram": [
                      {
                        "bin_start": 1,
                        "bin_end": 1.4,
                        "count": 1
                      },
                      {
                        "bin_start": 1.4,
                        "bin_end": 1.8,
                        "count": 0
                      },
                      {
                        "bin_start": 1.8,
                        "bin_end": 2.2,
                        "count": 1
                      },
                      {
                        "bin_start": 2.2,
                        "bin_end": 2.6,
                        "count": 0
                      },
                      {
                        "bin_start": 2.6,
                        "bin_end": 3,
                        "count": 0
                      },
                      {
                        "bin_start": 3,
                        "bin_end": 3.4000000000000004,
                        "count": 1
                      },
                      {
                        "bin_start": 3.4000000000000004,
                        "bin_end": 3.8000000000000003,
                        "count": 0
                      },
                      {
                        "bin_start": 3.8000000000000003,
                        "bin_end": 4.2,
                        "count": 1
                      },
                      {
                        "bin_start": 4.2,
                        "bin_end": 4.6,
                        "count": 0
                      },
                      {
                        "bin_start": 4.6,
                        "bin_end": 5,
                        "count": 1
                      }
                    ]
                  }
                },
                {
                  "name": "Type of Trial (1 = matching stimulus, 0 = non-matching stimulus)",
                  "dtype": "int64",
                  "stats": {
                    "unique_count": 2,
                    "nan_count": 0,
                    "min": "0",
                    "max": "1",
                    "histogram": [
                      {
                        "bin_start": 0,
                        "bin_end": 0.1,
                        "count": 3
                      },
                      {
                        "bin_start": 0.1,
                        "bin_end": 0.2,
                        "count": 0
                      },
                      {
                        "bin_start": 0.2,
                        "bin_end": 0.30000000000000004,
                        "count": 0
                      },
                      {
                        "bin_start": 0.30000000000000004,
                        "bin_end": 0.4,
                        "count": 0
                      },
                      {
                        "bin_start": 0.4,
                        "bin_end": 0.5,
                        "count": 0
                      },
                      {
                        "bin_start": 0.5,
                        "bin_end": 0.6000000000000001,
                        "count": 0
                      },
                      {
                        "bin_start": 0.6000000000000001,
                        "bin_end": 0.7000000000000001,
                        "count": 0
                      },
                      {
                        "bin_start": 0.7000000000000001,
                        "bin_end": 0.8,
                        "count": 0
                      },
                      {
                        "bin_start": 0.8,
                        "bin_end": 0.9,
                        "count": 0
                      },
                      {
                        "bin_start": 0.9,
                        "bin_end": 1,
                        "count": 2
                      }
                    ]
                  }
                },
                {
                  "name": "Score (1 = correct, 0 = incorrect)",
                  "dtype": "int64",
                  "stats": {
                    "unique_count": 2,
                    "nan_count": 0,
                    "min": "0",
                    "max": "1",
                    "histogram": [
                      {
                        "bin_start": 0,
                        "bin_end": 0.1,
                        "count": 2
                      },
                      {
                        "bin_start": 0.1,
                        "bin_end": 0.2,
                        "count": 0
                      },
                      {
                        "bin_start": 0.2,
                        "bin_end": 0.30000000000000004,
                        "count": 0
                      },
                      {
                        "bin_start": 0.30000000000000004,
                        "bin_end": 0.4,
                        "count": 0
                      },
                      {
                        "bin_start": 0.4,
                        "bin_end": 0.5,
                        "count": 0
                      },
                      {
                        "bin_start": 0.5,
                        "bin_end": 0.6000000000000001,
                        "count": 0
                      },
                      {
                        "bin_start": 0.6000000000000001,
                        "bin_end": 0.7000000000000001,
                        "count": 0
                      },
                      {
                        "bin_start": 0.7000000000000001,
                        "bin_end": 0.8,
                        "count": 0
                      },
                      {
                        "bin_start": 0.8,
                        "bin_end": 0.9,
                        "count": 0
                      },
                      {
                        "bin_start": 0.9,
                        "bin_end": 1,
                        "count": 3
                      }
                    ]
                  }
                },
                {
                  "name": "Match (1 = participant matched correctly, 0 = participant did not match; only meaningful on match trials)",
                  "dtype": "int64",
                  "stats": {
                    "unique_count": 1,
                    "nan_count": 0,
                    "min": "0",
                    "max": "0",
                    "histogram": [
                      {
                        "bin_start": -0.5,
                        "bin_end": -0.4,
                        "count": 0
                      },
                      {
                        "bin_start": -0.4,
                        "bin_end": -0.3,
                        "count": 0
                      },
                      {
                        "bin_start": -0.3,
                        "bin_end": -0.19999999999999996,
                        "count": 0
                      },
                      {
                        "bin_start": -0.19999999999999996,
                        "bin_end": -0.09999999999999998,
                        "count": 0
                      },
                      {
                        "bin_start": -0.09999999999999998,
                        "bin_end": 0,
                        "count": 0
                      },
                      {
                        "bin_start": 0,
                        "bin_end": 0.10000000000000009,
                        "count": 5
                      },
                      {
                        "bin_start": 0.10000000000000009,
                        "bin_end": 0.20000000000000007,
                        "count": 0
                      },
                      {
                        "bin_start": 0.20000000000000007,
                        "bin_end": 0.30000000000000004,
                        "count": 0
                      },
                      {
                        "bin_start": 0.30000000000000004,
                        "bin_end": 0.4,
                        "count": 0
                      },
                      {
                        "bin_start": 0.4,
                        "bin_end": 0.5,
                        "count": 0
                      }
                    ]
                  }
                },
                {
                  "name": "Miss (1 = participant missed, 0 = participant did not miss; only meaningful on non-match trials)",
                  "dtype": "int64",
                  "stats": {
                    "unique_count": 2,
                    "nan_count": 0,
                    "min": "0",
                    "max": "1",
                    "histogram": [
                      {
                        "bin_start": 0,
                        "bin_end": 0.1,
                        "count": 3
                      },
                      {
                        "bin_start": 0.1,
                        "bin_end": 0.2,
                        "count": 0
                      },
                      {
                        "bin_start": 0.2,
                        "bin_end": 0.30000000000000004,
                        "count": 0
                      },
                      {
                        "bin_start": 0.30000000000000004,
                        "bin_end": 0.4,
                        "count": 0
                      },
                      {
                        "bin_start": 0.4,
                        "bin_end": 0.5,
                        "count": 0
                      },
                      {
                        "bin_start": 0.5,
                        "bin_end": 0.6000000000000001,
                        "count": 0
                      },
                      {
                        "bin_start": 0.6000000000000001,
                        "bin_end": 0.7000000000000001,
                        "count": 0
                      },
                      {
                        "bin_start": 0.7000000000000001,
                        "bin_end": 0.8,
                        "count": 0
                      },
                      {
                        "bin_start": 0.8,
                        "bin_end": 0.9,
                        "count": 0
                      },
                      {
                        "bin_start": 0.9,
                        "bin_end": 1,
                        "count": 2
                      }
                    ]
                  }
                },
                {
                  "name": "False Alarm (1 = participant wrongly pressed button, 0 = participant correctly pressed button; only meaningful on non-match trials)",
                  "dtype": "int64",
                  "stats": {
                    "unique_count": 1,
                    "nan_count": 0,
                    "min": "0",
                    "max": "0",
                    "histogram": [
                      {
                        "bin_start": -0.5,
                        "bin_end": -0.4,
                        "count": 0
                      },
                      {
                        "bin_start": -0.4,
                        "bin_end": -0.3,
                        "count": 0
                      },
                      {
                        "bin_start": -0.3,
                        "bin_end": -0.19999999999999996,
                        "count": 0
                      },
                      {
                        "bin_start": -0.19999999999999996,
                        "bin_end": -0.09999999999999998,
                        "count": 0
                      },
                      {
                        "bin_start": -0.09999999999999998,
                        "bin_end": 0,
                        "count": 0
                      },
                      {
                        "bin_start": 0,
                        "bin_end": 0.10000000000000009,
                        "count": 5
                      },
                      {
                        "bin_start": 0.10000000000000009,
                        "bin_end": 0.20000000000000007,
                        "count": 0
                      },
                      {
                        "bin_start": 0.20000000000000007,
                        "bin_end": 0.30000000000000004,
                        "count": 0
                      },
                      {
                        "bin_start": 0.30000000000000004,
                        "bin_end": 0.4,
                        "count": 0
                      },
                      {
                        "bin_start": 0.4,
                        "bin_end": 0.5,
                        "count": 0
                      }
                    ]
                  }
                },
                {
                  "name": "Reaction Time",
                  "dtype": "int64",
                  "stats": {
                    "unique_count": 1,
                    "nan_count": 0,
                    "min": "3000",
                    "max": "3000",
                    "histogram": [
                      {
                        "bin_start": 2999.5,
                        "bin_end": 2999.6,
                        "count": 0
                      },
                      {
                        "bin_start": 2999.6,
                        "bin_end": 2999.7,
                        "count": 0
                      },
                      {
                        "bin_start": 2999.7,
                        "bin_end": 2999.8,
                        "count": 0
                      },
                      {
                        "bin_start": 2999.8,
                        "bin_end": 2999.9,
                        "count": 0
                      },
                      {
                        "bin_start": 2999.9,
                        "bin_end": 3000,
                        "count": 0
                      },
                      {
                        "bin_start": 3000,
                        "bin_end": 3000.1,
                        "count": 5
                      },
                      {
                        "bin_start": 3000.1,
                        "bin_end": 3000.2,
                        "count": 0
                      },
                      {
                        "bin_start": 3000.2,
                        "bin_end": 3000.3,
                        "count": 0
                      },
                      {
                        "bin_start": 3000.3,
                        "bin_end": 3000.4,
                        "count": 0
                      },
                      {
                        "bin_start": 3000.4,
                        "bin_end": 3000.5,
                        "count": 0
                      }
                    ]
                  }
                },
                {
                  "name": "Memory (variable used internally)",
                  "dtype": "int64",
                  "stats": {
                    "unique_count": 3,
                    "nan_count": 0,
                    "min": "1",
                    "max": "3",
                    "histogram": [
                      {
                        "bin_start": 1,
                        "bin_end": 1.2,
                        "count": 2
                      },
                      {
                        "bin_start": 1.2,
                        "bin_end": 1.4,
                        "count": 0
                      },
                      {
                        "bin_start": 1.4,
                        "bin_end": 1.6,
                        "count": 0
                      },
                      {
                        "bin_start": 1.6,
                        "bin_end": 1.8,
                        "count": 0
                      },
                      {
                        "bin_start": 1.8,
                        "bin_end": 2,
                        "count": 0
                      },
                      {
                        "bin_start": 2,
                        "bin_end": 2.2,
                        "count": 1
                      },
                      {
                        "bin_start": 2.2,
                        "bin_end": 2.4000000000000004,
                        "count": 0
                      },
                      {
                        "bin_start": 2.4000000000000004,
                        "bin_end": 2.6,
                        "count": 0
                      },
                      {
                        "bin_start": 2.6,
                        "bin_end": 2.8,
                        "count": 0
                      },
                      {
                        "bin_start": 2.8,
                        "bin_end": 3,
                        "count": 2
                      }
                    ]
                  }
                },
                {
                  "name": "Current Letter (a number between 1 and 15, representing letter A, etc.)",
                  "dtype": "int64",
                  "stats": {
                    "unique_count": 3,
                    "nan_count": 0,
                    "min": "1",
                    "max": "7",
                    "histogram": [
                      {
                        "bin_start": 1,
                        "bin_end": 1.6,
                        "count": 2
                      },
                      {
                        "bin_start": 1.6,
                        "bin_end": 2.2,
                        "count": 0
                      },
                      {
                        "bin_start": 2.2,
                        "bin_end": 2.8,
                        "count": 0
                      },
                      {
                        "bin_start": 2.8,
                        "bin_end": 3.4,
                        "count": 1
                      },
                      {
                        "bin_start": 3.4,
                        "bin_end": 4,
                        "count": 0
                      },
                      {
                        "bin_start": 4,
                        "bin_end": 4.6,
                        "count": 0
                      },
                      {
                        "bin_start": 4.6,
                        "bin_end": 5.2,
                        "count": 0
                      },
                      {
                        "bin_start": 5.2,
                        "bin_end": 5.8,
                        "count": 0
                      },
                      {
                        "bin_start": 5.8,
                        "bin_end": 6.3999999999999995,
                        "count": 0
                      },
                      {
                        "bin_start": 6.3999999999999995,
                        "bin_end": 7,
                        "count": 2
                      }
                    ]
                  }
                },
                {
                  "name": "nback1",
                  "dtype": "int64",
                  "stats": {
                    "unique_count": 3,
                    "nan_count": 0,
                    "min": "1",
                    "max": "7",
                    "histogram": [
                      {
                        "bin_start": 1,
                        "bin_end": 1.6,
                        "count": 2
                      },
                      {
                        "bin_start": 1.6,
                        "bin_end": 2.2,
                        "count": 0
                      },
                      {
                        "bin_start": 2.2,
                        "bin_end": 2.8,
                        "count": 0
                      },
                      {
                        "bin_start": 2.8,
                        "bin_end": 3.4,
                        "count": 1
                      },
                      {
                        "bin_start": 3.4,
                        "bin_end": 4,
                        "count": 0
                      },
                      {
                        "bin_start": 4,
                        "bin_end": 4.6,
                        "count": 0
                      },
                      {
                        "bin_start": 4.6,
                        "bin_end": 5.2,
                        "count": 0
                      },
                      {
                        "bin_start": 5.2,
                        "bin_end": 5.8,
                        "count": 0
                      },
                      {
                        "bin_start": 5.8,
                        "bin_end": 6.3999999999999995,
                        "count": 0
                      },
                      {
                        "bin_start": 6.3999999999999995,
                        "bin_end": 7,
                        "count": 2
                      }
                    ]
                  }
                },
                {
                  "name": "nback2",
                  "dtype": "int64",
                  "stats": {
                    "unique_count": 3,
                    "nan_count": 0,
                    "min": "0",
                    "max": "7",
                    "histogram": [
                      {
                        "bin_start": 0,
                        "bin_end": 0.7,
                        "count": 1
                      },
                      {
                        "bin_start": 0.7,
                        "bin_end": 1.4,
                        "count": 2
                      },
                      {
                        "bin_start": 1.4,
                        "bin_end": 2.0999999999999996,
                        "count": 0
                      },
                      {
                        "bin_start": 2.0999999999999996,
                        "bin_end": 2.8,
                        "count": 0
                      },
                      {
                        "bin_start": 2.8,
                        "bin_end": 3.5,
                        "count": 0
                      },
                      {
                        "bin_start": 3.5,
                        "bin_end": 4.199999999999999,
                        "count": 0
                      },
                      {
                        "bin_start": 4.199999999999999,
                        "bin_end": 4.8999999999999995,
                        "count": 0
                      },
                      {
                        "bin_start": 4.8999999999999995,
                        "bin_end": 5.6,
                        "count": 0
                      },
                      {
                        "bin_start": 5.6,
                        "bin_end": 6.3,
                        "count": 0
                      },
                      {
                        "bin_start": 6.3,
                        "bin_end": 7,
                        "count": 2
                      }
                    ]
                  }
                },
                {
                  "name": "_deepnote_index_column",
                  "dtype": "int64"
                }
              ],
              "rows": [
                {
                  "Block Number (the number of the block, there are 3 blocks)": 1,
                  "Trial Number (the number of the trial)": 1,
                  "Type of Trial (1 = matching stimulus, 0 = non-matching stimulus)": 0,
                  "Score (1 = correct, 0 = incorrect)": 1,
                  "Match (1 = participant matched correctly, 0 = participant did not match; only meaningful on match trials)": 0,
                  "Miss (1 = participant missed, 0 = participant did not miss; only meaningful on non-match trials)": 0,
                  "False Alarm (1 = participant wrongly pressed button, 0 = participant correctly pressed button; only meaningful on non-match trials)": 0,
                  "Reaction Time": 3000,
                  "Memory (variable used internally)": 2,
                  "Current Letter (a number between 1 and 15, representing letter A, etc.)": 1,
                  "nback1": 1,
                  "nback2": 0,
                  "_deepnote_index_column": 0
                },
                {
                  "Block Number (the number of the block, there are 3 blocks)": 1,
                  "Trial Number (the number of the trial)": 2,
                  "Type of Trial (1 = matching stimulus, 0 = non-matching stimulus)": 0,
                  "Score (1 = correct, 0 = incorrect)": 1,
                  "Match (1 = participant matched correctly, 0 = participant did not match; only meaningful on match trials)": 0,
                  "Miss (1 = participant missed, 0 = participant did not miss; only meaningful on non-match trials)": 0,
                  "False Alarm (1 = participant wrongly pressed button, 0 = participant correctly pressed button; only meaningful on non-match trials)": 0,
                  "Reaction Time": 3000,
                  "Memory (variable used internally)": 3,
                  "Current Letter (a number between 1 and 15, representing letter A, etc.)": 7,
                  "nback1": 7,
                  "nback2": 1,
                  "_deepnote_index_column": 1
                },
                {
                  "Block Number (the number of the block, there are 3 blocks)": 1,
                  "Trial Number (the number of the trial)": 3,
                  "Type of Trial (1 = matching stimulus, 0 = non-matching stimulus)": 1,
                  "Score (1 = correct, 0 = incorrect)": 0,
                  "Match (1 = participant matched correctly, 0 = participant did not match; only meaningful on match trials)": 0,
                  "Miss (1 = participant missed, 0 = participant did not miss; only meaningful on non-match trials)": 1,
                  "False Alarm (1 = participant wrongly pressed button, 0 = participant correctly pressed button; only meaningful on non-match trials)": 0,
                  "Reaction Time": 3000,
                  "Memory (variable used internally)": 1,
                  "Current Letter (a number between 1 and 15, representing letter A, etc.)": 1,
                  "nback1": 1,
                  "nback2": 7,
                  "_deepnote_index_column": 2
                },
                {
                  "Block Number (the number of the block, there are 3 blocks)": 1,
                  "Trial Number (the number of the trial)": 4,
                  "Type of Trial (1 = matching stimulus, 0 = non-matching stimulus)": 1,
                  "Score (1 = correct, 0 = incorrect)": 0,
                  "Match (1 = participant matched correctly, 0 = participant did not match; only meaningful on match trials)": 0,
                  "Miss (1 = participant missed, 0 = participant did not miss; only meaningful on non-match trials)": 1,
                  "False Alarm (1 = participant wrongly pressed button, 0 = participant correctly pressed button; only meaningful on non-match trials)": 0,
                  "Reaction Time": 3000,
                  "Memory (variable used internally)": 1,
                  "Current Letter (a number between 1 and 15, representing letter A, etc.)": 7,
                  "nback1": 7,
                  "nback2": 1,
                  "_deepnote_index_column": 3
                },
                {
                  "Block Number (the number of the block, there are 3 blocks)": 1,
                  "Trial Number (the number of the trial)": 5,
                  "Type of Trial (1 = matching stimulus, 0 = non-matching stimulus)": 0,
                  "Score (1 = correct, 0 = incorrect)": 1,
                  "Match (1 = participant matched correctly, 0 = participant did not match; only meaningful on match trials)": 0,
                  "Miss (1 = participant missed, 0 = participant did not miss; only meaningful on non-match trials)": 0,
                  "False Alarm (1 = participant wrongly pressed button, 0 = participant correctly pressed button; only meaningful on non-match trials)": 0,
                  "Reaction Time": 3000,
                  "Memory (variable used internally)": 3,
                  "Current Letter (a number between 1 and 15, representing letter A, etc.)": 3,
                  "nback1": 3,
                  "nback2": 7,
                  "_deepnote_index_column": 4
                }
              ]
            },
            "text/plain": "   Block Number (the number of the block, there are 3 blocks)  \\\n0                                                  1            \n1                                                  1            \n2                                                  1            \n3                                                  1            \n4                                                  1            \n\n   Trial Number (the number of the trial)  \\\n0                                       1   \n1                                       2   \n2                                       3   \n3                                       4   \n4                                       5   \n\n   Type of Trial (1 = matching stimulus, 0 = non-matching stimulus)  \\\n0                                                  0                  \n1                                                  0                  \n2                                                  1                  \n3                                                  1                  \n4                                                  0                  \n\n   Score (1 = correct, 0 = incorrect)  \\\n0                                   1   \n1                                   1   \n2                                   0   \n3                                   0   \n4                                   1   \n\n   Match (1 = participant matched correctly, 0 = participant did not match; only meaningful on match trials)  \\\n0                                                  0                                                           \n1                                                  0                                                           \n2                                                  0                                                           \n3                                                  0                                                           \n4                                                  0                                                           \n\n   Miss (1 = participant missed, 0 = participant did not miss; only meaningful on non-match trials)  \\\n0                                                  0                                                  \n1                                                  0                                                  \n2                                                  1                                                  \n3                                                  1                                                  \n4                                                  0                                                  \n\n   False Alarm (1 = participant wrongly pressed button, 0 = participant correctly pressed button; only meaningful on non-match trials)  \\\n0                                                  0                                                                                     \n1                                                  0                                                                                     \n2                                                  0                                                                                     \n3                                                  0                                                                                     \n4                                                  0                                                                                     \n\n   Reaction Time  Memory (variable used internally)  \\\n0           3000                                  2   \n1           3000                                  3   \n2           3000                                  1   \n3           3000                                  1   \n4           3000                                  3   \n\n   Current Letter (a number between 1 and 15, representing letter A, etc.)  \\\n0                                                  1                         \n1                                                  7                         \n2                                                  1                         \n3                                                  7                         \n4                                                  3                         \n\n   nback1  nback2  \n0       1       0  \n1       7       1  \n2       1       7  \n3       7       1  \n4       3       7  ",
            "text/html": "<div>\n<style scoped>\n    .dataframe tbody tr th:only-of-type {\n        vertical-align: middle;\n    }\n\n    .dataframe tbody tr th {\n        vertical-align: top;\n    }\n\n    .dataframe thead th {\n        text-align: right;\n    }\n</style>\n<table border=\"1\" class=\"dataframe\">\n  <thead>\n    <tr style=\"text-align: right;\">\n      <th></th>\n      <th>Block Number (the number of the block, there are 3 blocks)</th>\n      <th>Trial Number (the number of the trial)</th>\n      <th>Type of Trial (1 = matching stimulus, 0 = non-matching stimulus)</th>\n      <th>Score (1 = correct, 0 = incorrect)</th>\n      <th>Match (1 = participant matched correctly, 0 = participant did not match; only meaningful on match trials)</th>\n      <th>Miss (1 = participant missed, 0 = participant did not miss; only meaningful on non-match trials)</th>\n      <th>False Alarm (1 = participant wrongly pressed button, 0 = participant correctly pressed button; only meaningful on non-match trials)</th>\n      <th>Reaction Time</th>\n      <th>Memory (variable used internally)</th>\n      <th>Current Letter (a number between 1 and 15, representing letter A, etc.)</th>\n      <th>nback1</th>\n      <th>nback2</th>\n    </tr>\n  </thead>\n  <tbody>\n    <tr>\n      <th>0</th>\n      <td>1</td>\n      <td>1</td>\n      <td>0</td>\n      <td>1</td>\n      <td>0</td>\n      <td>0</td>\n      <td>0</td>\n      <td>3000</td>\n      <td>2</td>\n      <td>1</td>\n      <td>1</td>\n      <td>0</td>\n    </tr>\n    <tr>\n      <th>1</th>\n      <td>1</td>\n      <td>2</td>\n      <td>0</td>\n      <td>1</td>\n      <td>0</td>\n      <td>0</td>\n      <td>0</td>\n      <td>3000</td>\n      <td>3</td>\n      <td>7</td>\n      <td>7</td>\n      <td>1</td>\n    </tr>\n    <tr>\n      <th>2</th>\n      <td>1</td>\n      <td>3</td>\n      <td>1</td>\n      <td>0</td>\n      <td>0</td>\n      <td>1</td>\n      <td>0</td>\n      <td>3000</td>\n      <td>1</td>\n      <td>1</td>\n      <td>1</td>\n      <td>7</td>\n    </tr>\n    <tr>\n      <th>3</th>\n      <td>1</td>\n      <td>4</td>\n      <td>1</td>\n      <td>0</td>\n      <td>0</td>\n      <td>1</td>\n      <td>0</td>\n      <td>3000</td>\n      <td>1</td>\n      <td>7</td>\n      <td>7</td>\n      <td>1</td>\n    </tr>\n    <tr>\n      <th>4</th>\n      <td>1</td>\n      <td>5</td>\n      <td>0</td>\n      <td>1</td>\n      <td>0</td>\n      <td>0</td>\n      <td>0</td>\n      <td>3000</td>\n      <td>3</td>\n      <td>3</td>\n      <td>3</td>\n      <td>7</td>\n    </tr>\n  </tbody>\n</table>\n</div>"
          },
          "metadata": {}
        }
      ],
      "outputs_reference": null,
      "execution_count": 26,
      "block_group": "a4962f8da75c454d94c6552511fd0702",
      "content_dependencies": null
    },
    {
      "cell_type": "code",
      "source": "n_back_two.head()",
      "metadata": {
        "source_hash": "58e206c8",
        "execution_start": 1731627228622,
        "execution_millis": 1,
        "execution_context_id": "8132cf72-65a5-4f53-bde2-b669605264d8",
        "deepnote_app_block_visible": false,
        "cell_id": "d9d6797a96064f8c9ad627b96077548a",
        "deepnote_cell_type": "code"
      },
      "outputs": [
        {
          "output_type": "execute_result",
          "execution_count": 27,
          "data": {
            "application/vnd.deepnote.dataframe.v3+json": {
              "column_count": 12,
              "row_count": 5,
              "columns": [
                {
                  "name": "Block Number (the number of the block, there are 3 blocks)",
                  "dtype": "int64",
                  "stats": {
                    "unique_count": 1,
                    "nan_count": 0,
                    "min": "1",
                    "max": "1",
                    "histogram": [
                      {
                        "bin_start": 0.5,
                        "bin_end": 0.6,
                        "count": 0
                      },
                      {
                        "bin_start": 0.6,
                        "bin_end": 0.7,
                        "count": 0
                      },
                      {
                        "bin_start": 0.7,
                        "bin_end": 0.8,
                        "count": 0
                      },
                      {
                        "bin_start": 0.8,
                        "bin_end": 0.9,
                        "count": 0
                      },
                      {
                        "bin_start": 0.9,
                        "bin_end": 1,
                        "count": 0
                      },
                      {
                        "bin_start": 1,
                        "bin_end": 1.1,
                        "count": 5
                      },
                      {
                        "bin_start": 1.1,
                        "bin_end": 1.2000000000000002,
                        "count": 0
                      },
                      {
                        "bin_start": 1.2000000000000002,
                        "bin_end": 1.3,
                        "count": 0
                      },
                      {
                        "bin_start": 1.3,
                        "bin_end": 1.4,
                        "count": 0
                      },
                      {
                        "bin_start": 1.4,
                        "bin_end": 1.5,
                        "count": 0
                      }
                    ]
                  }
                },
                {
                  "name": "Trial Number (the number of the trial)",
                  "dtype": "int64",
                  "stats": {
                    "unique_count": 5,
                    "nan_count": 0,
                    "min": "1",
                    "max": "5",
                    "histogram": [
                      {
                        "bin_start": 1,
                        "bin_end": 1.4,
                        "count": 1
                      },
                      {
                        "bin_start": 1.4,
                        "bin_end": 1.8,
                        "count": 0
                      },
                      {
                        "bin_start": 1.8,
                        "bin_end": 2.2,
                        "count": 1
                      },
                      {
                        "bin_start": 2.2,
                        "bin_end": 2.6,
                        "count": 0
                      },
                      {
                        "bin_start": 2.6,
                        "bin_end": 3,
                        "count": 0
                      },
                      {
                        "bin_start": 3,
                        "bin_end": 3.4000000000000004,
                        "count": 1
                      },
                      {
                        "bin_start": 3.4000000000000004,
                        "bin_end": 3.8000000000000003,
                        "count": 0
                      },
                      {
                        "bin_start": 3.8000000000000003,
                        "bin_end": 4.2,
                        "count": 1
                      },
                      {
                        "bin_start": 4.2,
                        "bin_end": 4.6,
                        "count": 0
                      },
                      {
                        "bin_start": 4.6,
                        "bin_end": 5,
                        "count": 1
                      }
                    ]
                  }
                },
                {
                  "name": "Type of Trial (1 = matching stimulus, 0 = non-matching stimulus)",
                  "dtype": "int64",
                  "stats": {
                    "unique_count": 2,
                    "nan_count": 0,
                    "min": "0",
                    "max": "1",
                    "histogram": [
                      {
                        "bin_start": 0,
                        "bin_end": 0.1,
                        "count": 4
                      },
                      {
                        "bin_start": 0.1,
                        "bin_end": 0.2,
                        "count": 0
                      },
                      {
                        "bin_start": 0.2,
                        "bin_end": 0.30000000000000004,
                        "count": 0
                      },
                      {
                        "bin_start": 0.30000000000000004,
                        "bin_end": 0.4,
                        "count": 0
                      },
                      {
                        "bin_start": 0.4,
                        "bin_end": 0.5,
                        "count": 0
                      },
                      {
                        "bin_start": 0.5,
                        "bin_end": 0.6000000000000001,
                        "count": 0
                      },
                      {
                        "bin_start": 0.6000000000000001,
                        "bin_end": 0.7000000000000001,
                        "count": 0
                      },
                      {
                        "bin_start": 0.7000000000000001,
                        "bin_end": 0.8,
                        "count": 0
                      },
                      {
                        "bin_start": 0.8,
                        "bin_end": 0.9,
                        "count": 0
                      },
                      {
                        "bin_start": 0.9,
                        "bin_end": 1,
                        "count": 1
                      }
                    ]
                  }
                },
                {
                  "name": "Score (1 = correct, 0 = incorrect)",
                  "dtype": "int64",
                  "stats": {
                    "unique_count": 1,
                    "nan_count": 0,
                    "min": "1",
                    "max": "1",
                    "histogram": [
                      {
                        "bin_start": 0.5,
                        "bin_end": 0.6,
                        "count": 0
                      },
                      {
                        "bin_start": 0.6,
                        "bin_end": 0.7,
                        "count": 0
                      },
                      {
                        "bin_start": 0.7,
                        "bin_end": 0.8,
                        "count": 0
                      },
                      {
                        "bin_start": 0.8,
                        "bin_end": 0.9,
                        "count": 0
                      },
                      {
                        "bin_start": 0.9,
                        "bin_end": 1,
                        "count": 0
                      },
                      {
                        "bin_start": 1,
                        "bin_end": 1.1,
                        "count": 5
                      },
                      {
                        "bin_start": 1.1,
                        "bin_end": 1.2000000000000002,
                        "count": 0
                      },
                      {
                        "bin_start": 1.2000000000000002,
                        "bin_end": 1.3,
                        "count": 0
                      },
                      {
                        "bin_start": 1.3,
                        "bin_end": 1.4,
                        "count": 0
                      },
                      {
                        "bin_start": 1.4,
                        "bin_end": 1.5,
                        "count": 0
                      }
                    ]
                  }
                },
                {
                  "name": "Match (1 = participant matched correctly, 0 = participant did not match; only meaningful on match trials)",
                  "dtype": "int64",
                  "stats": {
                    "unique_count": 2,
                    "nan_count": 0,
                    "min": "0",
                    "max": "1",
                    "histogram": [
                      {
                        "bin_start": 0,
                        "bin_end": 0.1,
                        "count": 4
                      },
                      {
                        "bin_start": 0.1,
                        "bin_end": 0.2,
                        "count": 0
                      },
                      {
                        "bin_start": 0.2,
                        "bin_end": 0.30000000000000004,
                        "count": 0
                      },
                      {
                        "bin_start": 0.30000000000000004,
                        "bin_end": 0.4,
                        "count": 0
                      },
                      {
                        "bin_start": 0.4,
                        "bin_end": 0.5,
                        "count": 0
                      },
                      {
                        "bin_start": 0.5,
                        "bin_end": 0.6000000000000001,
                        "count": 0
                      },
                      {
                        "bin_start": 0.6000000000000001,
                        "bin_end": 0.7000000000000001,
                        "count": 0
                      },
                      {
                        "bin_start": 0.7000000000000001,
                        "bin_end": 0.8,
                        "count": 0
                      },
                      {
                        "bin_start": 0.8,
                        "bin_end": 0.9,
                        "count": 0
                      },
                      {
                        "bin_start": 0.9,
                        "bin_end": 1,
                        "count": 1
                      }
                    ]
                  }
                },
                {
                  "name": "Miss (1 = participant missed, 0 = participant did not miss; only meaningful on non-match trials)",
                  "dtype": "int64",
                  "stats": {
                    "unique_count": 1,
                    "nan_count": 0,
                    "min": "0",
                    "max": "0",
                    "histogram": [
                      {
                        "bin_start": -0.5,
                        "bin_end": -0.4,
                        "count": 0
                      },
                      {
                        "bin_start": -0.4,
                        "bin_end": -0.3,
                        "count": 0
                      },
                      {
                        "bin_start": -0.3,
                        "bin_end": -0.19999999999999996,
                        "count": 0
                      },
                      {
                        "bin_start": -0.19999999999999996,
                        "bin_end": -0.09999999999999998,
                        "count": 0
                      },
                      {
                        "bin_start": -0.09999999999999998,
                        "bin_end": 0,
                        "count": 0
                      },
                      {
                        "bin_start": 0,
                        "bin_end": 0.10000000000000009,
                        "count": 5
                      },
                      {
                        "bin_start": 0.10000000000000009,
                        "bin_end": 0.20000000000000007,
                        "count": 0
                      },
                      {
                        "bin_start": 0.20000000000000007,
                        "bin_end": 0.30000000000000004,
                        "count": 0
                      },
                      {
                        "bin_start": 0.30000000000000004,
                        "bin_end": 0.4,
                        "count": 0
                      },
                      {
                        "bin_start": 0.4,
                        "bin_end": 0.5,
                        "count": 0
                      }
                    ]
                  }
                },
                {
                  "name": "False Alarm (1 = participant wrongly pressed button, 0 = participant correctly pressed button; only meaningful on non-match trials)",
                  "dtype": "int64",
                  "stats": {
                    "unique_count": 1,
                    "nan_count": 0,
                    "min": "0",
                    "max": "0",
                    "histogram": [
                      {
                        "bin_start": -0.5,
                        "bin_end": -0.4,
                        "count": 0
                      },
                      {
                        "bin_start": -0.4,
                        "bin_end": -0.3,
                        "count": 0
                      },
                      {
                        "bin_start": -0.3,
                        "bin_end": -0.19999999999999996,
                        "count": 0
                      },
                      {
                        "bin_start": -0.19999999999999996,
                        "bin_end": -0.09999999999999998,
                        "count": 0
                      },
                      {
                        "bin_start": -0.09999999999999998,
                        "bin_end": 0,
                        "count": 0
                      },
                      {
                        "bin_start": 0,
                        "bin_end": 0.10000000000000009,
                        "count": 5
                      },
                      {
                        "bin_start": 0.10000000000000009,
                        "bin_end": 0.20000000000000007,
                        "count": 0
                      },
                      {
                        "bin_start": 0.20000000000000007,
                        "bin_end": 0.30000000000000004,
                        "count": 0
                      },
                      {
                        "bin_start": 0.30000000000000004,
                        "bin_end": 0.4,
                        "count": 0
                      },
                      {
                        "bin_start": 0.4,
                        "bin_end": 0.5,
                        "count": 0
                      }
                    ]
                  }
                },
                {
                  "name": "Reaction Time",
                  "dtype": "int64",
                  "stats": {
                    "unique_count": 2,
                    "nan_count": 0,
                    "min": "424",
                    "max": "3000",
                    "histogram": [
                      {
                        "bin_start": 424,
                        "bin_end": 681.6,
                        "count": 1
                      },
                      {
                        "bin_start": 681.6,
                        "bin_end": 939.2,
                        "count": 0
                      },
                      {
                        "bin_start": 939.2,
                        "bin_end": 1196.8000000000002,
                        "count": 0
                      },
                      {
                        "bin_start": 1196.8000000000002,
                        "bin_end": 1454.4,
                        "count": 0
                      },
                      {
                        "bin_start": 1454.4,
                        "bin_end": 1712,
                        "count": 0
                      },
                      {
                        "bin_start": 1712,
                        "bin_end": 1969.6000000000001,
                        "count": 0
                      },
                      {
                        "bin_start": 1969.6000000000001,
                        "bin_end": 2227.2000000000003,
                        "count": 0
                      },
                      {
                        "bin_start": 2227.2000000000003,
                        "bin_end": 2484.8,
                        "count": 0
                      },
                      {
                        "bin_start": 2484.8,
                        "bin_end": 2742.4,
                        "count": 0
                      },
                      {
                        "bin_start": 2742.4,
                        "bin_end": 3000,
                        "count": 4
                      }
                    ]
                  }
                },
                {
                  "name": "Memory (variable used internally)",
                  "dtype": "int64",
                  "stats": {
                    "unique_count": 3,
                    "nan_count": 0,
                    "min": "1",
                    "max": "3",
                    "histogram": [
                      {
                        "bin_start": 1,
                        "bin_end": 1.2,
                        "count": 2
                      },
                      {
                        "bin_start": 1.2,
                        "bin_end": 1.4,
                        "count": 0
                      },
                      {
                        "bin_start": 1.4,
                        "bin_end": 1.6,
                        "count": 0
                      },
                      {
                        "bin_start": 1.6,
                        "bin_end": 1.8,
                        "count": 0
                      },
                      {
                        "bin_start": 1.8,
                        "bin_end": 2,
                        "count": 0
                      },
                      {
                        "bin_start": 2,
                        "bin_end": 2.2,
                        "count": 1
                      },
                      {
                        "bin_start": 2.2,
                        "bin_end": 2.4000000000000004,
                        "count": 0
                      },
                      {
                        "bin_start": 2.4000000000000004,
                        "bin_end": 2.6,
                        "count": 0
                      },
                      {
                        "bin_start": 2.6,
                        "bin_end": 2.8,
                        "count": 0
                      },
                      {
                        "bin_start": 2.8,
                        "bin_end": 3,
                        "count": 2
                      }
                    ]
                  }
                },
                {
                  "name": "Current Letter (a number between 1 and 15, representing letter A, etc.)",
                  "dtype": "int64",
                  "stats": {
                    "unique_count": 3,
                    "nan_count": 0,
                    "min": "6",
                    "max": "15",
                    "histogram": [
                      {
                        "bin_start": 6,
                        "bin_end": 6.9,
                        "count": 1
                      },
                      {
                        "bin_start": 6.9,
                        "bin_end": 7.8,
                        "count": 0
                      },
                      {
                        "bin_start": 7.8,
                        "bin_end": 8.7,
                        "count": 0
                      },
                      {
                        "bin_start": 8.7,
                        "bin_end": 9.6,
                        "count": 0
                      },
                      {
                        "bin_start": 9.6,
                        "bin_end": 10.5,
                        "count": 0
                      },
                      {
                        "bin_start": 10.5,
                        "bin_end": 11.4,
                        "count": 0
                      },
                      {
                        "bin_start": 11.4,
                        "bin_end": 12.3,
                        "count": 0
                      },
                      {
                        "bin_start": 12.3,
                        "bin_end": 13.2,
                        "count": 0
                      },
                      {
                        "bin_start": 13.2,
                        "bin_end": 14.1,
                        "count": 1
                      },
                      {
                        "bin_start": 14.1,
                        "bin_end": 15,
                        "count": 3
                      }
                    ]
                  }
                },
                {
                  "name": "nback1",
                  "dtype": "int64",
                  "stats": {
                    "unique_count": 3,
                    "nan_count": 0,
                    "min": "6",
                    "max": "15",
                    "histogram": [
                      {
                        "bin_start": 6,
                        "bin_end": 6.9,
                        "count": 1
                      },
                      {
                        "bin_start": 6.9,
                        "bin_end": 7.8,
                        "count": 0
                      },
                      {
                        "bin_start": 7.8,
                        "bin_end": 8.7,
                        "count": 0
                      },
                      {
                        "bin_start": 8.7,
                        "bin_end": 9.6,
                        "count": 0
                      },
                      {
                        "bin_start": 9.6,
                        "bin_end": 10.5,
                        "count": 0
                      },
                      {
                        "bin_start": 10.5,
                        "bin_end": 11.4,
                        "count": 0
                      },
                      {
                        "bin_start": 11.4,
                        "bin_end": 12.3,
                        "count": 0
                      },
                      {
                        "bin_start": 12.3,
                        "bin_end": 13.2,
                        "count": 0
                      },
                      {
                        "bin_start": 13.2,
                        "bin_end": 14.1,
                        "count": 1
                      },
                      {
                        "bin_start": 14.1,
                        "bin_end": 15,
                        "count": 3
                      }
                    ]
                  }
                },
                {
                  "name": "nback2",
                  "dtype": "int64",
                  "stats": {
                    "unique_count": 3,
                    "nan_count": 0,
                    "min": "0",
                    "max": "15",
                    "histogram": [
                      {
                        "bin_start": 0,
                        "bin_end": 1.5,
                        "count": 1
                      },
                      {
                        "bin_start": 1.5,
                        "bin_end": 3,
                        "count": 0
                      },
                      {
                        "bin_start": 3,
                        "bin_end": 4.5,
                        "count": 0
                      },
                      {
                        "bin_start": 4.5,
                        "bin_end": 6,
                        "count": 0
                      },
                      {
                        "bin_start": 6,
                        "bin_end": 7.5,
                        "count": 1
                      },
                      {
                        "bin_start": 7.5,
                        "bin_end": 9,
                        "count": 0
                      },
                      {
                        "bin_start": 9,
                        "bin_end": 10.5,
                        "count": 0
                      },
                      {
                        "bin_start": 10.5,
                        "bin_end": 12,
                        "count": 0
                      },
                      {
                        "bin_start": 12,
                        "bin_end": 13.5,
                        "count": 0
                      },
                      {
                        "bin_start": 13.5,
                        "bin_end": 15,
                        "count": 3
                      }
                    ]
                  }
                },
                {
                  "name": "_deepnote_index_column",
                  "dtype": "int64"
                }
              ],
              "rows": [
                {
                  "Block Number (the number of the block, there are 3 blocks)": 1,
                  "Trial Number (the number of the trial)": 1,
                  "Type of Trial (1 = matching stimulus, 0 = non-matching stimulus)": 0,
                  "Score (1 = correct, 0 = incorrect)": 1,
                  "Match (1 = participant matched correctly, 0 = participant did not match; only meaningful on match trials)": 0,
                  "Miss (1 = participant missed, 0 = participant did not miss; only meaningful on non-match trials)": 0,
                  "False Alarm (1 = participant wrongly pressed button, 0 = participant correctly pressed button; only meaningful on non-match trials)": 0,
                  "Reaction Time": 3000,
                  "Memory (variable used internally)": 1,
                  "Current Letter (a number between 1 and 15, representing letter A, etc.)": 15,
                  "nback1": 15,
                  "nback2": 0,
                  "_deepnote_index_column": 0
                },
                {
                  "Block Number (the number of the block, there are 3 blocks)": 1,
                  "Trial Number (the number of the trial)": 2,
                  "Type of Trial (1 = matching stimulus, 0 = non-matching stimulus)": 0,
                  "Score (1 = correct, 0 = incorrect)": 1,
                  "Match (1 = participant matched correctly, 0 = participant did not match; only meaningful on match trials)": 0,
                  "Miss (1 = participant missed, 0 = participant did not miss; only meaningful on non-match trials)": 0,
                  "False Alarm (1 = participant wrongly pressed button, 0 = participant correctly pressed button; only meaningful on non-match trials)": 0,
                  "Reaction Time": 3000,
                  "Memory (variable used internally)": 2,
                  "Current Letter (a number between 1 and 15, representing letter A, etc.)": 6,
                  "nback1": 6,
                  "nback2": 15,
                  "_deepnote_index_column": 1
                },
                {
                  "Block Number (the number of the block, there are 3 blocks)": 1,
                  "Trial Number (the number of the trial)": 3,
                  "Type of Trial (1 = matching stimulus, 0 = non-matching stimulus)": 1,
                  "Score (1 = correct, 0 = incorrect)": 1,
                  "Match (1 = participant matched correctly, 0 = participant did not match; only meaningful on match trials)": 1,
                  "Miss (1 = participant missed, 0 = participant did not miss; only meaningful on non-match trials)": 0,
                  "False Alarm (1 = participant wrongly pressed button, 0 = participant correctly pressed button; only meaningful on non-match trials)": 0,
                  "Reaction Time": 424,
                  "Memory (variable used internally)": 1,
                  "Current Letter (a number between 1 and 15, representing letter A, etc.)": 15,
                  "nback1": 15,
                  "nback2": 6,
                  "_deepnote_index_column": 2
                },
                {
                  "Block Number (the number of the block, there are 3 blocks)": 1,
                  "Trial Number (the number of the trial)": 4,
                  "Type of Trial (1 = matching stimulus, 0 = non-matching stimulus)": 0,
                  "Score (1 = correct, 0 = incorrect)": 1,
                  "Match (1 = participant matched correctly, 0 = participant did not match; only meaningful on match trials)": 0,
                  "Miss (1 = participant missed, 0 = participant did not miss; only meaningful on non-match trials)": 0,
                  "False Alarm (1 = participant wrongly pressed button, 0 = participant correctly pressed button; only meaningful on non-match trials)": 0,
                  "Reaction Time": 3000,
                  "Memory (variable used internally)": 3,
                  "Current Letter (a number between 1 and 15, representing letter A, etc.)": 15,
                  "nback1": 15,
                  "nback2": 15,
                  "_deepnote_index_column": 3
                },
                {
                  "Block Number (the number of the block, there are 3 blocks)": 1,
                  "Trial Number (the number of the trial)": 5,
                  "Type of Trial (1 = matching stimulus, 0 = non-matching stimulus)": 0,
                  "Score (1 = correct, 0 = incorrect)": 1,
                  "Match (1 = participant matched correctly, 0 = participant did not match; only meaningful on match trials)": 0,
                  "Miss (1 = participant missed, 0 = participant did not miss; only meaningful on non-match trials)": 0,
                  "False Alarm (1 = participant wrongly pressed button, 0 = participant correctly pressed button; only meaningful on non-match trials)": 0,
                  "Reaction Time": 3000,
                  "Memory (variable used internally)": 3,
                  "Current Letter (a number between 1 and 15, representing letter A, etc.)": 14,
                  "nback1": 14,
                  "nback2": 15,
                  "_deepnote_index_column": 4
                }
              ]
            },
            "text/plain": "   Block Number (the number of the block, there are 3 blocks)  \\\n0                                                  1            \n1                                                  1            \n2                                                  1            \n3                                                  1            \n4                                                  1            \n\n   Trial Number (the number of the trial)  \\\n0                                       1   \n1                                       2   \n2                                       3   \n3                                       4   \n4                                       5   \n\n   Type of Trial (1 = matching stimulus, 0 = non-matching stimulus)  \\\n0                                                  0                  \n1                                                  0                  \n2                                                  1                  \n3                                                  0                  \n4                                                  0                  \n\n   Score (1 = correct, 0 = incorrect)  \\\n0                                   1   \n1                                   1   \n2                                   1   \n3                                   1   \n4                                   1   \n\n   Match (1 = participant matched correctly, 0 = participant did not match; only meaningful on match trials)  \\\n0                                                  0                                                           \n1                                                  0                                                           \n2                                                  1                                                           \n3                                                  0                                                           \n4                                                  0                                                           \n\n   Miss (1 = participant missed, 0 = participant did not miss; only meaningful on non-match trials)  \\\n0                                                  0                                                  \n1                                                  0                                                  \n2                                                  0                                                  \n3                                                  0                                                  \n4                                                  0                                                  \n\n   False Alarm (1 = participant wrongly pressed button, 0 = participant correctly pressed button; only meaningful on non-match trials)  \\\n0                                                  0                                                                                     \n1                                                  0                                                                                     \n2                                                  0                                                                                     \n3                                                  0                                                                                     \n4                                                  0                                                                                     \n\n   Reaction Time  Memory (variable used internally)  \\\n0           3000                                  1   \n1           3000                                  2   \n2            424                                  1   \n3           3000                                  3   \n4           3000                                  3   \n\n   Current Letter (a number between 1 and 15, representing letter A, etc.)  \\\n0                                                 15                         \n1                                                  6                         \n2                                                 15                         \n3                                                 15                         \n4                                                 14                         \n\n   nback1  nback2  \n0      15       0  \n1       6      15  \n2      15       6  \n3      15      15  \n4      14      15  ",
            "text/html": "<div>\n<style scoped>\n    .dataframe tbody tr th:only-of-type {\n        vertical-align: middle;\n    }\n\n    .dataframe tbody tr th {\n        vertical-align: top;\n    }\n\n    .dataframe thead th {\n        text-align: right;\n    }\n</style>\n<table border=\"1\" class=\"dataframe\">\n  <thead>\n    <tr style=\"text-align: right;\">\n      <th></th>\n      <th>Block Number (the number of the block, there are 3 blocks)</th>\n      <th>Trial Number (the number of the trial)</th>\n      <th>Type of Trial (1 = matching stimulus, 0 = non-matching stimulus)</th>\n      <th>Score (1 = correct, 0 = incorrect)</th>\n      <th>Match (1 = participant matched correctly, 0 = participant did not match; only meaningful on match trials)</th>\n      <th>Miss (1 = participant missed, 0 = participant did not miss; only meaningful on non-match trials)</th>\n      <th>False Alarm (1 = participant wrongly pressed button, 0 = participant correctly pressed button; only meaningful on non-match trials)</th>\n      <th>Reaction Time</th>\n      <th>Memory (variable used internally)</th>\n      <th>Current Letter (a number between 1 and 15, representing letter A, etc.)</th>\n      <th>nback1</th>\n      <th>nback2</th>\n    </tr>\n  </thead>\n  <tbody>\n    <tr>\n      <th>0</th>\n      <td>1</td>\n      <td>1</td>\n      <td>0</td>\n      <td>1</td>\n      <td>0</td>\n      <td>0</td>\n      <td>0</td>\n      <td>3000</td>\n      <td>1</td>\n      <td>15</td>\n      <td>15</td>\n      <td>0</td>\n    </tr>\n    <tr>\n      <th>1</th>\n      <td>1</td>\n      <td>2</td>\n      <td>0</td>\n      <td>1</td>\n      <td>0</td>\n      <td>0</td>\n      <td>0</td>\n      <td>3000</td>\n      <td>2</td>\n      <td>6</td>\n      <td>6</td>\n      <td>15</td>\n    </tr>\n    <tr>\n      <th>2</th>\n      <td>1</td>\n      <td>3</td>\n      <td>1</td>\n      <td>1</td>\n      <td>1</td>\n      <td>0</td>\n      <td>0</td>\n      <td>424</td>\n      <td>1</td>\n      <td>15</td>\n      <td>15</td>\n      <td>6</td>\n    </tr>\n    <tr>\n      <th>3</th>\n      <td>1</td>\n      <td>4</td>\n      <td>0</td>\n      <td>1</td>\n      <td>0</td>\n      <td>0</td>\n      <td>0</td>\n      <td>3000</td>\n      <td>3</td>\n      <td>15</td>\n      <td>15</td>\n      <td>15</td>\n    </tr>\n    <tr>\n      <th>4</th>\n      <td>1</td>\n      <td>5</td>\n      <td>0</td>\n      <td>1</td>\n      <td>0</td>\n      <td>0</td>\n      <td>0</td>\n      <td>3000</td>\n      <td>3</td>\n      <td>14</td>\n      <td>14</td>\n      <td>15</td>\n    </tr>\n  </tbody>\n</table>\n</div>"
          },
          "metadata": {}
        }
      ],
      "outputs_reference": null,
      "execution_count": 27,
      "block_group": "6f5226b472c94a3089d1b36933554b81",
      "content_dependencies": null
    },
    {
      "cell_type": "markdown",
      "source": "",
      "metadata": {
        "cell_id": "c6e6bbb65003498d8906845acf1533d6",
        "deepnote_cell_type": "markdown"
      },
      "block_group": "ee59200c777a43e3921f5b6bd5ca85fb"
    },
    {
      "cell_type": "code",
      "source": "n_back_three.head()",
      "metadata": {
        "source_hash": "2b27d0da",
        "execution_start": 1731627228674,
        "execution_millis": 1,
        "execution_context_id": "8132cf72-65a5-4f53-bde2-b669605264d8",
        "cell_id": "5e83fe31760247a78c646185d1761447",
        "deepnote_cell_type": "code"
      },
      "outputs": [
        {
          "output_type": "execute_result",
          "execution_count": 28,
          "data": {
            "application/vnd.deepnote.dataframe.v3+json": {
              "column_count": 12,
              "row_count": 5,
              "columns": [
                {
                  "name": "Block Number (the number of the block, there are 3 blocks)",
                  "dtype": "int64",
                  "stats": {
                    "unique_count": 1,
                    "nan_count": 0,
                    "min": "1",
                    "max": "1",
                    "histogram": [
                      {
                        "bin_start": 0.5,
                        "bin_end": 0.6,
                        "count": 0
                      },
                      {
                        "bin_start": 0.6,
                        "bin_end": 0.7,
                        "count": 0
                      },
                      {
                        "bin_start": 0.7,
                        "bin_end": 0.8,
                        "count": 0
                      },
                      {
                        "bin_start": 0.8,
                        "bin_end": 0.9,
                        "count": 0
                      },
                      {
                        "bin_start": 0.9,
                        "bin_end": 1,
                        "count": 0
                      },
                      {
                        "bin_start": 1,
                        "bin_end": 1.1,
                        "count": 5
                      },
                      {
                        "bin_start": 1.1,
                        "bin_end": 1.2000000000000002,
                        "count": 0
                      },
                      {
                        "bin_start": 1.2000000000000002,
                        "bin_end": 1.3,
                        "count": 0
                      },
                      {
                        "bin_start": 1.3,
                        "bin_end": 1.4,
                        "count": 0
                      },
                      {
                        "bin_start": 1.4,
                        "bin_end": 1.5,
                        "count": 0
                      }
                    ]
                  }
                },
                {
                  "name": "Trial Number (the number of the trial)",
                  "dtype": "int64",
                  "stats": {
                    "unique_count": 5,
                    "nan_count": 0,
                    "min": "1",
                    "max": "5",
                    "histogram": [
                      {
                        "bin_start": 1,
                        "bin_end": 1.4,
                        "count": 1
                      },
                      {
                        "bin_start": 1.4,
                        "bin_end": 1.8,
                        "count": 0
                      },
                      {
                        "bin_start": 1.8,
                        "bin_end": 2.2,
                        "count": 1
                      },
                      {
                        "bin_start": 2.2,
                        "bin_end": 2.6,
                        "count": 0
                      },
                      {
                        "bin_start": 2.6,
                        "bin_end": 3,
                        "count": 0
                      },
                      {
                        "bin_start": 3,
                        "bin_end": 3.4000000000000004,
                        "count": 1
                      },
                      {
                        "bin_start": 3.4000000000000004,
                        "bin_end": 3.8000000000000003,
                        "count": 0
                      },
                      {
                        "bin_start": 3.8000000000000003,
                        "bin_end": 4.2,
                        "count": 1
                      },
                      {
                        "bin_start": 4.2,
                        "bin_end": 4.6,
                        "count": 0
                      },
                      {
                        "bin_start": 4.6,
                        "bin_end": 5,
                        "count": 1
                      }
                    ]
                  }
                },
                {
                  "name": "Type of Trial (1 = matching stimulus, 0 = non-matching stimulus)",
                  "dtype": "int64",
                  "stats": {
                    "unique_count": 2,
                    "nan_count": 0,
                    "min": "0",
                    "max": "1",
                    "histogram": [
                      {
                        "bin_start": 0,
                        "bin_end": 0.1,
                        "count": 4
                      },
                      {
                        "bin_start": 0.1,
                        "bin_end": 0.2,
                        "count": 0
                      },
                      {
                        "bin_start": 0.2,
                        "bin_end": 0.30000000000000004,
                        "count": 0
                      },
                      {
                        "bin_start": 0.30000000000000004,
                        "bin_end": 0.4,
                        "count": 0
                      },
                      {
                        "bin_start": 0.4,
                        "bin_end": 0.5,
                        "count": 0
                      },
                      {
                        "bin_start": 0.5,
                        "bin_end": 0.6000000000000001,
                        "count": 0
                      },
                      {
                        "bin_start": 0.6000000000000001,
                        "bin_end": 0.7000000000000001,
                        "count": 0
                      },
                      {
                        "bin_start": 0.7000000000000001,
                        "bin_end": 0.8,
                        "count": 0
                      },
                      {
                        "bin_start": 0.8,
                        "bin_end": 0.9,
                        "count": 0
                      },
                      {
                        "bin_start": 0.9,
                        "bin_end": 1,
                        "count": 1
                      }
                    ]
                  }
                },
                {
                  "name": "Score (1 = correct, 0 = incorrect)",
                  "dtype": "int64",
                  "stats": {
                    "unique_count": 2,
                    "nan_count": 0,
                    "min": "0",
                    "max": "1",
                    "histogram": [
                      {
                        "bin_start": 0,
                        "bin_end": 0.1,
                        "count": 1
                      },
                      {
                        "bin_start": 0.1,
                        "bin_end": 0.2,
                        "count": 0
                      },
                      {
                        "bin_start": 0.2,
                        "bin_end": 0.30000000000000004,
                        "count": 0
                      },
                      {
                        "bin_start": 0.30000000000000004,
                        "bin_end": 0.4,
                        "count": 0
                      },
                      {
                        "bin_start": 0.4,
                        "bin_end": 0.5,
                        "count": 0
                      },
                      {
                        "bin_start": 0.5,
                        "bin_end": 0.6000000000000001,
                        "count": 0
                      },
                      {
                        "bin_start": 0.6000000000000001,
                        "bin_end": 0.7000000000000001,
                        "count": 0
                      },
                      {
                        "bin_start": 0.7000000000000001,
                        "bin_end": 0.8,
                        "count": 0
                      },
                      {
                        "bin_start": 0.8,
                        "bin_end": 0.9,
                        "count": 0
                      },
                      {
                        "bin_start": 0.9,
                        "bin_end": 1,
                        "count": 4
                      }
                    ]
                  }
                },
                {
                  "name": "Match (1 = participant matched correctly, 0 = participant did not match; only meaningful on match trials)",
                  "dtype": "int64",
                  "stats": {
                    "unique_count": 1,
                    "nan_count": 0,
                    "min": "0",
                    "max": "0",
                    "histogram": [
                      {
                        "bin_start": -0.5,
                        "bin_end": -0.4,
                        "count": 0
                      },
                      {
                        "bin_start": -0.4,
                        "bin_end": -0.3,
                        "count": 0
                      },
                      {
                        "bin_start": -0.3,
                        "bin_end": -0.19999999999999996,
                        "count": 0
                      },
                      {
                        "bin_start": -0.19999999999999996,
                        "bin_end": -0.09999999999999998,
                        "count": 0
                      },
                      {
                        "bin_start": -0.09999999999999998,
                        "bin_end": 0,
                        "count": 0
                      },
                      {
                        "bin_start": 0,
                        "bin_end": 0.10000000000000009,
                        "count": 5
                      },
                      {
                        "bin_start": 0.10000000000000009,
                        "bin_end": 0.20000000000000007,
                        "count": 0
                      },
                      {
                        "bin_start": 0.20000000000000007,
                        "bin_end": 0.30000000000000004,
                        "count": 0
                      },
                      {
                        "bin_start": 0.30000000000000004,
                        "bin_end": 0.4,
                        "count": 0
                      },
                      {
                        "bin_start": 0.4,
                        "bin_end": 0.5,
                        "count": 0
                      }
                    ]
                  }
                },
                {
                  "name": "Miss (1 = participant missed, 0 = participant did not miss; only meaningful on non-match trials)",
                  "dtype": "int64",
                  "stats": {
                    "unique_count": 2,
                    "nan_count": 0,
                    "min": "0",
                    "max": "1",
                    "histogram": [
                      {
                        "bin_start": 0,
                        "bin_end": 0.1,
                        "count": 4
                      },
                      {
                        "bin_start": 0.1,
                        "bin_end": 0.2,
                        "count": 0
                      },
                      {
                        "bin_start": 0.2,
                        "bin_end": 0.30000000000000004,
                        "count": 0
                      },
                      {
                        "bin_start": 0.30000000000000004,
                        "bin_end": 0.4,
                        "count": 0
                      },
                      {
                        "bin_start": 0.4,
                        "bin_end": 0.5,
                        "count": 0
                      },
                      {
                        "bin_start": 0.5,
                        "bin_end": 0.6000000000000001,
                        "count": 0
                      },
                      {
                        "bin_start": 0.6000000000000001,
                        "bin_end": 0.7000000000000001,
                        "count": 0
                      },
                      {
                        "bin_start": 0.7000000000000001,
                        "bin_end": 0.8,
                        "count": 0
                      },
                      {
                        "bin_start": 0.8,
                        "bin_end": 0.9,
                        "count": 0
                      },
                      {
                        "bin_start": 0.9,
                        "bin_end": 1,
                        "count": 1
                      }
                    ]
                  }
                },
                {
                  "name": "False Alarm (1 = participant wrongly pressed button, 0 = participant correctly pressed button; only meaningful on non-match trials)",
                  "dtype": "int64",
                  "stats": {
                    "unique_count": 1,
                    "nan_count": 0,
                    "min": "0",
                    "max": "0",
                    "histogram": [
                      {
                        "bin_start": -0.5,
                        "bin_end": -0.4,
                        "count": 0
                      },
                      {
                        "bin_start": -0.4,
                        "bin_end": -0.3,
                        "count": 0
                      },
                      {
                        "bin_start": -0.3,
                        "bin_end": -0.19999999999999996,
                        "count": 0
                      },
                      {
                        "bin_start": -0.19999999999999996,
                        "bin_end": -0.09999999999999998,
                        "count": 0
                      },
                      {
                        "bin_start": -0.09999999999999998,
                        "bin_end": 0,
                        "count": 0
                      },
                      {
                        "bin_start": 0,
                        "bin_end": 0.10000000000000009,
                        "count": 5
                      },
                      {
                        "bin_start": 0.10000000000000009,
                        "bin_end": 0.20000000000000007,
                        "count": 0
                      },
                      {
                        "bin_start": 0.20000000000000007,
                        "bin_end": 0.30000000000000004,
                        "count": 0
                      },
                      {
                        "bin_start": 0.30000000000000004,
                        "bin_end": 0.4,
                        "count": 0
                      },
                      {
                        "bin_start": 0.4,
                        "bin_end": 0.5,
                        "count": 0
                      }
                    ]
                  }
                },
                {
                  "name": "Reaction Time",
                  "dtype": "int64",
                  "stats": {
                    "unique_count": 1,
                    "nan_count": 0,
                    "min": "3000",
                    "max": "3000",
                    "histogram": [
                      {
                        "bin_start": 2999.5,
                        "bin_end": 2999.6,
                        "count": 0
                      },
                      {
                        "bin_start": 2999.6,
                        "bin_end": 2999.7,
                        "count": 0
                      },
                      {
                        "bin_start": 2999.7,
                        "bin_end": 2999.8,
                        "count": 0
                      },
                      {
                        "bin_start": 2999.8,
                        "bin_end": 2999.9,
                        "count": 0
                      },
                      {
                        "bin_start": 2999.9,
                        "bin_end": 3000,
                        "count": 0
                      },
                      {
                        "bin_start": 3000,
                        "bin_end": 3000.1,
                        "count": 5
                      },
                      {
                        "bin_start": 3000.1,
                        "bin_end": 3000.2,
                        "count": 0
                      },
                      {
                        "bin_start": 3000.2,
                        "bin_end": 3000.3,
                        "count": 0
                      },
                      {
                        "bin_start": 3000.3,
                        "bin_end": 3000.4,
                        "count": 0
                      },
                      {
                        "bin_start": 3000.4,
                        "bin_end": 3000.5,
                        "count": 0
                      }
                    ]
                  }
                },
                {
                  "name": "Memory (variable used internally)",
                  "dtype": "int64",
                  "stats": {
                    "unique_count": 3,
                    "nan_count": 0,
                    "min": "1",
                    "max": "3",
                    "histogram": [
                      {
                        "bin_start": 1,
                        "bin_end": 1.2,
                        "count": 1
                      },
                      {
                        "bin_start": 1.2,
                        "bin_end": 1.4,
                        "count": 0
                      },
                      {
                        "bin_start": 1.4,
                        "bin_end": 1.6,
                        "count": 0
                      },
                      {
                        "bin_start": 1.6,
                        "bin_end": 1.8,
                        "count": 0
                      },
                      {
                        "bin_start": 1.8,
                        "bin_end": 2,
                        "count": 0
                      },
                      {
                        "bin_start": 2,
                        "bin_end": 2.2,
                        "count": 3
                      },
                      {
                        "bin_start": 2.2,
                        "bin_end": 2.4000000000000004,
                        "count": 0
                      },
                      {
                        "bin_start": 2.4000000000000004,
                        "bin_end": 2.6,
                        "count": 0
                      },
                      {
                        "bin_start": 2.6,
                        "bin_end": 2.8,
                        "count": 0
                      },
                      {
                        "bin_start": 2.8,
                        "bin_end": 3,
                        "count": 1
                      }
                    ]
                  }
                },
                {
                  "name": "Current Letter (a number between 1 and 15, representing letter A, etc.)",
                  "dtype": "int64",
                  "stats": {
                    "unique_count": 4,
                    "nan_count": 0,
                    "min": "6",
                    "max": "13",
                    "histogram": [
                      {
                        "bin_start": 6,
                        "bin_end": 6.7,
                        "count": 2
                      },
                      {
                        "bin_start": 6.7,
                        "bin_end": 7.4,
                        "count": 0
                      },
                      {
                        "bin_start": 7.4,
                        "bin_end": 8.1,
                        "count": 0
                      },
                      {
                        "bin_start": 8.1,
                        "bin_end": 8.8,
                        "count": 0
                      },
                      {
                        "bin_start": 8.8,
                        "bin_end": 9.5,
                        "count": 1
                      },
                      {
                        "bin_start": 9.5,
                        "bin_end": 10.2,
                        "count": 0
                      },
                      {
                        "bin_start": 10.2,
                        "bin_end": 10.899999999999999,
                        "count": 0
                      },
                      {
                        "bin_start": 10.899999999999999,
                        "bin_end": 11.6,
                        "count": 0
                      },
                      {
                        "bin_start": 11.6,
                        "bin_end": 12.3,
                        "count": 1
                      },
                      {
                        "bin_start": 12.3,
                        "bin_end": 13,
                        "count": 1
                      }
                    ]
                  }
                },
                {
                  "name": "nback1",
                  "dtype": "int64",
                  "stats": {
                    "unique_count": 4,
                    "nan_count": 0,
                    "min": "6",
                    "max": "13",
                    "histogram": [
                      {
                        "bin_start": 6,
                        "bin_end": 6.7,
                        "count": 2
                      },
                      {
                        "bin_start": 6.7,
                        "bin_end": 7.4,
                        "count": 0
                      },
                      {
                        "bin_start": 7.4,
                        "bin_end": 8.1,
                        "count": 0
                      },
                      {
                        "bin_start": 8.1,
                        "bin_end": 8.8,
                        "count": 0
                      },
                      {
                        "bin_start": 8.8,
                        "bin_end": 9.5,
                        "count": 1
                      },
                      {
                        "bin_start": 9.5,
                        "bin_end": 10.2,
                        "count": 0
                      },
                      {
                        "bin_start": 10.2,
                        "bin_end": 10.899999999999999,
                        "count": 0
                      },
                      {
                        "bin_start": 10.899999999999999,
                        "bin_end": 11.6,
                        "count": 0
                      },
                      {
                        "bin_start": 11.6,
                        "bin_end": 12.3,
                        "count": 1
                      },
                      {
                        "bin_start": 12.3,
                        "bin_end": 13,
                        "count": 1
                      }
                    ]
                  }
                },
                {
                  "name": "nback2",
                  "dtype": "int64",
                  "stats": {
                    "unique_count": 5,
                    "nan_count": 0,
                    "min": "0",
                    "max": "13",
                    "histogram": [
                      {
                        "bin_start": 0,
                        "bin_end": 1.3,
                        "count": 1
                      },
                      {
                        "bin_start": 1.3,
                        "bin_end": 2.6,
                        "count": 0
                      },
                      {
                        "bin_start": 2.6,
                        "bin_end": 3.9000000000000004,
                        "count": 0
                      },
                      {
                        "bin_start": 3.9000000000000004,
                        "bin_end": 5.2,
                        "count": 0
                      },
                      {
                        "bin_start": 5.2,
                        "bin_end": 6.5,
                        "count": 1
                      },
                      {
                        "bin_start": 6.5,
                        "bin_end": 7.800000000000001,
                        "count": 0
                      },
                      {
                        "bin_start": 7.800000000000001,
                        "bin_end": 9.1,
                        "count": 1
                      },
                      {
                        "bin_start": 9.1,
                        "bin_end": 10.4,
                        "count": 0
                      },
                      {
                        "bin_start": 10.4,
                        "bin_end": 11.700000000000001,
                        "count": 0
                      },
                      {
                        "bin_start": 11.700000000000001,
                        "bin_end": 13,
                        "count": 2
                      }
                    ]
                  }
                },
                {
                  "name": "_deepnote_index_column",
                  "dtype": "int64"
                }
              ],
              "rows": [
                {
                  "Block Number (the number of the block, there are 3 blocks)": 1,
                  "Trial Number (the number of the trial)": 1,
                  "Type of Trial (1 = matching stimulus, 0 = non-matching stimulus)": 0,
                  "Score (1 = correct, 0 = incorrect)": 1,
                  "Match (1 = participant matched correctly, 0 = participant did not match; only meaningful on match trials)": 0,
                  "Miss (1 = participant missed, 0 = participant did not miss; only meaningful on non-match trials)": 0,
                  "False Alarm (1 = participant wrongly pressed button, 0 = participant correctly pressed button; only meaningful on non-match trials)": 0,
                  "Reaction Time": 3000,
                  "Memory (variable used internally)": 2,
                  "Current Letter (a number between 1 and 15, representing letter A, etc.)": 9,
                  "nback1": 9,
                  "nback2": 0,
                  "_deepnote_index_column": 0
                },
                {
                  "Block Number (the number of the block, there are 3 blocks)": 1,
                  "Trial Number (the number of the trial)": 2,
                  "Type of Trial (1 = matching stimulus, 0 = non-matching stimulus)": 0,
                  "Score (1 = correct, 0 = incorrect)": 1,
                  "Match (1 = participant matched correctly, 0 = participant did not match; only meaningful on match trials)": 0,
                  "Miss (1 = participant missed, 0 = participant did not miss; only meaningful on non-match trials)": 0,
                  "False Alarm (1 = participant wrongly pressed button, 0 = participant correctly pressed button; only meaningful on non-match trials)": 0,
                  "Reaction Time": 3000,
                  "Memory (variable used internally)": 2,
                  "Current Letter (a number between 1 and 15, representing letter A, etc.)": 12,
                  "nback1": 12,
                  "nback2": 9,
                  "_deepnote_index_column": 1
                },
                {
                  "Block Number (the number of the block, there are 3 blocks)": 1,
                  "Trial Number (the number of the trial)": 3,
                  "Type of Trial (1 = matching stimulus, 0 = non-matching stimulus)": 0,
                  "Score (1 = correct, 0 = incorrect)": 1,
                  "Match (1 = participant matched correctly, 0 = participant did not match; only meaningful on match trials)": 0,
                  "Miss (1 = participant missed, 0 = participant did not miss; only meaningful on non-match trials)": 0,
                  "False Alarm (1 = participant wrongly pressed button, 0 = participant correctly pressed button; only meaningful on non-match trials)": 0,
                  "Reaction Time": 3000,
                  "Memory (variable used internally)": 3,
                  "Current Letter (a number between 1 and 15, representing letter A, etc.)": 6,
                  "nback1": 6,
                  "nback2": 12,
                  "_deepnote_index_column": 2
                },
                {
                  "Block Number (the number of the block, there are 3 blocks)": 1,
                  "Trial Number (the number of the trial)": 4,
                  "Type of Trial (1 = matching stimulus, 0 = non-matching stimulus)": 0,
                  "Score (1 = correct, 0 = incorrect)": 1,
                  "Match (1 = participant matched correctly, 0 = participant did not match; only meaningful on match trials)": 0,
                  "Miss (1 = participant missed, 0 = participant did not miss; only meaningful on non-match trials)": 0,
                  "False Alarm (1 = participant wrongly pressed button, 0 = participant correctly pressed button; only meaningful on non-match trials)": 0,
                  "Reaction Time": 3000,
                  "Memory (variable used internally)": 2,
                  "Current Letter (a number between 1 and 15, representing letter A, etc.)": 13,
                  "nback1": 13,
                  "nback2": 6,
                  "_deepnote_index_column": 3
                },
                {
                  "Block Number (the number of the block, there are 3 blocks)": 1,
                  "Trial Number (the number of the trial)": 5,
                  "Type of Trial (1 = matching stimulus, 0 = non-matching stimulus)": 1,
                  "Score (1 = correct, 0 = incorrect)": 0,
                  "Match (1 = participant matched correctly, 0 = participant did not match; only meaningful on match trials)": 0,
                  "Miss (1 = participant missed, 0 = participant did not miss; only meaningful on non-match trials)": 1,
                  "False Alarm (1 = participant wrongly pressed button, 0 = participant correctly pressed button; only meaningful on non-match trials)": 0,
                  "Reaction Time": 3000,
                  "Memory (variable used internally)": 1,
                  "Current Letter (a number between 1 and 15, representing letter A, etc.)": 6,
                  "nback1": 6,
                  "nback2": 13,
                  "_deepnote_index_column": 4
                }
              ]
            },
            "text/plain": "   Block Number (the number of the block, there are 3 blocks)  \\\n0                                                  1            \n1                                                  1            \n2                                                  1            \n3                                                  1            \n4                                                  1            \n\n   Trial Number (the number of the trial)  \\\n0                                       1   \n1                                       2   \n2                                       3   \n3                                       4   \n4                                       5   \n\n   Type of Trial (1 = matching stimulus, 0 = non-matching stimulus)  \\\n0                                                  0                  \n1                                                  0                  \n2                                                  0                  \n3                                                  0                  \n4                                                  1                  \n\n   Score (1 = correct, 0 = incorrect)  \\\n0                                   1   \n1                                   1   \n2                                   1   \n3                                   1   \n4                                   0   \n\n   Match (1 = participant matched correctly, 0 = participant did not match; only meaningful on match trials)  \\\n0                                                  0                                                           \n1                                                  0                                                           \n2                                                  0                                                           \n3                                                  0                                                           \n4                                                  0                                                           \n\n   Miss (1 = participant missed, 0 = participant did not miss; only meaningful on non-match trials)  \\\n0                                                  0                                                  \n1                                                  0                                                  \n2                                                  0                                                  \n3                                                  0                                                  \n4                                                  1                                                  \n\n   False Alarm (1 = participant wrongly pressed button, 0 = participant correctly pressed button; only meaningful on non-match trials)  \\\n0                                                  0                                                                                     \n1                                                  0                                                                                     \n2                                                  0                                                                                     \n3                                                  0                                                                                     \n4                                                  0                                                                                     \n\n   Reaction Time  Memory (variable used internally)  \\\n0           3000                                  2   \n1           3000                                  2   \n2           3000                                  3   \n3           3000                                  2   \n4           3000                                  1   \n\n   Current Letter (a number between 1 and 15, representing letter A, etc.)  \\\n0                                                  9                         \n1                                                 12                         \n2                                                  6                         \n3                                                 13                         \n4                                                  6                         \n\n   nback1  nback2  \n0       9       0  \n1      12       9  \n2       6      12  \n3      13       6  \n4       6      13  ",
            "text/html": "<div>\n<style scoped>\n    .dataframe tbody tr th:only-of-type {\n        vertical-align: middle;\n    }\n\n    .dataframe tbody tr th {\n        vertical-align: top;\n    }\n\n    .dataframe thead th {\n        text-align: right;\n    }\n</style>\n<table border=\"1\" class=\"dataframe\">\n  <thead>\n    <tr style=\"text-align: right;\">\n      <th></th>\n      <th>Block Number (the number of the block, there are 3 blocks)</th>\n      <th>Trial Number (the number of the trial)</th>\n      <th>Type of Trial (1 = matching stimulus, 0 = non-matching stimulus)</th>\n      <th>Score (1 = correct, 0 = incorrect)</th>\n      <th>Match (1 = participant matched correctly, 0 = participant did not match; only meaningful on match trials)</th>\n      <th>Miss (1 = participant missed, 0 = participant did not miss; only meaningful on non-match trials)</th>\n      <th>False Alarm (1 = participant wrongly pressed button, 0 = participant correctly pressed button; only meaningful on non-match trials)</th>\n      <th>Reaction Time</th>\n      <th>Memory (variable used internally)</th>\n      <th>Current Letter (a number between 1 and 15, representing letter A, etc.)</th>\n      <th>nback1</th>\n      <th>nback2</th>\n    </tr>\n  </thead>\n  <tbody>\n    <tr>\n      <th>0</th>\n      <td>1</td>\n      <td>1</td>\n      <td>0</td>\n      <td>1</td>\n      <td>0</td>\n      <td>0</td>\n      <td>0</td>\n      <td>3000</td>\n      <td>2</td>\n      <td>9</td>\n      <td>9</td>\n      <td>0</td>\n    </tr>\n    <tr>\n      <th>1</th>\n      <td>1</td>\n      <td>2</td>\n      <td>0</td>\n      <td>1</td>\n      <td>0</td>\n      <td>0</td>\n      <td>0</td>\n      <td>3000</td>\n      <td>2</td>\n      <td>12</td>\n      <td>12</td>\n      <td>9</td>\n    </tr>\n    <tr>\n      <th>2</th>\n      <td>1</td>\n      <td>3</td>\n      <td>0</td>\n      <td>1</td>\n      <td>0</td>\n      <td>0</td>\n      <td>0</td>\n      <td>3000</td>\n      <td>3</td>\n      <td>6</td>\n      <td>6</td>\n      <td>12</td>\n    </tr>\n    <tr>\n      <th>3</th>\n      <td>1</td>\n      <td>4</td>\n      <td>0</td>\n      <td>1</td>\n      <td>0</td>\n      <td>0</td>\n      <td>0</td>\n      <td>3000</td>\n      <td>2</td>\n      <td>13</td>\n      <td>13</td>\n      <td>6</td>\n    </tr>\n    <tr>\n      <th>4</th>\n      <td>1</td>\n      <td>5</td>\n      <td>1</td>\n      <td>0</td>\n      <td>0</td>\n      <td>1</td>\n      <td>0</td>\n      <td>3000</td>\n      <td>1</td>\n      <td>6</td>\n      <td>6</td>\n      <td>13</td>\n    </tr>\n  </tbody>\n</table>\n</div>"
          },
          "metadata": {}
        }
      ],
      "outputs_reference": null,
      "execution_count": 28,
      "block_group": "f39c12214c4c44e7a03866134eaf3ea7",
      "content_dependencies": null
    },
    {
      "cell_type": "markdown",
      "source": "### View Stroop DataFrames",
      "metadata": {
        "deepnote_app_block_visible": false,
        "cell_id": "e85f2c6f01034da180483d61f41aeeaa",
        "deepnote_cell_type": "markdown"
      },
      "block_group": "24baef6e02384ff0a2372031446e0839"
    },
    {
      "cell_type": "code",
      "source": "stroop_one.head()",
      "metadata": {
        "source_hash": "68596d50",
        "execution_start": 1731627228722,
        "execution_millis": 1,
        "execution_context_id": "d6825e58-3769-484f-8607-a71473c05eb7",
        "cell_id": "d410d29ae4164dd88a0384d08132a772",
        "deepnote_cell_type": "code"
      },
      "outputs": [
        {
          "output_type": "execute_result",
          "execution_count": 29,
          "data": {
            "application/vnd.deepnote.dataframe.v3+json": {
              "column_count": 8,
              "row_count": 5,
              "columns": [
                {
                  "name": "Name of Block",
                  "dtype": "object",
                  "stats": {
                    "unique_count": 1,
                    "nan_count": 0,
                    "categories": [
                      {
                        "name": "training",
                        "count": 5
                      }
                    ]
                  }
                },
                {
                  "name": "Name of Word",
                  "dtype": "object",
                  "stats": {
                    "unique_count": 3,
                    "nan_count": 0,
                    "categories": [
                      {
                        "name": "green",
                        "count": 3
                      },
                      {
                        "name": "blue",
                        "count": 1
                      },
                      {
                        "name": "yellow",
                        "count": 1
                      }
                    ]
                  }
                },
                {
                  "name": "Color of Word",
                  "dtype": "object",
                  "stats": {
                    "unique_count": 4,
                    "nan_count": 0,
                    "categories": [
                      {
                        "name": "green",
                        "count": 2
                      },
                      {
                        "name": "yellow",
                        "count": 1
                      },
                      {
                        "name": "2 others",
                        "count": 2
                      }
                    ]
                  }
                },
                {
                  "name": "Stroop Color Match (1 = compatible, 0 = incompatible)",
                  "dtype": "int64",
                  "stats": {
                    "unique_count": 2,
                    "nan_count": 0,
                    "min": "0",
                    "max": "1",
                    "histogram": [
                      {
                        "bin_start": 0,
                        "bin_end": 0.1,
                        "count": 3
                      },
                      {
                        "bin_start": 0.1,
                        "bin_end": 0.2,
                        "count": 0
                      },
                      {
                        "bin_start": 0.2,
                        "bin_end": 0.30000000000000004,
                        "count": 0
                      },
                      {
                        "bin_start": 0.30000000000000004,
                        "bin_end": 0.4,
                        "count": 0
                      },
                      {
                        "bin_start": 0.4,
                        "bin_end": 0.5,
                        "count": 0
                      },
                      {
                        "bin_start": 0.5,
                        "bin_end": 0.6000000000000001,
                        "count": 0
                      },
                      {
                        "bin_start": 0.6000000000000001,
                        "bin_end": 0.7000000000000001,
                        "count": 0
                      },
                      {
                        "bin_start": 0.7000000000000001,
                        "bin_end": 0.8,
                        "count": 0
                      },
                      {
                        "bin_start": 0.8,
                        "bin_end": 0.9,
                        "count": 0
                      },
                      {
                        "bin_start": 0.9,
                        "bin_end": 1,
                        "count": 2
                      }
                    ]
                  }
                },
                {
                  "name": "Tablerow Number",
                  "dtype": "int64",
                  "stats": {
                    "unique_count": 4,
                    "nan_count": 0,
                    "min": "3",
                    "max": "16",
                    "histogram": [
                      {
                        "bin_start": 3,
                        "bin_end": 4.3,
                        "count": 1
                      },
                      {
                        "bin_start": 4.3,
                        "bin_end": 5.6,
                        "count": 0
                      },
                      {
                        "bin_start": 5.6,
                        "bin_end": 6.9,
                        "count": 0
                      },
                      {
                        "bin_start": 6.9,
                        "bin_end": 8.2,
                        "count": 0
                      },
                      {
                        "bin_start": 8.2,
                        "bin_end": 9.5,
                        "count": 1
                      },
                      {
                        "bin_start": 9.5,
                        "bin_end": 10.8,
                        "count": 2
                      },
                      {
                        "bin_start": 10.8,
                        "bin_end": 12.1,
                        "count": 0
                      },
                      {
                        "bin_start": 12.1,
                        "bin_end": 13.4,
                        "count": 0
                      },
                      {
                        "bin_start": 13.4,
                        "bin_end": 14.700000000000001,
                        "count": 0
                      },
                      {
                        "bin_start": 14.700000000000001,
                        "bin_end": 16,
                        "count": 1
                      }
                    ]
                  }
                },
                {
                  "name": "Pressed Key Number",
                  "dtype": "int64",
                  "stats": {
                    "unique_count": 1,
                    "nan_count": 0,
                    "min": "1",
                    "max": "1",
                    "histogram": [
                      {
                        "bin_start": 0.5,
                        "bin_end": 0.6,
                        "count": 0
                      },
                      {
                        "bin_start": 0.6,
                        "bin_end": 0.7,
                        "count": 0
                      },
                      {
                        "bin_start": 0.7,
                        "bin_end": 0.8,
                        "count": 0
                      },
                      {
                        "bin_start": 0.8,
                        "bin_end": 0.9,
                        "count": 0
                      },
                      {
                        "bin_start": 0.9,
                        "bin_end": 1,
                        "count": 0
                      },
                      {
                        "bin_start": 1,
                        "bin_end": 1.1,
                        "count": 5
                      },
                      {
                        "bin_start": 1.1,
                        "bin_end": 1.2000000000000002,
                        "count": 0
                      },
                      {
                        "bin_start": 1.2000000000000002,
                        "bin_end": 1.3,
                        "count": 0
                      },
                      {
                        "bin_start": 1.3,
                        "bin_end": 1.4,
                        "count": 0
                      },
                      {
                        "bin_start": 1.4,
                        "bin_end": 1.5,
                        "count": 0
                      }
                    ]
                  }
                },
                {
                  "name": "Status (1 = correct, 2 = wrong, 3 = timeout)",
                  "dtype": "int64",
                  "stats": {
                    "unique_count": 2,
                    "nan_count": 0,
                    "min": "1",
                    "max": "2",
                    "histogram": [
                      {
                        "bin_start": 1,
                        "bin_end": 1.1,
                        "count": 1
                      },
                      {
                        "bin_start": 1.1,
                        "bin_end": 1.2,
                        "count": 0
                      },
                      {
                        "bin_start": 1.2,
                        "bin_end": 1.3,
                        "count": 0
                      },
                      {
                        "bin_start": 1.3,
                        "bin_end": 1.4,
                        "count": 0
                      },
                      {
                        "bin_start": 1.4,
                        "bin_end": 1.5,
                        "count": 0
                      },
                      {
                        "bin_start": 1.5,
                        "bin_end": 1.6,
                        "count": 0
                      },
                      {
                        "bin_start": 1.6,
                        "bin_end": 1.7000000000000002,
                        "count": 0
                      },
                      {
                        "bin_start": 1.7000000000000002,
                        "bin_end": 1.8,
                        "count": 0
                      },
                      {
                        "bin_start": 1.8,
                        "bin_end": 1.9,
                        "count": 0
                      },
                      {
                        "bin_start": 1.9,
                        "bin_end": 2,
                        "count": 4
                      }
                    ]
                  }
                },
                {
                  "name": "Response Time (ms)",
                  "dtype": "int64",
                  "stats": {
                    "unique_count": 5,
                    "nan_count": 0,
                    "min": "12",
                    "max": "1885",
                    "histogram": [
                      {
                        "bin_start": 12,
                        "bin_end": 199.3,
                        "count": 4
                      },
                      {
                        "bin_start": 199.3,
                        "bin_end": 386.6,
                        "count": 0
                      },
                      {
                        "bin_start": 386.6,
                        "bin_end": 573.9000000000001,
                        "count": 0
                      },
                      {
                        "bin_start": 573.9000000000001,
                        "bin_end": 761.2,
                        "count": 0
                      },
                      {
                        "bin_start": 761.2,
                        "bin_end": 948.5,
                        "count": 0
                      },
                      {
                        "bin_start": 948.5,
                        "bin_end": 1135.8000000000002,
                        "count": 0
                      },
                      {
                        "bin_start": 1135.8000000000002,
                        "bin_end": 1323.1000000000001,
                        "count": 0
                      },
                      {
                        "bin_start": 1323.1000000000001,
                        "bin_end": 1510.4,
                        "count": 0
                      },
                      {
                        "bin_start": 1510.4,
                        "bin_end": 1697.7,
                        "count": 0
                      },
                      {
                        "bin_start": 1697.7,
                        "bin_end": 1885,
                        "count": 1
                      }
                    ]
                  }
                },
                {
                  "name": "_deepnote_index_column",
                  "dtype": "int64"
                }
              ],
              "rows": [
                {
                  "Name of Block": "training",
                  "Name of Word": "green",
                  "Color of Word": "yellow",
                  "Stroop Color Match (1 = compatible, 0 = incompatible)": 0,
                  "Tablerow Number": 9,
                  "Pressed Key Number": 1,
                  "Status (1 = correct, 2 = wrong, 3 = timeout)": 2,
                  "Response Time (ms)": 1885,
                  "_deepnote_index_column": 0
                },
                {
                  "Name of Block": "training",
                  "Name of Word": "green",
                  "Color of Word": "green",
                  "Stroop Color Match (1 = compatible, 0 = incompatible)": 1,
                  "Tablerow Number": 10,
                  "Pressed Key Number": 1,
                  "Status (1 = correct, 2 = wrong, 3 = timeout)": 2,
                  "Response Time (ms)": 12,
                  "_deepnote_index_column": 1
                },
                {
                  "Name of Block": "training",
                  "Name of Word": "green",
                  "Color of Word": "green",
                  "Stroop Color Match (1 = compatible, 0 = incompatible)": 1,
                  "Tablerow Number": 10,
                  "Pressed Key Number": 1,
                  "Status (1 = correct, 2 = wrong, 3 = timeout)": 2,
                  "Response Time (ms)": 66,
                  "_deepnote_index_column": 2
                },
                {
                  "Name of Block": "training",
                  "Name of Word": "blue",
                  "Color of Word": "red",
                  "Stroop Color Match (1 = compatible, 0 = incompatible)": 0,
                  "Tablerow Number": 16,
                  "Pressed Key Number": 1,
                  "Status (1 = correct, 2 = wrong, 3 = timeout)": 1,
                  "Response Time (ms)": 151,
                  "_deepnote_index_column": 3
                },
                {
                  "Name of Block": "training",
                  "Name of Word": "yellow",
                  "Color of Word": "blue",
                  "Stroop Color Match (1 = compatible, 0 = incompatible)": 0,
                  "Tablerow Number": 3,
                  "Pressed Key Number": 1,
                  "Status (1 = correct, 2 = wrong, 3 = timeout)": 2,
                  "Response Time (ms)": 197,
                  "_deepnote_index_column": 4
                }
              ]
            },
            "text/plain": "  Name of Block Name of Word Color of Word  \\\n0      training        green        yellow   \n1      training        green         green   \n2      training        green         green   \n3      training         blue           red   \n4      training       yellow          blue   \n\n   Stroop Color Match (1 = compatible, 0 = incompatible)  Tablerow Number  \\\n0                                                  0                    9   \n1                                                  1                   10   \n2                                                  1                   10   \n3                                                  0                   16   \n4                                                  0                    3   \n\n   Pressed Key Number  Status (1 = correct, 2 = wrong, 3 = timeout)  \\\n0                   1                                             2   \n1                   1                                             2   \n2                   1                                             2   \n3                   1                                             1   \n4                   1                                             2   \n\n   Response Time (ms)  \n0                1885  \n1                  12  \n2                  66  \n3                 151  \n4                 197  ",
            "text/html": "<div>\n<style scoped>\n    .dataframe tbody tr th:only-of-type {\n        vertical-align: middle;\n    }\n\n    .dataframe tbody tr th {\n        vertical-align: top;\n    }\n\n    .dataframe thead th {\n        text-align: right;\n    }\n</style>\n<table border=\"1\" class=\"dataframe\">\n  <thead>\n    <tr style=\"text-align: right;\">\n      <th></th>\n      <th>Name of Block</th>\n      <th>Name of Word</th>\n      <th>Color of Word</th>\n      <th>Stroop Color Match (1 = compatible, 0 = incompatible)</th>\n      <th>Tablerow Number</th>\n      <th>Pressed Key Number</th>\n      <th>Status (1 = correct, 2 = wrong, 3 = timeout)</th>\n      <th>Response Time (ms)</th>\n    </tr>\n  </thead>\n  <tbody>\n    <tr>\n      <th>0</th>\n      <td>training</td>\n      <td>green</td>\n      <td>yellow</td>\n      <td>0</td>\n      <td>9</td>\n      <td>1</td>\n      <td>2</td>\n      <td>1885</td>\n    </tr>\n    <tr>\n      <th>1</th>\n      <td>training</td>\n      <td>green</td>\n      <td>green</td>\n      <td>1</td>\n      <td>10</td>\n      <td>1</td>\n      <td>2</td>\n      <td>12</td>\n    </tr>\n    <tr>\n      <th>2</th>\n      <td>training</td>\n      <td>green</td>\n      <td>green</td>\n      <td>1</td>\n      <td>10</td>\n      <td>1</td>\n      <td>2</td>\n      <td>66</td>\n    </tr>\n    <tr>\n      <th>3</th>\n      <td>training</td>\n      <td>blue</td>\n      <td>red</td>\n      <td>0</td>\n      <td>16</td>\n      <td>1</td>\n      <td>1</td>\n      <td>151</td>\n    </tr>\n    <tr>\n      <th>4</th>\n      <td>training</td>\n      <td>yellow</td>\n      <td>blue</td>\n      <td>0</td>\n      <td>3</td>\n      <td>1</td>\n      <td>2</td>\n      <td>197</td>\n    </tr>\n  </tbody>\n</table>\n</div>"
          },
          "metadata": {}
        }
      ],
      "outputs_reference": null,
      "execution_count": 29,
      "block_group": "51beefdd3a9f40d5ae054a72fad2673c",
      "content_dependencies": null
    },
    {
      "cell_type": "code",
      "source": "stroop_two.head()",
      "metadata": {
        "source_hash": "21eb7642",
        "execution_start": 1731627228770,
        "execution_millis": 1,
        "execution_context_id": "d6825e58-3769-484f-8607-a71473c05eb7",
        "cell_id": "fdbf73a7452744169a8f7f546fe6ee6c",
        "deepnote_cell_type": "code"
      },
      "outputs": [
        {
          "output_type": "execute_result",
          "execution_count": 30,
          "data": {
            "application/vnd.deepnote.dataframe.v3+json": {
              "column_count": 8,
              "row_count": 5,
              "columns": [
                {
                  "name": "Name of Block",
                  "dtype": "object",
                  "stats": {
                    "unique_count": 1,
                    "nan_count": 0,
                    "categories": [
                      {
                        "name": "training",
                        "count": 5
                      }
                    ]
                  }
                },
                {
                  "name": "Name of Word",
                  "dtype": "object",
                  "stats": {
                    "unique_count": 3,
                    "nan_count": 0,
                    "categories": [
                      {
                        "name": "yellow",
                        "count": 2
                      },
                      {
                        "name": "blue",
                        "count": 2
                      },
                      {
                        "name": "green",
                        "count": 1
                      }
                    ]
                  }
                },
                {
                  "name": "Color of Word",
                  "dtype": "object",
                  "stats": {
                    "unique_count": 3,
                    "nan_count": 0,
                    "categories": [
                      {
                        "name": "blue",
                        "count": 2
                      },
                      {
                        "name": "red",
                        "count": 2
                      },
                      {
                        "name": "green",
                        "count": 1
                      }
                    ]
                  }
                },
                {
                  "name": "Stroop Color Match (1 = compatible, 0 = incompatible)",
                  "dtype": "int64",
                  "stats": {
                    "unique_count": 2,
                    "nan_count": 0,
                    "min": "0",
                    "max": "1",
                    "histogram": [
                      {
                        "bin_start": 0,
                        "bin_end": 0.1,
                        "count": 4
                      },
                      {
                        "bin_start": 0.1,
                        "bin_end": 0.2,
                        "count": 0
                      },
                      {
                        "bin_start": 0.2,
                        "bin_end": 0.30000000000000004,
                        "count": 0
                      },
                      {
                        "bin_start": 0.30000000000000004,
                        "bin_end": 0.4,
                        "count": 0
                      },
                      {
                        "bin_start": 0.4,
                        "bin_end": 0.5,
                        "count": 0
                      },
                      {
                        "bin_start": 0.5,
                        "bin_end": 0.6000000000000001,
                        "count": 0
                      },
                      {
                        "bin_start": 0.6000000000000001,
                        "bin_end": 0.7000000000000001,
                        "count": 0
                      },
                      {
                        "bin_start": 0.7000000000000001,
                        "bin_end": 0.8,
                        "count": 0
                      },
                      {
                        "bin_start": 0.8,
                        "bin_end": 0.9,
                        "count": 0
                      },
                      {
                        "bin_start": 0.9,
                        "bin_end": 1,
                        "count": 1
                      }
                    ]
                  }
                },
                {
                  "name": "Tablerow Number",
                  "dtype": "int64",
                  "stats": {
                    "unique_count": 5,
                    "nan_count": 0,
                    "min": "2",
                    "max": "16",
                    "histogram": [
                      {
                        "bin_start": 2,
                        "bin_end": 3.4,
                        "count": 2
                      },
                      {
                        "bin_start": 3.4,
                        "bin_end": 4.8,
                        "count": 0
                      },
                      {
                        "bin_start": 4.8,
                        "bin_end": 6.199999999999999,
                        "count": 0
                      },
                      {
                        "bin_start": 6.199999999999999,
                        "bin_end": 7.6,
                        "count": 0
                      },
                      {
                        "bin_start": 7.6,
                        "bin_end": 9,
                        "count": 0
                      },
                      {
                        "bin_start": 9,
                        "bin_end": 10.399999999999999,
                        "count": 0
                      },
                      {
                        "bin_start": 10.399999999999999,
                        "bin_end": 11.799999999999999,
                        "count": 0
                      },
                      {
                        "bin_start": 11.799999999999999,
                        "bin_end": 13.2,
                        "count": 1
                      },
                      {
                        "bin_start": 13.2,
                        "bin_end": 14.6,
                        "count": 0
                      },
                      {
                        "bin_start": 14.6,
                        "bin_end": 16,
                        "count": 2
                      }
                    ]
                  }
                },
                {
                  "name": "Pressed Key Number",
                  "dtype": "int64",
                  "stats": {
                    "unique_count": 3,
                    "nan_count": 0,
                    "min": "1",
                    "max": "3",
                    "histogram": [
                      {
                        "bin_start": 1,
                        "bin_end": 1.2,
                        "count": 2
                      },
                      {
                        "bin_start": 1.2,
                        "bin_end": 1.4,
                        "count": 0
                      },
                      {
                        "bin_start": 1.4,
                        "bin_end": 1.6,
                        "count": 0
                      },
                      {
                        "bin_start": 1.6,
                        "bin_end": 1.8,
                        "count": 0
                      },
                      {
                        "bin_start": 1.8,
                        "bin_end": 2,
                        "count": 0
                      },
                      {
                        "bin_start": 2,
                        "bin_end": 2.2,
                        "count": 1
                      },
                      {
                        "bin_start": 2.2,
                        "bin_end": 2.4000000000000004,
                        "count": 0
                      },
                      {
                        "bin_start": 2.4000000000000004,
                        "bin_end": 2.6,
                        "count": 0
                      },
                      {
                        "bin_start": 2.6,
                        "bin_end": 2.8,
                        "count": 0
                      },
                      {
                        "bin_start": 2.8,
                        "bin_end": 3,
                        "count": 2
                      }
                    ]
                  }
                },
                {
                  "name": "Status (1 = correct, 2 = wrong, 3 = timeout)",
                  "dtype": "int64",
                  "stats": {
                    "unique_count": 1,
                    "nan_count": 0,
                    "min": "1",
                    "max": "1",
                    "histogram": [
                      {
                        "bin_start": 0.5,
                        "bin_end": 0.6,
                        "count": 0
                      },
                      {
                        "bin_start": 0.6,
                        "bin_end": 0.7,
                        "count": 0
                      },
                      {
                        "bin_start": 0.7,
                        "bin_end": 0.8,
                        "count": 0
                      },
                      {
                        "bin_start": 0.8,
                        "bin_end": 0.9,
                        "count": 0
                      },
                      {
                        "bin_start": 0.9,
                        "bin_end": 1,
                        "count": 0
                      },
                      {
                        "bin_start": 1,
                        "bin_end": 1.1,
                        "count": 5
                      },
                      {
                        "bin_start": 1.1,
                        "bin_end": 1.2000000000000002,
                        "count": 0
                      },
                      {
                        "bin_start": 1.2000000000000002,
                        "bin_end": 1.3,
                        "count": 0
                      },
                      {
                        "bin_start": 1.3,
                        "bin_end": 1.4,
                        "count": 0
                      },
                      {
                        "bin_start": 1.4,
                        "bin_end": 1.5,
                        "count": 0
                      }
                    ]
                  }
                },
                {
                  "name": "Response Time (ms)",
                  "dtype": "int64",
                  "stats": {
                    "unique_count": 5,
                    "nan_count": 0,
                    "min": "1089",
                    "max": "1557",
                    "histogram": [
                      {
                        "bin_start": 1089,
                        "bin_end": 1135.8,
                        "count": 2
                      },
                      {
                        "bin_start": 1135.8,
                        "bin_end": 1182.6,
                        "count": 0
                      },
                      {
                        "bin_start": 1182.6,
                        "bin_end": 1229.4,
                        "count": 1
                      },
                      {
                        "bin_start": 1229.4,
                        "bin_end": 1276.2,
                        "count": 0
                      },
                      {
                        "bin_start": 1276.2,
                        "bin_end": 1323,
                        "count": 0
                      },
                      {
                        "bin_start": 1323,
                        "bin_end": 1369.8,
                        "count": 0
                      },
                      {
                        "bin_start": 1369.8,
                        "bin_end": 1416.6,
                        "count": 1
                      },
                      {
                        "bin_start": 1416.6,
                        "bin_end": 1463.4,
                        "count": 0
                      },
                      {
                        "bin_start": 1463.4,
                        "bin_end": 1510.2,
                        "count": 0
                      },
                      {
                        "bin_start": 1510.2,
                        "bin_end": 1557,
                        "count": 1
                      }
                    ]
                  }
                },
                {
                  "name": "_deepnote_index_column",
                  "dtype": "int64"
                }
              ],
              "rows": [
                {
                  "Name of Block": "training",
                  "Name of Word": "yellow",
                  "Color of Word": "green",
                  "Stroop Color Match (1 = compatible, 0 = incompatible)": 0,
                  "Tablerow Number": 2,
                  "Pressed Key Number": 2,
                  "Status (1 = correct, 2 = wrong, 3 = timeout)": 1,
                  "Response Time (ms)": 1395,
                  "_deepnote_index_column": 0
                },
                {
                  "Name of Block": "training",
                  "Name of Word": "yellow",
                  "Color of Word": "blue",
                  "Stroop Color Match (1 = compatible, 0 = incompatible)": 0,
                  "Tablerow Number": 3,
                  "Pressed Key Number": 3,
                  "Status (1 = correct, 2 = wrong, 3 = timeout)": 1,
                  "Response Time (ms)": 1089,
                  "_deepnote_index_column": 1
                },
                {
                  "Name of Block": "training",
                  "Name of Word": "blue",
                  "Color of Word": "blue",
                  "Stroop Color Match (1 = compatible, 0 = incompatible)": 1,
                  "Tablerow Number": 15,
                  "Pressed Key Number": 3,
                  "Status (1 = correct, 2 = wrong, 3 = timeout)": 1,
                  "Response Time (ms)": 1126,
                  "_deepnote_index_column": 2
                },
                {
                  "Name of Block": "training",
                  "Name of Word": "green",
                  "Color of Word": "red",
                  "Stroop Color Match (1 = compatible, 0 = incompatible)": 0,
                  "Tablerow Number": 12,
                  "Pressed Key Number": 1,
                  "Status (1 = correct, 2 = wrong, 3 = timeout)": 1,
                  "Response Time (ms)": 1226,
                  "_deepnote_index_column": 3
                },
                {
                  "Name of Block": "training",
                  "Name of Word": "blue",
                  "Color of Word": "red",
                  "Stroop Color Match (1 = compatible, 0 = incompatible)": 0,
                  "Tablerow Number": 16,
                  "Pressed Key Number": 1,
                  "Status (1 = correct, 2 = wrong, 3 = timeout)": 1,
                  "Response Time (ms)": 1557,
                  "_deepnote_index_column": 4
                }
              ]
            },
            "text/plain": "  Name of Block Name of Word Color of Word  \\\n0      training       yellow         green   \n1      training       yellow          blue   \n2      training         blue          blue   \n3      training        green           red   \n4      training         blue           red   \n\n   Stroop Color Match (1 = compatible, 0 = incompatible)  Tablerow Number  \\\n0                                                  0                    2   \n1                                                  0                    3   \n2                                                  1                   15   \n3                                                  0                   12   \n4                                                  0                   16   \n\n   Pressed Key Number  Status (1 = correct, 2 = wrong, 3 = timeout)  \\\n0                   2                                             1   \n1                   3                                             1   \n2                   3                                             1   \n3                   1                                             1   \n4                   1                                             1   \n\n   Response Time (ms)  \n0                1395  \n1                1089  \n2                1126  \n3                1226  \n4                1557  ",
            "text/html": "<div>\n<style scoped>\n    .dataframe tbody tr th:only-of-type {\n        vertical-align: middle;\n    }\n\n    .dataframe tbody tr th {\n        vertical-align: top;\n    }\n\n    .dataframe thead th {\n        text-align: right;\n    }\n</style>\n<table border=\"1\" class=\"dataframe\">\n  <thead>\n    <tr style=\"text-align: right;\">\n      <th></th>\n      <th>Name of Block</th>\n      <th>Name of Word</th>\n      <th>Color of Word</th>\n      <th>Stroop Color Match (1 = compatible, 0 = incompatible)</th>\n      <th>Tablerow Number</th>\n      <th>Pressed Key Number</th>\n      <th>Status (1 = correct, 2 = wrong, 3 = timeout)</th>\n      <th>Response Time (ms)</th>\n    </tr>\n  </thead>\n  <tbody>\n    <tr>\n      <th>0</th>\n      <td>training</td>\n      <td>yellow</td>\n      <td>green</td>\n      <td>0</td>\n      <td>2</td>\n      <td>2</td>\n      <td>1</td>\n      <td>1395</td>\n    </tr>\n    <tr>\n      <th>1</th>\n      <td>training</td>\n      <td>yellow</td>\n      <td>blue</td>\n      <td>0</td>\n      <td>3</td>\n      <td>3</td>\n      <td>1</td>\n      <td>1089</td>\n    </tr>\n    <tr>\n      <th>2</th>\n      <td>training</td>\n      <td>blue</td>\n      <td>blue</td>\n      <td>1</td>\n      <td>15</td>\n      <td>3</td>\n      <td>1</td>\n      <td>1126</td>\n    </tr>\n    <tr>\n      <th>3</th>\n      <td>training</td>\n      <td>green</td>\n      <td>red</td>\n      <td>0</td>\n      <td>12</td>\n      <td>1</td>\n      <td>1</td>\n      <td>1226</td>\n    </tr>\n    <tr>\n      <th>4</th>\n      <td>training</td>\n      <td>blue</td>\n      <td>red</td>\n      <td>0</td>\n      <td>16</td>\n      <td>1</td>\n      <td>1</td>\n      <td>1557</td>\n    </tr>\n  </tbody>\n</table>\n</div>"
          },
          "metadata": {}
        }
      ],
      "outputs_reference": null,
      "execution_count": 30,
      "block_group": "88263788aae54f62a0c54276b51a4c3f",
      "content_dependencies": null
    },
    {
      "cell_type": "code",
      "source": "stroop_three.head()",
      "metadata": {
        "source_hash": "e640a935",
        "execution_start": 1731627228838,
        "execution_millis": 0,
        "execution_context_id": "d6825e58-3769-484f-8607-a71473c05eb7",
        "cell_id": "3a1bd3a3128b4effa4cfd419dc76e2b2",
        "deepnote_cell_type": "code"
      },
      "outputs": [
        {
          "output_type": "execute_result",
          "execution_count": 31,
          "data": {
            "application/vnd.deepnote.dataframe.v3+json": {
              "column_count": 8,
              "row_count": 5,
              "columns": [
                {
                  "name": "Name of Block",
                  "dtype": "object",
                  "stats": {
                    "unique_count": 1,
                    "nan_count": 0,
                    "categories": [
                      {
                        "name": "training",
                        "count": 5
                      }
                    ]
                  }
                },
                {
                  "name": "Name of Word",
                  "dtype": "object",
                  "stats": {
                    "unique_count": 4,
                    "nan_count": 0,
                    "categories": [
                      {
                        "name": "red",
                        "count": 2
                      },
                      {
                        "name": "green",
                        "count": 1
                      },
                      {
                        "name": "2 others",
                        "count": 2
                      }
                    ]
                  }
                },
                {
                  "name": "Color of Word",
                  "dtype": "object",
                  "stats": {
                    "unique_count": 4,
                    "nan_count": 0,
                    "categories": [
                      {
                        "name": "green",
                        "count": 2
                      },
                      {
                        "name": "red",
                        "count": 1
                      },
                      {
                        "name": "2 others",
                        "count": 2
                      }
                    ]
                  }
                },
                {
                  "name": "Stroop Color Match (1 = compatible, 0 = incompatible)",
                  "dtype": "int64",
                  "stats": {
                    "unique_count": 2,
                    "nan_count": 0,
                    "min": "0",
                    "max": "1",
                    "histogram": [
                      {
                        "bin_start": 0,
                        "bin_end": 0.1,
                        "count": 3
                      },
                      {
                        "bin_start": 0.1,
                        "bin_end": 0.2,
                        "count": 0
                      },
                      {
                        "bin_start": 0.2,
                        "bin_end": 0.30000000000000004,
                        "count": 0
                      },
                      {
                        "bin_start": 0.30000000000000004,
                        "bin_end": 0.4,
                        "count": 0
                      },
                      {
                        "bin_start": 0.4,
                        "bin_end": 0.5,
                        "count": 0
                      },
                      {
                        "bin_start": 0.5,
                        "bin_end": 0.6000000000000001,
                        "count": 0
                      },
                      {
                        "bin_start": 0.6000000000000001,
                        "bin_end": 0.7000000000000001,
                        "count": 0
                      },
                      {
                        "bin_start": 0.7000000000000001,
                        "bin_end": 0.8,
                        "count": 0
                      },
                      {
                        "bin_start": 0.8,
                        "bin_end": 0.9,
                        "count": 0
                      },
                      {
                        "bin_start": 0.9,
                        "bin_end": 1,
                        "count": 2
                      }
                    ]
                  }
                },
                {
                  "name": "Tablerow Number",
                  "dtype": "int64",
                  "stats": {
                    "unique_count": 5,
                    "nan_count": 0,
                    "min": "1",
                    "max": "14",
                    "histogram": [
                      {
                        "bin_start": 1,
                        "bin_end": 2.3,
                        "count": 1
                      },
                      {
                        "bin_start": 2.3,
                        "bin_end": 3.6,
                        "count": 0
                      },
                      {
                        "bin_start": 3.6,
                        "bin_end": 4.9,
                        "count": 0
                      },
                      {
                        "bin_start": 4.9,
                        "bin_end": 6.2,
                        "count": 1
                      },
                      {
                        "bin_start": 6.2,
                        "bin_end": 7.5,
                        "count": 0
                      },
                      {
                        "bin_start": 7.5,
                        "bin_end": 8.8,
                        "count": 1
                      },
                      {
                        "bin_start": 8.8,
                        "bin_end": 10.1,
                        "count": 0
                      },
                      {
                        "bin_start": 10.1,
                        "bin_end": 11.4,
                        "count": 1
                      },
                      {
                        "bin_start": 11.4,
                        "bin_end": 12.700000000000001,
                        "count": 0
                      },
                      {
                        "bin_start": 12.700000000000001,
                        "bin_end": 14,
                        "count": 1
                      }
                    ]
                  }
                },
                {
                  "name": "Pressed Key Number",
                  "dtype": "int64",
                  "stats": {
                    "unique_count": 2,
                    "nan_count": 0,
                    "min": "1",
                    "max": "4",
                    "histogram": [
                      {
                        "bin_start": 1,
                        "bin_end": 1.3,
                        "count": 4
                      },
                      {
                        "bin_start": 1.3,
                        "bin_end": 1.6,
                        "count": 0
                      },
                      {
                        "bin_start": 1.6,
                        "bin_end": 1.9,
                        "count": 0
                      },
                      {
                        "bin_start": 1.9,
                        "bin_end": 2.2,
                        "count": 0
                      },
                      {
                        "bin_start": 2.2,
                        "bin_end": 2.5,
                        "count": 0
                      },
                      {
                        "bin_start": 2.5,
                        "bin_end": 2.8,
                        "count": 0
                      },
                      {
                        "bin_start": 2.8,
                        "bin_end": 3.1,
                        "count": 0
                      },
                      {
                        "bin_start": 3.1,
                        "bin_end": 3.4,
                        "count": 0
                      },
                      {
                        "bin_start": 3.4,
                        "bin_end": 3.6999999999999997,
                        "count": 0
                      },
                      {
                        "bin_start": 3.6999999999999997,
                        "bin_end": 4,
                        "count": 1
                      }
                    ]
                  }
                },
                {
                  "name": "Status (1 = correct, 2 = wrong, 3 = timeout)",
                  "dtype": "int64",
                  "stats": {
                    "unique_count": 2,
                    "nan_count": 0,
                    "min": "1",
                    "max": "3",
                    "histogram": [
                      {
                        "bin_start": 1,
                        "bin_end": 1.2,
                        "count": 1
                      },
                      {
                        "bin_start": 1.2,
                        "bin_end": 1.4,
                        "count": 0
                      },
                      {
                        "bin_start": 1.4,
                        "bin_end": 1.6,
                        "count": 0
                      },
                      {
                        "bin_start": 1.6,
                        "bin_end": 1.8,
                        "count": 0
                      },
                      {
                        "bin_start": 1.8,
                        "bin_end": 2,
                        "count": 0
                      },
                      {
                        "bin_start": 2,
                        "bin_end": 2.2,
                        "count": 0
                      },
                      {
                        "bin_start": 2.2,
                        "bin_end": 2.4000000000000004,
                        "count": 0
                      },
                      {
                        "bin_start": 2.4000000000000004,
                        "bin_end": 2.6,
                        "count": 0
                      },
                      {
                        "bin_start": 2.6,
                        "bin_end": 2.8,
                        "count": 0
                      },
                      {
                        "bin_start": 2.8,
                        "bin_end": 3,
                        "count": 4
                      }
                    ]
                  }
                },
                {
                  "name": "Response Time (ms)",
                  "dtype": "int64",
                  "stats": {
                    "unique_count": 2,
                    "nan_count": 0,
                    "min": "1714",
                    "max": "2000",
                    "histogram": [
                      {
                        "bin_start": 1714,
                        "bin_end": 1742.6,
                        "count": 1
                      },
                      {
                        "bin_start": 1742.6,
                        "bin_end": 1771.2,
                        "count": 0
                      },
                      {
                        "bin_start": 1771.2,
                        "bin_end": 1799.8,
                        "count": 0
                      },
                      {
                        "bin_start": 1799.8,
                        "bin_end": 1828.4,
                        "count": 0
                      },
                      {
                        "bin_start": 1828.4,
                        "bin_end": 1857,
                        "count": 0
                      },
                      {
                        "bin_start": 1857,
                        "bin_end": 1885.6,
                        "count": 0
                      },
                      {
                        "bin_start": 1885.6,
                        "bin_end": 1914.2,
                        "count": 0
                      },
                      {
                        "bin_start": 1914.2,
                        "bin_end": 1942.8,
                        "count": 0
                      },
                      {
                        "bin_start": 1942.8,
                        "bin_end": 1971.4,
                        "count": 0
                      },
                      {
                        "bin_start": 1971.4,
                        "bin_end": 2000,
                        "count": 4
                      }
                    ]
                  }
                },
                {
                  "name": "_deepnote_index_column",
                  "dtype": "int64"
                }
              ],
              "rows": [
                {
                  "Name of Block": "training",
                  "Name of Word": "red",
                  "Color of Word": "red",
                  "Stroop Color Match (1 = compatible, 0 = incompatible)": 1,
                  "Tablerow Number": 8,
                  "Pressed Key Number": 1,
                  "Status (1 = correct, 2 = wrong, 3 = timeout)": 3,
                  "Response Time (ms)": 2000,
                  "_deepnote_index_column": 0
                },
                {
                  "Name of Block": "training",
                  "Name of Word": "green",
                  "Color of Word": "blue",
                  "Stroop Color Match (1 = compatible, 0 = incompatible)": 0,
                  "Tablerow Number": 11,
                  "Pressed Key Number": 1,
                  "Status (1 = correct, 2 = wrong, 3 = timeout)": 3,
                  "Response Time (ms)": 2000,
                  "_deepnote_index_column": 1
                },
                {
                  "Name of Block": "training",
                  "Name of Word": "red",
                  "Color of Word": "green",
                  "Stroop Color Match (1 = compatible, 0 = incompatible)": 0,
                  "Tablerow Number": 6,
                  "Pressed Key Number": 1,
                  "Status (1 = correct, 2 = wrong, 3 = timeout)": 3,
                  "Response Time (ms)": 2000,
                  "_deepnote_index_column": 2
                },
                {
                  "Name of Block": "training",
                  "Name of Word": "yellow",
                  "Color of Word": "yellow",
                  "Stroop Color Match (1 = compatible, 0 = incompatible)": 1,
                  "Tablerow Number": 1,
                  "Pressed Key Number": 4,
                  "Status (1 = correct, 2 = wrong, 3 = timeout)": 1,
                  "Response Time (ms)": 1714,
                  "_deepnote_index_column": 3
                },
                {
                  "Name of Block": "training",
                  "Name of Word": "blue",
                  "Color of Word": "green",
                  "Stroop Color Match (1 = compatible, 0 = incompatible)": 0,
                  "Tablerow Number": 14,
                  "Pressed Key Number": 1,
                  "Status (1 = correct, 2 = wrong, 3 = timeout)": 3,
                  "Response Time (ms)": 2000,
                  "_deepnote_index_column": 4
                }
              ]
            },
            "text/plain": "  Name of Block Name of Word Color of Word  \\\n0      training          red           red   \n1      training        green          blue   \n2      training          red         green   \n3      training       yellow        yellow   \n4      training         blue         green   \n\n   Stroop Color Match (1 = compatible, 0 = incompatible)  Tablerow Number  \\\n0                                                  1                    8   \n1                                                  0                   11   \n2                                                  0                    6   \n3                                                  1                    1   \n4                                                  0                   14   \n\n   Pressed Key Number  Status (1 = correct, 2 = wrong, 3 = timeout)  \\\n0                   1                                             3   \n1                   1                                             3   \n2                   1                                             3   \n3                   4                                             1   \n4                   1                                             3   \n\n   Response Time (ms)  \n0                2000  \n1                2000  \n2                2000  \n3                1714  \n4                2000  ",
            "text/html": "<div>\n<style scoped>\n    .dataframe tbody tr th:only-of-type {\n        vertical-align: middle;\n    }\n\n    .dataframe tbody tr th {\n        vertical-align: top;\n    }\n\n    .dataframe thead th {\n        text-align: right;\n    }\n</style>\n<table border=\"1\" class=\"dataframe\">\n  <thead>\n    <tr style=\"text-align: right;\">\n      <th></th>\n      <th>Name of Block</th>\n      <th>Name of Word</th>\n      <th>Color of Word</th>\n      <th>Stroop Color Match (1 = compatible, 0 = incompatible)</th>\n      <th>Tablerow Number</th>\n      <th>Pressed Key Number</th>\n      <th>Status (1 = correct, 2 = wrong, 3 = timeout)</th>\n      <th>Response Time (ms)</th>\n    </tr>\n  </thead>\n  <tbody>\n    <tr>\n      <th>0</th>\n      <td>training</td>\n      <td>red</td>\n      <td>red</td>\n      <td>1</td>\n      <td>8</td>\n      <td>1</td>\n      <td>3</td>\n      <td>2000</td>\n    </tr>\n    <tr>\n      <th>1</th>\n      <td>training</td>\n      <td>green</td>\n      <td>blue</td>\n      <td>0</td>\n      <td>11</td>\n      <td>1</td>\n      <td>3</td>\n      <td>2000</td>\n    </tr>\n    <tr>\n      <th>2</th>\n      <td>training</td>\n      <td>red</td>\n      <td>green</td>\n      <td>0</td>\n      <td>6</td>\n      <td>1</td>\n      <td>3</td>\n      <td>2000</td>\n    </tr>\n    <tr>\n      <th>3</th>\n      <td>training</td>\n      <td>yellow</td>\n      <td>yellow</td>\n      <td>1</td>\n      <td>1</td>\n      <td>4</td>\n      <td>1</td>\n      <td>1714</td>\n    </tr>\n    <tr>\n      <th>4</th>\n      <td>training</td>\n      <td>blue</td>\n      <td>green</td>\n      <td>0</td>\n      <td>14</td>\n      <td>1</td>\n      <td>3</td>\n      <td>2000</td>\n    </tr>\n  </tbody>\n</table>\n</div>"
          },
          "metadata": {}
        }
      ],
      "outputs_reference": null,
      "execution_count": 31,
      "block_group": "4f6dc6baef294621ab366136cb9d6b59",
      "content_dependencies": null
    },
    {
      "cell_type": "code",
      "source": "stroop_four.head()",
      "metadata": {
        "source_hash": "76bf41ca",
        "execution_start": 1731627228894,
        "execution_millis": 1,
        "execution_context_id": "d6825e58-3769-484f-8607-a71473c05eb7",
        "cell_id": "a76942494af8418f9e3a81c242de9180",
        "deepnote_cell_type": "code"
      },
      "outputs": [
        {
          "output_type": "execute_result",
          "execution_count": 32,
          "data": {
            "application/vnd.deepnote.dataframe.v3+json": {
              "column_count": 8,
              "row_count": 5,
              "columns": [
                {
                  "name": "Name of Block",
                  "dtype": "object",
                  "stats": {
                    "unique_count": 1,
                    "nan_count": 0,
                    "categories": [
                      {
                        "name": "training",
                        "count": 5
                      }
                    ]
                  }
                },
                {
                  "name": "Name of Word",
                  "dtype": "object",
                  "stats": {
                    "unique_count": 3,
                    "nan_count": 0,
                    "categories": [
                      {
                        "name": "blue",
                        "count": 3
                      },
                      {
                        "name": "green",
                        "count": 1
                      },
                      {
                        "name": "red",
                        "count": 1
                      }
                    ]
                  }
                },
                {
                  "name": "Color of Word",
                  "dtype": "object",
                  "stats": {
                    "unique_count": 2,
                    "nan_count": 0,
                    "categories": [
                      {
                        "name": "red",
                        "count": 4
                      },
                      {
                        "name": "yellow",
                        "count": 1
                      }
                    ]
                  }
                },
                {
                  "name": "Stroop Color Match (1 = compatible, 0 = incompatible)",
                  "dtype": "int64",
                  "stats": {
                    "unique_count": 2,
                    "nan_count": 0,
                    "min": "0",
                    "max": "1",
                    "histogram": [
                      {
                        "bin_start": 0,
                        "bin_end": 0.1,
                        "count": 4
                      },
                      {
                        "bin_start": 0.1,
                        "bin_end": 0.2,
                        "count": 0
                      },
                      {
                        "bin_start": 0.2,
                        "bin_end": 0.30000000000000004,
                        "count": 0
                      },
                      {
                        "bin_start": 0.30000000000000004,
                        "bin_end": 0.4,
                        "count": 0
                      },
                      {
                        "bin_start": 0.4,
                        "bin_end": 0.5,
                        "count": 0
                      },
                      {
                        "bin_start": 0.5,
                        "bin_end": 0.6000000000000001,
                        "count": 0
                      },
                      {
                        "bin_start": 0.6000000000000001,
                        "bin_end": 0.7000000000000001,
                        "count": 0
                      },
                      {
                        "bin_start": 0.7000000000000001,
                        "bin_end": 0.8,
                        "count": 0
                      },
                      {
                        "bin_start": 0.8,
                        "bin_end": 0.9,
                        "count": 0
                      },
                      {
                        "bin_start": 0.9,
                        "bin_end": 1,
                        "count": 1
                      }
                    ]
                  }
                },
                {
                  "name": "Tablerow Number",
                  "dtype": "int64",
                  "stats": {
                    "unique_count": 4,
                    "nan_count": 0,
                    "min": "8",
                    "max": "16",
                    "histogram": [
                      {
                        "bin_start": 8,
                        "bin_end": 8.8,
                        "count": 1
                      },
                      {
                        "bin_start": 8.8,
                        "bin_end": 9.6,
                        "count": 0
                      },
                      {
                        "bin_start": 9.6,
                        "bin_end": 10.4,
                        "count": 0
                      },
                      {
                        "bin_start": 10.4,
                        "bin_end": 11.2,
                        "count": 0
                      },
                      {
                        "bin_start": 11.2,
                        "bin_end": 12,
                        "count": 0
                      },
                      {
                        "bin_start": 12,
                        "bin_end": 12.8,
                        "count": 1
                      },
                      {
                        "bin_start": 12.8,
                        "bin_end": 13.600000000000001,
                        "count": 1
                      },
                      {
                        "bin_start": 13.600000000000001,
                        "bin_end": 14.4,
                        "count": 0
                      },
                      {
                        "bin_start": 14.4,
                        "bin_end": 15.2,
                        "count": 0
                      },
                      {
                        "bin_start": 15.2,
                        "bin_end": 16,
                        "count": 2
                      }
                    ]
                  }
                },
                {
                  "name": "Pressed Key Number",
                  "dtype": "int64",
                  "stats": {
                    "unique_count": 2,
                    "nan_count": 0,
                    "min": "1",
                    "max": "4",
                    "histogram": [
                      {
                        "bin_start": 1,
                        "bin_end": 1.3,
                        "count": 4
                      },
                      {
                        "bin_start": 1.3,
                        "bin_end": 1.6,
                        "count": 0
                      },
                      {
                        "bin_start": 1.6,
                        "bin_end": 1.9,
                        "count": 0
                      },
                      {
                        "bin_start": 1.9,
                        "bin_end": 2.2,
                        "count": 0
                      },
                      {
                        "bin_start": 2.2,
                        "bin_end": 2.5,
                        "count": 0
                      },
                      {
                        "bin_start": 2.5,
                        "bin_end": 2.8,
                        "count": 0
                      },
                      {
                        "bin_start": 2.8,
                        "bin_end": 3.1,
                        "count": 0
                      },
                      {
                        "bin_start": 3.1,
                        "bin_end": 3.4,
                        "count": 0
                      },
                      {
                        "bin_start": 3.4,
                        "bin_end": 3.6999999999999997,
                        "count": 0
                      },
                      {
                        "bin_start": 3.6999999999999997,
                        "bin_end": 4,
                        "count": 1
                      }
                    ]
                  }
                },
                {
                  "name": "Status (1 = correct, 2 = wrong, 3 = timeout)",
                  "dtype": "int64",
                  "stats": {
                    "unique_count": 1,
                    "nan_count": 0,
                    "min": "1",
                    "max": "1",
                    "histogram": [
                      {
                        "bin_start": 0.5,
                        "bin_end": 0.6,
                        "count": 0
                      },
                      {
                        "bin_start": 0.6,
                        "bin_end": 0.7,
                        "count": 0
                      },
                      {
                        "bin_start": 0.7,
                        "bin_end": 0.8,
                        "count": 0
                      },
                      {
                        "bin_start": 0.8,
                        "bin_end": 0.9,
                        "count": 0
                      },
                      {
                        "bin_start": 0.9,
                        "bin_end": 1,
                        "count": 0
                      },
                      {
                        "bin_start": 1,
                        "bin_end": 1.1,
                        "count": 5
                      },
                      {
                        "bin_start": 1.1,
                        "bin_end": 1.2000000000000002,
                        "count": 0
                      },
                      {
                        "bin_start": 1.2000000000000002,
                        "bin_end": 1.3,
                        "count": 0
                      },
                      {
                        "bin_start": 1.3,
                        "bin_end": 1.4,
                        "count": 0
                      },
                      {
                        "bin_start": 1.4,
                        "bin_end": 1.5,
                        "count": 0
                      }
                    ]
                  }
                },
                {
                  "name": "Response Time (ms)",
                  "dtype": "int64",
                  "stats": {
                    "unique_count": 5,
                    "nan_count": 0,
                    "min": "855",
                    "max": "1560",
                    "histogram": [
                      {
                        "bin_start": 855,
                        "bin_end": 925.5,
                        "count": 1
                      },
                      {
                        "bin_start": 925.5,
                        "bin_end": 996,
                        "count": 1
                      },
                      {
                        "bin_start": 996,
                        "bin_end": 1066.5,
                        "count": 1
                      },
                      {
                        "bin_start": 1066.5,
                        "bin_end": 1137,
                        "count": 0
                      },
                      {
                        "bin_start": 1137,
                        "bin_end": 1207.5,
                        "count": 0
                      },
                      {
                        "bin_start": 1207.5,
                        "bin_end": 1278,
                        "count": 0
                      },
                      {
                        "bin_start": 1278,
                        "bin_end": 1348.5,
                        "count": 0
                      },
                      {
                        "bin_start": 1348.5,
                        "bin_end": 1419,
                        "count": 1
                      },
                      {
                        "bin_start": 1419,
                        "bin_end": 1489.5,
                        "count": 0
                      },
                      {
                        "bin_start": 1489.5,
                        "bin_end": 1560,
                        "count": 1
                      }
                    ]
                  }
                },
                {
                  "name": "_deepnote_index_column",
                  "dtype": "int64"
                }
              ],
              "rows": [
                {
                  "Name of Block": "training",
                  "Name of Word": "green",
                  "Color of Word": "red",
                  "Stroop Color Match (1 = compatible, 0 = incompatible)": 0,
                  "Tablerow Number": 12,
                  "Pressed Key Number": 1,
                  "Status (1 = correct, 2 = wrong, 3 = timeout)": 1,
                  "Response Time (ms)": 981,
                  "_deepnote_index_column": 0
                },
                {
                  "Name of Block": "training",
                  "Name of Word": "blue",
                  "Color of Word": "yellow",
                  "Stroop Color Match (1 = compatible, 0 = incompatible)": 0,
                  "Tablerow Number": 13,
                  "Pressed Key Number": 4,
                  "Status (1 = correct, 2 = wrong, 3 = timeout)": 1,
                  "Response Time (ms)": 1560,
                  "_deepnote_index_column": 1
                },
                {
                  "Name of Block": "training",
                  "Name of Word": "red",
                  "Color of Word": "red",
                  "Stroop Color Match (1 = compatible, 0 = incompatible)": 1,
                  "Tablerow Number": 8,
                  "Pressed Key Number": 1,
                  "Status (1 = correct, 2 = wrong, 3 = timeout)": 1,
                  "Response Time (ms)": 1386,
                  "_deepnote_index_column": 2
                },
                {
                  "Name of Block": "training",
                  "Name of Word": "blue",
                  "Color of Word": "red",
                  "Stroop Color Match (1 = compatible, 0 = incompatible)": 0,
                  "Tablerow Number": 16,
                  "Pressed Key Number": 1,
                  "Status (1 = correct, 2 = wrong, 3 = timeout)": 1,
                  "Response Time (ms)": 1033,
                  "_deepnote_index_column": 3
                },
                {
                  "Name of Block": "training",
                  "Name of Word": "blue",
                  "Color of Word": "red",
                  "Stroop Color Match (1 = compatible, 0 = incompatible)": 0,
                  "Tablerow Number": 16,
                  "Pressed Key Number": 1,
                  "Status (1 = correct, 2 = wrong, 3 = timeout)": 1,
                  "Response Time (ms)": 855,
                  "_deepnote_index_column": 4
                }
              ]
            },
            "text/plain": "  Name of Block Name of Word Color of Word  \\\n0      training        green           red   \n1      training         blue        yellow   \n2      training          red           red   \n3      training         blue           red   \n4      training         blue           red   \n\n   Stroop Color Match (1 = compatible, 0 = incompatible)  Tablerow Number  \\\n0                                                  0                   12   \n1                                                  0                   13   \n2                                                  1                    8   \n3                                                  0                   16   \n4                                                  0                   16   \n\n   Pressed Key Number  Status (1 = correct, 2 = wrong, 3 = timeout)  \\\n0                   1                                             1   \n1                   4                                             1   \n2                   1                                             1   \n3                   1                                             1   \n4                   1                                             1   \n\n   Response Time (ms)  \n0                 981  \n1                1560  \n2                1386  \n3                1033  \n4                 855  ",
            "text/html": "<div>\n<style scoped>\n    .dataframe tbody tr th:only-of-type {\n        vertical-align: middle;\n    }\n\n    .dataframe tbody tr th {\n        vertical-align: top;\n    }\n\n    .dataframe thead th {\n        text-align: right;\n    }\n</style>\n<table border=\"1\" class=\"dataframe\">\n  <thead>\n    <tr style=\"text-align: right;\">\n      <th></th>\n      <th>Name of Block</th>\n      <th>Name of Word</th>\n      <th>Color of Word</th>\n      <th>Stroop Color Match (1 = compatible, 0 = incompatible)</th>\n      <th>Tablerow Number</th>\n      <th>Pressed Key Number</th>\n      <th>Status (1 = correct, 2 = wrong, 3 = timeout)</th>\n      <th>Response Time (ms)</th>\n    </tr>\n  </thead>\n  <tbody>\n    <tr>\n      <th>0</th>\n      <td>training</td>\n      <td>green</td>\n      <td>red</td>\n      <td>0</td>\n      <td>12</td>\n      <td>1</td>\n      <td>1</td>\n      <td>981</td>\n    </tr>\n    <tr>\n      <th>1</th>\n      <td>training</td>\n      <td>blue</td>\n      <td>yellow</td>\n      <td>0</td>\n      <td>13</td>\n      <td>4</td>\n      <td>1</td>\n      <td>1560</td>\n    </tr>\n    <tr>\n      <th>2</th>\n      <td>training</td>\n      <td>red</td>\n      <td>red</td>\n      <td>1</td>\n      <td>8</td>\n      <td>1</td>\n      <td>1</td>\n      <td>1386</td>\n    </tr>\n    <tr>\n      <th>3</th>\n      <td>training</td>\n      <td>blue</td>\n      <td>red</td>\n      <td>0</td>\n      <td>16</td>\n      <td>1</td>\n      <td>1</td>\n      <td>1033</td>\n    </tr>\n    <tr>\n      <th>4</th>\n      <td>training</td>\n      <td>blue</td>\n      <td>red</td>\n      <td>0</td>\n      <td>16</td>\n      <td>1</td>\n      <td>1</td>\n      <td>855</td>\n    </tr>\n  </tbody>\n</table>\n</div>"
          },
          "metadata": {}
        }
      ],
      "outputs_reference": null,
      "execution_count": 32,
      "block_group": "b096f61c8eca474e92bdb50c4faa71b9",
      "content_dependencies": null
    },
    {
      "cell_type": "code",
      "source": "stroop_five.head()",
      "metadata": {
        "source_hash": "7f2d83c8",
        "execution_start": 1731627228950,
        "execution_millis": 1,
        "execution_context_id": "d6825e58-3769-484f-8607-a71473c05eb7",
        "cell_id": "1efa25b8d3fe4808b22df6ac3f87fb13",
        "deepnote_cell_type": "code"
      },
      "outputs": [
        {
          "output_type": "execute_result",
          "execution_count": 33,
          "data": {
            "application/vnd.deepnote.dataframe.v3+json": {
              "column_count": 8,
              "row_count": 5,
              "columns": [
                {
                  "name": "Name of Block",
                  "dtype": "object",
                  "stats": {
                    "unique_count": 1,
                    "nan_count": 0,
                    "categories": [
                      {
                        "name": "training",
                        "count": 5
                      }
                    ]
                  }
                },
                {
                  "name": "Name of Word",
                  "dtype": "object",
                  "stats": {
                    "unique_count": 3,
                    "nan_count": 0,
                    "categories": [
                      {
                        "name": "yellow",
                        "count": 2
                      },
                      {
                        "name": "green",
                        "count": 2
                      },
                      {
                        "name": "blue",
                        "count": 1
                      }
                    ]
                  }
                },
                {
                  "name": "Color of Word",
                  "dtype": "object",
                  "stats": {
                    "unique_count": 3,
                    "nan_count": 0,
                    "categories": [
                      {
                        "name": "red",
                        "count": 3
                      },
                      {
                        "name": "yellow",
                        "count": 1
                      },
                      {
                        "name": "blue",
                        "count": 1
                      }
                    ]
                  }
                },
                {
                  "name": "Stroop Color Match (1 = compatible, 0 = incompatible)",
                  "dtype": "int64",
                  "stats": {
                    "unique_count": 2,
                    "nan_count": 0,
                    "min": "0",
                    "max": "1",
                    "histogram": [
                      {
                        "bin_start": 0,
                        "bin_end": 0.1,
                        "count": 4
                      },
                      {
                        "bin_start": 0.1,
                        "bin_end": 0.2,
                        "count": 0
                      },
                      {
                        "bin_start": 0.2,
                        "bin_end": 0.30000000000000004,
                        "count": 0
                      },
                      {
                        "bin_start": 0.30000000000000004,
                        "bin_end": 0.4,
                        "count": 0
                      },
                      {
                        "bin_start": 0.4,
                        "bin_end": 0.5,
                        "count": 0
                      },
                      {
                        "bin_start": 0.5,
                        "bin_end": 0.6000000000000001,
                        "count": 0
                      },
                      {
                        "bin_start": 0.6000000000000001,
                        "bin_end": 0.7000000000000001,
                        "count": 0
                      },
                      {
                        "bin_start": 0.7000000000000001,
                        "bin_end": 0.8,
                        "count": 0
                      },
                      {
                        "bin_start": 0.8,
                        "bin_end": 0.9,
                        "count": 0
                      },
                      {
                        "bin_start": 0.9,
                        "bin_end": 1,
                        "count": 1
                      }
                    ]
                  }
                },
                {
                  "name": "Tablerow Number",
                  "dtype": "int64",
                  "stats": {
                    "unique_count": 5,
                    "nan_count": 0,
                    "min": "1",
                    "max": "16",
                    "histogram": [
                      {
                        "bin_start": 1,
                        "bin_end": 2.5,
                        "count": 1
                      },
                      {
                        "bin_start": 2.5,
                        "bin_end": 4,
                        "count": 0
                      },
                      {
                        "bin_start": 4,
                        "bin_end": 5.5,
                        "count": 1
                      },
                      {
                        "bin_start": 5.5,
                        "bin_end": 7,
                        "count": 0
                      },
                      {
                        "bin_start": 7,
                        "bin_end": 8.5,
                        "count": 0
                      },
                      {
                        "bin_start": 8.5,
                        "bin_end": 10,
                        "count": 0
                      },
                      {
                        "bin_start": 10,
                        "bin_end": 11.5,
                        "count": 1
                      },
                      {
                        "bin_start": 11.5,
                        "bin_end": 13,
                        "count": 1
                      },
                      {
                        "bin_start": 13,
                        "bin_end": 14.5,
                        "count": 0
                      },
                      {
                        "bin_start": 14.5,
                        "bin_end": 16,
                        "count": 1
                      }
                    ]
                  }
                },
                {
                  "name": "Pressed Key Number",
                  "dtype": "int64",
                  "stats": {
                    "unique_count": 2,
                    "nan_count": 0,
                    "min": "1",
                    "max": "3",
                    "histogram": [
                      {
                        "bin_start": 1,
                        "bin_end": 1.2,
                        "count": 4
                      },
                      {
                        "bin_start": 1.2,
                        "bin_end": 1.4,
                        "count": 0
                      },
                      {
                        "bin_start": 1.4,
                        "bin_end": 1.6,
                        "count": 0
                      },
                      {
                        "bin_start": 1.6,
                        "bin_end": 1.8,
                        "count": 0
                      },
                      {
                        "bin_start": 1.8,
                        "bin_end": 2,
                        "count": 0
                      },
                      {
                        "bin_start": 2,
                        "bin_end": 2.2,
                        "count": 0
                      },
                      {
                        "bin_start": 2.2,
                        "bin_end": 2.4000000000000004,
                        "count": 0
                      },
                      {
                        "bin_start": 2.4000000000000004,
                        "bin_end": 2.6,
                        "count": 0
                      },
                      {
                        "bin_start": 2.6,
                        "bin_end": 2.8,
                        "count": 0
                      },
                      {
                        "bin_start": 2.8,
                        "bin_end": 3,
                        "count": 1
                      }
                    ]
                  }
                },
                {
                  "name": "Status (1 = correct, 2 = wrong, 3 = timeout)",
                  "dtype": "int64",
                  "stats": {
                    "unique_count": 2,
                    "nan_count": 0,
                    "min": "1",
                    "max": "3",
                    "histogram": [
                      {
                        "bin_start": 1,
                        "bin_end": 1.2,
                        "count": 4
                      },
                      {
                        "bin_start": 1.2,
                        "bin_end": 1.4,
                        "count": 0
                      },
                      {
                        "bin_start": 1.4,
                        "bin_end": 1.6,
                        "count": 0
                      },
                      {
                        "bin_start": 1.6,
                        "bin_end": 1.8,
                        "count": 0
                      },
                      {
                        "bin_start": 1.8,
                        "bin_end": 2,
                        "count": 0
                      },
                      {
                        "bin_start": 2,
                        "bin_end": 2.2,
                        "count": 0
                      },
                      {
                        "bin_start": 2.2,
                        "bin_end": 2.4000000000000004,
                        "count": 0
                      },
                      {
                        "bin_start": 2.4000000000000004,
                        "bin_end": 2.6,
                        "count": 0
                      },
                      {
                        "bin_start": 2.6,
                        "bin_end": 2.8,
                        "count": 0
                      },
                      {
                        "bin_start": 2.8,
                        "bin_end": 3,
                        "count": 1
                      }
                    ]
                  }
                },
                {
                  "name": "Response Time (ms)",
                  "dtype": "int64",
                  "stats": {
                    "unique_count": 5,
                    "nan_count": 0,
                    "min": "627",
                    "max": "2000",
                    "histogram": [
                      {
                        "bin_start": 627,
                        "bin_end": 764.3,
                        "count": 1
                      },
                      {
                        "bin_start": 764.3,
                        "bin_end": 901.6,
                        "count": 2
                      },
                      {
                        "bin_start": 901.6,
                        "bin_end": 1038.9,
                        "count": 0
                      },
                      {
                        "bin_start": 1038.9,
                        "bin_end": 1176.2,
                        "count": 0
                      },
                      {
                        "bin_start": 1176.2,
                        "bin_end": 1313.5,
                        "count": 1
                      },
                      {
                        "bin_start": 1313.5,
                        "bin_end": 1450.8000000000002,
                        "count": 0
                      },
                      {
                        "bin_start": 1450.8000000000002,
                        "bin_end": 1588.1000000000001,
                        "count": 0
                      },
                      {
                        "bin_start": 1588.1000000000001,
                        "bin_end": 1725.4,
                        "count": 0
                      },
                      {
                        "bin_start": 1725.4,
                        "bin_end": 1862.7,
                        "count": 0
                      },
                      {
                        "bin_start": 1862.7,
                        "bin_end": 2000,
                        "count": 1
                      }
                    ]
                  }
                },
                {
                  "name": "_deepnote_index_column",
                  "dtype": "int64"
                }
              ],
              "rows": [
                {
                  "Name of Block": "training",
                  "Name of Word": "yellow",
                  "Color of Word": "yellow",
                  "Stroop Color Match (1 = compatible, 0 = incompatible)": 1,
                  "Tablerow Number": 1,
                  "Pressed Key Number": 1,
                  "Status (1 = correct, 2 = wrong, 3 = timeout)": 3,
                  "Response Time (ms)": 2000,
                  "_deepnote_index_column": 0
                },
                {
                  "Name of Block": "training",
                  "Name of Word": "yellow",
                  "Color of Word": "red",
                  "Stroop Color Match (1 = compatible, 0 = incompatible)": 0,
                  "Tablerow Number": 4,
                  "Pressed Key Number": 1,
                  "Status (1 = correct, 2 = wrong, 3 = timeout)": 1,
                  "Response Time (ms)": 1231,
                  "_deepnote_index_column": 1
                },
                {
                  "Name of Block": "training",
                  "Name of Word": "green",
                  "Color of Word": "red",
                  "Stroop Color Match (1 = compatible, 0 = incompatible)": 0,
                  "Tablerow Number": 12,
                  "Pressed Key Number": 1,
                  "Status (1 = correct, 2 = wrong, 3 = timeout)": 1,
                  "Response Time (ms)": 879,
                  "_deepnote_index_column": 2
                },
                {
                  "Name of Block": "training",
                  "Name of Word": "blue",
                  "Color of Word": "red",
                  "Stroop Color Match (1 = compatible, 0 = incompatible)": 0,
                  "Tablerow Number": 16,
                  "Pressed Key Number": 1,
                  "Status (1 = correct, 2 = wrong, 3 = timeout)": 1,
                  "Response Time (ms)": 627,
                  "_deepnote_index_column": 3
                },
                {
                  "Name of Block": "training",
                  "Name of Word": "green",
                  "Color of Word": "blue",
                  "Stroop Color Match (1 = compatible, 0 = incompatible)": 0,
                  "Tablerow Number": 11,
                  "Pressed Key Number": 3,
                  "Status (1 = correct, 2 = wrong, 3 = timeout)": 1,
                  "Response Time (ms)": 901,
                  "_deepnote_index_column": 4
                }
              ]
            },
            "text/plain": "  Name of Block Name of Word Color of Word  \\\n0      training       yellow        yellow   \n1      training       yellow           red   \n2      training        green           red   \n3      training         blue           red   \n4      training        green          blue   \n\n   Stroop Color Match (1 = compatible, 0 = incompatible)  Tablerow Number  \\\n0                                                  1                    1   \n1                                                  0                    4   \n2                                                  0                   12   \n3                                                  0                   16   \n4                                                  0                   11   \n\n   Pressed Key Number  Status (1 = correct, 2 = wrong, 3 = timeout)  \\\n0                   1                                             3   \n1                   1                                             1   \n2                   1                                             1   \n3                   1                                             1   \n4                   3                                             1   \n\n   Response Time (ms)  \n0                2000  \n1                1231  \n2                 879  \n3                 627  \n4                 901  ",
            "text/html": "<div>\n<style scoped>\n    .dataframe tbody tr th:only-of-type {\n        vertical-align: middle;\n    }\n\n    .dataframe tbody tr th {\n        vertical-align: top;\n    }\n\n    .dataframe thead th {\n        text-align: right;\n    }\n</style>\n<table border=\"1\" class=\"dataframe\">\n  <thead>\n    <tr style=\"text-align: right;\">\n      <th></th>\n      <th>Name of Block</th>\n      <th>Name of Word</th>\n      <th>Color of Word</th>\n      <th>Stroop Color Match (1 = compatible, 0 = incompatible)</th>\n      <th>Tablerow Number</th>\n      <th>Pressed Key Number</th>\n      <th>Status (1 = correct, 2 = wrong, 3 = timeout)</th>\n      <th>Response Time (ms)</th>\n    </tr>\n  </thead>\n  <tbody>\n    <tr>\n      <th>0</th>\n      <td>training</td>\n      <td>yellow</td>\n      <td>yellow</td>\n      <td>1</td>\n      <td>1</td>\n      <td>1</td>\n      <td>3</td>\n      <td>2000</td>\n    </tr>\n    <tr>\n      <th>1</th>\n      <td>training</td>\n      <td>yellow</td>\n      <td>red</td>\n      <td>0</td>\n      <td>4</td>\n      <td>1</td>\n      <td>1</td>\n      <td>1231</td>\n    </tr>\n    <tr>\n      <th>2</th>\n      <td>training</td>\n      <td>green</td>\n      <td>red</td>\n      <td>0</td>\n      <td>12</td>\n      <td>1</td>\n      <td>1</td>\n      <td>879</td>\n    </tr>\n    <tr>\n      <th>3</th>\n      <td>training</td>\n      <td>blue</td>\n      <td>red</td>\n      <td>0</td>\n      <td>16</td>\n      <td>1</td>\n      <td>1</td>\n      <td>627</td>\n    </tr>\n    <tr>\n      <th>4</th>\n      <td>training</td>\n      <td>green</td>\n      <td>blue</td>\n      <td>0</td>\n      <td>11</td>\n      <td>3</td>\n      <td>1</td>\n      <td>901</td>\n    </tr>\n  </tbody>\n</table>\n</div>"
          },
          "metadata": {}
        }
      ],
      "outputs_reference": null,
      "execution_count": 33,
      "block_group": "2d4bffee3c1243209e599f7ff10a6971",
      "content_dependencies": null
    },
    {
      "cell_type": "code",
      "source": "stroop_six.head()",
      "metadata": {
        "source_hash": "f08f1617",
        "execution_start": 1731627229014,
        "execution_millis": 0,
        "execution_context_id": "d6825e58-3769-484f-8607-a71473c05eb7",
        "cell_id": "7d9e9b458d6b4034b63a0c2c8c4ae17e",
        "deepnote_cell_type": "code"
      },
      "outputs": [
        {
          "output_type": "execute_result",
          "execution_count": 34,
          "data": {
            "application/vnd.deepnote.dataframe.v3+json": {
              "column_count": 8,
              "row_count": 5,
              "columns": [
                {
                  "name": "Name of Block",
                  "dtype": "object",
                  "stats": {
                    "unique_count": 1,
                    "nan_count": 0,
                    "categories": [
                      {
                        "name": "training",
                        "count": 5
                      }
                    ]
                  }
                },
                {
                  "name": "Name of Word",
                  "dtype": "object",
                  "stats": {
                    "unique_count": 3,
                    "nan_count": 0,
                    "categories": [
                      {
                        "name": "red",
                        "count": 3
                      },
                      {
                        "name": "blue",
                        "count": 1
                      },
                      {
                        "name": "yellow",
                        "count": 1
                      }
                    ]
                  }
                },
                {
                  "name": "Color of Word",
                  "dtype": "object",
                  "stats": {
                    "unique_count": 3,
                    "nan_count": 0,
                    "categories": [
                      {
                        "name": "blue",
                        "count": 2
                      },
                      {
                        "name": "red",
                        "count": 2
                      },
                      {
                        "name": "yellow",
                        "count": 1
                      }
                    ]
                  }
                },
                {
                  "name": "Stroop Color Match (1 = compatible, 0 = incompatible)",
                  "dtype": "int64",
                  "stats": {
                    "unique_count": 2,
                    "nan_count": 0,
                    "min": "0",
                    "max": "1",
                    "histogram": [
                      {
                        "bin_start": 0,
                        "bin_end": 0.1,
                        "count": 1
                      },
                      {
                        "bin_start": 0.1,
                        "bin_end": 0.2,
                        "count": 0
                      },
                      {
                        "bin_start": 0.2,
                        "bin_end": 0.30000000000000004,
                        "count": 0
                      },
                      {
                        "bin_start": 0.30000000000000004,
                        "bin_end": 0.4,
                        "count": 0
                      },
                      {
                        "bin_start": 0.4,
                        "bin_end": 0.5,
                        "count": 0
                      },
                      {
                        "bin_start": 0.5,
                        "bin_end": 0.6000000000000001,
                        "count": 0
                      },
                      {
                        "bin_start": 0.6000000000000001,
                        "bin_end": 0.7000000000000001,
                        "count": 0
                      },
                      {
                        "bin_start": 0.7000000000000001,
                        "bin_end": 0.8,
                        "count": 0
                      },
                      {
                        "bin_start": 0.8,
                        "bin_end": 0.9,
                        "count": 0
                      },
                      {
                        "bin_start": 0.9,
                        "bin_end": 1,
                        "count": 4
                      }
                    ]
                  }
                },
                {
                  "name": "Tablerow Number",
                  "dtype": "int64",
                  "stats": {
                    "unique_count": 4,
                    "nan_count": 0,
                    "min": "1",
                    "max": "15",
                    "histogram": [
                      {
                        "bin_start": 1,
                        "bin_end": 2.4,
                        "count": 1
                      },
                      {
                        "bin_start": 2.4,
                        "bin_end": 3.8,
                        "count": 0
                      },
                      {
                        "bin_start": 3.8,
                        "bin_end": 5.199999999999999,
                        "count": 0
                      },
                      {
                        "bin_start": 5.199999999999999,
                        "bin_end": 6.6,
                        "count": 0
                      },
                      {
                        "bin_start": 6.6,
                        "bin_end": 8,
                        "count": 1
                      },
                      {
                        "bin_start": 8,
                        "bin_end": 9.399999999999999,
                        "count": 2
                      },
                      {
                        "bin_start": 9.399999999999999,
                        "bin_end": 10.799999999999999,
                        "count": 0
                      },
                      {
                        "bin_start": 10.799999999999999,
                        "bin_end": 12.2,
                        "count": 0
                      },
                      {
                        "bin_start": 12.2,
                        "bin_end": 13.6,
                        "count": 0
                      },
                      {
                        "bin_start": 13.6,
                        "bin_end": 15,
                        "count": 1
                      }
                    ]
                  }
                },
                {
                  "name": "Pressed Key Number",
                  "dtype": "int64",
                  "stats": {
                    "unique_count": 3,
                    "nan_count": 0,
                    "min": "1",
                    "max": "4",
                    "histogram": [
                      {
                        "bin_start": 1,
                        "bin_end": 1.3,
                        "count": 3
                      },
                      {
                        "bin_start": 1.3,
                        "bin_end": 1.6,
                        "count": 0
                      },
                      {
                        "bin_start": 1.6,
                        "bin_end": 1.9,
                        "count": 0
                      },
                      {
                        "bin_start": 1.9,
                        "bin_end": 2.2,
                        "count": 0
                      },
                      {
                        "bin_start": 2.2,
                        "bin_end": 2.5,
                        "count": 0
                      },
                      {
                        "bin_start": 2.5,
                        "bin_end": 2.8,
                        "count": 0
                      },
                      {
                        "bin_start": 2.8,
                        "bin_end": 3.1,
                        "count": 1
                      },
                      {
                        "bin_start": 3.1,
                        "bin_end": 3.4,
                        "count": 0
                      },
                      {
                        "bin_start": 3.4,
                        "bin_end": 3.6999999999999997,
                        "count": 0
                      },
                      {
                        "bin_start": 3.6999999999999997,
                        "bin_end": 4,
                        "count": 1
                      }
                    ]
                  }
                },
                {
                  "name": "Status (1 = correct, 2 = wrong, 3 = timeout)",
                  "dtype": "int64",
                  "stats": {
                    "unique_count": 2,
                    "nan_count": 0,
                    "min": "1",
                    "max": "3",
                    "histogram": [
                      {
                        "bin_start": 1,
                        "bin_end": 1.2,
                        "count": 4
                      },
                      {
                        "bin_start": 1.2,
                        "bin_end": 1.4,
                        "count": 0
                      },
                      {
                        "bin_start": 1.4,
                        "bin_end": 1.6,
                        "count": 0
                      },
                      {
                        "bin_start": 1.6,
                        "bin_end": 1.8,
                        "count": 0
                      },
                      {
                        "bin_start": 1.8,
                        "bin_end": 2,
                        "count": 0
                      },
                      {
                        "bin_start": 2,
                        "bin_end": 2.2,
                        "count": 0
                      },
                      {
                        "bin_start": 2.2,
                        "bin_end": 2.4000000000000004,
                        "count": 0
                      },
                      {
                        "bin_start": 2.4000000000000004,
                        "bin_end": 2.6,
                        "count": 0
                      },
                      {
                        "bin_start": 2.6,
                        "bin_end": 2.8,
                        "count": 0
                      },
                      {
                        "bin_start": 2.8,
                        "bin_end": 3,
                        "count": 1
                      }
                    ]
                  }
                },
                {
                  "name": "Response Time (ms)",
                  "dtype": "int64",
                  "stats": {
                    "unique_count": 5,
                    "nan_count": 0,
                    "min": "957",
                    "max": "2000",
                    "histogram": [
                      {
                        "bin_start": 957,
                        "bin_end": 1061.3,
                        "count": 3
                      },
                      {
                        "bin_start": 1061.3,
                        "bin_end": 1165.6,
                        "count": 0
                      },
                      {
                        "bin_start": 1165.6,
                        "bin_end": 1269.9,
                        "count": 0
                      },
                      {
                        "bin_start": 1269.9,
                        "bin_end": 1374.2,
                        "count": 1
                      },
                      {
                        "bin_start": 1374.2,
                        "bin_end": 1478.5,
                        "count": 0
                      },
                      {
                        "bin_start": 1478.5,
                        "bin_end": 1582.8,
                        "count": 0
                      },
                      {
                        "bin_start": 1582.8,
                        "bin_end": 1687.1,
                        "count": 0
                      },
                      {
                        "bin_start": 1687.1,
                        "bin_end": 1791.4,
                        "count": 0
                      },
                      {
                        "bin_start": 1791.4,
                        "bin_end": 1895.6999999999998,
                        "count": 0
                      },
                      {
                        "bin_start": 1895.6999999999998,
                        "bin_end": 2000,
                        "count": 1
                      }
                    ]
                  }
                },
                {
                  "name": "_deepnote_index_column",
                  "dtype": "int64"
                }
              ],
              "rows": [
                {
                  "Name of Block": "training",
                  "Name of Word": "red",
                  "Color of Word": "blue",
                  "Stroop Color Match (1 = compatible, 0 = incompatible)": 0,
                  "Tablerow Number": 7,
                  "Pressed Key Number": 1,
                  "Status (1 = correct, 2 = wrong, 3 = timeout)": 3,
                  "Response Time (ms)": 2000,
                  "_deepnote_index_column": 0
                },
                {
                  "Name of Block": "training",
                  "Name of Word": "red",
                  "Color of Word": "red",
                  "Stroop Color Match (1 = compatible, 0 = incompatible)": 1,
                  "Tablerow Number": 8,
                  "Pressed Key Number": 1,
                  "Status (1 = correct, 2 = wrong, 3 = timeout)": 1,
                  "Response Time (ms)": 1275,
                  "_deepnote_index_column": 1
                },
                {
                  "Name of Block": "training",
                  "Name of Word": "red",
                  "Color of Word": "red",
                  "Stroop Color Match (1 = compatible, 0 = incompatible)": 1,
                  "Tablerow Number": 8,
                  "Pressed Key Number": 1,
                  "Status (1 = correct, 2 = wrong, 3 = timeout)": 1,
                  "Response Time (ms)": 957,
                  "_deepnote_index_column": 2
                },
                {
                  "Name of Block": "training",
                  "Name of Word": "blue",
                  "Color of Word": "blue",
                  "Stroop Color Match (1 = compatible, 0 = incompatible)": 1,
                  "Tablerow Number": 15,
                  "Pressed Key Number": 3,
                  "Status (1 = correct, 2 = wrong, 3 = timeout)": 1,
                  "Response Time (ms)": 1019,
                  "_deepnote_index_column": 3
                },
                {
                  "Name of Block": "training",
                  "Name of Word": "yellow",
                  "Color of Word": "yellow",
                  "Stroop Color Match (1 = compatible, 0 = incompatible)": 1,
                  "Tablerow Number": 1,
                  "Pressed Key Number": 4,
                  "Status (1 = correct, 2 = wrong, 3 = timeout)": 1,
                  "Response Time (ms)": 959,
                  "_deepnote_index_column": 4
                }
              ]
            },
            "text/plain": "  Name of Block Name of Word Color of Word  \\\n0      training          red          blue   \n1      training          red           red   \n2      training          red           red   \n3      training         blue          blue   \n4      training       yellow        yellow   \n\n   Stroop Color Match (1 = compatible, 0 = incompatible)  Tablerow Number  \\\n0                                                  0                    7   \n1                                                  1                    8   \n2                                                  1                    8   \n3                                                  1                   15   \n4                                                  1                    1   \n\n   Pressed Key Number  Status (1 = correct, 2 = wrong, 3 = timeout)  \\\n0                   1                                             3   \n1                   1                                             1   \n2                   1                                             1   \n3                   3                                             1   \n4                   4                                             1   \n\n   Response Time (ms)  \n0                2000  \n1                1275  \n2                 957  \n3                1019  \n4                 959  ",
            "text/html": "<div>\n<style scoped>\n    .dataframe tbody tr th:only-of-type {\n        vertical-align: middle;\n    }\n\n    .dataframe tbody tr th {\n        vertical-align: top;\n    }\n\n    .dataframe thead th {\n        text-align: right;\n    }\n</style>\n<table border=\"1\" class=\"dataframe\">\n  <thead>\n    <tr style=\"text-align: right;\">\n      <th></th>\n      <th>Name of Block</th>\n      <th>Name of Word</th>\n      <th>Color of Word</th>\n      <th>Stroop Color Match (1 = compatible, 0 = incompatible)</th>\n      <th>Tablerow Number</th>\n      <th>Pressed Key Number</th>\n      <th>Status (1 = correct, 2 = wrong, 3 = timeout)</th>\n      <th>Response Time (ms)</th>\n    </tr>\n  </thead>\n  <tbody>\n    <tr>\n      <th>0</th>\n      <td>training</td>\n      <td>red</td>\n      <td>blue</td>\n      <td>0</td>\n      <td>7</td>\n      <td>1</td>\n      <td>3</td>\n      <td>2000</td>\n    </tr>\n    <tr>\n      <th>1</th>\n      <td>training</td>\n      <td>red</td>\n      <td>red</td>\n      <td>1</td>\n      <td>8</td>\n      <td>1</td>\n      <td>1</td>\n      <td>1275</td>\n    </tr>\n    <tr>\n      <th>2</th>\n      <td>training</td>\n      <td>red</td>\n      <td>red</td>\n      <td>1</td>\n      <td>8</td>\n      <td>1</td>\n      <td>1</td>\n      <td>957</td>\n    </tr>\n    <tr>\n      <th>3</th>\n      <td>training</td>\n      <td>blue</td>\n      <td>blue</td>\n      <td>1</td>\n      <td>15</td>\n      <td>3</td>\n      <td>1</td>\n      <td>1019</td>\n    </tr>\n    <tr>\n      <th>4</th>\n      <td>training</td>\n      <td>yellow</td>\n      <td>yellow</td>\n      <td>1</td>\n      <td>1</td>\n      <td>4</td>\n      <td>1</td>\n      <td>959</td>\n    </tr>\n  </tbody>\n</table>\n</div>"
          },
          "metadata": {}
        }
      ],
      "outputs_reference": null,
      "execution_count": 34,
      "block_group": "aec8df108d2b40769a9609d6ca12237c",
      "content_dependencies": null
    },
    {
      "cell_type": "markdown",
      "source": "# Data Visualization",
      "metadata": {
        "source_hash": "b623e53d",
        "execution_start": 1731627229062,
        "execution_millis": 0,
        "execution_context_id": "d6825e58-3769-484f-8607-a71473c05eb7",
        "deepnote_app_block_visible": false,
        "cell_id": "711ee0d4affa40a1a84909736d19c4ba",
        "deepnote_cell_type": "markdown"
      },
      "block_group": "62f46c465dc642d59cffb9c86173b2ef"
    },
    {
      "cell_type": "code",
      "source": "(lambda: DeepnoteChart(stroop_six, \"\"\"{\"layer\":[{\"layer\":[{\"mark\":{\"clip\":true,\"type\":\"bar\",\"color\":\"#8018D3\",\"tooltip\":true},\"encoding\":{\"x\":{\"axis\":{\"grid\":false},\"sort\":null,\"type\":\"quantitative\",\"field\":\"Status \\\\\\\\\\\\\\\\\\\\\\\\(1 = correct\\\\\\\\\\\\\\\\\\\\\\\\, 2 = wrong\\\\\\\\\\\\\\\\\\\\\\\\, 3 = timeout\\\\\\\\\\\\\\\\\\\\\\\\)\",\"scale\":{\"type\":\"linear\"},\"stack\":\"zero\",\"format\":{\"type\":\"default\",\"decimals\":null},\"formatType\":\"numberFormatFromNumberType\"},\"y\":{\"axis\":{\"grid\":false},\"sort\":null,\"type\":\"quantitative\",\"field\":\"Response Time \\\\\\\\\\\\\\\\\\\\\\\\(ms\\\\\\\\\\\\\\\\\\\\\\\\)\",\"scale\":{\"type\":\"linear\"},\"stack\":\"zero\",\"format\":{\"type\":\"default\",\"decimals\":null},\"formatType\":\"numberFormatFromNumberType\"}}}]}],\"title\":\"\",\"config\":{\"legend\":{}},\"$schema\":\"https://vega.github.io/schema/vega-lite/v5.json\",\"encoding\":{},\"usermeta\":{\"tooltipDefaultMode\":true}}\"\"\") if 'DeepnoteChart' in globals() else _dntk.DeepnoteChart(stroop_six, \"\"\"{\"layer\":[{\"layer\":[{\"mark\":{\"clip\":true,\"type\":\"bar\",\"color\":\"#8018D3\",\"tooltip\":true},\"encoding\":{\"x\":{\"axis\":{\"grid\":false},\"sort\":null,\"type\":\"quantitative\",\"field\":\"Status \\\\\\\\\\\\\\\\\\\\\\\\(1 = correct\\\\\\\\\\\\\\\\\\\\\\\\, 2 = wrong\\\\\\\\\\\\\\\\\\\\\\\\, 3 = timeout\\\\\\\\\\\\\\\\\\\\\\\\)\",\"scale\":{\"type\":\"linear\"},\"stack\":\"zero\",\"format\":{\"type\":\"default\",\"decimals\":null},\"formatType\":\"numberFormatFromNumberType\"},\"y\":{\"axis\":{\"grid\":false},\"sort\":null,\"type\":\"quantitative\",\"field\":\"Response Time \\\\\\\\\\\\\\\\\\\\\\\\(ms\\\\\\\\\\\\\\\\\\\\\\\\)\",\"scale\":{\"type\":\"linear\"},\"stack\":\"zero\",\"format\":{\"type\":\"default\",\"decimals\":null},\"formatType\":\"numberFormatFromNumberType\"}}}]}],\"title\":\"\",\"config\":{\"legend\":{}},\"$schema\":\"https://vega.github.io/schema/vega-lite/v5.json\",\"encoding\":{},\"usermeta\":{\"tooltipDefaultMode\":true}}\"\"\"))()",
      "metadata": {
        "source_hash": "cdb7432c",
        "execution_start": 1731627623220,
        "execution_millis": 5,
        "execution_context_id": "d6825e58-3769-484f-8607-a71473c05eb7",
        "deepnote_variable_name": "stroop_six",
        "deepnote_visualization_spec": {
          "layer": [
            {
              "layer": [
                {
                  "mark": {
                    "clip": true,
                    "type": "bar",
                    "color": "#8018D3",
                    "tooltip": true
                  },
                  "encoding": {
                    "x": {
                      "axis": {
                        "grid": false
                      },
                      "sort": null,
                      "type": "quantitative",
                      "field": "Status \\(1 = correct\\, 2 = wrong\\, 3 = timeout\\)",
                      "scale": {
                        "type": "linear"
                      },
                      "stack": "zero",
                      "format": {
                        "type": "default",
                        "decimals": null
                      },
                      "formatType": "numberFormatFromNumberType"
                    },
                    "y": {
                      "axis": {
                        "grid": false
                      },
                      "sort": null,
                      "type": "quantitative",
                      "field": "Response Time \\(ms\\)",
                      "scale": {
                        "type": "linear"
                      },
                      "stack": "zero",
                      "format": {
                        "type": "default",
                        "decimals": null
                      },
                      "formatType": "numberFormatFromNumberType"
                    }
                  }
                }
              ]
            }
          ],
          "title": "",
          "config": {
            "legend": {}
          },
          "$schema": "https://vega.github.io/schema/vega-lite/v5.json",
          "encoding": {},
          "usermeta": {
            "tooltipDefaultMode": true
          }
        },
        "cell_id": "b127edcd0dcf445190921612f31a8feb",
        "deepnote_cell_type": "visualization"
      },
      "outputs": [
        {
          "output_type": "execute_result",
          "execution_count": 46,
          "data": {
            "application/vnd.vegalite.v5+json": {
              "layer": [
                {
                  "layer": [
                    {
                      "mark": {
                        "clip": true,
                        "type": "bar",
                        "color": "#8018D3",
                        "tooltip": true
                      },
                      "encoding": {
                        "x": {
                          "axis": {
                            "grid": false
                          },
                          "sort": null,
                          "type": "quantitative",
                          "field": "Status \\(1 = correct\\, 2 = wrong\\, 3 = timeout\\)",
                          "scale": {
                            "type": "linear"
                          },
                          "stack": "zero",
                          "format": {
                            "type": "default",
                            "decimals": null
                          },
                          "formatType": "numberFormatFromNumberType"
                        },
                        "y": {
                          "axis": {
                            "grid": false
                          },
                          "sort": null,
                          "type": "quantitative",
                          "field": "Response Time \\(ms\\)",
                          "scale": {
                            "type": "linear"
                          },
                          "stack": "zero",
                          "format": {
                            "type": "default",
                            "decimals": null
                          },
                          "formatType": "numberFormatFromNumberType"
                        }
                      }
                    }
                  ]
                }
              ],
              "title": "",
              "config": {
                "legend": {}
              },
              "$schema": "https://vega.github.io/schema/vega-lite/v5.json",
              "encoding": {},
              "usermeta": {
                "tooltipDefaultMode": true
              },
              "data": {
                "values": [
                  {
                    "Name of Block": "training",
                    "Name of Word": "red",
                    "Color of Word": "blue",
                    "Stroop Color Match (1 = compatible, 0 = incompatible)": 0,
                    "Tablerow Number": 7,
                    "Pressed Key Number": 1,
                    "Status (1 = correct, 2 = wrong, 3 = timeout)": 3,
                    "Response Time (ms)": 2000
                  },
                  {
                    "Name of Block": "training",
                    "Name of Word": "red",
                    "Color of Word": "red",
                    "Stroop Color Match (1 = compatible, 0 = incompatible)": 1,
                    "Tablerow Number": 8,
                    "Pressed Key Number": 1,
                    "Status (1 = correct, 2 = wrong, 3 = timeout)": 1,
                    "Response Time (ms)": 1275
                  },
                  {
                    "Name of Block": "training",
                    "Name of Word": "red",
                    "Color of Word": "red",
                    "Stroop Color Match (1 = compatible, 0 = incompatible)": 1,
                    "Tablerow Number": 8,
                    "Pressed Key Number": 1,
                    "Status (1 = correct, 2 = wrong, 3 = timeout)": 1,
                    "Response Time (ms)": 957
                  },
                  {
                    "Name of Block": "training",
                    "Name of Word": "blue",
                    "Color of Word": "blue",
                    "Stroop Color Match (1 = compatible, 0 = incompatible)": 1,
                    "Tablerow Number": 15,
                    "Pressed Key Number": 3,
                    "Status (1 = correct, 2 = wrong, 3 = timeout)": 1,
                    "Response Time (ms)": 1019
                  },
                  {
                    "Name of Block": "training",
                    "Name of Word": "yellow",
                    "Color of Word": "yellow",
                    "Stroop Color Match (1 = compatible, 0 = incompatible)": 1,
                    "Tablerow Number": 1,
                    "Pressed Key Number": 4,
                    "Status (1 = correct, 2 = wrong, 3 = timeout)": 1,
                    "Response Time (ms)": 959
                  },
                  {
                    "Name of Block": "training",
                    "Name of Word": "blue",
                    "Color of Word": "red",
                    "Stroop Color Match (1 = compatible, 0 = incompatible)": 0,
                    "Tablerow Number": 16,
                    "Pressed Key Number": 3,
                    "Status (1 = correct, 2 = wrong, 3 = timeout)": 2,
                    "Response Time (ms)": 1240
                  },
                  {
                    "Name of Block": "training",
                    "Name of Word": "blue",
                    "Color of Word": "red",
                    "Stroop Color Match (1 = compatible, 0 = incompatible)": 0,
                    "Tablerow Number": 16,
                    "Pressed Key Number": 1,
                    "Status (1 = correct, 2 = wrong, 3 = timeout)": 1,
                    "Response Time (ms)": 1259
                  },
                  {
                    "Name of Block": "training",
                    "Name of Word": "green",
                    "Color of Word": "yellow",
                    "Stroop Color Match (1 = compatible, 0 = incompatible)": 0,
                    "Tablerow Number": 9,
                    "Pressed Key Number": 4,
                    "Status (1 = correct, 2 = wrong, 3 = timeout)": 1,
                    "Response Time (ms)": 1934
                  },
                  {
                    "Name of Block": "training",
                    "Name of Word": "green",
                    "Color of Word": "yellow",
                    "Stroop Color Match (1 = compatible, 0 = incompatible)": 0,
                    "Tablerow Number": 9,
                    "Pressed Key Number": 4,
                    "Status (1 = correct, 2 = wrong, 3 = timeout)": 1,
                    "Response Time (ms)": 874
                  },
                  {
                    "Name of Block": "training",
                    "Name of Word": "blue",
                    "Color of Word": "green",
                    "Stroop Color Match (1 = compatible, 0 = incompatible)": 0,
                    "Tablerow Number": 14,
                    "Pressed Key Number": 2,
                    "Status (1 = correct, 2 = wrong, 3 = timeout)": 1,
                    "Response Time (ms)": 1399
                  },
                  {
                    "Name of Block": "training",
                    "Name of Word": "yellow",
                    "Color of Word": "yellow",
                    "Stroop Color Match (1 = compatible, 0 = incompatible)": 1,
                    "Tablerow Number": 1,
                    "Pressed Key Number": 4,
                    "Status (1 = correct, 2 = wrong, 3 = timeout)": 1,
                    "Response Time (ms)": 1476
                  },
                  {
                    "Name of Block": "training",
                    "Name of Word": "yellow",
                    "Color of Word": "green",
                    "Stroop Color Match (1 = compatible, 0 = incompatible)": 0,
                    "Tablerow Number": 2,
                    "Pressed Key Number": 2,
                    "Status (1 = correct, 2 = wrong, 3 = timeout)": 1,
                    "Response Time (ms)": 1392
                  },
                  {
                    "Name of Block": "training",
                    "Name of Word": "yellow",
                    "Color of Word": "blue",
                    "Stroop Color Match (1 = compatible, 0 = incompatible)": 0,
                    "Tablerow Number": 3,
                    "Pressed Key Number": 3,
                    "Status (1 = correct, 2 = wrong, 3 = timeout)": 1,
                    "Response Time (ms)": 1930
                  },
                  {
                    "Name of Block": "training",
                    "Name of Word": "red",
                    "Color of Word": "blue",
                    "Stroop Color Match (1 = compatible, 0 = incompatible)": 0,
                    "Tablerow Number": 7,
                    "Pressed Key Number": 3,
                    "Status (1 = correct, 2 = wrong, 3 = timeout)": 1,
                    "Response Time (ms)": 1611
                  },
                  {
                    "Name of Block": "training",
                    "Name of Word": "green",
                    "Color of Word": "blue",
                    "Stroop Color Match (1 = compatible, 0 = incompatible)": 0,
                    "Tablerow Number": 11,
                    "Pressed Key Number": 3,
                    "Status (1 = correct, 2 = wrong, 3 = timeout)": 1,
                    "Response Time (ms)": 1612
                  },
                  {
                    "Name of Block": "training",
                    "Name of Word": "green",
                    "Color of Word": "red",
                    "Stroop Color Match (1 = compatible, 0 = incompatible)": 0,
                    "Tablerow Number": 12,
                    "Pressed Key Number": 1,
                    "Status (1 = correct, 2 = wrong, 3 = timeout)": 1,
                    "Response Time (ms)": 1301
                  },
                  {
                    "Name of Block": "training",
                    "Name of Word": "red",
                    "Color of Word": "green",
                    "Stroop Color Match (1 = compatible, 0 = incompatible)": 0,
                    "Tablerow Number": 6,
                    "Pressed Key Number": 2,
                    "Status (1 = correct, 2 = wrong, 3 = timeout)": 1,
                    "Response Time (ms)": 1429
                  },
                  {
                    "Name of Block": "training",
                    "Name of Word": "red",
                    "Color of Word": "yellow",
                    "Stroop Color Match (1 = compatible, 0 = incompatible)": 0,
                    "Tablerow Number": 5,
                    "Pressed Key Number": 4,
                    "Status (1 = correct, 2 = wrong, 3 = timeout)": 1,
                    "Response Time (ms)": 1647
                  },
                  {
                    "Name of Block": "training",
                    "Name of Word": "blue",
                    "Color of Word": "green",
                    "Stroop Color Match (1 = compatible, 0 = incompatible)": 0,
                    "Tablerow Number": 14,
                    "Pressed Key Number": 2,
                    "Status (1 = correct, 2 = wrong, 3 = timeout)": 1,
                    "Response Time (ms)": 1707
                  },
                  {
                    "Name of Block": "training",
                    "Name of Word": "yellow",
                    "Color of Word": "green",
                    "Stroop Color Match (1 = compatible, 0 = incompatible)": 0,
                    "Tablerow Number": 2,
                    "Pressed Key Number": 2,
                    "Status (1 = correct, 2 = wrong, 3 = timeout)": 1,
                    "Response Time (ms)": 1951
                  },
                  {
                    "Name of Block": "training",
                    "Name of Word": "green",
                    "Color of Word": "blue",
                    "Stroop Color Match (1 = compatible, 0 = incompatible)": 0,
                    "Tablerow Number": 11,
                    "Pressed Key Number": 3,
                    "Status (1 = correct, 2 = wrong, 3 = timeout)": 1,
                    "Response Time (ms)": 1251
                  },
                  {
                    "Name of Block": "training",
                    "Name of Word": "blue",
                    "Color of Word": "yellow",
                    "Stroop Color Match (1 = compatible, 0 = incompatible)": 0,
                    "Tablerow Number": 13,
                    "Pressed Key Number": 4,
                    "Status (1 = correct, 2 = wrong, 3 = timeout)": 1,
                    "Response Time (ms)": 1699
                  },
                  {
                    "Name of Block": "training",
                    "Name of Word": "green",
                    "Color of Word": "red",
                    "Stroop Color Match (1 = compatible, 0 = incompatible)": 0,
                    "Tablerow Number": 12,
                    "Pressed Key Number": 1,
                    "Status (1 = correct, 2 = wrong, 3 = timeout)": 1,
                    "Response Time (ms)": 1520
                  },
                  {
                    "Name of Block": "training",
                    "Name of Word": "green",
                    "Color of Word": "green",
                    "Stroop Color Match (1 = compatible, 0 = incompatible)": 1,
                    "Tablerow Number": 10,
                    "Pressed Key Number": 2,
                    "Status (1 = correct, 2 = wrong, 3 = timeout)": 1,
                    "Response Time (ms)": 1450
                  },
                  {
                    "Name of Block": "training",
                    "Name of Word": "blue",
                    "Color of Word": "yellow",
                    "Stroop Color Match (1 = compatible, 0 = incompatible)": 0,
                    "Tablerow Number": 13,
                    "Pressed Key Number": 4,
                    "Status (1 = correct, 2 = wrong, 3 = timeout)": 1,
                    "Response Time (ms)": 1212
                  },
                  {
                    "Name of Block": "training",
                    "Name of Word": "blue",
                    "Color of Word": "yellow",
                    "Stroop Color Match (1 = compatible, 0 = incompatible)": 0,
                    "Tablerow Number": 13,
                    "Pressed Key Number": 4,
                    "Status (1 = correct, 2 = wrong, 3 = timeout)": 1,
                    "Response Time (ms)": 1456
                  },
                  {
                    "Name of Block": "training",
                    "Name of Word": "yellow",
                    "Color of Word": "yellow",
                    "Stroop Color Match (1 = compatible, 0 = incompatible)": 1,
                    "Tablerow Number": 1,
                    "Pressed Key Number": 4,
                    "Status (1 = correct, 2 = wrong, 3 = timeout)": 1,
                    "Response Time (ms)": 951
                  },
                  {
                    "Name of Block": "training",
                    "Name of Word": "green",
                    "Color of Word": "yellow",
                    "Stroop Color Match (1 = compatible, 0 = incompatible)": 0,
                    "Tablerow Number": 9,
                    "Pressed Key Number": 4,
                    "Status (1 = correct, 2 = wrong, 3 = timeout)": 1,
                    "Response Time (ms)": 1315
                  },
                  {
                    "Name of Block": "training",
                    "Name of Word": "red",
                    "Color of Word": "blue",
                    "Stroop Color Match (1 = compatible, 0 = incompatible)": 0,
                    "Tablerow Number": 7,
                    "Pressed Key Number": 3,
                    "Status (1 = correct, 2 = wrong, 3 = timeout)": 1,
                    "Response Time (ms)": 1554
                  },
                  {
                    "Name of Block": "training",
                    "Name of Word": "yellow",
                    "Color of Word": "red",
                    "Stroop Color Match (1 = compatible, 0 = incompatible)": 0,
                    "Tablerow Number": 4,
                    "Pressed Key Number": 1,
                    "Status (1 = correct, 2 = wrong, 3 = timeout)": 1,
                    "Response Time (ms)": 1494
                  },
                  {
                    "Name of Block": "training",
                    "Name of Word": "yellow",
                    "Color of Word": "green",
                    "Stroop Color Match (1 = compatible, 0 = incompatible)": 0,
                    "Tablerow Number": 2,
                    "Pressed Key Number": 1,
                    "Status (1 = correct, 2 = wrong, 3 = timeout)": 3,
                    "Response Time (ms)": 2000
                  },
                  {
                    "Name of Block": "training",
                    "Name of Word": "red",
                    "Color of Word": "yellow",
                    "Stroop Color Match (1 = compatible, 0 = incompatible)": 0,
                    "Tablerow Number": 5,
                    "Pressed Key Number": 4,
                    "Status (1 = correct, 2 = wrong, 3 = timeout)": 1,
                    "Response Time (ms)": 1652
                  },
                  {
                    "Name of Block": "training",
                    "Name of Word": "red",
                    "Color of Word": "green",
                    "Stroop Color Match (1 = compatible, 0 = incompatible)": 0,
                    "Tablerow Number": 6,
                    "Pressed Key Number": 1,
                    "Status (1 = correct, 2 = wrong, 3 = timeout)": 3,
                    "Response Time (ms)": 2000
                  },
                  {
                    "Name of Block": "training",
                    "Name of Word": "red",
                    "Color of Word": "green",
                    "Stroop Color Match (1 = compatible, 0 = incompatible)": 0,
                    "Tablerow Number": 6,
                    "Pressed Key Number": 2,
                    "Status (1 = correct, 2 = wrong, 3 = timeout)": 1,
                    "Response Time (ms)": 1059
                  },
                  {
                    "Name of Block": "training",
                    "Name of Word": "red",
                    "Color of Word": "yellow",
                    "Stroop Color Match (1 = compatible, 0 = incompatible)": 0,
                    "Tablerow Number": 5,
                    "Pressed Key Number": 4,
                    "Status (1 = correct, 2 = wrong, 3 = timeout)": 1,
                    "Response Time (ms)": 1985
                  },
                  {
                    "Name of Block": "training",
                    "Name of Word": "green",
                    "Color of Word": "green",
                    "Stroop Color Match (1 = compatible, 0 = incompatible)": 1,
                    "Tablerow Number": 10,
                    "Pressed Key Number": 2,
                    "Status (1 = correct, 2 = wrong, 3 = timeout)": 1,
                    "Response Time (ms)": 1220
                  },
                  {
                    "Name of Block": "training",
                    "Name of Word": "yellow",
                    "Color of Word": "blue",
                    "Stroop Color Match (1 = compatible, 0 = incompatible)": 0,
                    "Tablerow Number": 3,
                    "Pressed Key Number": 3,
                    "Status (1 = correct, 2 = wrong, 3 = timeout)": 1,
                    "Response Time (ms)": 1535
                  },
                  {
                    "Name of Block": "training",
                    "Name of Word": "yellow",
                    "Color of Word": "red",
                    "Stroop Color Match (1 = compatible, 0 = incompatible)": 0,
                    "Tablerow Number": 4,
                    "Pressed Key Number": 1,
                    "Status (1 = correct, 2 = wrong, 3 = timeout)": 1,
                    "Response Time (ms)": 1248
                  },
                  {
                    "Name of Block": "training",
                    "Name of Word": "yellow",
                    "Color of Word": "red",
                    "Stroop Color Match (1 = compatible, 0 = incompatible)": 0,
                    "Tablerow Number": 4,
                    "Pressed Key Number": 1,
                    "Status (1 = correct, 2 = wrong, 3 = timeout)": 1,
                    "Response Time (ms)": 1296
                  },
                  {
                    "Name of Block": "training",
                    "Name of Word": "green",
                    "Color of Word": "blue",
                    "Stroop Color Match (1 = compatible, 0 = incompatible)": 0,
                    "Tablerow Number": 11,
                    "Pressed Key Number": 3,
                    "Status (1 = correct, 2 = wrong, 3 = timeout)": 1,
                    "Response Time (ms)": 1146
                  }
                ]
              }
            },
            "text/plain": "<__main__.DeepnoteChart at 0x7f7da5dbe640>"
          },
          "metadata": {}
        }
      ],
      "execution_count": 46,
      "outputs_reference": null,
      "block_group": "0af12f0ba8f743c2bbb09239ff349807"
    },
    {
      "cell_type": "markdown",
      "source": "",
      "metadata": {
        "cell_id": "52f69b8d71214051b317a0e6c037b573",
        "deepnote_cell_type": "markdown"
      },
      "block_group": "6e00f7e2606c4a728b8e75715bcc2b0b"
    },
    {
      "cell_type": "code",
      "source": "",
      "metadata": {
        "cell_id": "b14f9a6c7ec8416e93c44d4da4592226",
        "deepnote_cell_type": "visualization"
      },
      "outputs": [],
      "execution_count": null,
      "outputs_reference": null,
      "block_group": "a60ee5352b69478fa1742b38ff4a21d3"
    },
    {
      "cell_type": "markdown",
      "source": "<a style='text-decoration:none;line-height:16px;display:flex;color:#5B5B62;padding:10px;justify-content:end;' href='https://deepnote.com?utm_source=created-in-deepnote-cell&projectId=cf600e86-d997-4f8a-992e-61a18f163a75' target=\"_blank\">\n<img alt='Created in deepnote.com' style='display:inline;max-height:16px;margin:0px;margin-right:7.5px;' src='data:image/svg+xml;base64,PD94bWwgdmVyc2lvbj0iMS4wIiBlbmNvZGluZz0iVVRGLTgiPz4KPHN2ZyB3aWR0aD0iODBweCIgaGVpZ2h0PSI4MHB4IiB2aWV3Qm94PSIwIDAgODAgODAiIHZlcnNpb249IjEuMSIgeG1sbnM9Imh0dHA6Ly93d3cudzMub3JnLzIwMDAvc3ZnIiB4bWxuczp4bGluaz0iaHR0cDovL3d3dy53My5vcmcvMTk5OS94bGluayI+CiAgICA8IS0tIEdlbmVyYXRvcjogU2tldGNoIDU0LjEgKDc2NDkwKSAtIGh0dHBzOi8vc2tldGNoYXBwLmNvbSAtLT4KICAgIDx0aXRsZT5Hcm91cCAzPC90aXRsZT4KICAgIDxkZXNjPkNyZWF0ZWQgd2l0aCBTa2V0Y2guPC9kZXNjPgogICAgPGcgaWQ9IkxhbmRpbmciIHN0cm9rZT0ibm9uZSIgc3Ryb2tlLXdpZHRoPSIxIiBmaWxsPSJub25lIiBmaWxsLXJ1bGU9ImV2ZW5vZGQiPgogICAgICAgIDxnIGlkPSJBcnRib2FyZCIgdHJhbnNmb3JtPSJ0cmFuc2xhdGUoLTEyMzUuMDAwMDAwLCAtNzkuMDAwMDAwKSI+CiAgICAgICAgICAgIDxnIGlkPSJHcm91cC0zIiB0cmFuc2Zvcm09InRyYW5zbGF0ZSgxMjM1LjAwMDAwMCwgNzkuMDAwMDAwKSI+CiAgICAgICAgICAgICAgICA8cG9seWdvbiBpZD0iUGF0aC0yMCIgZmlsbD0iIzAyNjVCNCIgcG9pbnRzPSIyLjM3NjIzNzYyIDgwIDM4LjA0NzY2NjcgODAgNTcuODIxNzgyMiA3My44MDU3NTkyIDU3LjgyMTc4MjIgMzIuNzU5MjczOSAzOS4xNDAyMjc4IDMxLjY4MzE2ODMiPjwvcG9seWdvbj4KICAgICAgICAgICAgICAgIDxwYXRoIGQ9Ik0zNS4wMDc3MTgsODAgQzQyLjkwNjIwMDcsNzYuNDU0OTM1OCA0Ny41NjQ5MTY3LDcxLjU0MjI2NzEgNDguOTgzODY2LDY1LjI2MTk5MzkgQzUxLjExMjI4OTksNTUuODQxNTg0MiA0MS42NzcxNzk1LDQ5LjIxMjIyODQgMjUuNjIzOTg0Niw0OS4yMTIyMjg0IEMyNS40ODQ5Mjg5LDQ5LjEyNjg0NDggMjkuODI2MTI5Niw0My4yODM4MjQ4IDM4LjY0NzU4NjksMzEuNjgzMTY4MyBMNzIuODcxMjg3MSwzMi41NTQ0MjUgTDY1LjI4MDk3Myw2Ny42NzYzNDIxIEw1MS4xMTIyODk5LDc3LjM3NjE0NCBMMzUuMDA3NzE4LDgwIFoiIGlkPSJQYXRoLTIyIiBmaWxsPSIjMDAyODY4Ij48L3BhdGg+CiAgICAgICAgICAgICAgICA8cGF0aCBkPSJNMCwzNy43MzA0NDA1IEwyNy4xMTQ1MzcsMC4yNTcxMTE0MzYgQzYyLjM3MTUxMjMsLTEuOTkwNzE3MDEgODAsMTAuNTAwMzkyNyA4MCwzNy43MzA0NDA1IEM4MCw2NC45NjA0ODgyIDY0Ljc3NjUwMzgsNzkuMDUwMzQxNCAzNC4zMjk1MTEzLDgwIEM0Ny4wNTUzNDg5LDc3LjU2NzA4MDggNTMuNDE4MjY3Nyw3MC4zMTM2MTAzIDUzLjQxODI2NzcsNTguMjM5NTg4NSBDNTMuNDE4MjY3Nyw0MC4xMjg1NTU3IDM2LjMwMzk1NDQsMzcuNzMwNDQwNSAyNS4yMjc0MTcsMzcuNzMwNDQwNSBDMTcuODQzMDU4NiwzNy43MzA0NDA1IDkuNDMzOTE5NjYsMzcuNzMwNDQwNSAwLDM3LjczMDQ0MDUgWiIgaWQ9IlBhdGgtMTkiIGZpbGw9IiMzNzkzRUYiPjwvcGF0aD4KICAgICAgICAgICAgPC9nPgogICAgICAgIDwvZz4KICAgIDwvZz4KPC9zdmc+' > </img>\nCreated in <span style='font-weight:600;margin-left:4px;'>Deepnote</span></a>",
      "metadata": {
        "created_in_deepnote_cell": true,
        "deepnote_cell_type": "markdown"
      }
    }
  ],
  "nbformat": 4,
  "nbformat_minor": 0,
  "metadata": {
    "deepnote_notebook_id": "3c9e7313bdc74da995e4d028c2f6c1d0"
  }
}